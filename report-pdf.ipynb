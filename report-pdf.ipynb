{
 "cells": [
  {
   "cell_type": "markdown",
   "id": "actual-estonia",
   "metadata": {
    "papermill": {
     "duration": 0.009453,
     "end_time": "2022-04-06T01:53:43.123298",
     "exception": false,
     "start_time": "2022-04-06T01:53:43.113845",
     "status": "completed"
    },
    "tags": []
   },
   "source": [
    "# Aides aux Entreprises - PDF Reports"
   ]
  },
  {
   "cell_type": "markdown",
   "id": "velvet-pollution",
   "metadata": {
    "papermill": {
     "duration": 0.007621,
     "end_time": "2022-04-06T01:53:43.137503",
     "exception": false,
     "start_time": "2022-04-06T01:53:43.129882",
     "status": "completed"
    },
    "tags": []
   },
   "source": [
    "## Imports"
   ]
  },
  {
   "cell_type": "code",
   "execution_count": 1,
   "id": "seeing-wallpaper",
   "metadata": {
    "execution": {
     "iopub.execute_input": "2022-04-06T01:53:43.151712Z",
     "iopub.status.busy": "2022-04-06T01:53:43.151261Z",
     "iopub.status.idle": "2022-04-06T01:53:43.506549Z",
     "shell.execute_reply": "2022-04-06T01:53:43.505451Z"
    },
    "papermill": {
     "duration": 0.365,
     "end_time": "2022-04-06T01:53:43.508648",
     "exception": false,
     "start_time": "2022-04-06T01:53:43.143648",
     "status": "completed"
    },
    "tags": []
   },
   "outputs": [],
   "source": [
    "import json\n",
    "import os\n",
    "import datetime\n",
    "import random\n",
    "\n",
    "from urllib.request import urlopen\n",
    "import urllib\n",
    "\n",
    "import plotly.graph_objects as go\n",
    "import plotly.express as px\n",
    "\n",
    "import pandas as pd\n",
    "import numpy as np\n",
    "\n",
    "from fpdf import FPDF"
   ]
  },
  {
   "cell_type": "markdown",
   "id": "forced-result",
   "metadata": {
    "papermill": {
     "duration": 0.006592,
     "end_time": "2022-04-06T01:53:43.523601",
     "exception": false,
     "start_time": "2022-04-06T01:53:43.517009",
     "status": "completed"
    },
    "tags": []
   },
   "source": [
    "## Functions"
   ]
  },
  {
   "cell_type": "code",
   "execution_count": 2,
   "id": "diagnostic-couple",
   "metadata": {
    "execution": {
     "iopub.execute_input": "2022-04-06T01:53:43.537407Z",
     "iopub.status.busy": "2022-04-06T01:53:43.536938Z",
     "iopub.status.idle": "2022-04-06T01:53:43.540668Z",
     "shell.execute_reply": "2022-04-06T01:53:43.540088Z"
    },
    "papermill": {
     "duration": 0.012277,
     "end_time": "2022-04-06T01:53:43.542042",
     "exception": false,
     "start_time": "2022-04-06T01:53:43.529765",
     "status": "completed"
    },
    "tags": []
   },
   "outputs": [],
   "source": [
    "def import_json_to_dict(url) :\n",
    "    response = urllib.request.urlopen(url)\n",
    "    my_dict = json.loads(response.read())\n",
    "    return my_dict"
   ]
  },
  {
   "cell_type": "code",
   "execution_count": 3,
   "id": "incoming-prague",
   "metadata": {
    "execution": {
     "iopub.execute_input": "2022-04-06T01:53:43.555315Z",
     "iopub.status.busy": "2022-04-06T01:53:43.554972Z",
     "iopub.status.idle": "2022-04-06T01:53:43.558031Z",
     "shell.execute_reply": "2022-04-06T01:53:43.557508Z"
    },
    "papermill": {
     "duration": 0.011107,
     "end_time": "2022-04-06T01:53:43.559245",
     "exception": false,
     "start_time": "2022-04-06T01:53:43.548138",
     "status": "completed"
    },
    "tags": []
   },
   "outputs": [],
   "source": [
    "def mkdir_ifnotexist(path) :\n",
    "    if not os.path.isdir(path) :\n",
    "        os.mkdir(path)"
   ]
  },
  {
   "cell_type": "code",
   "execution_count": 4,
   "id": "tight-attention",
   "metadata": {
    "execution": {
     "iopub.execute_input": "2022-04-06T01:53:43.572532Z",
     "iopub.status.busy": "2022-04-06T01:53:43.572192Z",
     "iopub.status.idle": "2022-04-06T01:53:43.575856Z",
     "shell.execute_reply": "2022-04-06T01:53:43.575361Z"
    },
    "papermill": {
     "duration": 0.011774,
     "end_time": "2022-04-06T01:53:43.577053",
     "exception": false,
     "start_time": "2022-04-06T01:53:43.565279",
     "status": "completed"
    },
    "tags": []
   },
   "outputs": [],
   "source": [
    "def format_number_to_str(x) :\n",
    "    if x == x :\n",
    "        res = str(format(int(round(float(x),0)),\",\")).replace(\",\",\" \").replace(\".\",\",\")\n",
    "    else :\n",
    "        res = 'NaN'\n",
    "    return res"
   ]
  },
  {
   "cell_type": "code",
   "execution_count": 5,
   "id": "satisfied-coordinator",
   "metadata": {
    "execution": {
     "iopub.execute_input": "2022-04-06T01:53:43.590348Z",
     "iopub.status.busy": "2022-04-06T01:53:43.589903Z",
     "iopub.status.idle": "2022-04-06T01:53:43.593197Z",
     "shell.execute_reply": "2022-04-06T01:53:43.592697Z"
    },
    "papermill": {
     "duration": 0.011521,
     "end_time": "2022-04-06T01:53:43.594529",
     "exception": false,
     "start_time": "2022-04-06T01:53:43.583008",
     "status": "completed"
    },
    "tags": []
   },
   "outputs": [],
   "source": [
    "def format_number_to_million_str(x) :\n",
    "    if x == x :\n",
    "        res = str(round(float(x)/1000000,1)).replace('.',',')\n",
    "    else :\n",
    "        res = 'NaN'\n",
    "    return res"
   ]
  },
  {
   "cell_type": "code",
   "execution_count": 6,
   "id": "extended-charles",
   "metadata": {
    "execution": {
     "iopub.execute_input": "2022-04-06T01:53:43.609195Z",
     "iopub.status.busy": "2022-04-06T01:53:43.608937Z",
     "iopub.status.idle": "2022-04-06T01:53:43.611949Z",
     "shell.execute_reply": "2022-04-06T01:53:43.611496Z"
    },
    "papermill": {
     "duration": 0.011843,
     "end_time": "2022-04-06T01:53:43.613249",
     "exception": false,
     "start_time": "2022-04-06T01:53:43.601406",
     "status": "completed"
    },
    "tags": []
   },
   "outputs": [],
   "source": [
    "def format_str_to_int(x) :\n",
    "    if x != 'None' :\n",
    "        res = int(float(x))\n",
    "    else : \n",
    "        res = None\n",
    "    return res"
   ]
  },
  {
   "cell_type": "code",
   "execution_count": 7,
   "id": "operating-insurance",
   "metadata": {
    "execution": {
     "iopub.execute_input": "2022-04-06T01:53:43.628087Z",
     "iopub.status.busy": "2022-04-06T01:53:43.627832Z",
     "iopub.status.idle": "2022-04-06T01:53:43.630584Z",
     "shell.execute_reply": "2022-04-06T01:53:43.630227Z"
    },
    "papermill": {
     "duration": 0.011676,
     "end_time": "2022-04-06T01:53:43.631932",
     "exception": false,
     "start_time": "2022-04-06T01:53:43.620256",
     "status": "completed"
    },
    "tags": []
   },
   "outputs": [],
   "source": [
    "def shorten_long_naf_libelle(libelle) :\n",
    "    if libelle == \"Production et distribution d'eau ; assainissement, gestion des déchets et dépollution\" :\n",
    "        return \"Prod./dist. eau, assainissement, déchets, dépollution\"\n",
    "    else :\n",
    "        return libelle"
   ]
  },
  {
   "cell_type": "code",
   "execution_count": 8,
   "id": "monthly-microwave",
   "metadata": {
    "execution": {
     "iopub.execute_input": "2022-04-06T01:53:43.646908Z",
     "iopub.status.busy": "2022-04-06T01:53:43.646434Z",
     "iopub.status.idle": "2022-04-06T01:53:43.650741Z",
     "shell.execute_reply": "2022-04-06T01:53:43.650362Z"
    },
    "papermill": {
     "duration": 0.013312,
     "end_time": "2022-04-06T01:53:43.652075",
     "exception": false,
     "start_time": "2022-04-06T01:53:43.638763",
     "status": "completed"
    },
    "tags": []
   },
   "outputs": [],
   "source": [
    "months_fr_dict = {\n",
    "    '01':'janvier',\n",
    "    '02':'février',\n",
    "    '03':'mars',\n",
    "    '04':'avril',\n",
    "    '05':'mai',\n",
    "    '06':'juin',\n",
    "    '07':'juillet',\n",
    "    '08':'août',\n",
    "    '09':'septembre',\n",
    "    '10':'octobre',\n",
    "    '11':'novembre',\n",
    "    '12':'décembre'\n",
    "}\n",
    "\n",
    "# yearmonth should be in '2020-01' format\n",
    "\n",
    "def yearmonth_to_fr(yearmonth) :\n",
    "    month = yearmonth[-2:]\n",
    "    year = yearmonth[:4]\n",
    "    \n",
    "    return months_fr_dict[month] + ' ' + year"
   ]
  },
  {
   "cell_type": "code",
   "execution_count": 9,
   "id": "wound-diesel",
   "metadata": {
    "execution": {
     "iopub.execute_input": "2022-04-06T01:53:43.667050Z",
     "iopub.status.busy": "2022-04-06T01:53:43.666818Z",
     "iopub.status.idle": "2022-04-06T01:53:43.684336Z",
     "shell.execute_reply": "2022-04-06T01:53:43.683831Z"
    },
    "papermill": {
     "duration": 0.026771,
     "end_time": "2022-04-06T01:53:43.685658",
     "exception": false,
     "start_time": "2022-04-06T01:53:43.658887",
     "status": "completed"
    },
    "tags": []
   },
   "outputs": [],
   "source": [
    "def make_chart(aide, kpi, maille, chart_type, x_col, y_col, x_label, y_label, others_y_val, title, legend_title=None, show=False, sort_by_y_col_inc=False, sort_by_y_col_dec=False, stack_order=None, dep=None, reg=None, text_col=None, stack_col=None, color_col='color') :\n",
    "    \n",
    "    data_path = './data/{}-{}-{}.csv'.format(aide, kpi, maille)\n",
    "    \n",
    "    if os.path.isfile(data_path) :\n",
    "    \n",
    "        #Loading data\n",
    "        if maille == 'regional' :\n",
    "            dtype={'reg':'str'}\n",
    "        elif maille == 'departemental' :\n",
    "            dtype={'dep':'str'}\n",
    "        else :\n",
    "            dtype={}\n",
    "        \n",
    "        df = pd.read_csv(data_path, dtype=dtype)\n",
    "\n",
    "        #Filtering if departemental or regional\n",
    "        if maille == 'departemental' :\n",
    "            df['dep'] = df['dep'].apply(str)\n",
    "            df = df[df['dep'] == dep]\n",
    "            if len(df) == 0 :\n",
    "                fig = None\n",
    "                print('No data to plot for {}-{}-{}-{}'.format(aide, kpi, maille, dep))\n",
    "        elif maille == 'regional' :\n",
    "            df['reg'] = df['reg'].apply(str)\n",
    "            df = df[df['reg'] == reg]\n",
    "            if len(df) == 0 :\n",
    "                fig = None\n",
    "                print('No data to plot for {}-{}-{}-{}'.format(aide, kpi, maille, reg))\n",
    "\n",
    "        if len(df) > 0 :\n",
    "\n",
    "            #Sorting by x_col and putting \"Others\" (others_y_val) in the end\n",
    "            if sort_by_y_col_inc == True :\n",
    "                df_plot = pd.concat([df[df[y_col] != others_y_val].sort_values(by=y_col, ascending=True), df[df[y_col] == others_y_val]]).reset_index(drop=True)\n",
    "            elif sort_by_y_col_dec == True :\n",
    "                df_plot = pd.concat([df[df[y_col] != others_y_val].sort_values(by=y_col, ascending=False), df[df[y_col] == others_y_val]]).reset_index(drop=True)\n",
    "            else : #sort by decreasing x_col value by default\n",
    "                df_plot = pd.concat([df[df[y_col] != others_y_val].sort_values(by=x_col, ascending=False), df[df[y_col] == others_y_val]]).reset_index(drop=True)    \n",
    "            \n",
    "            if stack_order is not None :\n",
    "                df_stack_list = []\n",
    "                for stack_val in stack_order :\n",
    "                    df_stack = df_plot[df_plot[stack_col] == stack_val]\n",
    "                    df_stack_list += [df_stack]\n",
    "                \n",
    "                df_plot = pd.concat(df_stack_list).reset_index(drop=True)\n",
    "            \n",
    "            #Parameters for plotting\n",
    "            if text_col is not None :\n",
    "                text = text_col\n",
    "            else :\n",
    "                text = x_col + '_fr'\n",
    "\n",
    "            if chart_type == 'hbar' :\n",
    "\n",
    "                df_plot[y_col] = df_plot[y_col].apply(lambda x : x+'   ')\n",
    "                color_discrete_map = {key:value for (key,value) in zip(df_plot[y_col], df_plot[color_col])}\n",
    "\n",
    "                fig = px.bar(df_plot, x=x_col, y=y_col,\n",
    "                         labels={y_col:y_label,x_col:x_label}, \n",
    "                         height=550,\n",
    "                         width=800,\n",
    "                         color=y_col,\n",
    "                         color_discrete_map = color_discrete_map,\n",
    "                         orientation='h',\n",
    "                         text=text,\n",
    "                         title=title)\n",
    "                fig.update_layout(showlegend=False)\n",
    "                fig.layout['xaxis'].tickfont = dict(color = 'rgba(0,0,0,0)')\n",
    "                fig.layout['xaxis'].showgrid = False\n",
    "                fig.for_each_trace(lambda t: t.update(textfont_color='white', insidetextanchor='middle', textposition='inside'))\n",
    "\n",
    "            elif chart_type == 'sthbar' :\n",
    "\n",
    "                color_discrete_map = {key:value for (key,value) in zip(df_plot[stack_col], df_plot[color_col])}\n",
    "\n",
    "                fig = px.bar(df_plot, x=x_col, y=y_col,\n",
    "                         labels={y_col:y_label,x_col:x_label, stack_col:legend_title}, \n",
    "                         height=550,\n",
    "                         width=800,\n",
    "                         color=stack_col,\n",
    "                         color_discrete_map = color_discrete_map,\n",
    "                         orientation='h',\n",
    "                         title=title)\n",
    "                \n",
    "                fig.update_yaxes(type='category', categoryorder='category descending')\n",
    "                fig.layout['yaxis'].tickmode = 'array'\n",
    "                fig.layout['yaxis'].tickvals = sorted(list(set(df_plot['mois'])), reverse=True)\n",
    "                fig.layout['yaxis'].ticktext = [yearmonth_to_fr(yearmonth) + '   ' for yearmonth in sorted(list(set(df_plot['mois'])), reverse=True)]\n",
    "\n",
    "            elif chart_type == 'dpie' :\n",
    "\n",
    "                color_discrete_map = {key:value for (key,value) in zip(df_plot[y_col], df_plot[color_col])}\n",
    "\n",
    "                fig = px.pie(df_plot, values=x_col, names=y_col,\n",
    "                     labels={y_col:y_label,x_col:x_label}, \n",
    "                     height=400,\n",
    "                     width=600,\n",
    "                     hole=0.5,\n",
    "                     color=y_col,\n",
    "                     color_discrete_map = color_discrete_map,\n",
    "                     title=title)\n",
    "\n",
    "                fig.for_each_trace(lambda t: t.update(textfont_color='white', textposition='inside'))\n",
    "\n",
    "            #Center the main title\n",
    "            fig.update_layout(title={'x':0.5, 'xanchor': 'center'})\n",
    "\n",
    "            if show == True :\n",
    "                fig.show()\n",
    "    \n",
    "    else :\n",
    "        fig = None\n",
    "        print('File not found: {}'.format(data_path))\n",
    "    \n",
    "    return fig"
   ]
  },
  {
   "cell_type": "markdown",
   "id": "brown-locator",
   "metadata": {
    "papermill": {
     "duration": 0.006861,
     "end_time": "2022-04-06T01:53:43.699400",
     "exception": false,
     "start_time": "2022-04-06T01:53:43.692539",
     "status": "completed"
    },
    "tags": []
   },
   "source": [
    "## Parameters"
   ]
  },
  {
   "cell_type": "code",
   "execution_count": 10,
   "id": "violent-debate",
   "metadata": {
    "execution": {
     "iopub.execute_input": "2022-04-06T01:53:43.714588Z",
     "iopub.status.busy": "2022-04-06T01:53:43.714075Z",
     "iopub.status.idle": "2022-04-06T01:53:43.717211Z",
     "shell.execute_reply": "2022-04-06T01:53:43.716648Z"
    },
    "papermill": {
     "duration": 0.012308,
     "end_time": "2022-04-06T01:53:43.718555",
     "exception": false,
     "start_time": "2022-04-06T01:53:43.706247",
     "status": "completed"
    },
    "tags": []
   },
   "outputs": [],
   "source": [
    "data_dir_path = './data/'\n",
    "img_dir_path = './img/'\n",
    "reports_dir_path = './reports/'"
   ]
  },
  {
   "cell_type": "code",
   "execution_count": 11,
   "id": "cosmetic-roads",
   "metadata": {
    "execution": {
     "iopub.execute_input": "2022-04-06T01:53:43.733543Z",
     "iopub.status.busy": "2022-04-06T01:53:43.733279Z",
     "iopub.status.idle": "2022-04-06T01:53:43.736336Z",
     "shell.execute_reply": "2022-04-06T01:53:43.735981Z"
    },
    "papermill": {
     "duration": 0.012282,
     "end_time": "2022-04-06T01:53:43.737835",
     "exception": false,
     "start_time": "2022-04-06T01:53:43.725553",
     "status": "completed"
    },
    "tags": []
   },
   "outputs": [],
   "source": [
    "#Taxonomies\n",
    "\n",
    "taxo_nafsec_url = 'https://raw.githubusercontent.com/etalab/dashboard-aides-entreprises/master/backend/json/taxonomies/sections-naf-minify.json'\n",
    "taxo_jurcat_url = 'https://raw.githubusercontent.com/etalab/dashboard-aides-entreprises/master/backend/json/taxonomies/categories-juridiques-minify.json'\n",
    "taxo_effcla_url = 'https://raw.githubusercontent.com/etalab/dashboard-aides-entreprises/master/backend/json/taxonomies/classes-effectifs-minify.json'\n",
    "taxo_nace17_url = 'https://raw.githubusercontent.com/etalab/dashboard-aides-entreprises/master/backend/json/taxonomies/sections-nace17-minify.json'\n",
    "\n",
    "taxo_dep_url = 'https://raw.githubusercontent.com/etalab/dashboard-aides-entreprises/master/backend/json/taxonomies/departements-minify.json'\n",
    "taxo_reg_url = 'https://raw.githubusercontent.com/etalab/dashboard-aides-entreprises/master/backend/json/taxonomies/regions-minify.json'"
   ]
  },
  {
   "cell_type": "code",
   "execution_count": 12,
   "id": "accepted-thumb",
   "metadata": {
    "execution": {
     "iopub.execute_input": "2022-04-06T01:53:43.752820Z",
     "iopub.status.busy": "2022-04-06T01:53:43.752336Z",
     "iopub.status.idle": "2022-04-06T01:53:43.755430Z",
     "shell.execute_reply": "2022-04-06T01:53:43.754893Z"
    },
    "papermill": {
     "duration": 0.012141,
     "end_time": "2022-04-06T01:53:43.756800",
     "exception": false,
     "start_time": "2022-04-06T01:53:43.744659",
     "status": "completed"
    },
    "tags": []
   },
   "outputs": [],
   "source": [
    "mailles_list = ['national', 'regional', 'departemental']"
   ]
  },
  {
   "cell_type": "code",
   "execution_count": 13,
   "id": "spread-charge",
   "metadata": {
    "execution": {
     "iopub.execute_input": "2022-04-06T01:53:43.771714Z",
     "iopub.status.busy": "2022-04-06T01:53:43.771340Z",
     "iopub.status.idle": "2022-04-06T01:53:43.775653Z",
     "shell.execute_reply": "2022-04-06T01:53:43.775112Z"
    },
    "papermill": {
     "duration": 0.01339,
     "end_time": "2022-04-06T01:53:43.777004",
     "exception": false,
     "start_time": "2022-04-06T01:53:43.763614",
     "status": "completed"
    },
    "tags": []
   },
   "outputs": [],
   "source": [
    "#DATA PROCESSING: KPIs to process\n",
    "aides_charts_kpi_dict = {\n",
    "    'aides': ['kpi_top_10_naf', 'kpi_categorie_juridique', 'kpi_classe_effectif'],\n",
    "    'pge':['kpi_top_10_naf'],\n",
    "    'report':['kpi_top_10_naf'],\n",
    "    'cpsti':['kpi_top_10_naf'],\n",
    "    'activite-partielle':['nace17']\n",
    "}\n",
    "\n",
    "#TODO: macro KPIs\n",
    "aides_macro_kpi_dict = {\n",
    "    'aides': ['montant', 'nombre', 'nombre_siren'],\n",
    "    'pge':['montant', 'nombre'],\n",
    "    'report':['montant', 'nombre'],\n",
    "    'cpsti':['montant', 'nombre'],\n",
    "    'activite-partielle':['nombre_salaries_concernes', 'nombre_etablissements_concernes', 'nombre_heures_demandees']\n",
    "}"
   ]
  },
  {
   "cell_type": "code",
   "execution_count": 14,
   "id": "neither-overall",
   "metadata": {
    "execution": {
     "iopub.execute_input": "2022-04-06T01:53:43.791934Z",
     "iopub.status.busy": "2022-04-06T01:53:43.791773Z",
     "iopub.status.idle": "2022-04-06T01:53:43.800620Z",
     "shell.execute_reply": "2022-04-06T01:53:43.800113Z"
    },
    "papermill": {
     "duration": 0.018142,
     "end_time": "2022-04-06T01:53:43.801932",
     "exception": false,
     "start_time": "2022-04-06T01:53:43.783790",
     "status": "completed"
    },
    "tags": []
   },
   "outputs": [],
   "source": [
    "#PLOTTING: parameters for graphs\n",
    "#As of now, we consider these graphs are the same for national, regional and departemental\n",
    "\n",
    "graph_params_list = [\n",
    "    \n",
    "    #Fonds de solidarité\n",
    "    dict(aide='aides',\n",
    "         kpi='kpi_top_10_naf',\n",
    "         x_col='montant',\n",
    "         y_col='libelle_section_naf',\n",
    "         x_label='',\n",
    "         y_label='Section NAF',\n",
    "         others_y_val='Autres sections NAF',\n",
    "         title='Top 10 des aides du fonds de solidarité<br />ventilées par code section NAF (en M€)',\n",
    "         chart_type='hbar'\n",
    "        ),\n",
    "    dict(aide='aides',\n",
    "         kpi='kpi_categorie_juridique',\n",
    "         maille='national',\n",
    "         x_col='montant',\n",
    "         y_col='libelle_cat_juridique',\n",
    "         x_label='',\n",
    "         y_label=\"Catégorie juridique\",\n",
    "         others_y_val=\"Autres Catégories Juridiques\",\n",
    "         title='Top 3 des aides du fonds de solidarité<br />ventilées par catégories juridiques (en M€)',\n",
    "         chart_type='dpie'\n",
    "        ),\n",
    "    dict(aide='aides',\n",
    "         kpi='kpi_classe_effectif',\n",
    "         x_col='montant',\n",
    "         y_col='libelle_classe_effectif',\n",
    "         x_label='',\n",
    "         y_label=\"Classe d'effectif\",\n",
    "         sort_by_y_col_dec=True,\n",
    "         others_y_val=\"Autres Classes d'Effectifs\",\n",
    "         title=\"Aides du fonds de solidarité<br />ventilées par classes d'effectifs (en M€)\",\n",
    "         chart_type='hbar'\n",
    "        ),\n",
    "    \n",
    "    #Prêts garantis par l'Etat\n",
    "    dict(aide='pge',\n",
    "         kpi='kpi_top_10_naf',\n",
    "         maille='national',\n",
    "         x_col='montant',\n",
    "         y_col='libelle_section_naf',\n",
    "         x_label='',\n",
    "         y_label='Section NAF',\n",
    "         others_y_val='Autres sections NAF',\n",
    "         title=\"Top 10 des prêts garantis par l'Etat<br />ventilés par code section NAF (en M€)\",\n",
    "         chart_type='hbar'\n",
    "        ),\n",
    "    \n",
    "    #Reports d'échéances fiscales\n",
    "    dict(aide='report',\n",
    "         kpi='kpi_top_10_naf',\n",
    "         x_col='montant',\n",
    "         y_col='libelle_section_naf',\n",
    "         x_label='',\n",
    "         y_label='Section NAF',\n",
    "         others_y_val='Autres sections NAF',\n",
    "         title=\"Top 10 des reports d'échéances fiscales<br />ventilés par code section NAF (en M€)\",\n",
    "         chart_type='hbar'\n",
    "        ),\n",
    "    \n",
    "    #Aides artisans/commerçants\n",
    "    dict(aide='cpsti',\n",
    "         kpi='kpi_top_10_naf',\n",
    "         x_col='montant',\n",
    "         y_col='libelle_section_naf',\n",
    "         x_label='',\n",
    "         y_label='Section NAF',\n",
    "         others_y_val='Autres sections NAF',\n",
    "         title=\"Top 10 des aides CPSTI<br />ventilés par code section NAF (en M€)\",\n",
    "         chart_type='hbar'\n",
    "        ),\n",
    "    \n",
    "    #Activité partielle\n",
    "    dict(aide='activite-partielle',\n",
    "         kpi='nace17',\n",
    "         x_col='nombre_salaries_concernes',\n",
    "         y_col='mois',\n",
    "         stack_col='libelle',\n",
    "         x_label='',\n",
    "         y_label='Mois',\n",
    "         sort_by_y_col_inc=True,\n",
    "         others_y_val='Autres sections NACE 17',\n",
    "         stack_order=['Commerce', \"Act. scientif. et tech. ; services admin. et de soutien\", 'Hébergement et restauration', 'Construction', \"Fabrication d'autres produits indus.\", 'Autres sections NACE 17'],\n",
    "         title=\"Nombre de salariés concernés par l'activité partielle<br />ventilés par code section NACE 17\",\n",
    "         legend_title=' ',\n",
    "         chart_type='sthbar'\n",
    "        ),\n",
    "]"
   ]
  },
  {
   "cell_type": "markdown",
   "id": "approximate-property",
   "metadata": {
    "papermill": {
     "duration": 0.006885,
     "end_time": "2022-04-06T01:53:43.815616",
     "exception": false,
     "start_time": "2022-04-06T01:53:43.808731",
     "status": "completed"
    },
    "tags": []
   },
   "source": [
    "## Loading taxonomies data"
   ]
  },
  {
   "cell_type": "code",
   "execution_count": 15,
   "id": "retained-buffalo",
   "metadata": {
    "execution": {
     "iopub.execute_input": "2022-04-06T01:53:43.830608Z",
     "iopub.status.busy": "2022-04-06T01:53:43.830200Z",
     "iopub.status.idle": "2022-04-06T01:53:44.398711Z",
     "shell.execute_reply": "2022-04-06T01:53:44.398058Z"
    },
    "papermill": {
     "duration": 0.578136,
     "end_time": "2022-04-06T01:53:44.400531",
     "exception": false,
     "start_time": "2022-04-06T01:53:43.822395",
     "status": "completed"
    },
    "tags": []
   },
   "outputs": [],
   "source": [
    "taxo_nafsec_df = pd.DataFrame(import_json_to_dict(taxo_nafsec_url))\n",
    "taxo_jurcat_df = pd.DataFrame(import_json_to_dict(taxo_jurcat_url))\n",
    "taxo_effcla_df = pd.DataFrame(import_json_to_dict(taxo_effcla_url))\n",
    "taxo_nace17_df = pd.DataFrame(import_json_to_dict(taxo_nace17_url))\n",
    "\n",
    "taxo_dep_df = pd.DataFrame(import_json_to_dict(taxo_dep_url))\n",
    "taxo_reg_df = pd.DataFrame(import_json_to_dict(taxo_reg_url))"
   ]
  },
  {
   "cell_type": "markdown",
   "id": "developmental-palmer",
   "metadata": {
    "papermill": {
     "duration": 0.007083,
     "end_time": "2022-04-06T01:53:44.414997",
     "exception": false,
     "start_time": "2022-04-06T01:53:44.407914",
     "status": "completed"
    },
    "tags": []
   },
   "source": [
    "## Data pre-processing"
   ]
  },
  {
   "cell_type": "code",
   "execution_count": 16,
   "id": "joint-aquatic",
   "metadata": {
    "execution": {
     "iopub.execute_input": "2022-04-06T01:53:44.430607Z",
     "iopub.status.busy": "2022-04-06T01:53:44.430381Z",
     "iopub.status.idle": "2022-04-06T01:53:47.250594Z",
     "shell.execute_reply": "2022-04-06T01:53:47.249517Z"
    },
    "papermill": {
     "duration": 2.830359,
     "end_time": "2022-04-06T01:53:47.252244",
     "exception": false,
     "start_time": "2022-04-06T01:53:44.421885",
     "status": "completed"
    },
    "tags": []
   },
   "outputs": [
    {
     "name": "stderr",
     "output_type": "stream",
     "text": [
      "<timed exec>:45: FutureWarning: In a future version of pandas all arguments of DataFrame.drop except for the argument 'labels' will be keyword-only.\n",
      "<timed exec>:50: FutureWarning: In a future version of pandas all arguments of DataFrame.drop except for the argument 'labels' will be keyword-only.\n",
      "<timed exec>:54: FutureWarning: In a future version of pandas all arguments of DataFrame.drop except for the argument 'labels' will be keyword-only.\n",
      "<timed exec>:45: FutureWarning: In a future version of pandas all arguments of DataFrame.drop except for the argument 'labels' will be keyword-only.\n",
      "<timed exec>:50: FutureWarning: In a future version of pandas all arguments of DataFrame.drop except for the argument 'labels' will be keyword-only.\n",
      "<timed exec>:54: FutureWarning: In a future version of pandas all arguments of DataFrame.drop except for the argument 'labels' will be keyword-only.\n"
     ]
    },
    {
     "name": "stderr",
     "output_type": "stream",
     "text": [
      "<timed exec>:45: FutureWarning: In a future version of pandas all arguments of DataFrame.drop except for the argument 'labels' will be keyword-only.\n",
      "<timed exec>:50: FutureWarning: In a future version of pandas all arguments of DataFrame.drop except for the argument 'labels' will be keyword-only.\n",
      "<timed exec>:54: FutureWarning: In a future version of pandas all arguments of DataFrame.drop except for the argument 'labels' will be keyword-only.\n"
     ]
    },
    {
     "name": "stderr",
     "output_type": "stream",
     "text": [
      "<timed exec>:45: FutureWarning: In a future version of pandas all arguments of DataFrame.drop except for the argument 'labels' will be keyword-only.\n",
      "<timed exec>:45: FutureWarning: In a future version of pandas all arguments of DataFrame.drop except for the argument 'labels' will be keyword-only.\n"
     ]
    },
    {
     "name": "stderr",
     "output_type": "stream",
     "text": [
      "<timed exec>:45: FutureWarning: In a future version of pandas all arguments of DataFrame.drop except for the argument 'labels' will be keyword-only.\n",
      "<timed exec>:45: FutureWarning: In a future version of pandas all arguments of DataFrame.drop except for the argument 'labels' will be keyword-only.\n"
     ]
    },
    {
     "name": "stderr",
     "output_type": "stream",
     "text": [
      "<timed exec>:45: FutureWarning: In a future version of pandas all arguments of DataFrame.drop except for the argument 'labels' will be keyword-only.\n",
      "<timed exec>:45: FutureWarning: In a future version of pandas all arguments of DataFrame.drop except for the argument 'labels' will be keyword-only.\n"
     ]
    },
    {
     "name": "stderr",
     "output_type": "stream",
     "text": [
      "<timed exec>:45: FutureWarning: In a future version of pandas all arguments of DataFrame.drop except for the argument 'labels' will be keyword-only.\n",
      "<timed exec>:45: FutureWarning: In a future version of pandas all arguments of DataFrame.drop except for the argument 'labels' will be keyword-only.\n"
     ]
    },
    {
     "name": "stderr",
     "output_type": "stream",
     "text": [
      "<timed exec>:45: FutureWarning: In a future version of pandas all arguments of DataFrame.drop except for the argument 'labels' will be keyword-only.\n",
      "<timed exec>:58: FutureWarning: In a future version of pandas all arguments of DataFrame.drop except for the argument 'labels' will be keyword-only.\n"
     ]
    },
    {
     "name": "stderr",
     "output_type": "stream",
     "text": [
      "<timed exec>:58: FutureWarning: In a future version of pandas all arguments of DataFrame.drop except for the argument 'labels' will be keyword-only.\n"
     ]
    },
    {
     "name": "stdout",
     "output_type": "stream",
     "text": [
      "Empty data for activite-partielle-departemental\n",
      "CPU times: user 871 ms, sys: 14.5 ms, total: 886 ms\n",
      "Wall time: 2.8 s\n"
     ]
    }
   ],
   "source": [
    "%%time\n",
    "#Charts data processing (one CSV file per aide type, KPI and maille)\n",
    "\n",
    "mkdir_ifnotexist(data_dir_path)\n",
    "\n",
    "for aide in aides_charts_kpi_dict.keys() :\n",
    "    for maille in mailles_list :\n",
    "        \n",
    "        #Condition to drop when activite-partielle data is back to \"normal\" folder\n",
    "        if aide != 'activite-partielle' : \n",
    "            #url = \"https://raw.githubusercontent.com/etalab/dashboard-aides-entreprises/master/backend/json/{}/{}-maille-{}-minify.json\".format(aide, aide, maille)\n",
    "            url = \"https://raw.githubusercontent.com/etalab/dashboard-aides-entreprises/master/backend/json/{}/{}-maille-{}.json\".format(aide, aide, maille)\n",
    "        else :\n",
    "            #url = \"https://raw.githubusercontent.com/etalab/dashboard-aides-entreprises/master/backend/json/{}3/{}-3-maille-{}-minify.json\".format(aide, aide, maille)\n",
    "            url = \"https://raw.githubusercontent.com/etalab/dashboard-aides-entreprises/master/backend/json/{}3/{}-3-maille-{}.json\".format(aide, aide, maille)\n",
    "            \n",
    "        data = import_json_to_dict(url)\n",
    "        \n",
    "        if len(data) > 0 :\n",
    "    \n",
    "            for kpi in aides_charts_kpi_dict[aide] :\n",
    "\n",
    "                df_list = []\n",
    "\n",
    "                if maille == 'departemental' :\n",
    "                    for item in data :\n",
    "                        df_dep = pd.DataFrame(item[kpi])\n",
    "                        df_dep['dep'] = item['dep']\n",
    "                        df_list += [df_dep]\n",
    "\n",
    "                elif maille == 'regional' :\n",
    "                    for item in data :\n",
    "                        df_reg = pd.DataFrame(item[kpi])\n",
    "                        df_reg['reg'] = item['reg']\n",
    "                        df_list += [df_reg]\n",
    "\n",
    "                else :\n",
    "                    df_list = [pd.DataFrame(data[0][kpi])]\n",
    "\n",
    "                #Concatenating data in a single dataframe\n",
    "                df = pd.concat(df_list).reset_index(drop=True)\n",
    "\n",
    "                #Adding color information for plotting\n",
    "                if kpi == 'kpi_top_10_naf' :\n",
    "                    df = df.merge(taxo_nafsec_df[['code_section', 'color_section']].rename(columns={'code_section':'section_naf'}), on='section_naf', how='left')\n",
    "                    df.drop('section_naf', 1, inplace=True)\n",
    "                    df.rename(columns={'color_section':'color'}, inplace=True)\n",
    "\n",
    "                elif kpi == 'kpi_categorie_juridique' :\n",
    "                    df = df.merge(taxo_jurcat_df[['code', 'color']].rename(columns={'code':'code_cat_juridique'}), on='code_cat_juridique', how='left')\n",
    "                    df.drop('code_cat_juridique', 1, inplace=True)\n",
    "\n",
    "                elif kpi == 'kpi_classe_effectif' :\n",
    "                    df = df.merge(taxo_effcla_df[['denomination', 'color']].rename(columns={'denomination':'classe_effectif'}), on='classe_effectif', how='left')\n",
    "                    df.drop('classe_effectif', 1, inplace=True)\n",
    "\n",
    "                elif kpi == 'nace17' : #Only activite-partielle as of now\n",
    "                    df = df.merge(taxo_nace17_df[['code_section_nace17', 'color_section']], on='code_section_nace17', how='left')\n",
    "                    df.drop('code_section_nace17', 1, inplace=True)\n",
    "                    df.rename(columns={'color_section':'color'}, inplace=True)\n",
    "                    \n",
    "                    row_df_list = []\n",
    "\n",
    "                    for row in df.iterrows() :\n",
    "\n",
    "                        row_df = pd.DataFrame(eval(str(row[1]['data'])))\n",
    "\n",
    "                        row_df['libelle'] = row[1]['libelle']\n",
    "                        if 'reg' in df.columns:\n",
    "                            row_df['reg'] = row[1]['reg']\n",
    "                            row_df['reg'] = row_df['reg'].apply(lambda x : str(x).zfill(2))\n",
    "                        if 'dep' in df.columns:\n",
    "                            row_df['dep'] = row[1]['dep']\n",
    "                            row_df['dep'] = row_df['dep'].apply(lambda x : str(x).zfill(2))\n",
    "                        row_df['color'] = row[1]['color']\n",
    "\n",
    "                        row_df_list += [row_df]\n",
    "\n",
    "                    df = pd.concat(row_df_list).reset_index(drop=True)\n",
    "                    \n",
    "                    for col in ['nombre_demandes_deposees', 'nombre_heures_demandees', 'nombre_salaries_concernes'] :\n",
    "                        df[col] = df[col].apply(format_str_to_int)\n",
    "\n",
    "                else :\n",
    "                    print('Unknown KPI, could not assign colors.')\n",
    "\n",
    "                df['color'].fillna('#AAAAAA', inplace=True)\n",
    "\n",
    "                #Creating labels for plotting (depending on existing columns)\n",
    "\n",
    "                if 'montant' in df.columns :\n",
    "                    df['montant_fr'] = df['montant'].apply(lambda x: format_number_to_million_str(x) + \" M€\")\n",
    "\n",
    "                if 'nombre' in df.columns :\n",
    "                    df['nombre_fr'] = df['nombre'].apply(lambda x: format_number_to_str(x) + \" aides\")\n",
    "\n",
    "                if 'nombre_siren' in df.columns :\n",
    "                    df['nombre_siren_fr'] = df['nombre_siren'].apply(lambda x: format_number_to_str(x) + \" entreprises\")\n",
    "\n",
    "                if 'nombre_demandes_deposees' in df.columns :\n",
    "                    df['nombre_demandes_deposees_fr'] = df['nombre_demandes_deposees'].apply(lambda x: format_number_to_str(x) + \" demandes\")\n",
    "\n",
    "                if 'nombre_etablissements_concernes' in df.columns :\n",
    "                    df['nombre_etablissements_concernes_fr'] = df['nombre_etablissements_concernes'].apply(lambda x: format_number_to_str(x) + \" entreprises\")\n",
    "\n",
    "                if 'nombre_heures_demandees' in df.columns :\n",
    "                    df['nombre_heures_demandees_fr'] = df['nombre_heures_demandees'].apply(lambda x: format_number_to_str(x) + \" heures\")\n",
    "\n",
    "                if 'nombre_salaries_concernes' in df.columns :\n",
    "                    df['nombre_salaries_concernes_fr'] = df['nombre_salaries_concernes'].apply(lambda x: format_number_to_str(x) + \" salariés\")\n",
    "                    \n",
    "                #NAF: shorten NAF section that is too long and dropping '0' values (does not make sense with \"top 10\")\n",
    "                if kpi == 'kpi_top_10_naf' :\n",
    "                    df['libelle_section_naf'] = df['libelle_section_naf'].apply(shorten_long_naf_libelle)\n",
    "                    df = df[df['montant'].apply(float) > 0]\n",
    "\n",
    "                df.to_csv(os.path.join(data_dir_path, '{}-{}-{}.csv'.format(aide, kpi, maille)), index=False)\n",
    "                \n",
    "        else :\n",
    "            print('Empty data for {}-{}'.format(aide,maille))"
   ]
  },
  {
   "cell_type": "code",
   "execution_count": 17,
   "id": "c2a5f132-bcae-427d-a46c-38c8b2714bd0",
   "metadata": {
    "execution": {
     "iopub.execute_input": "2022-04-06T01:53:47.301275Z",
     "iopub.status.busy": "2022-04-06T01:53:47.300702Z",
     "iopub.status.idle": "2022-04-06T01:53:47.306550Z",
     "shell.execute_reply": "2022-04-06T01:53:47.305316Z"
    },
    "papermill": {
     "duration": 0.016331,
     "end_time": "2022-04-06T01:53:47.308390",
     "exception": false,
     "start_time": "2022-04-06T01:53:47.292059",
     "status": "completed"
    },
    "tags": []
   },
   "outputs": [
    {
     "name": "stdout",
     "output_type": "stream",
     "text": [
      "https://raw.githubusercontent.com/etalab/dashboard-aides-entreprises/master/backend/json/activite-partielle3/activite-partielle-3-maille-departemental.json\n"
     ]
    }
   ],
   "source": [
    "print(url)"
   ]
  },
  {
   "cell_type": "markdown",
   "id": "treated-order",
   "metadata": {
    "papermill": {
     "duration": 0.007679,
     "end_time": "2022-04-06T01:53:47.323612",
     "exception": false,
     "start_time": "2022-04-06T01:53:47.315933",
     "status": "completed"
    },
    "tags": []
   },
   "source": [
    "## Making the graphs"
   ]
  },
  {
   "cell_type": "code",
   "execution_count": 18,
   "id": "located-allocation",
   "metadata": {
    "execution": {
     "iopub.execute_input": "2022-04-06T01:53:47.339773Z",
     "iopub.status.busy": "2022-04-06T01:53:47.339363Z",
     "iopub.status.idle": "2022-04-06T01:53:47.429175Z",
     "shell.execute_reply": "2022-04-06T01:53:47.428679Z"
    },
    "papermill": {
     "duration": 0.099876,
     "end_time": "2022-04-06T01:53:47.430862",
     "exception": false,
     "start_time": "2022-04-06T01:53:47.330986",
     "status": "completed"
    },
    "tags": []
   },
   "outputs": [
    {
     "name": "stdout",
     "output_type": "stream",
     "text": [
      "101 departements.\n",
      "18 regions.\n"
     ]
    }
   ],
   "source": [
    "#Get departements and regions lists\n",
    "\n",
    "taxo_dep_df = pd.DataFrame(import_json_to_dict(taxo_dep_url))\n",
    "dep_list = list(taxo_dep_df['dep'])\n",
    "print('{} departements.'.format(len(dep_list)))\n",
    "\n",
    "taxo_reg_df = pd.DataFrame(import_json_to_dict(taxo_reg_url))\n",
    "reg_list = list(taxo_reg_df['reg'])\n",
    "print('{} regions.'.format(len(reg_list)))"
   ]
  },
  {
   "cell_type": "code",
   "execution_count": 19,
   "id": "unlikely-lewis",
   "metadata": {
    "execution": {
     "iopub.execute_input": "2022-04-06T01:53:47.446688Z",
     "iopub.status.busy": "2022-04-06T01:53:47.446276Z",
     "iopub.status.idle": "2022-04-06T01:53:47.452653Z",
     "shell.execute_reply": "2022-04-06T01:53:47.451701Z"
    },
    "papermill": {
     "duration": 0.015403,
     "end_time": "2022-04-06T01:53:47.453891",
     "exception": false,
     "start_time": "2022-04-06T01:53:47.438488",
     "status": "completed"
    },
    "tags": []
   },
   "outputs": [],
   "source": [
    "#Building the folders structures\n",
    "mkdir_ifnotexist(img_dir_path)\n",
    "mkdir_ifnotexist(os.path.join(img_dir_path, 'national'))\n",
    "\n",
    "#Regions subfolders\n",
    "mkdir_ifnotexist(os.path.join(img_dir_path, 'regional'))\n",
    "for reg in reg_list :\n",
    "    mkdir_ifnotexist(os.path.join(img_dir_path, 'regional', reg))\n",
    "    \n",
    "#Departements subfolders\n",
    "mkdir_ifnotexist(os.path.join(img_dir_path, 'departemental'))\n",
    "for dep in dep_list :\n",
    "    mkdir_ifnotexist(os.path.join(img_dir_path, 'departemental', dep))"
   ]
  },
  {
   "cell_type": "code",
   "execution_count": 20,
   "id": "lovely-simulation",
   "metadata": {
    "execution": {
     "iopub.execute_input": "2022-04-06T01:53:47.468375Z",
     "iopub.status.busy": "2022-04-06T01:53:47.468201Z",
     "iopub.status.idle": "2022-04-06T01:55:39.743784Z",
     "shell.execute_reply": "2022-04-06T01:55:39.743271Z"
    },
    "papermill": {
     "duration": 112.288931,
     "end_time": "2022-04-06T01:55:39.749372",
     "exception": false,
     "start_time": "2022-04-06T01:53:47.460441",
     "status": "completed"
    },
    "tags": []
   },
   "outputs": [
    {
     "name": "stdout",
     "output_type": "stream",
     "text": [
      "national-aides-kpi_top_10_naf done.\n",
      "national-aides-kpi_categorie_juridique done.\n"
     ]
    },
    {
     "name": "stdout",
     "output_type": "stream",
     "text": [
      "national-aides-kpi_classe_effectif done.\n",
      "national-pge-kpi_top_10_naf done.\n"
     ]
    },
    {
     "name": "stdout",
     "output_type": "stream",
     "text": [
      "national-report-kpi_top_10_naf done.\n",
      "national-cpsti-kpi_top_10_naf done.\n"
     ]
    },
    {
     "name": "stdout",
     "output_type": "stream",
     "text": [
      "national-activite-partielle-nace17 done.\n"
     ]
    },
    {
     "name": "stdout",
     "output_type": "stream",
     "text": [
      "regional-aides-kpi_top_10_naf done.\n"
     ]
    },
    {
     "name": "stdout",
     "output_type": "stream",
     "text": [
      "regional-aides-kpi_categorie_juridique done.\n"
     ]
    },
    {
     "name": "stdout",
     "output_type": "stream",
     "text": [
      "regional-aides-kpi_classe_effectif done.\n"
     ]
    },
    {
     "name": "stdout",
     "output_type": "stream",
     "text": [
      "regional-pge-kpi_top_10_naf done.\n"
     ]
    },
    {
     "name": "stdout",
     "output_type": "stream",
     "text": [
      "regional-report-kpi_top_10_naf done.\n"
     ]
    },
    {
     "name": "stdout",
     "output_type": "stream",
     "text": [
      "No data to plot for cpsti-kpi_top_10_naf-regional-06\n"
     ]
    },
    {
     "name": "stdout",
     "output_type": "stream",
     "text": [
      "regional-cpsti-kpi_top_10_naf done.\n"
     ]
    },
    {
     "name": "stdout",
     "output_type": "stream",
     "text": [
      "regional-activite-partielle-nace17 done.\n"
     ]
    },
    {
     "name": "stdout",
     "output_type": "stream",
     "text": [
      "departemental-aides-kpi_top_10_naf done.\n"
     ]
    },
    {
     "name": "stdout",
     "output_type": "stream",
     "text": [
      "departemental-aides-kpi_categorie_juridique done.\n"
     ]
    },
    {
     "name": "stdout",
     "output_type": "stream",
     "text": [
      "departemental-aides-kpi_classe_effectif done.\n"
     ]
    },
    {
     "name": "stdout",
     "output_type": "stream",
     "text": [
      "departemental-pge-kpi_top_10_naf done.\n"
     ]
    },
    {
     "name": "stdout",
     "output_type": "stream",
     "text": [
      "departemental-report-kpi_top_10_naf done.\n"
     ]
    },
    {
     "name": "stdout",
     "output_type": "stream",
     "text": [
      "No data to plot for cpsti-kpi_top_10_naf-departemental-976\n",
      "departemental-cpsti-kpi_top_10_naf done.\n",
      "File not found: ./data/activite-partielle-nace17-departemental.csv\n",
      "File not found: ./data/activite-partielle-nace17-departemental.csv\n",
      "File not found: ./data/activite-partielle-nace17-departemental.csv\n",
      "File not found: ./data/activite-partielle-nace17-departemental.csv\n",
      "File not found: ./data/activite-partielle-nace17-departemental.csv\n",
      "File not found: ./data/activite-partielle-nace17-departemental.csv\n",
      "File not found: ./data/activite-partielle-nace17-departemental.csv\n",
      "File not found: ./data/activite-partielle-nace17-departemental.csv\n",
      "File not found: ./data/activite-partielle-nace17-departemental.csv\n",
      "File not found: ./data/activite-partielle-nace17-departemental.csv\n",
      "File not found: ./data/activite-partielle-nace17-departemental.csv\n",
      "File not found: ./data/activite-partielle-nace17-departemental.csv\n",
      "File not found: ./data/activite-partielle-nace17-departemental.csv\n",
      "File not found: ./data/activite-partielle-nace17-departemental.csv\n",
      "File not found: ./data/activite-partielle-nace17-departemental.csv\n",
      "File not found: ./data/activite-partielle-nace17-departemental.csv\n",
      "File not found: ./data/activite-partielle-nace17-departemental.csv\n",
      "File not found: ./data/activite-partielle-nace17-departemental.csv\n",
      "File not found: ./data/activite-partielle-nace17-departemental.csv\n",
      "File not found: ./data/activite-partielle-nace17-departemental.csv\n",
      "File not found: ./data/activite-partielle-nace17-departemental.csv\n",
      "File not found: ./data/activite-partielle-nace17-departemental.csv\n",
      "File not found: ./data/activite-partielle-nace17-departemental.csv\n",
      "File not found: ./data/activite-partielle-nace17-departemental.csv\n",
      "File not found: ./data/activite-partielle-nace17-departemental.csv\n",
      "File not found: ./data/activite-partielle-nace17-departemental.csv\n",
      "File not found: ./data/activite-partielle-nace17-departemental.csv\n",
      "File not found: ./data/activite-partielle-nace17-departemental.csv\n",
      "File not found: ./data/activite-partielle-nace17-departemental.csv\n",
      "File not found: ./data/activite-partielle-nace17-departemental.csv\n",
      "File not found: ./data/activite-partielle-nace17-departemental.csv\n",
      "File not found: ./data/activite-partielle-nace17-departemental.csv\n",
      "File not found: ./data/activite-partielle-nace17-departemental.csv\n",
      "File not found: ./data/activite-partielle-nace17-departemental.csv\n",
      "File not found: ./data/activite-partielle-nace17-departemental.csv\n",
      "File not found: ./data/activite-partielle-nace17-departemental.csv\n",
      "File not found: ./data/activite-partielle-nace17-departemental.csv\n",
      "File not found: ./data/activite-partielle-nace17-departemental.csv\n",
      "File not found: ./data/activite-partielle-nace17-departemental.csv\n",
      "File not found: ./data/activite-partielle-nace17-departemental.csv\n",
      "File not found: ./data/activite-partielle-nace17-departemental.csv\n",
      "File not found: ./data/activite-partielle-nace17-departemental.csv\n",
      "File not found: ./data/activite-partielle-nace17-departemental.csv\n",
      "File not found: ./data/activite-partielle-nace17-departemental.csv\n",
      "File not found: ./data/activite-partielle-nace17-departemental.csv\n",
      "File not found: ./data/activite-partielle-nace17-departemental.csv\n",
      "File not found: ./data/activite-partielle-nace17-departemental.csv\n",
      "File not found: ./data/activite-partielle-nace17-departemental.csv\n",
      "File not found: ./data/activite-partielle-nace17-departemental.csv\n",
      "File not found: ./data/activite-partielle-nace17-departemental.csv\n",
      "File not found: ./data/activite-partielle-nace17-departemental.csv\n",
      "File not found: ./data/activite-partielle-nace17-departemental.csv\n",
      "File not found: ./data/activite-partielle-nace17-departemental.csv\n",
      "File not found: ./data/activite-partielle-nace17-departemental.csv\n",
      "File not found: ./data/activite-partielle-nace17-departemental.csv\n",
      "File not found: ./data/activite-partielle-nace17-departemental.csv\n",
      "File not found: ./data/activite-partielle-nace17-departemental.csv\n",
      "File not found: ./data/activite-partielle-nace17-departemental.csv\n",
      "File not found: ./data/activite-partielle-nace17-departemental.csv\n",
      "File not found: ./data/activite-partielle-nace17-departemental.csv\n",
      "File not found: ./data/activite-partielle-nace17-departemental.csv\n",
      "File not found: ./data/activite-partielle-nace17-departemental.csv\n",
      "File not found: ./data/activite-partielle-nace17-departemental.csv\n",
      "File not found: ./data/activite-partielle-nace17-departemental.csv\n",
      "File not found: ./data/activite-partielle-nace17-departemental.csv\n",
      "File not found: ./data/activite-partielle-nace17-departemental.csv\n",
      "File not found: ./data/activite-partielle-nace17-departemental.csv\n",
      "File not found: ./data/activite-partielle-nace17-departemental.csv\n",
      "File not found: ./data/activite-partielle-nace17-departemental.csv\n",
      "File not found: ./data/activite-partielle-nace17-departemental.csv\n",
      "File not found: ./data/activite-partielle-nace17-departemental.csv\n",
      "File not found: ./data/activite-partielle-nace17-departemental.csv\n",
      "File not found: ./data/activite-partielle-nace17-departemental.csv\n",
      "File not found: ./data/activite-partielle-nace17-departemental.csv\n",
      "File not found: ./data/activite-partielle-nace17-departemental.csv\n",
      "File not found: ./data/activite-partielle-nace17-departemental.csv\n",
      "File not found: ./data/activite-partielle-nace17-departemental.csv\n",
      "File not found: ./data/activite-partielle-nace17-departemental.csv\n",
      "File not found: ./data/activite-partielle-nace17-departemental.csv\n",
      "File not found: ./data/activite-partielle-nace17-departemental.csv\n",
      "File not found: ./data/activite-partielle-nace17-departemental.csv\n",
      "File not found: ./data/activite-partielle-nace17-departemental.csv\n",
      "File not found: ./data/activite-partielle-nace17-departemental.csv\n",
      "File not found: ./data/activite-partielle-nace17-departemental.csv\n",
      "File not found: ./data/activite-partielle-nace17-departemental.csv\n",
      "File not found: ./data/activite-partielle-nace17-departemental.csv\n",
      "File not found: ./data/activite-partielle-nace17-departemental.csv\n",
      "File not found: ./data/activite-partielle-nace17-departemental.csv\n",
      "File not found: ./data/activite-partielle-nace17-departemental.csv\n",
      "File not found: ./data/activite-partielle-nace17-departemental.csv\n",
      "File not found: ./data/activite-partielle-nace17-departemental.csv\n",
      "File not found: ./data/activite-partielle-nace17-departemental.csv\n",
      "File not found: ./data/activite-partielle-nace17-departemental.csv\n",
      "File not found: ./data/activite-partielle-nace17-departemental.csv\n",
      "File not found: ./data/activite-partielle-nace17-departemental.csv\n",
      "File not found: ./data/activite-partielle-nace17-departemental.csv\n",
      "File not found: ./data/activite-partielle-nace17-departemental.csv\n",
      "File not found: ./data/activite-partielle-nace17-departemental.csv\n",
      "File not found: ./data/activite-partielle-nace17-departemental.csv\n",
      "File not found: ./data/activite-partielle-nace17-departemental.csv\n",
      "File not found: ./data/activite-partielle-nace17-departemental.csv\n",
      "departemental-activite-partielle-nace17 done.\n",
      "CPU times: user 58.6 s, sys: 648 ms, total: 59.2 s\n",
      "Wall time: 1min 52s\n"
     ]
    }
   ],
   "source": [
    "%%time\n",
    "#Generating all graphs and saving them in appropriate folders\n",
    "for maille in mailles_list :\n",
    "    for param in graph_params_list :\n",
    "        graph_param = param.copy()\n",
    "        graph_param['maille'] = maille\n",
    "        \n",
    "        if maille == 'national' :\n",
    "            img_path = os.path.join(img_dir_path, maille, '{}-{}-{}-{}-{}.png'.format(param['aide'],\n",
    "                                                                                      param['kpi'],\n",
    "                                                                                      param['x_col'],\n",
    "                                                                                      maille,\n",
    "                                                                                      param['chart_type']))\n",
    "\n",
    "            fig = make_chart(**graph_param)\n",
    "            \n",
    "            if fig is not None :\n",
    "                fig.write_image(img_path)\n",
    "            \n",
    "        elif maille == 'regional' :\n",
    "            for reg in reg_list :\n",
    "                graph_param['reg'] = reg\n",
    "                img_path = os.path.join(img_dir_path, maille, reg, '{}-{}-{}-{}-{}.png'.format(param['aide'],\n",
    "                                                                                               param['kpi'],\n",
    "                                                                                               param['x_col'],\n",
    "                                                                                               maille,\n",
    "                                                                                               reg,\n",
    "                                                                                               param['chart_type']))\n",
    "                fig = make_chart(**graph_param) \n",
    "                \n",
    "                if fig is not None :\n",
    "                    fig.write_image(img_path)\n",
    "                \n",
    "        elif maille == 'departemental' :\n",
    "            for dep in dep_list :\n",
    "                graph_param['dep'] = dep\n",
    "                img_path = os.path.join(img_dir_path, maille, dep, '{}-{}-{}-{}-{}.png'.format(param['aide'],\n",
    "                                                                                               param['kpi'],\n",
    "                                                                                               param['x_col'],\n",
    "                                                                                               maille,\n",
    "                                                                                               dep,\n",
    "                                                                                               param['chart_type']))\n",
    "                fig = make_chart(**graph_param) \n",
    "                \n",
    "                if fig is not None :\n",
    "                    fig.write_image(img_path)\n",
    "                    \n",
    "        print('{}-{}-{} done.'.format(maille, param['aide'], param['kpi']))"
   ]
  },
  {
   "cell_type": "markdown",
   "id": "acoustic-percentage",
   "metadata": {
    "papermill": {
     "duration": 0.007682,
     "end_time": "2022-04-06T01:55:39.764677",
     "exception": false,
     "start_time": "2022-04-06T01:55:39.756995",
     "status": "completed"
    },
    "tags": []
   },
   "source": [
    "## Building the reports"
   ]
  },
  {
   "cell_type": "code",
   "execution_count": 21,
   "id": "formed-klein",
   "metadata": {
    "execution": {
     "iopub.execute_input": "2022-04-06T01:55:39.781056Z",
     "iopub.status.busy": "2022-04-06T01:55:39.780594Z",
     "iopub.status.idle": "2022-04-06T01:55:39.784129Z",
     "shell.execute_reply": "2022-04-06T01:55:39.783539Z"
    },
    "papermill": {
     "duration": 0.01336,
     "end_time": "2022-04-06T01:55:39.785426",
     "exception": false,
     "start_time": "2022-04-06T01:55:39.772066",
     "status": "completed"
    },
    "tags": []
   },
   "outputs": [],
   "source": [
    "mkdir_ifnotexist(reports_dir_path)"
   ]
  },
  {
   "cell_type": "code",
   "execution_count": 22,
   "id": "flush-assets",
   "metadata": {
    "execution": {
     "iopub.execute_input": "2022-04-06T01:55:39.801677Z",
     "iopub.status.busy": "2022-04-06T01:55:39.801164Z",
     "iopub.status.idle": "2022-04-06T01:55:39.805363Z",
     "shell.execute_reply": "2022-04-06T01:55:39.804720Z"
    },
    "papermill": {
     "duration": 0.014034,
     "end_time": "2022-04-06T01:55:39.806771",
     "exception": false,
     "start_time": "2022-04-06T01:55:39.792737",
     "status": "completed"
    },
    "tags": []
   },
   "outputs": [],
   "source": [
    "global title_header\n",
    "title_header = ''\n",
    "global subtitle_header\n",
    "subtitle_header = ''"
   ]
  },
  {
   "cell_type": "code",
   "execution_count": 23,
   "id": "lined-booking",
   "metadata": {
    "execution": {
     "iopub.execute_input": "2022-04-06T01:55:39.822695Z",
     "iopub.status.busy": "2022-04-06T01:55:39.822328Z",
     "iopub.status.idle": "2022-04-06T01:55:39.829717Z",
     "shell.execute_reply": "2022-04-06T01:55:39.829104Z"
    },
    "papermill": {
     "duration": 0.017178,
     "end_time": "2022-04-06T01:55:39.831234",
     "exception": false,
     "start_time": "2022-04-06T01:55:39.814056",
     "status": "completed"
    },
    "tags": []
   },
   "outputs": [],
   "source": [
    "class PDF(FPDF):\n",
    "    def header(self):\n",
    "        if (self.page_no() != 1 ):\n",
    "            # Logo\n",
    "            self.image(os.path.join(img_dir_path, 'LogoRF.png'), 10, 8, 33)\n",
    "            self.image(os.path.join(img_dir_path, 'logo_Francerelance_1321294.54.png'), pdf.w-45, 7, 45)\n",
    "            # Arial bold 15\n",
    "            self.cell(50)\n",
    "            self.set_font('Arial', 'B', 16)\n",
    "            self.cell(80, 15, title_header, 0, 1, 'A')\n",
    "\n",
    "            # Move to the right\n",
    "            # Title\n",
    "            self.set_font('Arial', 'I', 9)\n",
    "            self.cell(50)\n",
    "            self.cell(50, 10, subtitle_header+' - aides-entreprises.data.gouv.fr', 0, 1, 'A', link='https://aides-entreprises.data.gouv.fr/')\n",
    "            # Line break  \n",
    "            pdf.line(40, 38, 170, 38)\n",
    "            self.ln(7)\n",
    "        \n",
    "    # Page footer\n",
    "    def footer(self):\n",
    "        if (self.page_no() != 1 ):\n",
    "            # Position at 1.5 cm from bottom\n",
    "            self.set_y(-15)\n",
    "            # Arial italic 8\n",
    "            self.set_font('Arial', 'I', 8)\n",
    "            # Page number\n",
    "            \n",
    "            self.cell(0, 10, 'Direction Interministérielle du Numérique (DINUM) - Page ' + str(self.page_no()) + '/{nb}', 0, 0, 'C')         "
   ]
  },
  {
   "cell_type": "code",
   "execution_count": 24,
   "id": "tamil-ethernet",
   "metadata": {
    "execution": {
     "iopub.execute_input": "2022-04-06T01:55:39.849892Z",
     "iopub.status.busy": "2022-04-06T01:55:39.849394Z",
     "iopub.status.idle": "2022-04-06T01:55:39.852868Z",
     "shell.execute_reply": "2022-04-06T01:55:39.852304Z"
    },
    "papermill": {
     "duration": 0.01426,
     "end_time": "2022-04-06T01:55:39.854458",
     "exception": false,
     "start_time": "2022-04-06T01:55:39.840198",
     "status": "completed"
    },
    "tags": []
   },
   "outputs": [],
   "source": [
    "def format_val(val,add):\n",
    "    return '{:,}'.format(int(float(val))).replace(',', ' ')+add"
   ]
  },
  {
   "cell_type": "code",
   "execution_count": 25,
   "id": "interested-consumer",
   "metadata": {
    "execution": {
     "iopub.execute_input": "2022-04-06T01:55:39.871440Z",
     "iopub.status.busy": "2022-04-06T01:55:39.871168Z",
     "iopub.status.idle": "2022-04-06T01:55:39.880030Z",
     "shell.execute_reply": "2022-04-06T01:55:39.879494Z"
    },
    "papermill": {
     "duration": 0.01909,
     "end_time": "2022-04-06T01:55:39.881430",
     "exception": false,
     "start_time": "2022-04-06T01:55:39.862340",
     "status": "completed"
    },
    "tags": []
   },
   "outputs": [],
   "source": [
    "def get_kpis(aide,maille,geo):\n",
    "    #url = \"https://raw.githubusercontent.com/etalab/dashboard-aides-entreprises/master/backend/json/{}/{}-maille-{}-minify.json\".format(aide, aide, maille)\n",
    "    url = \"https://raw.githubusercontent.com/etalab/dashboard-aides-entreprises/master/backend/json/{}/{}-maille-{}.json\".format(aide, aide, maille)\n",
    "    \n",
    "    data = import_json_to_dict(url)\n",
    "    if(maille == 'national'):\n",
    "        if(aide == 'aides'):\n",
    "            return format_val(data[0]['montant'],' euros'),format_val(data[0]['nombre'],''),format_val(data[0]['nombre_siren'],'')\n",
    "        else:\n",
    "            return format_val(data[0]['montant'],' euros'),format_val(data[0]['nombre'],'')\n",
    "\n",
    "    elif(maille == 'regional'):\n",
    "        for reg in data:\n",
    "            if(reg['reg'] == geo):\n",
    "                if(aide == 'aides'):\n",
    "                    return format_val(reg['montant'],' euros'),format_val(reg['nombre'],''),format_val(reg['nombre_siren'],'')\n",
    "                else:\n",
    "                    return format_val(reg['montant'],' euros'),format_val(reg['nombre'],'')\n",
    "\n",
    "    elif(maille == 'departemental'):\n",
    "        for dep in data:\n",
    "            if(dep['dep'] == geo):\n",
    "                if(aide == 'aides'):\n",
    "                    return format_val(dep['montant'],' euros'),format_val(dep['nombre'],''),format_val(dep['nombre_siren'],'')\n",
    "                else:\n",
    "                    return format_val(dep['montant'],' euros'),format_val(dep['nombre'],'')\n"
   ]
  },
  {
   "cell_type": "code",
   "execution_count": 26,
   "id": "accessory-quantum",
   "metadata": {
    "execution": {
     "iopub.execute_input": "2022-04-06T01:55:39.897578Z",
     "iopub.status.busy": "2022-04-06T01:55:39.897224Z",
     "iopub.status.idle": "2022-04-06T01:55:39.902996Z",
     "shell.execute_reply": "2022-04-06T01:55:39.902448Z"
    },
    "papermill": {
     "duration": 0.015297,
     "end_time": "2022-04-06T01:55:39.904257",
     "exception": false,
     "start_time": "2022-04-06T01:55:39.888960",
     "status": "completed"
    },
    "tags": []
   },
   "outputs": [],
   "source": [
    "def get_actpart_kpis(aide,maille,geo):\n",
    "    #url = \"https://raw.githubusercontent.com/etalab/dashboard-aides-entreprises/master/backend/json/{}3/{}-3-maille-{}-minify.json\".format(aide, aide, maille)\n",
    "    url = \"https://raw.githubusercontent.com/etalab/dashboard-aides-entreprises/master/backend/json/{}3/{}-3-maille-{}.json\".format(aide, aide, maille)\n",
    "    \n",
    "    data = import_json_to_dict(url)\n",
    "    if(maille == 'national'):\n",
    "        return format_val(data[0]['nombre_demandes_deposees'],''), format_val(data[0]['nombre_salaries_concernes'],''),format_val(data[0]['nombre_heures_demandees'],'')\n",
    "\n",
    "    elif(maille == 'regional'):\n",
    "        for reg in data:\n",
    "            if(reg['reg'] == geo):\n",
    "                return format_val(reg['nombre_demandes_deposees'],''), format_val(reg['nombre_salaries_concernes'],''),format_val(reg['nombre_heures_demandees'],'')\n",
    "\n",
    "    elif(maille == 'departemental'):\n",
    "        for dep in data:\n",
    "            if(dep['dep'] == geo):\n",
    "                return format_val(dep['nombre_demandes_deposees'],''), format_val(dep['nombre_salaries_concernes'],''),format_val(dep['nombre_heures_demandees'],'')"
   ]
  },
  {
   "cell_type": "code",
   "execution_count": 27,
   "id": "concerned-macintosh",
   "metadata": {
    "execution": {
     "iopub.execute_input": "2022-04-06T01:55:39.920347Z",
     "iopub.status.busy": "2022-04-06T01:55:39.919896Z",
     "iopub.status.idle": "2022-04-06T01:55:39.924494Z",
     "shell.execute_reply": "2022-04-06T01:55:39.923999Z"
    },
    "papermill": {
     "duration": 0.014209,
     "end_time": "2022-04-06T01:55:39.925842",
     "exception": false,
     "start_time": "2022-04-06T01:55:39.911633",
     "status": "completed"
    },
    "tags": []
   },
   "outputs": [],
   "source": [
    "def find_last_update(aide):\n",
    "    if aide != 'activite-partielle' :\n",
    "        url = \"https://raw.githubusercontent.com/etalab/dashboard-aides-entreprises/master/backend/json/\"+aide+\"/last_update_data.txt\"\n",
    "    else :\n",
    "        url = \"https://raw.githubusercontent.com/etalab/dashboard-aides-entreprises/master/backend/json/\"+aide+\"3/last_update_data.txt\"\n",
    "    u2 = urllib.request.urlopen(url)\n",
    "    return u2.readlines()[0].decode(\"utf-8\")"
   ]
  },
  {
   "cell_type": "code",
   "execution_count": 28,
   "id": "chubby-taxation",
   "metadata": {
    "execution": {
     "iopub.execute_input": "2022-04-06T01:55:39.941854Z",
     "iopub.status.busy": "2022-04-06T01:55:39.941663Z",
     "iopub.status.idle": "2022-04-06T01:55:39.962928Z",
     "shell.execute_reply": "2022-04-06T01:55:39.962439Z"
    },
    "papermill": {
     "duration": 0.03105,
     "end_time": "2022-04-06T01:55:39.964225",
     "exception": false,
     "start_time": "2022-04-06T01:55:39.933175",
     "status": "completed"
    },
    "tags": []
   },
   "outputs": [],
   "source": [
    "def add_page_report(pdf, aide, dep, aideurl, phrase1, phrase2, phrase3, phrase_nombre, source_dict):\n",
    "\n",
    "    pdf.set_fill_color(83,101,125);\n",
    "    pdf.rect(20,41,180,14,'F')\n",
    "    \n",
    "    pdf.image(os.path.join(img_dir_path, 'information.png'), x=10, y=44.5, w=7)\n",
    "    \n",
    "    \n",
    "    pdf.set_font('Arial', 'I', 7)\n",
    "    pdf.set_text_color(255,255,255)\n",
    "    pdf.cell(10)\n",
    "    pdf.cell(10, 3, phrase1, ln=1)\n",
    "    pdf.ln(0)\n",
    "    pdf.cell(10)    \n",
    "    pdf.cell(10, 3, phrase2, ln=1)\n",
    "    pdf.ln(0)\n",
    "    pdf.cell(10)\n",
    "    pdf.cell(10, 3, phrase3, ln=1)\n",
    "    pdf.ln(0)\n",
    "    pdf.cell(10)\n",
    "    pdf.set_font('Arial', 'IU', 7)\n",
    "    pdf.cell(10, 3, source_dict['name'], ln=1, link=source_dict['url'])\n",
    "    pdf.ln(2)\n",
    "       \n",
    "    pdf.set_text_color(0,0,0)\n",
    "\n",
    "\n",
    "    pdf.set_font('Arial', 'BI', 14)\n",
    "    pdf.cell(65, 10, \"Niveau National\", ln=1)\n",
    "    \n",
    "    \n",
    "    pdf.set_font('Arial', '', 14)\n",
    "\n",
    "    hbar_w = 100\n",
    "    dpie_w = 90\n",
    "\n",
    "    pdf.image(os.path.join(img_dir_path, 'national', aide+'-kpi_top_10_naf-montant-national-hbar.png'), x=pdf.w/3-hbar_w/2, y=64, w=hbar_w)\n",
    "\n",
    "    kpis_nat = get_kpis(aide,'national','national')\n",
    "    pdf.ln(10)\n",
    "    pdf.cell((pdf.w/3)*1.55)\n",
    "    pdf.cell(0, 10, \"Montant total : \"+kpis_nat[0], 0, 0)\n",
    "    pdf.ln(15)\n",
    "    pdf.cell((pdf.w/3)*1.55)\n",
    "    pdf.cell(0, 10, \"Nombre \"+phrase_nombre+kpis_nat[1], 0, 0)\n",
    "    pdf.ln(15)\n",
    "    pdf.cell((pdf.w/3)*1.55)\n",
    "    if(aide == 'aides'):\n",
    "        pdf.cell(0, 10, \"Nombre d'entreprises : \"+kpis_nat[2], 0, 0)\n",
    "\n",
    "\n",
    "    pdf.ln(27)\n",
    "\n",
    "    reg = taxo_dep_df[taxo_dep_df['dep'] == dep].iloc[0]['reg']\n",
    "    libelle_reg = taxo_reg_df[taxo_reg_df['reg'] == reg].iloc[0]['libelle']\n",
    "    libelle_dep = taxo_dep_df[taxo_dep_df['dep'] == dep].iloc[0]['libelle']\n",
    "    \n",
    "    pdf.set_font('Arial', 'BI', 14)\n",
    "    pdf.cell(65, 10, \"Niveau Régional : \"+libelle_reg, ln=1)\n",
    "    \n",
    "    if aide == 'cpsti' and reg == '06' :\n",
    "        pdf.set_font('Arial', 'I', 12)\n",
    "        pdf.ln(10)\n",
    "        pdf.cell(0,0,\"Absence de données à l'échelle de la région.\", ln=1)\n",
    "        pdf.ln(15)\n",
    "    else :\n",
    "        pdf.set_font('Arial', '', 14)\n",
    "\n",
    "        hbar_w = 100\n",
    "        dpie_w = 90\n",
    "\n",
    "        kpis_reg = get_kpis(aide,'regional', reg)\n",
    "\n",
    "        pdf.image(os.path.join(img_dir_path, 'regional/'+reg+'/'+aide+'-kpi_top_10_naf-montant-regional-'+reg+'.png'), x=pdf.w/3-hbar_w/2, y=142, w=hbar_w)\n",
    "        pdf.ln(10)\n",
    "        pdf.cell((pdf.w/3)*1.55)\n",
    "        pdf.cell(0, 10, \"Montant total : \"+kpis_reg[0], 0, 0)\n",
    "        pdf.ln(15)\n",
    "        pdf.cell((pdf.w/3)*1.55)\n",
    "        pdf.cell(0, 10, \"Nombre \"+phrase_nombre+kpis_reg[1], 0, 0)\n",
    "        pdf.ln(15)\n",
    "        pdf.cell((pdf.w/3)*1.55)\n",
    "        if(aide == 'aides'):\n",
    "            pdf.cell(0, 10, \"Nombre d'entreprises : \"+kpis_reg[2], 0, 0)\n",
    "\n",
    "        pdf.ln(25)\n",
    "\n",
    "    pdf.set_font('Arial', 'BI', 14)\n",
    "    pdf.cell(65, 15, \"Niveau Départemental : \"+libelle_dep, ln=1)\n",
    "        \n",
    "    if aide == 'cpsti' and dep == '976' :\n",
    "        pdf.ln(10)\n",
    "        pdf.set_font('Arial', 'I', 12)\n",
    "        pdf.cell(0,0,\"Absence de données à l'échelle du département.\", ln=1)\n",
    "        pdf.ln(15)\n",
    "    else :\n",
    "        pdf.set_font('Arial', '', 14)\n",
    "\n",
    "        hbar_w = 100\n",
    "        dpie_w = 90\n",
    "\n",
    "        pdf.image(os.path.join(img_dir_path, 'departemental/'+dep+'/'+aide+'-kpi_top_10_naf-montant-departemental-'+dep+'.png'), x=pdf.w/3-hbar_w/2, y=219, w=hbar_w)\n",
    "\n",
    "        kpis_dep = get_kpis(aide,'departemental', dep)\n",
    "        pdf.ln(8)\n",
    "        pdf.cell((pdf.w/3)*1.55)\n",
    "        pdf.cell(0, 10, \"Montant total : \"+kpis_dep[0], 0, 0)\n",
    "        pdf.ln(15)\n",
    "        pdf.cell((pdf.w/3)*1.55)\n",
    "        pdf.cell(0, 10, \"Nombre \"+phrase_nombre+kpis_dep[1], 0, 0)\n",
    "        pdf.ln(15)\n",
    "        pdf.cell((pdf.w/3)*1.55)\n",
    "        if(aide == 'aides'):\n",
    "            pdf.cell(0, 10, \"Nombre d'entreprises : \"+kpis_dep[2], 0, 0)\n",
    "    \n",
    "    pdf.link(10,57,120,8, 'http://aides-entreprises.data.gouv.fr')\n",
    "    pdf.link(10,134,120,8, 'https://aides-entreprises.data.gouv.fr/'+aideurl+'?datasetid=regions&field=code&value='+reg)\n",
    "    pdf.link(10,212,120,8, 'https://aides-entreprises.data.gouv.fr/'+aideurl+'?datasetid=departements&field=code&value='+dep)\n",
    "    \n",
    "    \n",
    "    return pdf"
   ]
  },
  {
   "cell_type": "code",
   "execution_count": 29,
   "id": "genuine-eagle",
   "metadata": {
    "execution": {
     "iopub.execute_input": "2022-04-06T01:55:39.980989Z",
     "iopub.status.busy": "2022-04-06T01:55:39.980597Z",
     "iopub.status.idle": "2022-04-06T01:55:39.994196Z",
     "shell.execute_reply": "2022-04-06T01:55:39.993662Z"
    },
    "papermill": {
     "duration": 0.023891,
     "end_time": "2022-04-06T01:55:39.995743",
     "exception": false,
     "start_time": "2022-04-06T01:55:39.971852",
     "status": "completed"
    },
    "tags": []
   },
   "outputs": [],
   "source": [
    "def add_actpart_page_report(pdf, dep, aideurl, phrase1, phrase2, phrase3, source_dict):\n",
    "    \n",
    "    aide = 'activite-partielle'\n",
    "    \n",
    "    pdf.set_fill_color(83,101,125);\n",
    "    pdf.rect(20,41,180,14,'F')\n",
    "    \n",
    "    pdf.image(os.path.join(img_dir_path, 'information.png'), x=10, y=44.5, w=7)\n",
    "    \n",
    "    \n",
    "    pdf.set_font('Arial', 'I', 7)\n",
    "    pdf.set_text_color(255,255,255)\n",
    "    pdf.cell(10)\n",
    "    pdf.cell(10, 3, phrase1, ln=1)\n",
    "    pdf.ln(0)\n",
    "    pdf.cell(10)    \n",
    "    pdf.cell(10, 3, phrase2, ln=1)\n",
    "    pdf.ln(0)\n",
    "    pdf.cell(10)\n",
    "    pdf.cell(10, 3, phrase3, ln=1)\n",
    "    pdf.ln(0)\n",
    "    pdf.cell(10)\n",
    "    pdf.set_font('Arial', 'IU', 7)\n",
    "    pdf.cell(10, 3, source_dict['name'], ln=1, link=source_dict['url'])\n",
    "    pdf.ln(2)\n",
    "       \n",
    "    pdf.set_text_color(0,0,0)\n",
    "\n",
    "\n",
    "    pdf.set_font('Arial', 'BI', 14)\n",
    "    pdf.cell(65, 10, \"Niveau National\", ln=1)\n",
    "    \n",
    "    \n",
    "    pdf.set_font('Arial', '', 14)\n",
    "\n",
    "    hbar_w = 100\n",
    "    dpie_w = 90\n",
    "\n",
    "    pdf.image(os.path.join(img_dir_path, 'national', aide+'-nace17-nombre_salaries_concernes-national-sthbar.png'), x=pdf.w/3-hbar_w/2, y=64, w=hbar_w)\n",
    "\n",
    "    kpis_nat = get_actpart_kpis(aide,'national','national')\n",
    "    pdf.ln(10)\n",
    "    pdf.cell((pdf.w/3)*1.55)\n",
    "    pdf.cell(0, 10, \"Nombre de demandes : \"+kpis_nat[0], 0, 0)\n",
    "    pdf.ln(15)\n",
    "    pdf.cell((pdf.w/3)*1.55)\n",
    "    pdf.cell(0, 10, \"Nombre de salariés : \"+kpis_nat[1], 0, 0)\n",
    "    pdf.ln(15)\n",
    "    pdf.cell((pdf.w/3)*1.55)\n",
    "    pdf.cell(0, 10, \"Heures demandées : \"+kpis_nat[2], 0, 0)\n",
    "\n",
    "\n",
    "    pdf.ln(27)\n",
    "\n",
    "    reg = taxo_dep_df[taxo_dep_df['dep'] == dep].iloc[0]['reg']\n",
    "    libelle_reg = taxo_reg_df[taxo_reg_df['reg'] == reg].iloc[0]['libelle']\n",
    "    libelle_dep = taxo_dep_df[taxo_dep_df['dep'] == dep].iloc[0]['libelle']\n",
    "    \n",
    "    pdf.set_font('Arial', 'BI', 14)\n",
    "    pdf.cell(65, 10, \"Niveau Régional : \"+libelle_reg, ln=1)\n",
    "\n",
    "    pdf.set_font('Arial', '', 14)\n",
    "\n",
    "    hbar_w = 100\n",
    "    dpie_w = 90\n",
    "\n",
    "    kpis_reg = get_actpart_kpis(aide,'regional', reg)\n",
    "\n",
    "    pdf.image(os.path.join(img_dir_path, 'regional/'+reg+'/'+aide+'-nace17-nombre_salaries_concernes-regional-'+reg+'.png'), x=pdf.w/3-hbar_w/2, y=142, w=hbar_w)\n",
    "    pdf.ln(10)\n",
    "    pdf.cell((pdf.w/3)*1.55)\n",
    "    pdf.cell(0, 10, \"Nombre de demandes : \"+kpis_reg[0], 0, 0)\n",
    "    pdf.ln(15)\n",
    "    pdf.cell((pdf.w/3)*1.55)\n",
    "    pdf.cell(0, 10, \"Nombre de salariés : \"+kpis_reg[1], 0, 0)\n",
    "    pdf.ln(15)\n",
    "    pdf.cell((pdf.w/3)*1.55)\n",
    "    pdf.cell(0, 10, \"Heures demandées : \"+kpis_reg[2], 0, 0)\n",
    "\n",
    "    pdf.ln(25)\n",
    "    \n",
    "    #Pas de données départementales pour l'instant pour l'activité partielle\n",
    "    \n",
    "    pdf.link(10,57,120,8, 'http://aides-entreprises.data.gouv.fr')\n",
    "    pdf.link(10,134,120,8, 'https://aides-entreprises.data.gouv.fr/'+aideurl+'?datasetid=regions&field=code&value='+reg)\n",
    "    \n",
    "    return pdf"
   ]
  },
  {
   "cell_type": "code",
   "execution_count": 30,
   "id": "developed-classic",
   "metadata": {
    "execution": {
     "iopub.execute_input": "2022-04-06T01:55:40.014160Z",
     "iopub.status.busy": "2022-04-06T01:55:40.013775Z",
     "iopub.status.idle": "2022-04-06T02:05:03.222137Z",
     "shell.execute_reply": "2022-04-06T02:05:03.221673Z"
    },
    "papermill": {
     "duration": 563.219465,
     "end_time": "2022-04-06T02:05:03.223596",
     "exception": false,
     "start_time": "2022-04-06T01:55:40.004131",
     "status": "completed"
    },
    "tags": []
   },
   "outputs": [
    {
     "name": "stdout",
     "output_type": "stream",
     "text": [
      "2022-04-06 01:55:45.756458 - 01 done.\n"
     ]
    },
    {
     "name": "stdout",
     "output_type": "stream",
     "text": [
      "2022-04-06 01:55:51.559590 - 02 done.\n"
     ]
    },
    {
     "name": "stdout",
     "output_type": "stream",
     "text": [
      "2022-04-06 01:55:57.339328 - 03 done.\n"
     ]
    },
    {
     "name": "stdout",
     "output_type": "stream",
     "text": [
      "2022-04-06 01:56:03.260477 - 04 done.\n"
     ]
    },
    {
     "name": "stdout",
     "output_type": "stream",
     "text": [
      "2022-04-06 01:56:09.093890 - 05 done.\n"
     ]
    },
    {
     "name": "stdout",
     "output_type": "stream",
     "text": [
      "2022-04-06 01:56:14.891146 - 06 done.\n"
     ]
    },
    {
     "name": "stdout",
     "output_type": "stream",
     "text": [
      "2022-04-06 01:56:20.683658 - 07 done.\n"
     ]
    },
    {
     "name": "stdout",
     "output_type": "stream",
     "text": [
      "2022-04-06 01:56:26.456832 - 08 done.\n"
     ]
    },
    {
     "name": "stdout",
     "output_type": "stream",
     "text": [
      "2022-04-06 01:56:31.746442 - 09 done.\n"
     ]
    },
    {
     "name": "stdout",
     "output_type": "stream",
     "text": [
      "2022-04-06 01:56:37.056787 - 10 done.\n"
     ]
    },
    {
     "name": "stdout",
     "output_type": "stream",
     "text": [
      "2022-04-06 01:56:42.244503 - 11 done.\n"
     ]
    },
    {
     "name": "stdout",
     "output_type": "stream",
     "text": [
      "2022-04-06 01:56:47.536789 - 12 done.\n"
     ]
    },
    {
     "name": "stdout",
     "output_type": "stream",
     "text": [
      "2022-04-06 01:56:53.116534 - 13 done.\n"
     ]
    },
    {
     "name": "stdout",
     "output_type": "stream",
     "text": [
      "2022-04-06 01:56:58.530309 - 14 done.\n"
     ]
    },
    {
     "name": "stdout",
     "output_type": "stream",
     "text": [
      "2022-04-06 01:57:04.410618 - 15 done.\n"
     ]
    },
    {
     "name": "stdout",
     "output_type": "stream",
     "text": [
      "2022-04-06 01:57:09.627192 - 16 done.\n"
     ]
    },
    {
     "name": "stdout",
     "output_type": "stream",
     "text": [
      "2022-04-06 01:57:15.344122 - 17 done.\n"
     ]
    },
    {
     "name": "stdout",
     "output_type": "stream",
     "text": [
      "2022-04-06 01:57:21.148309 - 18 done.\n"
     ]
    },
    {
     "name": "stdout",
     "output_type": "stream",
     "text": [
      "2022-04-06 01:57:26.970344 - 19 done.\n"
     ]
    },
    {
     "name": "stdout",
     "output_type": "stream",
     "text": [
      "2022-04-06 01:57:32.770866 - 21 done.\n"
     ]
    },
    {
     "name": "stdout",
     "output_type": "stream",
     "text": [
      "2022-04-06 01:57:38.521519 - 22 done.\n"
     ]
    },
    {
     "name": "stdout",
     "output_type": "stream",
     "text": [
      "2022-04-06 01:57:44.319571 - 23 done.\n"
     ]
    },
    {
     "name": "stdout",
     "output_type": "stream",
     "text": [
      "2022-04-06 01:57:50.105450 - 24 done.\n"
     ]
    },
    {
     "name": "stdout",
     "output_type": "stream",
     "text": [
      "2022-04-06 01:57:55.378408 - 25 done.\n"
     ]
    },
    {
     "name": "stdout",
     "output_type": "stream",
     "text": [
      "2022-04-06 01:58:00.634243 - 26 done.\n"
     ]
    },
    {
     "name": "stdout",
     "output_type": "stream",
     "text": [
      "2022-04-06 01:58:05.882517 - 27 done.\n"
     ]
    },
    {
     "name": "stdout",
     "output_type": "stream",
     "text": [
      "2022-04-06 01:58:11.106526 - 28 done.\n"
     ]
    },
    {
     "name": "stdout",
     "output_type": "stream",
     "text": [
      "2022-04-06 01:58:16.310958 - 29 done.\n"
     ]
    },
    {
     "name": "stdout",
     "output_type": "stream",
     "text": [
      "2022-04-06 01:58:21.650415 - 2A done.\n"
     ]
    },
    {
     "name": "stdout",
     "output_type": "stream",
     "text": [
      "2022-04-06 01:58:26.902755 - 2B done.\n"
     ]
    },
    {
     "name": "stdout",
     "output_type": "stream",
     "text": [
      "2022-04-06 01:58:32.197779 - 30 done.\n"
     ]
    },
    {
     "name": "stdout",
     "output_type": "stream",
     "text": [
      "2022-04-06 01:58:38.280119 - 31 done.\n"
     ]
    },
    {
     "name": "stdout",
     "output_type": "stream",
     "text": [
      "2022-04-06 01:58:43.650091 - 32 done.\n"
     ]
    },
    {
     "name": "stdout",
     "output_type": "stream",
     "text": [
      "2022-04-06 01:58:50.131891 - 33 done.\n"
     ]
    },
    {
     "name": "stdout",
     "output_type": "stream",
     "text": [
      "2022-04-06 01:58:55.659123 - 34 done.\n"
     ]
    },
    {
     "name": "stdout",
     "output_type": "stream",
     "text": [
      "2022-04-06 01:59:00.990681 - 35 done.\n"
     ]
    },
    {
     "name": "stdout",
     "output_type": "stream",
     "text": [
      "2022-04-06 01:59:06.865019 - 36 done.\n"
     ]
    },
    {
     "name": "stdout",
     "output_type": "stream",
     "text": [
      "2022-04-06 01:59:12.725368 - 37 done.\n"
     ]
    },
    {
     "name": "stdout",
     "output_type": "stream",
     "text": [
      "2022-04-06 01:59:18.517263 - 38 done.\n"
     ]
    },
    {
     "name": "stdout",
     "output_type": "stream",
     "text": [
      "2022-04-06 01:59:24.391612 - 39 done.\n"
     ]
    },
    {
     "name": "stdout",
     "output_type": "stream",
     "text": [
      "2022-04-06 01:59:30.310719 - 40 done.\n"
     ]
    },
    {
     "name": "stdout",
     "output_type": "stream",
     "text": [
      "2022-04-06 01:59:36.063971 - 41 done.\n"
     ]
    },
    {
     "name": "stdout",
     "output_type": "stream",
     "text": [
      "2022-04-06 01:59:41.863449 - 42 done.\n"
     ]
    },
    {
     "name": "stdout",
     "output_type": "stream",
     "text": [
      "2022-04-06 01:59:47.330666 - 43 done.\n"
     ]
    },
    {
     "name": "stdout",
     "output_type": "stream",
     "text": [
      "2022-04-06 01:59:52.732610 - 44 done.\n"
     ]
    },
    {
     "name": "stdout",
     "output_type": "stream",
     "text": [
      "2022-04-06 01:59:58.124397 - 45 done.\n"
     ]
    },
    {
     "name": "stdout",
     "output_type": "stream",
     "text": [
      "2022-04-06 02:00:03.415771 - 46 done.\n"
     ]
    },
    {
     "name": "stdout",
     "output_type": "stream",
     "text": [
      "2022-04-06 02:00:08.994567 - 47 done.\n"
     ]
    },
    {
     "name": "stdout",
     "output_type": "stream",
     "text": [
      "2022-04-06 02:00:14.884570 - 48 done.\n"
     ]
    },
    {
     "name": "stdout",
     "output_type": "stream",
     "text": [
      "2022-04-06 02:00:20.715181 - 49 done.\n"
     ]
    },
    {
     "name": "stdout",
     "output_type": "stream",
     "text": [
      "2022-04-06 02:00:26.280174 - 50 done.\n"
     ]
    },
    {
     "name": "stdout",
     "output_type": "stream",
     "text": [
      "2022-04-06 02:00:31.526405 - 51 done.\n"
     ]
    },
    {
     "name": "stdout",
     "output_type": "stream",
     "text": [
      "2022-04-06 02:00:36.817757 - 52 done.\n"
     ]
    },
    {
     "name": "stdout",
     "output_type": "stream",
     "text": [
      "2022-04-06 02:00:42.459495 - 53 done.\n"
     ]
    },
    {
     "name": "stdout",
     "output_type": "stream",
     "text": [
      "2022-04-06 02:00:48.791485 - 54 done.\n"
     ]
    },
    {
     "name": "stdout",
     "output_type": "stream",
     "text": [
      "2022-04-06 02:00:55.083250 - 55 done.\n"
     ]
    },
    {
     "name": "stdout",
     "output_type": "stream",
     "text": [
      "2022-04-06 02:01:00.893758 - 56 done.\n"
     ]
    },
    {
     "name": "stdout",
     "output_type": "stream",
     "text": [
      "2022-04-06 02:01:06.615624 - 57 done.\n"
     ]
    },
    {
     "name": "stdout",
     "output_type": "stream",
     "text": [
      "2022-04-06 02:01:11.791366 - 58 done.\n"
     ]
    },
    {
     "name": "stdout",
     "output_type": "stream",
     "text": [
      "2022-04-06 02:01:17.082764 - 59 done.\n"
     ]
    },
    {
     "name": "stdout",
     "output_type": "stream",
     "text": [
      "2022-04-06 02:01:22.386549 - 60 done.\n"
     ]
    },
    {
     "name": "stdout",
     "output_type": "stream",
     "text": [
      "2022-04-06 02:01:27.893828 - 61 done.\n"
     ]
    },
    {
     "name": "stdout",
     "output_type": "stream",
     "text": [
      "2022-04-06 02:01:33.230543 - 62 done.\n"
     ]
    },
    {
     "name": "stdout",
     "output_type": "stream",
     "text": [
      "2022-04-06 02:01:38.517732 - 63 done.\n"
     ]
    },
    {
     "name": "stdout",
     "output_type": "stream",
     "text": [
      "2022-04-06 02:01:43.829195 - 64 done.\n"
     ]
    },
    {
     "name": "stdout",
     "output_type": "stream",
     "text": [
      "2022-04-06 02:01:49.497965 - 65 done.\n"
     ]
    },
    {
     "name": "stdout",
     "output_type": "stream",
     "text": [
      "2022-04-06 02:01:54.883779 - 66 done.\n"
     ]
    },
    {
     "name": "stdout",
     "output_type": "stream",
     "text": [
      "2022-04-06 02:02:00.125211 - 67 done.\n"
     ]
    },
    {
     "name": "stdout",
     "output_type": "stream",
     "text": [
      "2022-04-06 02:02:05.585301 - 68 done.\n"
     ]
    },
    {
     "name": "stdout",
     "output_type": "stream",
     "text": [
      "2022-04-06 02:02:10.952392 - 69 done.\n"
     ]
    },
    {
     "name": "stdout",
     "output_type": "stream",
     "text": [
      "2022-04-06 02:02:16.175010 - 70 done.\n"
     ]
    },
    {
     "name": "stdout",
     "output_type": "stream",
     "text": [
      "2022-04-06 02:02:21.381360 - 71 done.\n"
     ]
    },
    {
     "name": "stdout",
     "output_type": "stream",
     "text": [
      "2022-04-06 02:02:26.615265 - 72 done.\n"
     ]
    },
    {
     "name": "stdout",
     "output_type": "stream",
     "text": [
      "2022-04-06 02:02:32.104142 - 73 done.\n"
     ]
    },
    {
     "name": "stdout",
     "output_type": "stream",
     "text": [
      "2022-04-06 02:02:38.007262 - 74 done.\n"
     ]
    },
    {
     "name": "stdout",
     "output_type": "stream",
     "text": [
      "2022-04-06 02:02:43.626315 - 75 done.\n"
     ]
    },
    {
     "name": "stdout",
     "output_type": "stream",
     "text": [
      "2022-04-06 02:02:48.824125 - 76 done.\n"
     ]
    },
    {
     "name": "stdout",
     "output_type": "stream",
     "text": [
      "2022-04-06 02:02:54.054847 - 77 done.\n"
     ]
    },
    {
     "name": "stdout",
     "output_type": "stream",
     "text": [
      "2022-04-06 02:02:59.425533 - 78 done.\n"
     ]
    },
    {
     "name": "stdout",
     "output_type": "stream",
     "text": [
      "2022-04-06 02:03:04.769854 - 79 done.\n"
     ]
    },
    {
     "name": "stdout",
     "output_type": "stream",
     "text": [
      "2022-04-06 02:03:10.058962 - 80 done.\n"
     ]
    },
    {
     "name": "stdout",
     "output_type": "stream",
     "text": [
      "2022-04-06 02:03:15.457897 - 81 done.\n"
     ]
    },
    {
     "name": "stdout",
     "output_type": "stream",
     "text": [
      "2022-04-06 02:03:21.240602 - 82 done.\n"
     ]
    },
    {
     "name": "stdout",
     "output_type": "stream",
     "text": [
      "2022-04-06 02:03:27.067264 - 83 done.\n"
     ]
    },
    {
     "name": "stdout",
     "output_type": "stream",
     "text": [
      "2022-04-06 02:03:32.793510 - 84 done.\n"
     ]
    },
    {
     "name": "stdout",
     "output_type": "stream",
     "text": [
      "2022-04-06 02:03:38.069030 - 85 done.\n"
     ]
    },
    {
     "name": "stdout",
     "output_type": "stream",
     "text": [
      "2022-04-06 02:03:43.361718 - 86 done.\n"
     ]
    },
    {
     "name": "stdout",
     "output_type": "stream",
     "text": [
      "2022-04-06 02:03:48.947054 - 87 done.\n"
     ]
    },
    {
     "name": "stdout",
     "output_type": "stream",
     "text": [
      "2022-04-06 02:03:55.912461 - 88 done.\n"
     ]
    },
    {
     "name": "stdout",
     "output_type": "stream",
     "text": [
      "2022-04-06 02:04:02.795635 - 89 done.\n"
     ]
    },
    {
     "name": "stdout",
     "output_type": "stream",
     "text": [
      "2022-04-06 02:04:08.071247 - 90 done.\n"
     ]
    },
    {
     "name": "stdout",
     "output_type": "stream",
     "text": [
      "2022-04-06 02:04:13.666926 - 91 done.\n"
     ]
    },
    {
     "name": "stdout",
     "output_type": "stream",
     "text": [
      "2022-04-06 02:04:19.109991 - 92 done.\n"
     ]
    },
    {
     "name": "stdout",
     "output_type": "stream",
     "text": [
      "2022-04-06 02:04:24.331653 - 93 done.\n"
     ]
    },
    {
     "name": "stdout",
     "output_type": "stream",
     "text": [
      "2022-04-06 02:04:30.343651 - 94 done.\n"
     ]
    },
    {
     "name": "stdout",
     "output_type": "stream",
     "text": [
      "2022-04-06 02:04:36.245357 - 95 done.\n"
     ]
    },
    {
     "name": "stdout",
     "output_type": "stream",
     "text": [
      "2022-04-06 02:04:41.714433 - 971 done.\n"
     ]
    },
    {
     "name": "stdout",
     "output_type": "stream",
     "text": [
      "2022-04-06 02:04:47.065025 - 972 done.\n"
     ]
    },
    {
     "name": "stdout",
     "output_type": "stream",
     "text": [
      "2022-04-06 02:04:52.314061 - 973 done.\n"
     ]
    },
    {
     "name": "stdout",
     "output_type": "stream",
     "text": [
      "2022-04-06 02:04:57.738390 - 974 done.\n"
     ]
    },
    {
     "name": "stdout",
     "output_type": "stream",
     "text": [
      "2022-04-06 02:05:03.219612 - 976 done.\n",
      "CPU times: user 8min 45s, sys: 4.55 s, total: 8min 50s\n",
      "Wall time: 9min 23s\n"
     ]
    }
   ],
   "source": [
    "%%time\n",
    "\n",
    "mkdir_ifnotexist(os.path.join(reports_dir_path, 'pdf'))\n",
    "\n",
    "for dep in taxo_dep_df.dep.unique():\n",
    "    \n",
    "    pdf = PDF()\n",
    "    pdf.alias_nb_pages()\n",
    "    pdf.add_page()\n",
    "\n",
    "    #Logos\n",
    "    pdf.image(os.path.join(img_dir_path, 'LogoRF.png'), 10, 8, 33)\n",
    "    pdf.image(os.path.join(img_dir_path, 'logo_Francerelance_1321294.54.png'), pdf.w-45, 7, 45)\n",
    "    \n",
    "    # Arial bold 15\n",
    "    pdf.set_font('Arial', 'B', 28)\n",
    "    # Move to the right\n",
    "    pdf.cell(50)\n",
    "    pdf.ln(70)\n",
    "    \n",
    "    # Title\n",
    "    pdf.cell(10)\n",
    "    pdf.cell(50, 10, 'SUIVI DES AIDES VERSÉES', 0, 1, 'A')\n",
    "    pdf.ln(10)\n",
    "    pdf.cell(10)\n",
    "    pdf.cell(50, 10, 'AUX ENTREPRISES DANS LE CADRE', 0, 1, 'A')\n",
    "    pdf.ln(10)\n",
    "    pdf.cell(10)\n",
    "    pdf.cell(50, 10, 'DE LA CRISE SANITAIRE COVID-19', 0, 1, 'A')\n",
    "\n",
    "    pdf.set_font('Arial', 'I', 20)\n",
    "    pdf.ln(10)\n",
    "    pdf.cell(10)\n",
    "    pdf.cell(50, 10, 'Données pour le département : \"'+taxo_dep_df[taxo_dep_df['dep'] == dep].iloc[0]['libelle']+'\"', 0, 1, 'A')\n",
    "    pdf.ln(110)\n",
    "\n",
    "    pdf.set_font('Arial', 'I', 8)\n",
    "\n",
    "    pdf.cell(10)\n",
    "    pdf.cell(50, 10, 'Données issues du tableau de bord des aides aux entreprises consultable sur https://aides-entreprises.data.gouv.fr', 0, 1, 'A')\n",
    "    \n",
    "    #FONDS DE SOLIDARITÉ\n",
    "    \n",
    "    phrase1 = \"Depuis le début de la crise sanitaire de la COVID-19, l'État et les Régions ont mis en place un fonds de solidarité pour prévenir la cessation d'activité des petites\" # \n",
    "    phrase2 = \"entreprises, micro-entrepreneurs, indépendants et professions libérales, particulièrement touchés par les conséquences économiques de la COVID-19.\"\n",
    "    phrase3 = \"\"\n",
    "    source_dict = {'name':'Les données utilisées proviennent de la DGFIP et sont disponibles en open data sur data.gouv.fr', 'url':'https://www.data.gouv.fr/fr/datasets/aides-aux-entreprises-dans-le-cadre-de-lepidemie-de-covid-19-en-france/'}\n",
    "    \n",
    "    title_header = 'FONDS DE SOLIDARITÉ'\n",
    "    subtitle_header = find_last_update('aides')\n",
    "    pdf.add_page()\n",
    "    pdf = add_page_report(pdf, 'aides', dep, 'fds', phrase1, phrase2, phrase3, 'd\\'aides : ', source_dict)\n",
    "\n",
    "    #PGE\n",
    "    \n",
    "    phrase1 = \"Le Gouvernement met en oeuvre un dispositif exceptionnel de garanties permettant de soutenir le financement bancaire des entreprises, à hauteur de 300 milliards\"\n",
    "    phrase2 = \"d'euros.\"\n",
    "    phrase3 = \"Les entreprises peuvent désormais contracter un prêt jusqu'au 30 juin 2021 au lieu du 31 décembre 2020.\"\n",
    "    source_dict = {'name':'Les données utilisées proviennent de la DG Trésor et sont disponibles en open data sur data.gouv.fr', 'url':'https://www.data.gouv.fr/fr/datasets/donnees-relatives-aux-prets-garantis-par-letat-dans-le-cadre-de-lepidemie-de-covid-19/'}\n",
    "    \n",
    "    title_header = 'PRÊTS GARANTIS PAR L\\'ÉTAT'\n",
    "    subtitle_header = find_last_update('pge')\n",
    "    pdf.add_page()\n",
    "    pdf = add_page_report(pdf, 'pge', dep, 'pge', phrase1, phrase2, phrase3, 'de prêts : ', source_dict)\n",
    "\n",
    "    #REPORTS D'ECHEANCES FISCALES\n",
    "    \n",
    "    phrase1 = \"Le Gouvernement a annoncé le report des principales échéances fiscales des professionnels afin de tenir compte de leurs difficultés liées à la crise sanitaire \"\n",
    "    phrase2 = \"de la COVID-19.\"\n",
    "    phrase3 = \"\"\n",
    "    source_dict = {'name':'Les données utilisées proviennent de la DGFIP et sont disponibles en open data sur data.gouv.fr', 'url':'https://www.data.gouv.fr/fr/datasets/donnees-relatives-aux-reports-decheances-fiscales-accordes-dans-le-cadre-de-lepidemie-de-covid-19/'}\n",
    "    \n",
    "    title_header = 'REPORTS D\\'ÉCHÉANCES FISCALES'\n",
    "    subtitle_header = find_last_update('report')\n",
    "    pdf.add_page()\n",
    "    pdf = add_page_report(pdf, 'report', dep, 'reports', phrase1, phrase2, phrase3, 'de reports : ', source_dict)\n",
    "\n",
    "    #CPSTI\n",
    "    \n",
    "    phrase1 = \"Le Conseil de la protection sociale des travailleurs indépendants (CPSTI) met en place une aide financière exceptionnelle à destination de tous les commerçants\"\n",
    "    phrase2 = \"et les artisans qui sont en activité au 15 mars 2020 et ont été immatriculés avant le 1er janvier 2019.\"\n",
    "    phrase3 = \"\"\n",
    "    source_dict = {'name':\"Les données utilisées proviennent de l'URSSAF et sont disponibles en open data sur data.gouv.fr\", 'url':'https://www.data.gouv.fr/fr/datasets/donnees-relatives-aux-aides-exceptionnelles-aux-artisans-et-commercants-dans-le-cadre-de-lepidemie-de-covid-19/'}\n",
    "    \n",
    "    title_header = 'AIDES AUX ARTISANS, COMMERÇANTS'\n",
    "    subtitle_header = find_last_update('cpsti')\n",
    "    pdf.add_page()\n",
    "    pdf = add_page_report(pdf, 'cpsti' , dep,'cpsti', phrase1, phrase2, phrase3, 'd\\'aides : ', source_dict)\n",
    "    \n",
    "    #ACTIVITE PARTIELLE\n",
    "    \n",
    "    phrase1 = \"L'activité partielle permet à l'employeur en difficulté de faire prendre en charge tout ou partie du coût de la rémunération de ses salariés. L'activité partielle\"\n",
    "    phrase2 = \"s'adresse à tous les salariés qui subissent une baisse de rémunération imputable soit à une réduction de l'horaire de travail pratiqué dans l'établissement ou\"\n",
    "    phrase3 = \"partie de l'établissement en deçà de la durée légale de travail, soit à une fermeture temporaire de tout ou partie de l'établissement.\"\n",
    "    source_dict = {'name':'Les données utilisées proviennent de la DARES', 'url':'https://dares.travail-emploi.gouv.fr/dares-etudes-et-statistiques/tableaux-de-bord/le-marche-du-travail-pendant-le-covid-19/tableaux-de-bord-hebdomadaires'}\n",
    "    \n",
    "    title_header = 'ACTIVITÉ PARTIELLE'\n",
    "    subtitle_header = find_last_update('activite-partielle')\n",
    "    pdf.add_page()\n",
    "    pdf = add_actpart_page_report(pdf, dep, 'activitepartielle', phrase1, phrase2, phrase3, source_dict)\n",
    "    \n",
    "\n",
    "    pdf.output(os.path.join(reports_dir_path, 'pdf', 'Suivi_aides_entreprises_'+taxo_dep_df[taxo_dep_df['dep'] == dep].iloc[0]['libelle']+'.pdf'), 'F')\n",
    "    \n",
    "    print(str(datetime.datetime.today()) + ' - ' + dep + ' done.')"
   ]
  },
  {
   "cell_type": "markdown",
   "id": "registered-south",
   "metadata": {
    "papermill": {
     "duration": 0.01137,
     "end_time": "2022-04-06T02:05:03.246733",
     "exception": false,
     "start_time": "2022-04-06T02:05:03.235363",
     "status": "completed"
    },
    "tags": []
   },
   "source": [
    "## Compress to ZIP"
   ]
  },
  {
   "cell_type": "code",
   "execution_count": 31,
   "id": "continent-catch",
   "metadata": {
    "execution": {
     "iopub.execute_input": "2022-04-06T02:05:03.270838Z",
     "iopub.status.busy": "2022-04-06T02:05:03.270412Z",
     "iopub.status.idle": "2022-04-06T02:05:03.274817Z",
     "shell.execute_reply": "2022-04-06T02:05:03.274286Z"
    },
    "papermill": {
     "duration": 0.018208,
     "end_time": "2022-04-06T02:05:03.276114",
     "exception": false,
     "start_time": "2022-04-06T02:05:03.257906",
     "status": "completed"
    },
    "tags": []
   },
   "outputs": [],
   "source": [
    "from zipfile import ZipFile"
   ]
  },
  {
   "cell_type": "code",
   "execution_count": 32,
   "id": "prescribed-february",
   "metadata": {
    "execution": {
     "iopub.execute_input": "2022-04-06T02:05:03.300010Z",
     "iopub.status.busy": "2022-04-06T02:05:03.299613Z",
     "iopub.status.idle": "2022-04-06T02:05:03.309292Z",
     "shell.execute_reply": "2022-04-06T02:05:03.308788Z"
    },
    "papermill": {
     "duration": 0.023235,
     "end_time": "2022-04-06T02:05:03.310562",
     "exception": false,
     "start_time": "2022-04-06T02:05:03.287327",
     "status": "completed"
    },
    "tags": []
   },
   "outputs": [
    {
     "data": {
      "text/plain": [
       "'2022-04-06'"
      ]
     },
     "execution_count": 32,
     "metadata": {},
     "output_type": "execute_result"
    }
   ],
   "source": [
    "today_date = str(datetime.datetime.today())[:10]\n",
    "today_date"
   ]
  },
  {
   "cell_type": "code",
   "execution_count": 33,
   "id": "modular-blackberry",
   "metadata": {
    "execution": {
     "iopub.execute_input": "2022-04-06T02:05:03.335220Z",
     "iopub.status.busy": "2022-04-06T02:05:03.334630Z",
     "iopub.status.idle": "2022-04-06T02:05:03.821204Z",
     "shell.execute_reply": "2022-04-06T02:05:03.820583Z"
    },
    "papermill": {
     "duration": 0.501357,
     "end_time": "2022-04-06T02:05:03.823333",
     "exception": false,
     "start_time": "2022-04-06T02:05:03.321976",
     "status": "completed"
    },
    "tags": []
   },
   "outputs": [],
   "source": [
    "my_zip_date = ZipFile(os.path.join(reports_dir_path, 'Suivi_aides_entreprises_{}.zip'.format(today_date)), 'w')\n",
    "my_zip_latest = ZipFile(os.path.join(reports_dir_path, 'Suivi_aides_entreprises_latest.zip'), 'w')\n",
    "\n",
    "for filename in os.listdir(os.path.join(reports_dir_path, 'pdf')) :\n",
    "    if filename.endswith('.pdf') :\n",
    "        my_zip_date.write(os.path.join(reports_dir_path, 'pdf', filename))\n",
    "        my_zip_latest.write(os.path.join(reports_dir_path, 'pdf', filename))\n",
    "        \n",
    "my_zip_date.close()\n",
    "my_zip_latest.close()"
   ]
  }
 ],
 "metadata": {
  "kernelspec": {
   "display_name": "Python 3",
   "language": "python",
   "name": "python3"
  },
  "language_info": {
   "codemirror_mode": {
    "name": "ipython",
    "version": 3
   },
   "file_extension": ".py",
   "mimetype": "text/x-python",
   "name": "python",
   "nbconvert_exporter": "python",
   "pygments_lexer": "ipython3",
   "version": "3.9.12"
  },
  "papermill": {
   "default_parameters": {},
   "duration": 684.749741,
   "end_time": "2022-04-06T02:05:06.456288",
   "environment_variables": {},
   "exception": null,
   "input_path": "report-pdf.ipynb",
   "output_path": "report-pdf.ipynb",
   "parameters": {},
   "start_time": "2022-04-06T01:53:41.706547",
   "version": "2.2.2"
  }
 },
 "nbformat": 4,
 "nbformat_minor": 5
}