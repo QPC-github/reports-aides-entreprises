{
 "cells": [
  {
   "cell_type": "markdown",
   "id": "actual-estonia",
   "metadata": {
    "papermill": {
     "duration": 0.028642,
     "end_time": "2021-05-09T00:12:28.315080",
     "exception": false,
     "start_time": "2021-05-09T00:12:28.286438",
     "status": "completed"
    },
    "tags": []
   },
   "source": [
    "# Aides aux Entreprises - PDF Reports"
   ]
  },
  {
   "cell_type": "markdown",
   "id": "velvet-pollution",
   "metadata": {
    "papermill": {
     "duration": 0.027644,
     "end_time": "2021-05-09T00:12:28.370338",
     "exception": false,
     "start_time": "2021-05-09T00:12:28.342694",
     "status": "completed"
    },
    "tags": []
   },
   "source": [
    "## Imports"
   ]
  },
  {
   "cell_type": "code",
   "execution_count": 1,
   "id": "seeing-wallpaper",
   "metadata": {
    "execution": {
     "iopub.execute_input": "2021-05-09T00:12:28.441314Z",
     "iopub.status.busy": "2021-05-09T00:12:28.440695Z",
     "iopub.status.idle": "2021-05-09T00:12:28.852168Z",
     "shell.execute_reply": "2021-05-09T00:12:28.852635Z"
    },
    "papermill": {
     "duration": 0.455811,
     "end_time": "2021-05-09T00:12:28.852901",
     "exception": false,
     "start_time": "2021-05-09T00:12:28.397090",
     "status": "completed"
    },
    "tags": []
   },
   "outputs": [],
   "source": [
    "import json\n",
    "import os\n",
    "import datetime\n",
    "import random\n",
    "\n",
    "from urllib.request import urlopen\n",
    "import urllib\n",
    "\n",
    "import plotly.graph_objects as go\n",
    "import plotly.express as px\n",
    "\n",
    "import pandas as pd\n",
    "import numpy as np\n",
    "\n",
    "from fpdf import FPDF"
   ]
  },
  {
   "cell_type": "markdown",
   "id": "forced-result",
   "metadata": {
    "papermill": {
     "duration": 0.026775,
     "end_time": "2021-05-09T00:12:28.908063",
     "exception": false,
     "start_time": "2021-05-09T00:12:28.881288",
     "status": "completed"
    },
    "tags": []
   },
   "source": [
    "## Functions"
   ]
  },
  {
   "cell_type": "code",
   "execution_count": 2,
   "id": "diagnostic-couple",
   "metadata": {
    "execution": {
     "iopub.execute_input": "2021-05-09T00:12:28.968054Z",
     "iopub.status.busy": "2021-05-09T00:12:28.967448Z",
     "iopub.status.idle": "2021-05-09T00:12:28.969302Z",
     "shell.execute_reply": "2021-05-09T00:12:28.969727Z"
    },
    "papermill": {
     "duration": 0.035036,
     "end_time": "2021-05-09T00:12:28.969871",
     "exception": false,
     "start_time": "2021-05-09T00:12:28.934835",
     "status": "completed"
    },
    "tags": []
   },
   "outputs": [],
   "source": [
    "def import_json_to_dict(url) :\n",
    "    response = urllib.request.urlopen(url)\n",
    "    my_dict = json.loads(response.read())\n",
    "    return my_dict"
   ]
  },
  {
   "cell_type": "code",
   "execution_count": 3,
   "id": "incoming-prague",
   "metadata": {
    "execution": {
     "iopub.execute_input": "2021-05-09T00:12:29.027587Z",
     "iopub.status.busy": "2021-05-09T00:12:29.026919Z",
     "iopub.status.idle": "2021-05-09T00:12:29.028612Z",
     "shell.execute_reply": "2021-05-09T00:12:29.029015Z"
    },
    "papermill": {
     "duration": 0.031557,
     "end_time": "2021-05-09T00:12:29.029144",
     "exception": false,
     "start_time": "2021-05-09T00:12:28.997587",
     "status": "completed"
    },
    "tags": []
   },
   "outputs": [],
   "source": [
    "def mkdir_ifnotexist(path) :\n",
    "    if not os.path.isdir(path) :\n",
    "        os.mkdir(path)"
   ]
  },
  {
   "cell_type": "code",
   "execution_count": 4,
   "id": "tight-attention",
   "metadata": {
    "execution": {
     "iopub.execute_input": "2021-05-09T00:12:29.097135Z",
     "iopub.status.busy": "2021-05-09T00:12:29.096460Z",
     "iopub.status.idle": "2021-05-09T00:12:29.099128Z",
     "shell.execute_reply": "2021-05-09T00:12:29.098559Z"
    },
    "papermill": {
     "duration": 0.041911,
     "end_time": "2021-05-09T00:12:29.099254",
     "exception": false,
     "start_time": "2021-05-09T00:12:29.057343",
     "status": "completed"
    },
    "tags": []
   },
   "outputs": [],
   "source": [
    "def format_number_to_str(x) :\n",
    "    if x == x :\n",
    "        res = str(format(int(round(float(x),0)),\",\")).replace(\",\",\" \").replace(\".\",\",\")\n",
    "    else :\n",
    "        res = 'NaN'\n",
    "    return res"
   ]
  },
  {
   "cell_type": "code",
   "execution_count": 5,
   "id": "satisfied-coordinator",
   "metadata": {
    "execution": {
     "iopub.execute_input": "2021-05-09T00:12:29.157955Z",
     "iopub.status.busy": "2021-05-09T00:12:29.157233Z",
     "iopub.status.idle": "2021-05-09T00:12:29.159162Z",
     "shell.execute_reply": "2021-05-09T00:12:29.159609Z"
    },
    "papermill": {
     "duration": 0.033404,
     "end_time": "2021-05-09T00:12:29.159749",
     "exception": false,
     "start_time": "2021-05-09T00:12:29.126345",
     "status": "completed"
    },
    "tags": []
   },
   "outputs": [],
   "source": [
    "def format_number_to_million_str(x) :\n",
    "    if x == x :\n",
    "        res = str(round(float(x)/1000000,1)).replace('.',',')\n",
    "    else :\n",
    "        res = 'NaN'\n",
    "    return res"
   ]
  },
  {
   "cell_type": "code",
   "execution_count": 6,
   "id": "extended-charles",
   "metadata": {
    "execution": {
     "iopub.execute_input": "2021-05-09T00:12:29.219484Z",
     "iopub.status.busy": "2021-05-09T00:12:29.218877Z",
     "iopub.status.idle": "2021-05-09T00:12:29.221654Z",
     "shell.execute_reply": "2021-05-09T00:12:29.221152Z"
    },
    "papermill": {
     "duration": 0.033942,
     "end_time": "2021-05-09T00:12:29.221769",
     "exception": false,
     "start_time": "2021-05-09T00:12:29.187827",
     "status": "completed"
    },
    "tags": []
   },
   "outputs": [],
   "source": [
    "def format_str_to_int(x) :\n",
    "    if x != 'None' :\n",
    "        res = int(float(x))\n",
    "    else : \n",
    "        res = None\n",
    "    return res"
   ]
  },
  {
   "cell_type": "code",
   "execution_count": 7,
   "id": "operating-insurance",
   "metadata": {
    "execution": {
     "iopub.execute_input": "2021-05-09T00:12:29.279474Z",
     "iopub.status.busy": "2021-05-09T00:12:29.278777Z",
     "iopub.status.idle": "2021-05-09T00:12:29.280857Z",
     "shell.execute_reply": "2021-05-09T00:12:29.281330Z"
    },
    "papermill": {
     "duration": 0.032366,
     "end_time": "2021-05-09T00:12:29.281460",
     "exception": false,
     "start_time": "2021-05-09T00:12:29.249094",
     "status": "completed"
    },
    "tags": []
   },
   "outputs": [],
   "source": [
    "def shorten_long_naf_libelle(libelle) :\n",
    "    if libelle == \"Production et distribution d'eau ; assainissement, gestion des déchets et dépollution\" :\n",
    "        return \"Prod./dist. eau, assainissement, déchets, dépollution\"\n",
    "    else :\n",
    "        return libelle"
   ]
  },
  {
   "cell_type": "code",
   "execution_count": 8,
   "id": "monthly-microwave",
   "metadata": {
    "execution": {
     "iopub.execute_input": "2021-05-09T00:12:29.340164Z",
     "iopub.status.busy": "2021-05-09T00:12:29.339433Z",
     "iopub.status.idle": "2021-05-09T00:12:29.341433Z",
     "shell.execute_reply": "2021-05-09T00:12:29.341853Z"
    },
    "papermill": {
     "duration": 0.033636,
     "end_time": "2021-05-09T00:12:29.342004",
     "exception": false,
     "start_time": "2021-05-09T00:12:29.308368",
     "status": "completed"
    },
    "tags": []
   },
   "outputs": [],
   "source": [
    "months_fr_dict = {\n",
    "    '01':'janvier',\n",
    "    '02':'février',\n",
    "    '03':'mars',\n",
    "    '04':'avril',\n",
    "    '05':'mai',\n",
    "    '06':'juin',\n",
    "    '07':'juillet',\n",
    "    '08':'août',\n",
    "    '09':'septembre',\n",
    "    '10':'octobre',\n",
    "    '11':'novembre',\n",
    "    '12':'décembre'\n",
    "}\n",
    "\n",
    "# yearmonth should be in '2020-01' format\n",
    "\n",
    "def yearmonth_to_fr(yearmonth) :\n",
    "    month = yearmonth[-2:]\n",
    "    year = yearmonth[:4]\n",
    "    \n",
    "    return months_fr_dict[month] + ' ' + year"
   ]
  },
  {
   "cell_type": "code",
   "execution_count": 9,
   "id": "wound-diesel",
   "metadata": {
    "execution": {
     "iopub.execute_input": "2021-05-09T00:12:29.398179Z",
     "iopub.status.busy": "2021-05-09T00:12:29.397528Z",
     "iopub.status.idle": "2021-05-09T00:12:29.443507Z",
     "shell.execute_reply": "2021-05-09T00:12:29.442999Z"
    },
    "papermill": {
     "duration": 0.075185,
     "end_time": "2021-05-09T00:12:29.443645",
     "exception": false,
     "start_time": "2021-05-09T00:12:29.368460",
     "status": "completed"
    },
    "tags": []
   },
   "outputs": [],
   "source": [
    "def make_chart(aide, kpi, maille, chart_type, x_col, y_col, x_label, y_label, others_y_val, title, legend_title=None, show=False, sort_by_y_col_inc=False, sort_by_y_col_dec=False, stack_order=None, dep=None, reg=None, text_col=None, stack_col=None, color_col='color') :\n",
    "    \n",
    "    data_path = './data/{}-{}-{}.csv'.format(aide, kpi, maille)\n",
    "    \n",
    "    if os.path.isfile(data_path) :\n",
    "    \n",
    "        #Loading data\n",
    "        if maille == 'regional' :\n",
    "            dtype={'reg':'str'}\n",
    "        elif maille == 'departemental' :\n",
    "            dtype={'dep':'str'}\n",
    "        else :\n",
    "            dtype={}\n",
    "        \n",
    "        df = pd.read_csv(data_path, dtype=dtype)\n",
    "\n",
    "        #Filtering if departemental or regional\n",
    "        if maille == 'departemental' :\n",
    "            df['dep'] = df['dep'].apply(str)\n",
    "            df = df[df['dep'] == dep]\n",
    "            if len(df) == 0 :\n",
    "                fig = None\n",
    "                print('No data to plot for {}-{}-{}-{}'.format(aide, kpi, maille, dep))\n",
    "        elif maille == 'regional' :\n",
    "            df['reg'] = df['reg'].apply(str)\n",
    "            df = df[df['reg'] == reg]\n",
    "            if len(df) == 0 :\n",
    "                fig = None\n",
    "                print('No data to plot for {}-{}-{}-{}'.format(aide, kpi, maille, reg))\n",
    "\n",
    "        if len(df) > 0 :\n",
    "\n",
    "            #Sorting by x_col and putting \"Others\" (others_y_val) in the end\n",
    "            if sort_by_y_col_inc == True :\n",
    "                df_plot = pd.concat([df[df[y_col] != others_y_val].sort_values(by=y_col, ascending=True), df[df[y_col] == others_y_val]]).reset_index(drop=True)\n",
    "            elif sort_by_y_col_dec == True :\n",
    "                df_plot = pd.concat([df[df[y_col] != others_y_val].sort_values(by=y_col, ascending=False), df[df[y_col] == others_y_val]]).reset_index(drop=True)\n",
    "            else : #sort by decreasing x_col value by default\n",
    "                df_plot = pd.concat([df[df[y_col] != others_y_val].sort_values(by=x_col, ascending=False), df[df[y_col] == others_y_val]]).reset_index(drop=True)    \n",
    "            \n",
    "            if stack_order is not None :\n",
    "                df_stack_list = []\n",
    "                for stack_val in stack_order :\n",
    "                    df_stack = df_plot[df_plot[stack_col] == stack_val]\n",
    "                    df_stack_list += [df_stack]\n",
    "                \n",
    "                df_plot = pd.concat(df_stack_list).reset_index(drop=True)\n",
    "            \n",
    "            #Parameters for plotting\n",
    "            if text_col is not None :\n",
    "                text = text_col\n",
    "            else :\n",
    "                text = x_col + '_fr'\n",
    "\n",
    "            if chart_type == 'hbar' :\n",
    "\n",
    "                df_plot[y_col] = df_plot[y_col].apply(lambda x : x+'   ')\n",
    "                color_discrete_map = {key:value for (key,value) in zip(df_plot[y_col], df_plot[color_col])}\n",
    "\n",
    "                fig = px.bar(df_plot, x=x_col, y=y_col,\n",
    "                         labels={y_col:y_label,x_col:x_label}, \n",
    "                         height=550,\n",
    "                         width=800,\n",
    "                         color=y_col,\n",
    "                         color_discrete_map = color_discrete_map,\n",
    "                         orientation='h',\n",
    "                         text=text,\n",
    "                         title=title)\n",
    "                fig.update_layout(showlegend=False)\n",
    "                fig.layout['xaxis'].tickfont = dict(color = 'rgba(0,0,0,0)')\n",
    "                fig.layout['xaxis'].showgrid = False\n",
    "                fig.for_each_trace(lambda t: t.update(textfont_color='white', insidetextanchor='middle', textposition='inside'))\n",
    "\n",
    "            elif chart_type == 'sthbar' :\n",
    "\n",
    "                color_discrete_map = {key:value for (key,value) in zip(df_plot[stack_col], df_plot[color_col])}\n",
    "\n",
    "                fig = px.bar(df_plot, x=x_col, y=y_col,\n",
    "                         labels={y_col:y_label,x_col:x_label, stack_col:legend_title}, \n",
    "                         height=550,\n",
    "                         width=800,\n",
    "                         color=stack_col,\n",
    "                         color_discrete_map = color_discrete_map,\n",
    "                         orientation='h',\n",
    "                         title=title)\n",
    "                \n",
    "                fig.update_yaxes(type='category', categoryorder='category descending')\n",
    "                fig.layout['yaxis'].tickmode = 'array'\n",
    "                fig.layout['yaxis'].tickvals = sorted(list(set(df_plot['mois'])), reverse=True)\n",
    "                fig.layout['yaxis'].ticktext = [yearmonth_to_fr(yearmonth) + '   ' for yearmonth in sorted(list(set(df_plot['mois'])), reverse=True)]\n",
    "\n",
    "            elif chart_type == 'dpie' :\n",
    "\n",
    "                color_discrete_map = {key:value for (key,value) in zip(df_plot[y_col], df_plot[color_col])}\n",
    "\n",
    "                fig = px.pie(df_plot, values=x_col, names=y_col,\n",
    "                     labels={y_col:y_label,x_col:x_label}, \n",
    "                     height=400,\n",
    "                     width=600,\n",
    "                     hole=0.5,\n",
    "                     color=y_col,\n",
    "                     color_discrete_map = color_discrete_map,\n",
    "                     title=title)\n",
    "\n",
    "                fig.for_each_trace(lambda t: t.update(textfont_color='white', textposition='inside'))\n",
    "\n",
    "            #Center the main title\n",
    "            fig.update_layout(title={'x':0.5, 'xanchor': 'center'})\n",
    "\n",
    "            if show == True :\n",
    "                fig.show()\n",
    "    \n",
    "    else :\n",
    "        fig = None\n",
    "        print('File not found: {}'.format(data_path))\n",
    "    \n",
    "    return fig"
   ]
  },
  {
   "cell_type": "markdown",
   "id": "brown-locator",
   "metadata": {
    "papermill": {
     "duration": 0.027519,
     "end_time": "2021-05-09T00:12:29.498397",
     "exception": false,
     "start_time": "2021-05-09T00:12:29.470878",
     "status": "completed"
    },
    "tags": []
   },
   "source": [
    "## Parameters"
   ]
  },
  {
   "cell_type": "code",
   "execution_count": 10,
   "id": "violent-debate",
   "metadata": {
    "execution": {
     "iopub.execute_input": "2021-05-09T00:12:29.556126Z",
     "iopub.status.busy": "2021-05-09T00:12:29.555445Z",
     "iopub.status.idle": "2021-05-09T00:12:29.558146Z",
     "shell.execute_reply": "2021-05-09T00:12:29.557639Z"
    },
    "papermill": {
     "duration": 0.033365,
     "end_time": "2021-05-09T00:12:29.558263",
     "exception": false,
     "start_time": "2021-05-09T00:12:29.524898",
     "status": "completed"
    },
    "tags": []
   },
   "outputs": [],
   "source": [
    "data_dir_path = './data/'\n",
    "img_dir_path = './img/'\n",
    "reports_dir_path = './reports/'"
   ]
  },
  {
   "cell_type": "code",
   "execution_count": 11,
   "id": "cosmetic-roads",
   "metadata": {
    "execution": {
     "iopub.execute_input": "2021-05-09T00:12:29.616571Z",
     "iopub.status.busy": "2021-05-09T00:12:29.616005Z",
     "iopub.status.idle": "2021-05-09T00:12:29.618421Z",
     "shell.execute_reply": "2021-05-09T00:12:29.617921Z"
    },
    "papermill": {
     "duration": 0.032119,
     "end_time": "2021-05-09T00:12:29.618530",
     "exception": false,
     "start_time": "2021-05-09T00:12:29.586411",
     "status": "completed"
    },
    "tags": []
   },
   "outputs": [],
   "source": [
    "#Taxonomies\n",
    "\n",
    "taxo_nafsec_url = 'https://raw.githubusercontent.com/etalab/dashboard-aides-entreprises/master/backend/json/taxonomies/sections-naf-minify.json'\n",
    "taxo_jurcat_url = 'https://raw.githubusercontent.com/etalab/dashboard-aides-entreprises/master/backend/json/taxonomies/categories-juridiques-minify.json'\n",
    "taxo_effcla_url = 'https://raw.githubusercontent.com/etalab/dashboard-aides-entreprises/master/backend/json/taxonomies/classes-effectifs-minify.json'\n",
    "taxo_nace17_url = 'https://raw.githubusercontent.com/etalab/dashboard-aides-entreprises/master/backend/json/taxonomies/sections-nace17-minify.json'\n",
    "\n",
    "taxo_dep_url = 'https://raw.githubusercontent.com/etalab/dashboard-aides-entreprises/master/backend/json/taxonomies/departements-minify.json'\n",
    "taxo_reg_url = 'https://raw.githubusercontent.com/etalab/dashboard-aides-entreprises/master/backend/json/taxonomies/regions-minify.json'"
   ]
  },
  {
   "cell_type": "code",
   "execution_count": 12,
   "id": "accepted-thumb",
   "metadata": {
    "execution": {
     "iopub.execute_input": "2021-05-09T00:12:29.673934Z",
     "iopub.status.busy": "2021-05-09T00:12:29.673349Z",
     "iopub.status.idle": "2021-05-09T00:12:29.675625Z",
     "shell.execute_reply": "2021-05-09T00:12:29.675127Z"
    },
    "papermill": {
     "duration": 0.03194,
     "end_time": "2021-05-09T00:12:29.675745",
     "exception": false,
     "start_time": "2021-05-09T00:12:29.643805",
     "status": "completed"
    },
    "tags": []
   },
   "outputs": [],
   "source": [
    "mailles_list = ['national', 'regional', 'departemental']"
   ]
  },
  {
   "cell_type": "code",
   "execution_count": 13,
   "id": "spread-charge",
   "metadata": {
    "execution": {
     "iopub.execute_input": "2021-05-09T00:12:29.735286Z",
     "iopub.status.busy": "2021-05-09T00:12:29.734700Z",
     "iopub.status.idle": "2021-05-09T00:12:29.737205Z",
     "shell.execute_reply": "2021-05-09T00:12:29.736612Z"
    },
    "papermill": {
     "duration": 0.034073,
     "end_time": "2021-05-09T00:12:29.737321",
     "exception": false,
     "start_time": "2021-05-09T00:12:29.703248",
     "status": "completed"
    },
    "tags": []
   },
   "outputs": [],
   "source": [
    "#DATA PROCESSING: KPIs to process\n",
    "aides_charts_kpi_dict = {\n",
    "    'aides': ['kpi_top_10_naf', 'kpi_categorie_juridique', 'kpi_classe_effectif'],\n",
    "    'pge':['kpi_top_10_naf'],\n",
    "    'report':['kpi_top_10_naf'],\n",
    "    'cpsti':['kpi_top_10_naf'],\n",
    "    'activite-partielle':['nace17']\n",
    "}\n",
    "\n",
    "#TODO: macro KPIs\n",
    "aides_macro_kpi_dict = {\n",
    "    'aides': ['montant', 'nombre', 'nombre_siren'],\n",
    "    'pge':['montant', 'nombre'],\n",
    "    'report':['montant', 'nombre'],\n",
    "    'cpsti':['montant', 'nombre'],\n",
    "    'activite-partielle':['nombre_salaries_concernes', 'nombre_etablissements_concernes', 'nombre_heures_demandees']\n",
    "}"
   ]
  },
  {
   "cell_type": "code",
   "execution_count": 14,
   "id": "neither-overall",
   "metadata": {
    "execution": {
     "iopub.execute_input": "2021-05-09T00:12:29.800097Z",
     "iopub.status.busy": "2021-05-09T00:12:29.799486Z",
     "iopub.status.idle": "2021-05-09T00:12:29.801860Z",
     "shell.execute_reply": "2021-05-09T00:12:29.801341Z"
    },
    "papermill": {
     "duration": 0.037954,
     "end_time": "2021-05-09T00:12:29.802059",
     "exception": false,
     "start_time": "2021-05-09T00:12:29.764105",
     "status": "completed"
    },
    "tags": []
   },
   "outputs": [],
   "source": [
    "#PLOTTING: parameters for graphs\n",
    "#As of now, we consider these graphs are the same for national, regional and departemental\n",
    "\n",
    "graph_params_list = [\n",
    "    \n",
    "    #Fonds de solidarité\n",
    "    dict(aide='aides',\n",
    "         kpi='kpi_top_10_naf',\n",
    "         x_col='montant',\n",
    "         y_col='libelle_section_naf',\n",
    "         x_label='',\n",
    "         y_label='Section NAF',\n",
    "         others_y_val='Autres sections NAF',\n",
    "         title='Top 10 des aides du fonds de solidarité<br />ventilées par code section NAF (en M€)',\n",
    "         chart_type='hbar'\n",
    "        ),\n",
    "    dict(aide='aides',\n",
    "         kpi='kpi_categorie_juridique',\n",
    "         maille='national',\n",
    "         x_col='montant',\n",
    "         y_col='libelle_cat_juridique',\n",
    "         x_label='',\n",
    "         y_label=\"Catégorie juridique\",\n",
    "         others_y_val=\"Autres Catégories Juridiques\",\n",
    "         title='Top 3 des aides du fonds de solidarité<br />ventilées par catégories juridiques (en M€)',\n",
    "         chart_type='dpie'\n",
    "        ),\n",
    "    dict(aide='aides',\n",
    "         kpi='kpi_classe_effectif',\n",
    "         x_col='montant',\n",
    "         y_col='libelle_classe_effectif',\n",
    "         x_label='',\n",
    "         y_label=\"Classe d'effectif\",\n",
    "         sort_by_y_col_dec=True,\n",
    "         others_y_val=\"Autres Classes d'Effectifs\",\n",
    "         title=\"Aides du fonds de solidarité<br />ventilées par classes d'effectifs (en M€)\",\n",
    "         chart_type='hbar'\n",
    "        ),\n",
    "    \n",
    "    #Prêts garantis par l'Etat\n",
    "    dict(aide='pge',\n",
    "         kpi='kpi_top_10_naf',\n",
    "         maille='national',\n",
    "         x_col='montant',\n",
    "         y_col='libelle_section_naf',\n",
    "         x_label='',\n",
    "         y_label='Section NAF',\n",
    "         others_y_val='Autres sections NAF',\n",
    "         title=\"Top 10 des prêts garantis par l'Etat<br />ventilés par code section NAF (en M€)\",\n",
    "         chart_type='hbar'\n",
    "        ),\n",
    "    \n",
    "    #Reports d'échéances fiscales\n",
    "    dict(aide='report',\n",
    "         kpi='kpi_top_10_naf',\n",
    "         x_col='montant',\n",
    "         y_col='libelle_section_naf',\n",
    "         x_label='',\n",
    "         y_label='Section NAF',\n",
    "         others_y_val='Autres sections NAF',\n",
    "         title=\"Top 10 des reports d'échéances fiscales<br />ventilés par code section NAF (en M€)\",\n",
    "         chart_type='hbar'\n",
    "        ),\n",
    "    \n",
    "    #Aides artisans/commerçants\n",
    "    dict(aide='cpsti',\n",
    "         kpi='kpi_top_10_naf',\n",
    "         x_col='montant',\n",
    "         y_col='libelle_section_naf',\n",
    "         x_label='',\n",
    "         y_label='Section NAF',\n",
    "         others_y_val='Autres sections NAF',\n",
    "         title=\"Top 10 des aides CPSTI<br />ventilés par code section NAF (en M€)\",\n",
    "         chart_type='hbar'\n",
    "        ),\n",
    "    \n",
    "    #Activité partielle\n",
    "    dict(aide='activite-partielle',\n",
    "         kpi='nace17',\n",
    "         x_col='nombre_salaries_concernes',\n",
    "         y_col='mois',\n",
    "         stack_col='libelle',\n",
    "         x_label='',\n",
    "         y_label='Mois',\n",
    "         sort_by_y_col_inc=True,\n",
    "         others_y_val='Autres sections NACE 17',\n",
    "         stack_order=['Commerce', \"Act. scientif. et tech. ; services admin. et de soutien\", 'Hébergement et restauration', 'Construction', \"Fabrication d'autres produits indus.\", 'Autres sections NACE 17'],\n",
    "         title=\"Nombre de salariés concernés par l'activité partielle<br />ventilés par code section NACE 17\",\n",
    "         legend_title=' ',\n",
    "         chart_type='sthbar'\n",
    "        ),\n",
    "]"
   ]
  },
  {
   "cell_type": "markdown",
   "id": "approximate-property",
   "metadata": {
    "papermill": {
     "duration": 0.026236,
     "end_time": "2021-05-09T00:12:29.855741",
     "exception": false,
     "start_time": "2021-05-09T00:12:29.829505",
     "status": "completed"
    },
    "tags": []
   },
   "source": [
    "## Loading taxonomies data"
   ]
  },
  {
   "cell_type": "code",
   "execution_count": 15,
   "id": "retained-buffalo",
   "metadata": {
    "execution": {
     "iopub.execute_input": "2021-05-09T00:12:29.914588Z",
     "iopub.status.busy": "2021-05-09T00:12:29.914031Z",
     "iopub.status.idle": "2021-05-09T00:12:30.925751Z",
     "shell.execute_reply": "2021-05-09T00:12:30.924760Z"
    },
    "papermill": {
     "duration": 1.043694,
     "end_time": "2021-05-09T00:12:30.925905",
     "exception": false,
     "start_time": "2021-05-09T00:12:29.882211",
     "status": "completed"
    },
    "tags": []
   },
   "outputs": [],
   "source": [
    "taxo_nafsec_df = pd.DataFrame(import_json_to_dict(taxo_nafsec_url))\n",
    "taxo_jurcat_df = pd.DataFrame(import_json_to_dict(taxo_jurcat_url))\n",
    "taxo_effcla_df = pd.DataFrame(import_json_to_dict(taxo_effcla_url))\n",
    "taxo_nace17_df = pd.DataFrame(import_json_to_dict(taxo_nace17_url))\n",
    "\n",
    "taxo_dep_df = pd.DataFrame(import_json_to_dict(taxo_dep_url))\n",
    "taxo_reg_df = pd.DataFrame(import_json_to_dict(taxo_reg_url))"
   ]
  },
  {
   "cell_type": "markdown",
   "id": "developmental-palmer",
   "metadata": {
    "papermill": {
     "duration": 0.025779,
     "end_time": "2021-05-09T00:12:30.979119",
     "exception": false,
     "start_time": "2021-05-09T00:12:30.953340",
     "status": "completed"
    },
    "tags": []
   },
   "source": [
    "## Data pre-processing"
   ]
  },
  {
   "cell_type": "code",
   "execution_count": 16,
   "id": "joint-aquatic",
   "metadata": {
    "execution": {
     "iopub.execute_input": "2021-05-09T00:12:31.044950Z",
     "iopub.status.busy": "2021-05-09T00:12:31.035957Z",
     "iopub.status.idle": "2021-05-09T00:12:35.294603Z",
     "shell.execute_reply": "2021-05-09T00:12:35.295420Z"
    },
    "papermill": {
     "duration": 4.29115,
     "end_time": "2021-05-09T00:12:35.295700",
     "exception": false,
     "start_time": "2021-05-09T00:12:31.004550",
     "status": "completed"
    },
    "tags": []
   },
   "outputs": [
    {
     "name": "stdout",
     "output_type": "stream",
     "text": [
      "Empty data for activite-partielle-departemental\n",
      "CPU times: user 1.77 s, sys: 11.8 ms, total: 1.78 s\n",
      "Wall time: 4.24 s\n"
     ]
    }
   ],
   "source": [
    "%%time\n",
    "#Charts data processing (one CSV file per aide type, KPI and maille)\n",
    "\n",
    "mkdir_ifnotexist(data_dir_path)\n",
    "\n",
    "for aide in aides_charts_kpi_dict.keys() :\n",
    "    for maille in mailles_list :\n",
    "        \n",
    "        #Condition to drop when activite-partielle data is back to \"normal\" folder\n",
    "        if aide != 'activite-partielle' : \n",
    "            url = \"https://raw.githubusercontent.com/etalab/dashboard-aides-entreprises/master/backend/json/{}/{}-maille-{}-minify.json\".format(aide, aide, maille)\n",
    "        else :\n",
    "            url = \"https://raw.githubusercontent.com/etalab/dashboard-aides-entreprises/master/backend/json/{}3/{}-3-maille-{}-minify.json\".format(aide, aide, maille)\n",
    "            \n",
    "        data = import_json_to_dict(url)\n",
    "        \n",
    "        if len(data) > 0 :\n",
    "    \n",
    "            for kpi in aides_charts_kpi_dict[aide] :\n",
    "\n",
    "                df_list = []\n",
    "\n",
    "                if maille == 'departemental' :\n",
    "                    for item in data :\n",
    "                        df_dep = pd.DataFrame(item[kpi])\n",
    "                        df_dep['dep'] = item['dep']\n",
    "                        df_list += [df_dep]\n",
    "\n",
    "                elif maille == 'regional' :\n",
    "                    for item in data :\n",
    "                        df_reg = pd.DataFrame(item[kpi])\n",
    "                        df_reg['reg'] = item['reg']\n",
    "                        df_list += [df_reg]\n",
    "\n",
    "                else :\n",
    "                    df_list = [pd.DataFrame(data[0][kpi])]\n",
    "\n",
    "                #Concatenating data in a single dataframe\n",
    "                df = pd.concat(df_list).reset_index(drop=True)\n",
    "\n",
    "                #Adding color information for plotting\n",
    "                if kpi == 'kpi_top_10_naf' :\n",
    "                    df = df.merge(taxo_nafsec_df[['code_section', 'color_section']].rename(columns={'code_section':'section_naf'}), on='section_naf', how='left')\n",
    "                    df.drop('section_naf', 1, inplace=True)\n",
    "                    df.rename(columns={'color_section':'color'}, inplace=True)\n",
    "\n",
    "                elif kpi == 'kpi_categorie_juridique' :\n",
    "                    df = df.merge(taxo_jurcat_df[['code', 'color']].rename(columns={'code':'code_cat_juridique'}), on='code_cat_juridique', how='left')\n",
    "                    df.drop('code_cat_juridique', 1, inplace=True)\n",
    "\n",
    "                elif kpi == 'kpi_classe_effectif' :\n",
    "                    df = df.merge(taxo_effcla_df[['denomination', 'color']].rename(columns={'denomination':'classe_effectif'}), on='classe_effectif', how='left')\n",
    "                    df.drop('classe_effectif', 1, inplace=True)\n",
    "\n",
    "                elif kpi == 'nace17' : #Only activite-partielle as of now\n",
    "                    df = df.merge(taxo_nace17_df[['code_section_nace17', 'color_section']], on='code_section_nace17', how='left')\n",
    "                    df.drop('code_section_nace17', 1, inplace=True)\n",
    "                    df.rename(columns={'color_section':'color'}, inplace=True)\n",
    "                    \n",
    "                    row_df_list = []\n",
    "\n",
    "                    for row in df.iterrows() :\n",
    "\n",
    "                        row_df = pd.DataFrame(eval(str(row[1]['data'])))\n",
    "\n",
    "                        row_df['libelle'] = row[1]['libelle']\n",
    "                        if 'reg' in df.columns:\n",
    "                            row_df['reg'] = row[1]['reg']\n",
    "                            row_df['reg'] = row_df['reg'].apply(lambda x : str(x).zfill(2))\n",
    "                        if 'dep' in df.columns:\n",
    "                            row_df['dep'] = row[1]['dep']\n",
    "                            row_df['dep'] = row_df['dep'].apply(lambda x : str(x).zfill(2))\n",
    "                        row_df['color'] = row[1]['color']\n",
    "\n",
    "                        row_df_list += [row_df]\n",
    "\n",
    "                    df = pd.concat(row_df_list).reset_index(drop=True)\n",
    "                    \n",
    "                    for col in ['nombre_demandes_deposees', 'nombre_heures_demandees', 'nombre_salaries_concernes'] :\n",
    "                        df[col] = df[col].apply(format_str_to_int)\n",
    "\n",
    "                else :\n",
    "                    print('Unknown KPI, could not assign colors.')\n",
    "\n",
    "                df['color'].fillna('#AAAAAA', inplace=True)\n",
    "\n",
    "                #Creating labels for plotting (depending on existing columns)\n",
    "\n",
    "                if 'montant' in df.columns :\n",
    "                    df['montant_fr'] = df['montant'].apply(lambda x: format_number_to_million_str(x) + \" M€\")\n",
    "\n",
    "                if 'nombre' in df.columns :\n",
    "                    df['nombre_fr'] = df['nombre'].apply(lambda x: format_number_to_str(x) + \" aides\")\n",
    "\n",
    "                if 'nombre_siren' in df.columns :\n",
    "                    df['nombre_siren_fr'] = df['nombre_siren'].apply(lambda x: format_number_to_str(x) + \" entreprises\")\n",
    "\n",
    "                if 'nombre_demandes_deposees' in df.columns :\n",
    "                    df['nombre_demandes_deposees_fr'] = df['nombre_demandes_deposees'].apply(lambda x: format_number_to_str(x) + \" demandes\")\n",
    "\n",
    "                if 'nombre_etablissements_concernes' in df.columns :\n",
    "                    df['nombre_etablissements_concernes_fr'] = df['nombre_etablissements_concernes'].apply(lambda x: format_number_to_str(x) + \" entreprises\")\n",
    "\n",
    "                if 'nombre_heures_demandees' in df.columns :\n",
    "                    df['nombre_heures_demandees_fr'] = df['nombre_heures_demandees'].apply(lambda x: format_number_to_str(x) + \" heures\")\n",
    "\n",
    "                if 'nombre_salaries_concernes' in df.columns :\n",
    "                    df['nombre_salaries_concernes_fr'] = df['nombre_salaries_concernes'].apply(lambda x: format_number_to_str(x) + \" salariés\")\n",
    "                    \n",
    "                #NAF: shorten NAF section that is too long and dropping '0' values (does not make sense with \"top 10\")\n",
    "                if kpi == 'kpi_top_10_naf' :\n",
    "                    df['libelle_section_naf'] = df['libelle_section_naf'].apply(shorten_long_naf_libelle)\n",
    "                    df = df[df['montant'].apply(float) > 0]\n",
    "\n",
    "                df.to_csv(os.path.join(data_dir_path, '{}-{}-{}.csv'.format(aide, kpi, maille)), index=False)\n",
    "                \n",
    "        else :\n",
    "            print('Empty data for {}-{}'.format(aide,maille))"
   ]
  },
  {
   "cell_type": "markdown",
   "id": "treated-order",
   "metadata": {
    "papermill": {
     "duration": 0.026663,
     "end_time": "2021-05-09T00:12:35.349085",
     "exception": false,
     "start_time": "2021-05-09T00:12:35.322422",
     "status": "completed"
    },
    "tags": []
   },
   "source": [
    "## Making the graphs"
   ]
  },
  {
   "cell_type": "code",
   "execution_count": 17,
   "id": "located-allocation",
   "metadata": {
    "execution": {
     "iopub.execute_input": "2021-05-09T00:12:35.415375Z",
     "iopub.status.busy": "2021-05-09T00:12:35.414633Z",
     "iopub.status.idle": "2021-05-09T00:12:35.498305Z",
     "shell.execute_reply": "2021-05-09T00:12:35.498811Z"
    },
    "papermill": {
     "duration": 0.122028,
     "end_time": "2021-05-09T00:12:35.498989",
     "exception": false,
     "start_time": "2021-05-09T00:12:35.376961",
     "status": "completed"
    },
    "tags": []
   },
   "outputs": [
    {
     "name": "stdout",
     "output_type": "stream",
     "text": [
      "101 departements.\n"
     ]
    },
    {
     "name": "stdout",
     "output_type": "stream",
     "text": [
      "18 regions.\n"
     ]
    }
   ],
   "source": [
    "#Get departements and regions lists\n",
    "\n",
    "taxo_dep_df = pd.DataFrame(import_json_to_dict(taxo_dep_url))\n",
    "dep_list = list(taxo_dep_df['dep'])\n",
    "print('{} departements.'.format(len(dep_list)))\n",
    "\n",
    "taxo_reg_df = pd.DataFrame(import_json_to_dict(taxo_reg_url))\n",
    "reg_list = list(taxo_reg_df['reg'])\n",
    "print('{} regions.'.format(len(reg_list)))"
   ]
  },
  {
   "cell_type": "code",
   "execution_count": 18,
   "id": "unlikely-lewis",
   "metadata": {
    "execution": {
     "iopub.execute_input": "2021-05-09T00:12:35.558947Z",
     "iopub.status.busy": "2021-05-09T00:12:35.558365Z",
     "iopub.status.idle": "2021-05-09T00:12:35.563971Z",
     "shell.execute_reply": "2021-05-09T00:12:35.564505Z"
    },
    "papermill": {
     "duration": 0.0376,
     "end_time": "2021-05-09T00:12:35.564637",
     "exception": false,
     "start_time": "2021-05-09T00:12:35.527037",
     "status": "completed"
    },
    "tags": []
   },
   "outputs": [],
   "source": [
    "#Building the folders structures\n",
    "mkdir_ifnotexist(img_dir_path)\n",
    "mkdir_ifnotexist(os.path.join(img_dir_path, 'national'))\n",
    "\n",
    "#Regions subfolders\n",
    "mkdir_ifnotexist(os.path.join(img_dir_path, 'regional'))\n",
    "for reg in reg_list :\n",
    "    mkdir_ifnotexist(os.path.join(img_dir_path, 'regional', reg))\n",
    "    \n",
    "#Departements subfolders\n",
    "mkdir_ifnotexist(os.path.join(img_dir_path, 'departemental'))\n",
    "for dep in dep_list :\n",
    "    mkdir_ifnotexist(os.path.join(img_dir_path, 'departemental', dep))"
   ]
  },
  {
   "cell_type": "code",
   "execution_count": 19,
   "id": "lovely-simulation",
   "metadata": {
    "execution": {
     "iopub.execute_input": "2021-05-09T00:12:35.621662Z",
     "iopub.status.busy": "2021-05-09T00:12:35.621112Z",
     "iopub.status.idle": "2021-05-09T00:14:48.194918Z",
     "shell.execute_reply": "2021-05-09T00:14:48.195369Z"
    },
    "papermill": {
     "duration": 132.604027,
     "end_time": "2021-05-09T00:14:48.195516",
     "exception": false,
     "start_time": "2021-05-09T00:12:35.591489",
     "status": "completed"
    },
    "tags": []
   },
   "outputs": [
    {
     "name": "stdout",
     "output_type": "stream",
     "text": [
      "national-aides-kpi_top_10_naf done.\n",
      "national-aides-kpi_categorie_juridique done.\n"
     ]
    },
    {
     "name": "stdout",
     "output_type": "stream",
     "text": [
      "national-aides-kpi_classe_effectif done.\n"
     ]
    },
    {
     "name": "stdout",
     "output_type": "stream",
     "text": [
      "national-pge-kpi_top_10_naf done.\n"
     ]
    },
    {
     "name": "stdout",
     "output_type": "stream",
     "text": [
      "national-report-kpi_top_10_naf done.\n",
      "national-cpsti-kpi_top_10_naf done.\n"
     ]
    },
    {
     "name": "stdout",
     "output_type": "stream",
     "text": [
      "national-activite-partielle-nace17 done.\n"
     ]
    },
    {
     "name": "stdout",
     "output_type": "stream",
     "text": [
      "regional-aides-kpi_top_10_naf done.\n"
     ]
    },
    {
     "name": "stdout",
     "output_type": "stream",
     "text": [
      "regional-aides-kpi_categorie_juridique done.\n"
     ]
    },
    {
     "name": "stdout",
     "output_type": "stream",
     "text": [
      "regional-aides-kpi_classe_effectif done.\n"
     ]
    },
    {
     "name": "stdout",
     "output_type": "stream",
     "text": [
      "regional-pge-kpi_top_10_naf done.\n"
     ]
    },
    {
     "name": "stdout",
     "output_type": "stream",
     "text": [
      "regional-report-kpi_top_10_naf done.\n"
     ]
    },
    {
     "name": "stdout",
     "output_type": "stream",
     "text": [
      "No data to plot for cpsti-kpi_top_10_naf-regional-06\n"
     ]
    },
    {
     "name": "stdout",
     "output_type": "stream",
     "text": [
      "regional-cpsti-kpi_top_10_naf done.\n"
     ]
    },
    {
     "name": "stdout",
     "output_type": "stream",
     "text": [
      "regional-activite-partielle-nace17 done.\n"
     ]
    },
    {
     "name": "stdout",
     "output_type": "stream",
     "text": [
      "departemental-aides-kpi_top_10_naf done.\n"
     ]
    },
    {
     "name": "stdout",
     "output_type": "stream",
     "text": [
      "departemental-aides-kpi_categorie_juridique done.\n"
     ]
    },
    {
     "name": "stdout",
     "output_type": "stream",
     "text": [
      "departemental-aides-kpi_classe_effectif done.\n"
     ]
    },
    {
     "name": "stdout",
     "output_type": "stream",
     "text": [
      "departemental-pge-kpi_top_10_naf done.\n"
     ]
    },
    {
     "name": "stdout",
     "output_type": "stream",
     "text": [
      "departemental-report-kpi_top_10_naf done.\n"
     ]
    },
    {
     "name": "stdout",
     "output_type": "stream",
     "text": [
      "No data to plot for cpsti-kpi_top_10_naf-departemental-976\n",
      "departemental-cpsti-kpi_top_10_naf done.\n",
      "File not found: ./data/activite-partielle-nace17-departemental.csv\n",
      "File not found: ./data/activite-partielle-nace17-departemental.csv\n",
      "File not found: ./data/activite-partielle-nace17-departemental.csv\n",
      "File not found: ./data/activite-partielle-nace17-departemental.csv\n",
      "File not found: ./data/activite-partielle-nace17-departemental.csv\n",
      "File not found: ./data/activite-partielle-nace17-departemental.csv\n",
      "File not found: ./data/activite-partielle-nace17-departemental.csv\n",
      "File not found: ./data/activite-partielle-nace17-departemental.csv\n",
      "File not found: ./data/activite-partielle-nace17-departemental.csv\n",
      "File not found: ./data/activite-partielle-nace17-departemental.csv\n",
      "File not found: ./data/activite-partielle-nace17-departemental.csv\n",
      "File not found: ./data/activite-partielle-nace17-departemental.csv\n",
      "File not found: ./data/activite-partielle-nace17-departemental.csv\n",
      "File not found: ./data/activite-partielle-nace17-departemental.csv\n",
      "File not found: ./data/activite-partielle-nace17-departemental.csv\n",
      "File not found: ./data/activite-partielle-nace17-departemental.csv\n",
      "File not found: ./data/activite-partielle-nace17-departemental.csv\n",
      "File not found: ./data/activite-partielle-nace17-departemental.csv\n",
      "File not found: ./data/activite-partielle-nace17-departemental.csv\n",
      "File not found: ./data/activite-partielle-nace17-departemental.csv\n",
      "File not found: ./data/activite-partielle-nace17-departemental.csv\n",
      "File not found: ./data/activite-partielle-nace17-departemental.csv\n",
      "File not found: ./data/activite-partielle-nace17-departemental.csv\n",
      "File not found: ./data/activite-partielle-nace17-departemental.csv\n",
      "File not found: ./data/activite-partielle-nace17-departemental.csv\n",
      "File not found: ./data/activite-partielle-nace17-departemental.csv\n",
      "File not found: ./data/activite-partielle-nace17-departemental.csv\n",
      "File not found: ./data/activite-partielle-nace17-departemental.csv\n",
      "File not found: ./data/activite-partielle-nace17-departemental.csv\n",
      "File not found: ./data/activite-partielle-nace17-departemental.csv\n",
      "File not found: ./data/activite-partielle-nace17-departemental.csv\n",
      "File not found: ./data/activite-partielle-nace17-departemental.csv\n",
      "File not found: ./data/activite-partielle-nace17-departemental.csv\n",
      "File not found: ./data/activite-partielle-nace17-departemental.csv\n",
      "File not found: ./data/activite-partielle-nace17-departemental.csv\n",
      "File not found: ./data/activite-partielle-nace17-departemental.csv\n",
      "File not found: ./data/activite-partielle-nace17-departemental.csv\n",
      "File not found: ./data/activite-partielle-nace17-departemental.csv\n",
      "File not found: ./data/activite-partielle-nace17-departemental.csv\n",
      "File not found: ./data/activite-partielle-nace17-departemental.csv\n",
      "File not found: ./data/activite-partielle-nace17-departemental.csv\n",
      "File not found: ./data/activite-partielle-nace17-departemental.csv\n",
      "File not found: ./data/activite-partielle-nace17-departemental.csv\n",
      "File not found: ./data/activite-partielle-nace17-departemental.csv\n",
      "File not found: ./data/activite-partielle-nace17-departemental.csv\n",
      "File not found: ./data/activite-partielle-nace17-departemental.csv\n",
      "File not found: ./data/activite-partielle-nace17-departemental.csv\n",
      "File not found: ./data/activite-partielle-nace17-departemental.csv\n",
      "File not found: ./data/activite-partielle-nace17-departemental.csv\n",
      "File not found: ./data/activite-partielle-nace17-departemental.csv\n",
      "File not found: ./data/activite-partielle-nace17-departemental.csv\n",
      "File not found: ./data/activite-partielle-nace17-departemental.csv\n",
      "File not found: ./data/activite-partielle-nace17-departemental.csv\n",
      "File not found: ./data/activite-partielle-nace17-departemental.csv\n",
      "File not found: ./data/activite-partielle-nace17-departemental.csv\n",
      "File not found: ./data/activite-partielle-nace17-departemental.csv\n",
      "File not found: ./data/activite-partielle-nace17-departemental.csv\n",
      "File not found: ./data/activite-partielle-nace17-departemental.csv\n",
      "File not found: ./data/activite-partielle-nace17-departemental.csv\n",
      "File not found: ./data/activite-partielle-nace17-departemental.csv\n",
      "File not found: ./data/activite-partielle-nace17-departemental.csv\n",
      "File not found: ./data/activite-partielle-nace17-departemental.csv\n",
      "File not found: ./data/activite-partielle-nace17-departemental.csv\n",
      "File not found: ./data/activite-partielle-nace17-departemental.csv\n",
      "File not found: ./data/activite-partielle-nace17-departemental.csv\n",
      "File not found: ./data/activite-partielle-nace17-departemental.csv\n",
      "File not found: ./data/activite-partielle-nace17-departemental.csv\n",
      "File not found: ./data/activite-partielle-nace17-departemental.csv\n",
      "File not found: ./data/activite-partielle-nace17-departemental.csv\n",
      "File not found: ./data/activite-partielle-nace17-departemental.csv\n",
      "File not found: ./data/activite-partielle-nace17-departemental.csv\n",
      "File not found: ./data/activite-partielle-nace17-departemental.csv\n",
      "File not found: ./data/activite-partielle-nace17-departemental.csv\n",
      "File not found: ./data/activite-partielle-nace17-departemental.csv\n",
      "File not found: ./data/activite-partielle-nace17-departemental.csv\n",
      "File not found: ./data/activite-partielle-nace17-departemental.csv\n",
      "File not found: ./data/activite-partielle-nace17-departemental.csv\n",
      "File not found: ./data/activite-partielle-nace17-departemental.csv\n",
      "File not found: ./data/activite-partielle-nace17-departemental.csv\n",
      "File not found: ./data/activite-partielle-nace17-departemental.csv\n",
      "File not found: ./data/activite-partielle-nace17-departemental.csv\n",
      "File not found: ./data/activite-partielle-nace17-departemental.csv\n",
      "File not found: ./data/activite-partielle-nace17-departemental.csv\n",
      "File not found: ./data/activite-partielle-nace17-departemental.csv\n",
      "File not found: ./data/activite-partielle-nace17-departemental.csv\n",
      "File not found: ./data/activite-partielle-nace17-departemental.csv\n",
      "File not found: ./data/activite-partielle-nace17-departemental.csv\n",
      "File not found: ./data/activite-partielle-nace17-departemental.csv\n",
      "File not found: ./data/activite-partielle-nace17-departemental.csv\n",
      "File not found: ./data/activite-partielle-nace17-departemental.csv\n",
      "File not found: ./data/activite-partielle-nace17-departemental.csv\n",
      "File not found: ./data/activite-partielle-nace17-departemental.csv\n",
      "File not found: ./data/activite-partielle-nace17-departemental.csv\n",
      "File not found: ./data/activite-partielle-nace17-departemental.csv\n",
      "File not found: ./data/activite-partielle-nace17-departemental.csv\n",
      "File not found: ./data/activite-partielle-nace17-departemental.csv\n",
      "File not found: ./data/activite-partielle-nace17-departemental.csv\n",
      "File not found: ./data/activite-partielle-nace17-departemental.csv\n",
      "File not found: ./data/activite-partielle-nace17-departemental.csv\n",
      "File not found: ./data/activite-partielle-nace17-departemental.csv\n",
      "File not found: ./data/activite-partielle-nace17-departemental.csv\n",
      "departemental-activite-partielle-nace17 done.\n",
      "CPU times: user 1min 14s, sys: 708 ms, total: 1min 15s\n",
      "Wall time: 2min 12s\n"
     ]
    }
   ],
   "source": [
    "%%time\n",
    "#Generating all graphs and saving them in appropriate folders\n",
    "for maille in mailles_list :\n",
    "    for param in graph_params_list :\n",
    "        graph_param = param.copy()\n",
    "        graph_param['maille'] = maille\n",
    "        \n",
    "        if maille == 'national' :\n",
    "            img_path = os.path.join(img_dir_path, maille, '{}-{}-{}-{}-{}.png'.format(param['aide'],\n",
    "                                                                                      param['kpi'],\n",
    "                                                                                      param['x_col'],\n",
    "                                                                                      maille,\n",
    "                                                                                      param['chart_type']))\n",
    "\n",
    "            fig = make_chart(**graph_param)\n",
    "            \n",
    "            if fig is not None :\n",
    "                fig.write_image(img_path)\n",
    "            \n",
    "        elif maille == 'regional' :\n",
    "            for reg in reg_list :\n",
    "                graph_param['reg'] = reg\n",
    "                img_path = os.path.join(img_dir_path, maille, reg, '{}-{}-{}-{}-{}.png'.format(param['aide'],\n",
    "                                                                                               param['kpi'],\n",
    "                                                                                               param['x_col'],\n",
    "                                                                                               maille,\n",
    "                                                                                               reg,\n",
    "                                                                                               param['chart_type']))\n",
    "                fig = make_chart(**graph_param) \n",
    "                \n",
    "                if fig is not None :\n",
    "                    fig.write_image(img_path)\n",
    "                \n",
    "        elif maille == 'departemental' :\n",
    "            for dep in dep_list :\n",
    "                graph_param['dep'] = dep\n",
    "                img_path = os.path.join(img_dir_path, maille, dep, '{}-{}-{}-{}-{}.png'.format(param['aide'],\n",
    "                                                                                               param['kpi'],\n",
    "                                                                                               param['x_col'],\n",
    "                                                                                               maille,\n",
    "                                                                                               dep,\n",
    "                                                                                               param['chart_type']))\n",
    "                fig = make_chart(**graph_param) \n",
    "                \n",
    "                if fig is not None :\n",
    "                    fig.write_image(img_path)\n",
    "                    \n",
    "        print('{}-{}-{} done.'.format(maille, param['aide'], param['kpi']))"
   ]
  },
  {
   "cell_type": "markdown",
   "id": "acoustic-percentage",
   "metadata": {
    "papermill": {
     "duration": 0.032342,
     "end_time": "2021-05-09T00:14:48.260064",
     "exception": false,
     "start_time": "2021-05-09T00:14:48.227722",
     "status": "completed"
    },
    "tags": []
   },
   "source": [
    "## Building the reports"
   ]
  },
  {
   "cell_type": "code",
   "execution_count": 20,
   "id": "formed-klein",
   "metadata": {
    "execution": {
     "iopub.execute_input": "2021-05-09T00:14:48.333228Z",
     "iopub.status.busy": "2021-05-09T00:14:48.332647Z",
     "iopub.status.idle": "2021-05-09T00:14:48.336961Z",
     "shell.execute_reply": "2021-05-09T00:14:48.336420Z"
    },
    "papermill": {
     "duration": 0.042605,
     "end_time": "2021-05-09T00:14:48.337121",
     "exception": false,
     "start_time": "2021-05-09T00:14:48.294516",
     "status": "completed"
    },
    "tags": []
   },
   "outputs": [],
   "source": [
    "mkdir_ifnotexist(reports_dir_path)"
   ]
  },
  {
   "cell_type": "code",
   "execution_count": 21,
   "id": "flush-assets",
   "metadata": {
    "execution": {
     "iopub.execute_input": "2021-05-09T00:14:48.406900Z",
     "iopub.status.busy": "2021-05-09T00:14:48.406227Z",
     "iopub.status.idle": "2021-05-09T00:14:48.408497Z",
     "shell.execute_reply": "2021-05-09T00:14:48.407889Z"
    },
    "papermill": {
     "duration": 0.038904,
     "end_time": "2021-05-09T00:14:48.408617",
     "exception": false,
     "start_time": "2021-05-09T00:14:48.369713",
     "status": "completed"
    },
    "tags": []
   },
   "outputs": [],
   "source": [
    "global title_header\n",
    "title_header = ''\n",
    "global subtitle_header\n",
    "subtitle_header = ''"
   ]
  },
  {
   "cell_type": "code",
   "execution_count": 22,
   "id": "lined-booking",
   "metadata": {
    "execution": {
     "iopub.execute_input": "2021-05-09T00:14:48.484520Z",
     "iopub.status.busy": "2021-05-09T00:14:48.483977Z",
     "iopub.status.idle": "2021-05-09T00:14:48.488011Z",
     "shell.execute_reply": "2021-05-09T00:14:48.487538Z"
    },
    "papermill": {
     "duration": 0.045268,
     "end_time": "2021-05-09T00:14:48.488125",
     "exception": false,
     "start_time": "2021-05-09T00:14:48.442857",
     "status": "completed"
    },
    "tags": []
   },
   "outputs": [],
   "source": [
    "class PDF(FPDF):\n",
    "    def header(self):\n",
    "        if (self.page_no() != 1 ):\n",
    "            # Logo\n",
    "            self.image(os.path.join(img_dir_path, 'LogoRF.png'), 10, 8, 33)\n",
    "            self.image(os.path.join(img_dir_path, 'logo_Francerelance_1321294.54.png'), pdf.w-45, 7, 45)\n",
    "            # Arial bold 15\n",
    "            self.cell(50)\n",
    "            self.set_font('Arial', 'B', 16)\n",
    "            self.cell(80, 15, title_header, 0, 1, 'A')\n",
    "\n",
    "            # Move to the right\n",
    "            # Title\n",
    "            self.set_font('Arial', 'I', 9)\n",
    "            self.cell(50)\n",
    "            self.cell(50, 10, subtitle_header+' - aides-entreprises.data.gouv.fr', 0, 1, 'A', link='https://aides-entreprises.data.gouv.fr/')\n",
    "            # Line break  \n",
    "            pdf.line(40, 38, 170, 38)\n",
    "            self.ln(7)\n",
    "        \n",
    "    # Page footer\n",
    "    def footer(self):\n",
    "        if (self.page_no() != 1 ):\n",
    "            # Position at 1.5 cm from bottom\n",
    "            self.set_y(-15)\n",
    "            # Arial italic 8\n",
    "            self.set_font('Arial', 'I', 8)\n",
    "            # Page number\n",
    "            \n",
    "            self.cell(0, 10, 'Direction Interministérielle du Numérique (DINUM) - Page ' + str(self.page_no()) + '/{nb}', 0, 0, 'C')         "
   ]
  },
  {
   "cell_type": "code",
   "execution_count": 23,
   "id": "tamil-ethernet",
   "metadata": {
    "execution": {
     "iopub.execute_input": "2021-05-09T00:14:48.560484Z",
     "iopub.status.busy": "2021-05-09T00:14:48.559811Z",
     "iopub.status.idle": "2021-05-09T00:14:48.563816Z",
     "shell.execute_reply": "2021-05-09T00:14:48.563348Z"
    },
    "papermill": {
     "duration": 0.042182,
     "end_time": "2021-05-09T00:14:48.563940",
     "exception": false,
     "start_time": "2021-05-09T00:14:48.521758",
     "status": "completed"
    },
    "tags": []
   },
   "outputs": [],
   "source": [
    "def format_val(val,add):\n",
    "    return '{:,}'.format(int(float(val))).replace(',', ' ')+add"
   ]
  },
  {
   "cell_type": "code",
   "execution_count": 24,
   "id": "interested-consumer",
   "metadata": {
    "execution": {
     "iopub.execute_input": "2021-05-09T00:14:48.637016Z",
     "iopub.status.busy": "2021-05-09T00:14:48.636408Z",
     "iopub.status.idle": "2021-05-09T00:14:48.641540Z",
     "shell.execute_reply": "2021-05-09T00:14:48.640996Z"
    },
    "papermill": {
     "duration": 0.045426,
     "end_time": "2021-05-09T00:14:48.641663",
     "exception": false,
     "start_time": "2021-05-09T00:14:48.596237",
     "status": "completed"
    },
    "tags": []
   },
   "outputs": [],
   "source": [
    "def get_kpis(aide,maille,geo):\n",
    "    url = \"https://raw.githubusercontent.com/etalab/dashboard-aides-entreprises/master/backend/json/{}/{}-maille-{}-minify.json\".format(aide, aide, maille)\n",
    "    \n",
    "    data = import_json_to_dict(url)\n",
    "    if(maille == 'national'):\n",
    "        if(aide == 'aides'):\n",
    "            return format_val(data[0]['montant'],' euros'),format_val(data[0]['nombre'],''),format_val(data[0]['nombre_siren'],'')\n",
    "        else:\n",
    "            return format_val(data[0]['montant'],' euros'),format_val(data[0]['nombre'],'')\n",
    "\n",
    "    elif(maille == 'regional'):\n",
    "        for reg in data:\n",
    "            if(reg['reg'] == geo):\n",
    "                if(aide == 'aides'):\n",
    "                    return format_val(reg['montant'],' euros'),format_val(reg['nombre'],''),format_val(reg['nombre_siren'],'')\n",
    "                else:\n",
    "                    return format_val(reg['montant'],' euros'),format_val(reg['nombre'],'')\n",
    "\n",
    "    elif(maille == 'departemental'):\n",
    "        for dep in data:\n",
    "            if(dep['dep'] == geo):\n",
    "                if(aide == 'aides'):\n",
    "                    return format_val(dep['montant'],' euros'),format_val(dep['nombre'],''),format_val(dep['nombre_siren'],'')\n",
    "                else:\n",
    "                    return format_val(dep['montant'],' euros'),format_val(dep['nombre'],'')\n"
   ]
  },
  {
   "cell_type": "code",
   "execution_count": 25,
   "id": "accessory-quantum",
   "metadata": {
    "execution": {
     "iopub.execute_input": "2021-05-09T00:14:48.714698Z",
     "iopub.status.busy": "2021-05-09T00:14:48.713981Z",
     "iopub.status.idle": "2021-05-09T00:14:48.717279Z",
     "shell.execute_reply": "2021-05-09T00:14:48.717783Z"
    },
    "papermill": {
     "duration": 0.042356,
     "end_time": "2021-05-09T00:14:48.717961",
     "exception": false,
     "start_time": "2021-05-09T00:14:48.675605",
     "status": "completed"
    },
    "tags": []
   },
   "outputs": [],
   "source": [
    "def get_actpart_kpis(aide,maille,geo):\n",
    "    url = \"https://raw.githubusercontent.com/etalab/dashboard-aides-entreprises/master/backend/json/{}3/{}-3-maille-{}-minify.json\".format(aide, aide, maille)\n",
    "    \n",
    "    data = import_json_to_dict(url)\n",
    "    if(maille == 'national'):\n",
    "        return format_val(data[0]['nombre_demandes_deposees'],''), format_val(data[0]['nombre_salaries_concernes'],''),format_val(data[0]['nombre_heures_demandees'],'')\n",
    "\n",
    "    elif(maille == 'regional'):\n",
    "        for reg in data:\n",
    "            if(reg['reg'] == geo):\n",
    "                return format_val(reg['nombre_demandes_deposees'],''), format_val(reg['nombre_salaries_concernes'],''),format_val(reg['nombre_heures_demandees'],'')\n",
    "\n",
    "    elif(maille == 'departemental'):\n",
    "        for dep in data:\n",
    "            if(dep['dep'] == geo):\n",
    "                return format_val(dep['nombre_demandes_deposees'],''), format_val(dep['nombre_salaries_concernes'],''),format_val(dep['nombre_heures_demandees'],'')"
   ]
  },
  {
   "cell_type": "code",
   "execution_count": 26,
   "id": "concerned-macintosh",
   "metadata": {
    "execution": {
     "iopub.execute_input": "2021-05-09T00:14:48.791935Z",
     "iopub.status.busy": "2021-05-09T00:14:48.790744Z",
     "iopub.status.idle": "2021-05-09T00:14:48.792538Z",
     "shell.execute_reply": "2021-05-09T00:14:48.792999Z"
    },
    "papermill": {
     "duration": 0.041314,
     "end_time": "2021-05-09T00:14:48.793191",
     "exception": false,
     "start_time": "2021-05-09T00:14:48.751877",
     "status": "completed"
    },
    "tags": []
   },
   "outputs": [],
   "source": [
    "def find_last_update(aide):\n",
    "    if aide != 'activite-partielle' :\n",
    "        url = \"https://raw.githubusercontent.com/etalab/dashboard-aides-entreprises/master/backend/json/\"+aide+\"/last_update_data.txt\"\n",
    "    else :\n",
    "        url = \"https://raw.githubusercontent.com/etalab/dashboard-aides-entreprises/master/backend/json/\"+aide+\"3/last_update_data.txt\"\n",
    "    u2 = urllib.request.urlopen(url)\n",
    "    return u2.readlines()[0].decode(\"utf-8\")"
   ]
  },
  {
   "cell_type": "code",
   "execution_count": 27,
   "id": "chubby-taxation",
   "metadata": {
    "execution": {
     "iopub.execute_input": "2021-05-09T00:14:48.871527Z",
     "iopub.status.busy": "2021-05-09T00:14:48.866279Z",
     "iopub.status.idle": "2021-05-09T00:14:48.884678Z",
     "shell.execute_reply": "2021-05-09T00:14:48.884153Z"
    },
    "papermill": {
     "duration": 0.058666,
     "end_time": "2021-05-09T00:14:48.884797",
     "exception": false,
     "start_time": "2021-05-09T00:14:48.826131",
     "status": "completed"
    },
    "tags": []
   },
   "outputs": [],
   "source": [
    "def add_page_report(pdf, aide, dep, aideurl, phrase1, phrase2, phrase3, phrase_nombre, source_dict):\n",
    "\n",
    "    pdf.set_fill_color(83,101,125);\n",
    "    pdf.rect(20,41,180,14,'F')\n",
    "    \n",
    "    pdf.image(os.path.join(img_dir_path, 'information.png'), x=10, y=44.5, w=7)\n",
    "    \n",
    "    \n",
    "    pdf.set_font('Arial', 'I', 7)\n",
    "    pdf.set_text_color(255,255,255)\n",
    "    pdf.cell(10)\n",
    "    pdf.cell(10, 3, phrase1, ln=1)\n",
    "    pdf.ln(0)\n",
    "    pdf.cell(10)    \n",
    "    pdf.cell(10, 3, phrase2, ln=1)\n",
    "    pdf.ln(0)\n",
    "    pdf.cell(10)\n",
    "    pdf.cell(10, 3, phrase3, ln=1)\n",
    "    pdf.ln(0)\n",
    "    pdf.cell(10)\n",
    "    pdf.set_font('Arial', 'IU', 7)\n",
    "    pdf.cell(10, 3, source_dict['name'], ln=1, link=source_dict['url'])\n",
    "    pdf.ln(2)\n",
    "       \n",
    "    pdf.set_text_color(0,0,0)\n",
    "\n",
    "\n",
    "    pdf.set_font('Arial', 'BI', 14)\n",
    "    pdf.cell(65, 10, \"Niveau National\", ln=1)\n",
    "    \n",
    "    \n",
    "    pdf.set_font('Arial', '', 14)\n",
    "\n",
    "    hbar_w = 100\n",
    "    dpie_w = 90\n",
    "\n",
    "    pdf.image(os.path.join(img_dir_path, 'national', aide+'-kpi_top_10_naf-montant-national-hbar.png'), x=pdf.w/3-hbar_w/2, y=64, w=hbar_w)\n",
    "\n",
    "    kpis_nat = get_kpis(aide,'national','national')\n",
    "    pdf.ln(10)\n",
    "    pdf.cell((pdf.w/3)*1.55)\n",
    "    pdf.cell(0, 10, \"Montant total : \"+kpis_nat[0], 0, 0)\n",
    "    pdf.ln(15)\n",
    "    pdf.cell((pdf.w/3)*1.55)\n",
    "    pdf.cell(0, 10, \"Nombre \"+phrase_nombre+kpis_nat[1], 0, 0)\n",
    "    pdf.ln(15)\n",
    "    pdf.cell((pdf.w/3)*1.55)\n",
    "    if(aide == 'aides'):\n",
    "        pdf.cell(0, 10, \"Nombre d'entreprises : \"+kpis_nat[2], 0, 0)\n",
    "\n",
    "\n",
    "    pdf.ln(27)\n",
    "\n",
    "    reg = taxo_dep_df[taxo_dep_df['dep'] == dep].iloc[0]['reg']\n",
    "    libelle_reg = taxo_reg_df[taxo_reg_df['reg'] == reg].iloc[0]['libelle']\n",
    "    libelle_dep = taxo_dep_df[taxo_dep_df['dep'] == dep].iloc[0]['libelle']\n",
    "    \n",
    "    pdf.set_font('Arial', 'BI', 14)\n",
    "    pdf.cell(65, 10, \"Niveau Régional : \"+libelle_reg, ln=1)\n",
    "    \n",
    "    if aide == 'cpsti' and reg == '06' :\n",
    "        pdf.set_font('Arial', 'I', 12)\n",
    "        pdf.ln(10)\n",
    "        pdf.cell(0,0,\"Absence de données à l'échelle de la région.\", ln=1)\n",
    "        pdf.ln(15)\n",
    "    else :\n",
    "        pdf.set_font('Arial', '', 14)\n",
    "\n",
    "        hbar_w = 100\n",
    "        dpie_w = 90\n",
    "\n",
    "        kpis_reg = get_kpis(aide,'regional', reg)\n",
    "\n",
    "        pdf.image(os.path.join(img_dir_path, 'regional/'+reg+'/'+aide+'-kpi_top_10_naf-montant-regional-'+reg+'.png'), x=pdf.w/3-hbar_w/2, y=142, w=hbar_w)\n",
    "        pdf.ln(10)\n",
    "        pdf.cell((pdf.w/3)*1.55)\n",
    "        pdf.cell(0, 10, \"Montant total : \"+kpis_reg[0], 0, 0)\n",
    "        pdf.ln(15)\n",
    "        pdf.cell((pdf.w/3)*1.55)\n",
    "        pdf.cell(0, 10, \"Nombre \"+phrase_nombre+kpis_reg[1], 0, 0)\n",
    "        pdf.ln(15)\n",
    "        pdf.cell((pdf.w/3)*1.55)\n",
    "        if(aide == 'aides'):\n",
    "            pdf.cell(0, 10, \"Nombre d'entreprises : \"+kpis_reg[2], 0, 0)\n",
    "\n",
    "        pdf.ln(25)\n",
    "\n",
    "    pdf.set_font('Arial', 'BI', 14)\n",
    "    pdf.cell(65, 15, \"Niveau Départemental : \"+libelle_dep, ln=1)\n",
    "        \n",
    "    if aide == 'cpsti' and dep == '976' :\n",
    "        pdf.ln(10)\n",
    "        pdf.set_font('Arial', 'I', 12)\n",
    "        pdf.cell(0,0,\"Absence de données à l'échelle du département.\", ln=1)\n",
    "        pdf.ln(15)\n",
    "    else :\n",
    "        pdf.set_font('Arial', '', 14)\n",
    "\n",
    "        hbar_w = 100\n",
    "        dpie_w = 90\n",
    "\n",
    "        pdf.image(os.path.join(img_dir_path, 'departemental/'+dep+'/'+aide+'-kpi_top_10_naf-montant-departemental-'+dep+'.png'), x=pdf.w/3-hbar_w/2, y=219, w=hbar_w)\n",
    "\n",
    "        kpis_dep = get_kpis(aide,'departemental', dep)\n",
    "        pdf.ln(8)\n",
    "        pdf.cell((pdf.w/3)*1.55)\n",
    "        pdf.cell(0, 10, \"Montant total : \"+kpis_dep[0], 0, 0)\n",
    "        pdf.ln(15)\n",
    "        pdf.cell((pdf.w/3)*1.55)\n",
    "        pdf.cell(0, 10, \"Nombre \"+phrase_nombre+kpis_dep[1], 0, 0)\n",
    "        pdf.ln(15)\n",
    "        pdf.cell((pdf.w/3)*1.55)\n",
    "        if(aide == 'aides'):\n",
    "            pdf.cell(0, 10, \"Nombre d'entreprises : \"+kpis_dep[2], 0, 0)\n",
    "    \n",
    "    pdf.link(10,57,120,8, 'http://aides-entreprises.data.gouv.fr')\n",
    "    pdf.link(10,134,120,8, 'https://aides-entreprises.data.gouv.fr/'+aideurl+'?datasetid=regions&field=code&value='+reg)\n",
    "    pdf.link(10,212,120,8, 'https://aides-entreprises.data.gouv.fr/'+aideurl+'?datasetid=departements&field=code&value='+dep)\n",
    "    \n",
    "    \n",
    "    return pdf"
   ]
  },
  {
   "cell_type": "code",
   "execution_count": 28,
   "id": "genuine-eagle",
   "metadata": {
    "execution": {
     "iopub.execute_input": "2021-05-09T00:14:48.967093Z",
     "iopub.status.busy": "2021-05-09T00:14:48.961229Z",
     "iopub.status.idle": "2021-05-09T00:14:48.971988Z",
     "shell.execute_reply": "2021-05-09T00:14:48.971397Z"
    },
    "papermill": {
     "duration": 0.054341,
     "end_time": "2021-05-09T00:14:48.972104",
     "exception": false,
     "start_time": "2021-05-09T00:14:48.917763",
     "status": "completed"
    },
    "tags": []
   },
   "outputs": [],
   "source": [
    "def add_actpart_page_report(pdf, dep, aideurl, phrase1, phrase2, phrase3, source_dict):\n",
    "    \n",
    "    aide = 'activite-partielle'\n",
    "    \n",
    "    pdf.set_fill_color(83,101,125);\n",
    "    pdf.rect(20,41,180,14,'F')\n",
    "    \n",
    "    pdf.image(os.path.join(img_dir_path, 'information.png'), x=10, y=44.5, w=7)\n",
    "    \n",
    "    \n",
    "    pdf.set_font('Arial', 'I', 7)\n",
    "    pdf.set_text_color(255,255,255)\n",
    "    pdf.cell(10)\n",
    "    pdf.cell(10, 3, phrase1, ln=1)\n",
    "    pdf.ln(0)\n",
    "    pdf.cell(10)    \n",
    "    pdf.cell(10, 3, phrase2, ln=1)\n",
    "    pdf.ln(0)\n",
    "    pdf.cell(10)\n",
    "    pdf.cell(10, 3, phrase3, ln=1)\n",
    "    pdf.ln(0)\n",
    "    pdf.cell(10)\n",
    "    pdf.set_font('Arial', 'IU', 7)\n",
    "    pdf.cell(10, 3, source_dict['name'], ln=1, link=source_dict['url'])\n",
    "    pdf.ln(2)\n",
    "       \n",
    "    pdf.set_text_color(0,0,0)\n",
    "\n",
    "\n",
    "    pdf.set_font('Arial', 'BI', 14)\n",
    "    pdf.cell(65, 10, \"Niveau National\", ln=1)\n",
    "    \n",
    "    \n",
    "    pdf.set_font('Arial', '', 14)\n",
    "\n",
    "    hbar_w = 100\n",
    "    dpie_w = 90\n",
    "\n",
    "    pdf.image(os.path.join(img_dir_path, 'national', aide+'-nace17-nombre_salaries_concernes-national-sthbar.png'), x=pdf.w/3-hbar_w/2, y=64, w=hbar_w)\n",
    "\n",
    "    kpis_nat = get_actpart_kpis(aide,'national','national')\n",
    "    pdf.ln(10)\n",
    "    pdf.cell((pdf.w/3)*1.55)\n",
    "    pdf.cell(0, 10, \"Nombre de demandes : \"+kpis_nat[0], 0, 0)\n",
    "    pdf.ln(15)\n",
    "    pdf.cell((pdf.w/3)*1.55)\n",
    "    pdf.cell(0, 10, \"Nombre de salariés : \"+kpis_nat[1], 0, 0)\n",
    "    pdf.ln(15)\n",
    "    pdf.cell((pdf.w/3)*1.55)\n",
    "    pdf.cell(0, 10, \"Heures demandées : \"+kpis_nat[2], 0, 0)\n",
    "\n",
    "\n",
    "    pdf.ln(27)\n",
    "\n",
    "    reg = taxo_dep_df[taxo_dep_df['dep'] == dep].iloc[0]['reg']\n",
    "    libelle_reg = taxo_reg_df[taxo_reg_df['reg'] == reg].iloc[0]['libelle']\n",
    "    libelle_dep = taxo_dep_df[taxo_dep_df['dep'] == dep].iloc[0]['libelle']\n",
    "    \n",
    "    pdf.set_font('Arial', 'BI', 14)\n",
    "    pdf.cell(65, 10, \"Niveau Régional : \"+libelle_reg, ln=1)\n",
    "\n",
    "    pdf.set_font('Arial', '', 14)\n",
    "\n",
    "    hbar_w = 100\n",
    "    dpie_w = 90\n",
    "\n",
    "    kpis_reg = get_actpart_kpis(aide,'regional', reg)\n",
    "\n",
    "    pdf.image(os.path.join(img_dir_path, 'regional/'+reg+'/'+aide+'-nace17-nombre_salaries_concernes-regional-'+reg+'.png'), x=pdf.w/3-hbar_w/2, y=142, w=hbar_w)\n",
    "    pdf.ln(10)\n",
    "    pdf.cell((pdf.w/3)*1.55)\n",
    "    pdf.cell(0, 10, \"Nombre de demandes : \"+kpis_reg[0], 0, 0)\n",
    "    pdf.ln(15)\n",
    "    pdf.cell((pdf.w/3)*1.55)\n",
    "    pdf.cell(0, 10, \"Nombre de salariés : \"+kpis_reg[1], 0, 0)\n",
    "    pdf.ln(15)\n",
    "    pdf.cell((pdf.w/3)*1.55)\n",
    "    pdf.cell(0, 10, \"Heures demandées : \"+kpis_reg[2], 0, 0)\n",
    "\n",
    "    pdf.ln(25)\n",
    "    \n",
    "    #Pas de données départementales pour l'instant pour l'activité partielle\n",
    "    \n",
    "    pdf.link(10,57,120,8, 'http://aides-entreprises.data.gouv.fr')\n",
    "    pdf.link(10,134,120,8, 'https://aides-entreprises.data.gouv.fr/'+aideurl+'?datasetid=regions&field=code&value='+reg)\n",
    "    \n",
    "    return pdf"
   ]
  },
  {
   "cell_type": "code",
   "execution_count": 29,
   "id": "developed-classic",
   "metadata": {
    "execution": {
     "iopub.execute_input": "2021-05-09T00:14:49.041695Z",
     "iopub.status.busy": "2021-05-09T00:14:49.040833Z",
     "iopub.status.idle": "2021-05-09T00:27:11.359351Z",
     "shell.execute_reply": "2021-05-09T00:27:11.358383Z"
    },
    "papermill": {
     "duration": 742.355256,
     "end_time": "2021-05-09T00:27:11.359488",
     "exception": false,
     "start_time": "2021-05-09T00:14:49.004232",
     "status": "completed"
    },
    "tags": []
   },
   "outputs": [
    {
     "name": "stdout",
     "output_type": "stream",
     "text": [
      "2021-05-09 00:14:57.174615 - 01 done.\n"
     ]
    },
    {
     "name": "stdout",
     "output_type": "stream",
     "text": [
      "2021-05-09 00:15:04.601194 - 02 done.\n"
     ]
    },
    {
     "name": "stdout",
     "output_type": "stream",
     "text": [
      "2021-05-09 00:15:11.911423 - 03 done.\n"
     ]
    },
    {
     "name": "stdout",
     "output_type": "stream",
     "text": [
      "2021-05-09 00:15:19.323226 - 04 done.\n"
     ]
    },
    {
     "name": "stdout",
     "output_type": "stream",
     "text": [
      "2021-05-09 00:15:26.765828 - 05 done.\n"
     ]
    },
    {
     "name": "stdout",
     "output_type": "stream",
     "text": [
      "2021-05-09 00:15:34.126165 - 06 done.\n"
     ]
    },
    {
     "name": "stdout",
     "output_type": "stream",
     "text": [
      "2021-05-09 00:15:41.376044 - 07 done.\n"
     ]
    },
    {
     "name": "stdout",
     "output_type": "stream",
     "text": [
      "2021-05-09 00:15:48.718843 - 08 done.\n"
     ]
    },
    {
     "name": "stdout",
     "output_type": "stream",
     "text": [
      "2021-05-09 00:15:55.991839 - 09 done.\n"
     ]
    },
    {
     "name": "stdout",
     "output_type": "stream",
     "text": [
      "2021-05-09 00:16:03.339710 - 10 done.\n"
     ]
    },
    {
     "name": "stdout",
     "output_type": "stream",
     "text": [
      "2021-05-09 00:16:10.634830 - 11 done.\n"
     ]
    },
    {
     "name": "stdout",
     "output_type": "stream",
     "text": [
      "2021-05-09 00:16:17.958023 - 12 done.\n"
     ]
    },
    {
     "name": "stdout",
     "output_type": "stream",
     "text": [
      "2021-05-09 00:16:25.277182 - 13 done.\n"
     ]
    },
    {
     "name": "stdout",
     "output_type": "stream",
     "text": [
      "2021-05-09 00:16:32.661131 - 14 done.\n"
     ]
    },
    {
     "name": "stdout",
     "output_type": "stream",
     "text": [
      "2021-05-09 00:16:40.018556 - 15 done.\n"
     ]
    },
    {
     "name": "stdout",
     "output_type": "stream",
     "text": [
      "2021-05-09 00:16:47.513702 - 16 done.\n"
     ]
    },
    {
     "name": "stdout",
     "output_type": "stream",
     "text": [
      "2021-05-09 00:16:54.789737 - 17 done.\n"
     ]
    },
    {
     "name": "stdout",
     "output_type": "stream",
     "text": [
      "2021-05-09 00:17:02.274496 - 18 done.\n"
     ]
    },
    {
     "name": "stdout",
     "output_type": "stream",
     "text": [
      "2021-05-09 00:17:09.607758 - 19 done.\n"
     ]
    },
    {
     "name": "stdout",
     "output_type": "stream",
     "text": [
      "2021-05-09 00:17:16.872906 - 21 done.\n"
     ]
    },
    {
     "name": "stdout",
     "output_type": "stream",
     "text": [
      "2021-05-09 00:17:24.158917 - 22 done.\n"
     ]
    },
    {
     "name": "stdout",
     "output_type": "stream",
     "text": [
      "2021-05-09 00:17:31.380561 - 23 done.\n"
     ]
    },
    {
     "name": "stdout",
     "output_type": "stream",
     "text": [
      "2021-05-09 00:17:40.553691 - 24 done.\n"
     ]
    },
    {
     "name": "stdout",
     "output_type": "stream",
     "text": [
      "2021-05-09 00:17:48.025969 - 25 done.\n"
     ]
    },
    {
     "name": "stdout",
     "output_type": "stream",
     "text": [
      "2021-05-09 00:17:55.346472 - 26 done.\n"
     ]
    },
    {
     "name": "stdout",
     "output_type": "stream",
     "text": [
      "2021-05-09 00:18:02.607304 - 27 done.\n"
     ]
    },
    {
     "name": "stdout",
     "output_type": "stream",
     "text": [
      "2021-05-09 00:18:09.918711 - 28 done.\n"
     ]
    },
    {
     "name": "stdout",
     "output_type": "stream",
     "text": [
      "2021-05-09 00:18:17.249626 - 29 done.\n"
     ]
    },
    {
     "name": "stdout",
     "output_type": "stream",
     "text": [
      "2021-05-09 00:18:24.622033 - 2A done.\n"
     ]
    },
    {
     "name": "stdout",
     "output_type": "stream",
     "text": [
      "2021-05-09 00:18:32.055445 - 2B done.\n"
     ]
    },
    {
     "name": "stdout",
     "output_type": "stream",
     "text": [
      "2021-05-09 00:18:39.437672 - 30 done.\n"
     ]
    },
    {
     "name": "stdout",
     "output_type": "stream",
     "text": [
      "2021-05-09 00:18:46.908749 - 31 done.\n"
     ]
    },
    {
     "name": "stdout",
     "output_type": "stream",
     "text": [
      "2021-05-09 00:18:54.458526 - 32 done.\n"
     ]
    },
    {
     "name": "stdout",
     "output_type": "stream",
     "text": [
      "2021-05-09 00:19:01.884059 - 33 done.\n"
     ]
    },
    {
     "name": "stdout",
     "output_type": "stream",
     "text": [
      "2021-05-09 00:19:09.393777 - 34 done.\n"
     ]
    },
    {
     "name": "stdout",
     "output_type": "stream",
     "text": [
      "2021-05-09 00:19:16.811267 - 35 done.\n"
     ]
    },
    {
     "name": "stdout",
     "output_type": "stream",
     "text": [
      "2021-05-09 00:19:24.134091 - 36 done.\n"
     ]
    },
    {
     "name": "stdout",
     "output_type": "stream",
     "text": [
      "2021-05-09 00:19:31.415851 - 37 done.\n"
     ]
    },
    {
     "name": "stdout",
     "output_type": "stream",
     "text": [
      "2021-05-09 00:19:38.843796 - 38 done.\n"
     ]
    },
    {
     "name": "stdout",
     "output_type": "stream",
     "text": [
      "2021-05-09 00:19:46.205535 - 39 done.\n"
     ]
    },
    {
     "name": "stdout",
     "output_type": "stream",
     "text": [
      "2021-05-09 00:19:53.409532 - 40 done.\n"
     ]
    },
    {
     "name": "stdout",
     "output_type": "stream",
     "text": [
      "2021-05-09 00:20:01.396439 - 41 done.\n"
     ]
    },
    {
     "name": "stdout",
     "output_type": "stream",
     "text": [
      "2021-05-09 00:20:08.641417 - 42 done.\n"
     ]
    },
    {
     "name": "stdout",
     "output_type": "stream",
     "text": [
      "2021-05-09 00:20:15.867086 - 43 done.\n"
     ]
    },
    {
     "name": "stdout",
     "output_type": "stream",
     "text": [
      "2021-05-09 00:20:23.119877 - 44 done.\n"
     ]
    },
    {
     "name": "stdout",
     "output_type": "stream",
     "text": [
      "2021-05-09 00:20:30.379923 - 45 done.\n"
     ]
    },
    {
     "name": "stdout",
     "output_type": "stream",
     "text": [
      "2021-05-09 00:20:37.545181 - 46 done.\n"
     ]
    },
    {
     "name": "stdout",
     "output_type": "stream",
     "text": [
      "2021-05-09 00:20:44.883398 - 47 done.\n"
     ]
    },
    {
     "name": "stdout",
     "output_type": "stream",
     "text": [
      "2021-05-09 00:20:52.129482 - 48 done.\n"
     ]
    },
    {
     "name": "stdout",
     "output_type": "stream",
     "text": [
      "2021-05-09 00:20:59.479679 - 49 done.\n"
     ]
    },
    {
     "name": "stdout",
     "output_type": "stream",
     "text": [
      "2021-05-09 00:21:06.669400 - 50 done.\n"
     ]
    },
    {
     "name": "stdout",
     "output_type": "stream",
     "text": [
      "2021-05-09 00:21:13.908034 - 51 done.\n"
     ]
    },
    {
     "name": "stdout",
     "output_type": "stream",
     "text": [
      "2021-05-09 00:21:21.147155 - 52 done.\n"
     ]
    },
    {
     "name": "stdout",
     "output_type": "stream",
     "text": [
      "2021-05-09 00:21:28.497012 - 53 done.\n"
     ]
    },
    {
     "name": "stdout",
     "output_type": "stream",
     "text": [
      "2021-05-09 00:21:35.721460 - 54 done.\n"
     ]
    },
    {
     "name": "stdout",
     "output_type": "stream",
     "text": [
      "2021-05-09 00:21:42.969681 - 55 done.\n"
     ]
    },
    {
     "name": "stdout",
     "output_type": "stream",
     "text": [
      "2021-05-09 00:21:50.175797 - 56 done.\n"
     ]
    },
    {
     "name": "stdout",
     "output_type": "stream",
     "text": [
      "2021-05-09 00:21:57.446217 - 57 done.\n"
     ]
    },
    {
     "name": "stdout",
     "output_type": "stream",
     "text": [
      "2021-05-09 00:22:04.738651 - 58 done.\n"
     ]
    },
    {
     "name": "stdout",
     "output_type": "stream",
     "text": [
      "2021-05-09 00:22:12.032819 - 59 done.\n"
     ]
    },
    {
     "name": "stdout",
     "output_type": "stream",
     "text": [
      "2021-05-09 00:22:19.595680 - 60 done.\n"
     ]
    },
    {
     "name": "stdout",
     "output_type": "stream",
     "text": [
      "2021-05-09 00:22:26.896259 - 61 done.\n"
     ]
    },
    {
     "name": "stdout",
     "output_type": "stream",
     "text": [
      "2021-05-09 00:22:34.230036 - 62 done.\n"
     ]
    },
    {
     "name": "stdout",
     "output_type": "stream",
     "text": [
      "2021-05-09 00:22:43.646007 - 63 done.\n"
     ]
    },
    {
     "name": "stdout",
     "output_type": "stream",
     "text": [
      "2021-05-09 00:22:50.903100 - 64 done.\n"
     ]
    },
    {
     "name": "stdout",
     "output_type": "stream",
     "text": [
      "2021-05-09 00:22:58.118182 - 65 done.\n"
     ]
    },
    {
     "name": "stdout",
     "output_type": "stream",
     "text": [
      "2021-05-09 00:23:05.737149 - 66 done.\n"
     ]
    },
    {
     "name": "stdout",
     "output_type": "stream",
     "text": [
      "2021-05-09 00:23:12.991637 - 67 done.\n"
     ]
    },
    {
     "name": "stdout",
     "output_type": "stream",
     "text": [
      "2021-05-09 00:23:20.269087 - 68 done.\n"
     ]
    },
    {
     "name": "stdout",
     "output_type": "stream",
     "text": [
      "2021-05-09 00:23:27.417088 - 69 done.\n"
     ]
    },
    {
     "name": "stdout",
     "output_type": "stream",
     "text": [
      "2021-05-09 00:23:34.515764 - 70 done.\n"
     ]
    },
    {
     "name": "stdout",
     "output_type": "stream",
     "text": [
      "2021-05-09 00:23:41.685705 - 71 done.\n"
     ]
    },
    {
     "name": "stdout",
     "output_type": "stream",
     "text": [
      "2021-05-09 00:23:48.916639 - 72 done.\n"
     ]
    },
    {
     "name": "stdout",
     "output_type": "stream",
     "text": [
      "2021-05-09 00:23:56.237679 - 73 done.\n"
     ]
    },
    {
     "name": "stdout",
     "output_type": "stream",
     "text": [
      "2021-05-09 00:24:03.490786 - 74 done.\n"
     ]
    },
    {
     "name": "stdout",
     "output_type": "stream",
     "text": [
      "2021-05-09 00:24:10.988436 - 75 done.\n"
     ]
    },
    {
     "name": "stdout",
     "output_type": "stream",
     "text": [
      "2021-05-09 00:24:18.206155 - 76 done.\n"
     ]
    },
    {
     "name": "stdout",
     "output_type": "stream",
     "text": [
      "2021-05-09 00:24:25.465318 - 77 done.\n"
     ]
    },
    {
     "name": "stdout",
     "output_type": "stream",
     "text": [
      "2021-05-09 00:24:32.729266 - 78 done.\n"
     ]
    },
    {
     "name": "stdout",
     "output_type": "stream",
     "text": [
      "2021-05-09 00:24:39.901865 - 79 done.\n"
     ]
    },
    {
     "name": "stdout",
     "output_type": "stream",
     "text": [
      "2021-05-09 00:24:47.102848 - 80 done.\n"
     ]
    },
    {
     "name": "stdout",
     "output_type": "stream",
     "text": [
      "2021-05-09 00:24:54.271798 - 81 done.\n"
     ]
    },
    {
     "name": "stdout",
     "output_type": "stream",
     "text": [
      "2021-05-09 00:25:02.383206 - 82 done.\n"
     ]
    },
    {
     "name": "stdout",
     "output_type": "stream",
     "text": [
      "2021-05-09 00:25:09.621647 - 83 done.\n"
     ]
    },
    {
     "name": "stdout",
     "output_type": "stream",
     "text": [
      "2021-05-09 00:25:16.762978 - 84 done.\n"
     ]
    },
    {
     "name": "stdout",
     "output_type": "stream",
     "text": [
      "2021-05-09 00:25:23.911613 - 85 done.\n"
     ]
    },
    {
     "name": "stdout",
     "output_type": "stream",
     "text": [
      "2021-05-09 00:25:31.125525 - 86 done.\n"
     ]
    },
    {
     "name": "stdout",
     "output_type": "stream",
     "text": [
      "2021-05-09 00:25:38.345458 - 87 done.\n"
     ]
    },
    {
     "name": "stdout",
     "output_type": "stream",
     "text": [
      "2021-05-09 00:25:45.629218 - 88 done.\n"
     ]
    },
    {
     "name": "stdout",
     "output_type": "stream",
     "text": [
      "2021-05-09 00:25:52.821269 - 89 done.\n"
     ]
    },
    {
     "name": "stdout",
     "output_type": "stream",
     "text": [
      "2021-05-09 00:26:00.049150 - 90 done.\n"
     ]
    },
    {
     "name": "stdout",
     "output_type": "stream",
     "text": [
      "2021-05-09 00:26:07.246695 - 91 done.\n"
     ]
    },
    {
     "name": "stdout",
     "output_type": "stream",
     "text": [
      "2021-05-09 00:26:14.468006 - 92 done.\n"
     ]
    },
    {
     "name": "stdout",
     "output_type": "stream",
     "text": [
      "2021-05-09 00:26:21.653964 - 93 done.\n"
     ]
    },
    {
     "name": "stdout",
     "output_type": "stream",
     "text": [
      "2021-05-09 00:26:28.894592 - 94 done.\n"
     ]
    },
    {
     "name": "stdout",
     "output_type": "stream",
     "text": [
      "2021-05-09 00:26:36.059176 - 95 done.\n"
     ]
    },
    {
     "name": "stdout",
     "output_type": "stream",
     "text": [
      "2021-05-09 00:26:43.357753 - 971 done.\n"
     ]
    },
    {
     "name": "stdout",
     "output_type": "stream",
     "text": [
      "2021-05-09 00:26:50.621632 - 972 done.\n"
     ]
    },
    {
     "name": "stdout",
     "output_type": "stream",
     "text": [
      "2021-05-09 00:26:57.878132 - 973 done.\n"
     ]
    },
    {
     "name": "stdout",
     "output_type": "stream",
     "text": [
      "2021-05-09 00:27:05.131680 - 974 done.\n"
     ]
    },
    {
     "name": "stdout",
     "output_type": "stream",
     "text": [
      "2021-05-09 00:27:11.353517 - 976 done.\n",
      "CPU times: user 11min 22s, sys: 4.88 s, total: 11min 27s\n",
      "Wall time: 12min 22s\n"
     ]
    }
   ],
   "source": [
    "%%time\n",
    "\n",
    "mkdir_ifnotexist(os.path.join(reports_dir_path, 'pdf'))\n",
    "\n",
    "for dep in taxo_dep_df.dep.unique():\n",
    "    \n",
    "    pdf = PDF()\n",
    "    pdf.alias_nb_pages()\n",
    "    pdf.add_page()\n",
    "\n",
    "    #Logos\n",
    "    pdf.image(os.path.join(img_dir_path, 'LogoRF.png'), 10, 8, 33)\n",
    "    pdf.image(os.path.join(img_dir_path, 'logo_Francerelance_1321294.54.png'), pdf.w-45, 7, 45)\n",
    "    \n",
    "    # Arial bold 15\n",
    "    pdf.set_font('Arial', 'B', 28)\n",
    "    # Move to the right\n",
    "    pdf.cell(50)\n",
    "    pdf.ln(70)\n",
    "    \n",
    "    # Title\n",
    "    pdf.cell(10)\n",
    "    pdf.cell(50, 10, 'SUIVI DES AIDES VERSÉES', 0, 1, 'A')\n",
    "    pdf.ln(10)\n",
    "    pdf.cell(10)\n",
    "    pdf.cell(50, 10, 'AUX ENTREPRISES DANS LE CADRE', 0, 1, 'A')\n",
    "    pdf.ln(10)\n",
    "    pdf.cell(10)\n",
    "    pdf.cell(50, 10, 'DE LA CRISE SANITAIRE COVID-19', 0, 1, 'A')\n",
    "\n",
    "    pdf.set_font('Arial', 'I', 20)\n",
    "    pdf.ln(10)\n",
    "    pdf.cell(10)\n",
    "    pdf.cell(50, 10, 'Données pour le département : \"'+taxo_dep_df[taxo_dep_df['dep'] == dep].iloc[0]['libelle']+'\"', 0, 1, 'A')\n",
    "    pdf.ln(110)\n",
    "\n",
    "    pdf.set_font('Arial', 'I', 8)\n",
    "\n",
    "    pdf.cell(10)\n",
    "    pdf.cell(50, 10, 'Données issues du tableau de bord des aides aux entreprises consultable sur https://aides-entreprises.data.gouv.fr', 0, 1, 'A')\n",
    "    \n",
    "    #FONDS DE SOLIDARITÉ\n",
    "    \n",
    "    phrase1 = \"Depuis le début de la crise sanitaire de la COVID-19, l'État et les Régions ont mis en place un fonds de solidarité pour prévenir la cessation d'activité des petites\" # \n",
    "    phrase2 = \"entreprises, micro-entrepreneurs, indépendants et professions libérales, particulièrement touchés par les conséquences économiques de la COVID-19.\"\n",
    "    phrase3 = \"\"\n",
    "    source_dict = {'name':'Les données utilisées proviennent de la DGFIP et sont disponibles en open data sur data.gouv.fr', 'url':'https://www.data.gouv.fr/fr/datasets/aides-aux-entreprises-dans-le-cadre-de-lepidemie-de-covid-19-en-france/'}\n",
    "    \n",
    "    title_header = 'FONDS DE SOLIDARITÉ'\n",
    "    subtitle_header = find_last_update('aides')\n",
    "    pdf.add_page()\n",
    "    pdf = add_page_report(pdf, 'aides', dep, 'fds', phrase1, phrase2, phrase3, 'd\\'aides : ', source_dict)\n",
    "\n",
    "    #PGE\n",
    "    \n",
    "    phrase1 = \"Le Gouvernement met en oeuvre un dispositif exceptionnel de garanties permettant de soutenir le financement bancaire des entreprises, à hauteur de 300 milliards\"\n",
    "    phrase2 = \"d'euros.\"\n",
    "    phrase3 = \"Les entreprises peuvent désormais contracter un prêt jusqu'au 30 juin 2021 au lieu du 31 décembre 2020.\"\n",
    "    source_dict = {'name':'Les données utilisées proviennent de la DG Trésor et sont disponibles en open data sur data.gouv.fr', 'url':'https://www.data.gouv.fr/fr/datasets/donnees-relatives-aux-prets-garantis-par-letat-dans-le-cadre-de-lepidemie-de-covid-19/'}\n",
    "    \n",
    "    title_header = 'PRÊTS GARANTIS PAR L\\'ÉTAT'\n",
    "    subtitle_header = find_last_update('pge')\n",
    "    pdf.add_page()\n",
    "    pdf = add_page_report(pdf, 'pge', dep, 'pge', phrase1, phrase2, phrase3, 'de prêts : ', source_dict)\n",
    "\n",
    "    #REPORTS D'ECHEANCES FISCALES\n",
    "    \n",
    "    phrase1 = \"Le Gouvernement a annoncé le report des principales échéances fiscales des professionnels afin de tenir compte de leurs difficultés liées à la crise sanitaire \"\n",
    "    phrase2 = \"de la COVID-19.\"\n",
    "    phrase3 = \"\"\n",
    "    source_dict = {'name':'Les données utilisées proviennent de la DGFIP et sont disponibles en open data sur data.gouv.fr', 'url':'https://www.data.gouv.fr/fr/datasets/donnees-relatives-aux-reports-decheances-fiscales-accordes-dans-le-cadre-de-lepidemie-de-covid-19/'}\n",
    "    \n",
    "    title_header = 'REPORTS D\\'ÉCHÉANCES FISCALES'\n",
    "    subtitle_header = find_last_update('report')\n",
    "    pdf.add_page()\n",
    "    pdf = add_page_report(pdf, 'report', dep, 'reports', phrase1, phrase2, phrase3, 'de reports : ', source_dict)\n",
    "\n",
    "    #CPSTI\n",
    "    \n",
    "    phrase1 = \"Le Conseil de la protection sociale des travailleurs indépendants (CPSTI) met en place une aide financière exceptionnelle à destination de tous les commerçants\"\n",
    "    phrase2 = \"et les artisans qui sont en activité au 15 mars 2020 et ont été immatriculés avant le 1er janvier 2019.\"\n",
    "    phrase3 = \"\"\n",
    "    source_dict = {'name':\"Les données utilisées proviennent de l'URSSAF et sont disponibles en open data sur data.gouv.fr\", 'url':'https://www.data.gouv.fr/fr/datasets/donnees-relatives-aux-aides-exceptionnelles-aux-artisans-et-commercants-dans-le-cadre-de-lepidemie-de-covid-19/'}\n",
    "    \n",
    "    title_header = 'AIDES AUX ARTISANS, COMMERÇANTS'\n",
    "    subtitle_header = find_last_update('cpsti')\n",
    "    pdf.add_page()\n",
    "    pdf = add_page_report(pdf, 'cpsti' , dep,'cpsti', phrase1, phrase2, phrase3, 'd\\'aides : ', source_dict)\n",
    "    \n",
    "    #ACTIVITE PARTIELLE\n",
    "    \n",
    "    phrase1 = \"L'activité partielle permet à l'employeur en difficulté de faire prendre en charge tout ou partie du coût de la rémunération de ses salariés. L'activité partielle\"\n",
    "    phrase2 = \"s'adresse à tous les salariés qui subissent une baisse de rémunération imputable soit à une réduction de l'horaire de travail pratiqué dans l'établissement ou\"\n",
    "    phrase3 = \"partie de l'établissement en deçà de la durée légale de travail, soit à une fermeture temporaire de tout ou partie de l'établissement.\"\n",
    "    source_dict = {'name':'Les données utilisées proviennent de la DARES', 'url':'https://dares.travail-emploi.gouv.fr/dares-etudes-et-statistiques/tableaux-de-bord/le-marche-du-travail-pendant-le-covid-19/tableaux-de-bord-hebdomadaires'}\n",
    "    \n",
    "    title_header = 'ACTIVITÉ PARTIELLE'\n",
    "    subtitle_header = find_last_update('activite-partielle')\n",
    "    pdf.add_page()\n",
    "    pdf = add_actpart_page_report(pdf, dep, 'activitepartielle', phrase1, phrase2, phrase3, source_dict)\n",
    "    \n",
    "\n",
    "    pdf.output(os.path.join(reports_dir_path, 'pdf', 'Suivi_aides_entreprises_'+taxo_dep_df[taxo_dep_df['dep'] == dep].iloc[0]['libelle']+'.pdf'), 'F')\n",
    "    \n",
    "    print(str(datetime.datetime.today()) + ' - ' + dep + ' done.')"
   ]
  },
  {
   "cell_type": "markdown",
   "id": "registered-south",
   "metadata": {
    "papermill": {
     "duration": 0.061674,
     "end_time": "2021-05-09T00:27:11.481606",
     "exception": false,
     "start_time": "2021-05-09T00:27:11.419932",
     "status": "completed"
    },
    "tags": []
   },
   "source": [
    "## Compress to ZIP"
   ]
  },
  {
   "cell_type": "code",
   "execution_count": 30,
   "id": "continent-catch",
   "metadata": {
    "execution": {
     "iopub.execute_input": "2021-05-09T00:27:11.605240Z",
     "iopub.status.busy": "2021-05-09T00:27:11.604586Z",
     "iopub.status.idle": "2021-05-09T00:27:11.606858Z",
     "shell.execute_reply": "2021-05-09T00:27:11.606379Z"
    },
    "papermill": {
     "duration": 0.064903,
     "end_time": "2021-05-09T00:27:11.607000",
     "exception": false,
     "start_time": "2021-05-09T00:27:11.542097",
     "status": "completed"
    },
    "tags": []
   },
   "outputs": [],
   "source": [
    "from zipfile import ZipFile"
   ]
  },
  {
   "cell_type": "code",
   "execution_count": 31,
   "id": "prescribed-february",
   "metadata": {
    "execution": {
     "iopub.execute_input": "2021-05-09T00:27:11.735598Z",
     "iopub.status.busy": "2021-05-09T00:27:11.735031Z",
     "iopub.status.idle": "2021-05-09T00:27:11.741305Z",
     "shell.execute_reply": "2021-05-09T00:27:11.740784Z"
    },
    "papermill": {
     "duration": 0.075231,
     "end_time": "2021-05-09T00:27:11.741437",
     "exception": false,
     "start_time": "2021-05-09T00:27:11.666206",
     "status": "completed"
    },
    "tags": []
   },
   "outputs": [
    {
     "data": {
      "text/plain": [
       "'2021-05-09'"
      ]
     },
     "execution_count": 31,
     "metadata": {},
     "output_type": "execute_result"
    }
   ],
   "source": [
    "today_date = str(datetime.datetime.today())[:10]\n",
    "today_date"
   ]
  },
  {
   "cell_type": "code",
   "execution_count": 32,
   "id": "modular-blackberry",
   "metadata": {
    "execution": {
     "iopub.execute_input": "2021-05-09T00:27:11.869075Z",
     "iopub.status.busy": "2021-05-09T00:27:11.868531Z",
     "iopub.status.idle": "2021-05-09T00:27:12.367547Z",
     "shell.execute_reply": "2021-05-09T00:27:12.366566Z"
    },
    "papermill": {
     "duration": 0.564378,
     "end_time": "2021-05-09T00:27:12.367704",
     "exception": false,
     "start_time": "2021-05-09T00:27:11.803326",
     "status": "completed"
    },
    "tags": []
   },
   "outputs": [],
   "source": [
    "my_zip_date = ZipFile(os.path.join(reports_dir_path, 'Suivi_aides_entreprises_{}.zip'.format(today_date)), 'w')\n",
    "my_zip_latest = ZipFile(os.path.join(reports_dir_path, 'Suivi_aides_entreprises_latest.zip'), 'w')\n",
    "\n",
    "for filename in os.listdir(os.path.join(reports_dir_path, 'pdf')) :\n",
    "    if filename.endswith('.pdf') :\n",
    "        my_zip_date.write(os.path.join(reports_dir_path, 'pdf', filename))\n",
    "        my_zip_latest.write(os.path.join(reports_dir_path, 'pdf', filename))\n",
    "        \n",
    "my_zip_date.close()\n",
    "my_zip_latest.close()"
   ]
  }
 ],
 "metadata": {
  "kernelspec": {
   "display_name": "Python 3",
   "language": "python",
   "name": "python3"
  },
  "language_info": {
   "codemirror_mode": {
    "name": "ipython",
    "version": 3
   },
   "file_extension": ".py",
   "mimetype": "text/x-python",
   "name": "python",
   "nbconvert_exporter": "python",
   "pygments_lexer": "ipython3",
   "version": "3.9.5"
  },
  "papermill": {
   "default_parameters": {},
   "duration": 886.122658,
   "end_time": "2021-05-09T00:27:12.741453",
   "environment_variables": {},
   "exception": null,
   "input_path": "report-pdf.ipynb",
   "output_path": "report-pdf.ipynb",
   "parameters": {},
   "start_time": "2021-05-09T00:12:26.618795",
   "version": "2.2.2"
  }
 },
 "nbformat": 4,
 "nbformat_minor": 5
}