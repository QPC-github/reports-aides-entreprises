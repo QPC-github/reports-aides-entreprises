{
 "cells": [
  {
   "cell_type": "markdown",
   "id": "actual-estonia",
   "metadata": {
    "papermill": {
     "duration": 0.081491,
     "end_time": "2021-12-01T01:20:39.935957",
     "exception": false,
     "start_time": "2021-12-01T01:20:39.854466",
     "status": "completed"
    },
    "tags": []
   },
   "source": [
    "# Aides aux Entreprises - PDF Reports"
   ]
  },
  {
   "cell_type": "markdown",
   "id": "velvet-pollution",
   "metadata": {
    "papermill": {
     "duration": 0.091071,
     "end_time": "2021-12-01T01:20:40.106541",
     "exception": false,
     "start_time": "2021-12-01T01:20:40.015470",
     "status": "completed"
    },
    "tags": []
   },
   "source": [
    "## Imports"
   ]
  },
  {
   "cell_type": "code",
   "execution_count": 1,
   "id": "seeing-wallpaper",
   "metadata": {
    "execution": {
     "iopub.execute_input": "2021-12-01T01:20:40.288929Z",
     "iopub.status.busy": "2021-12-01T01:20:40.288414Z",
     "iopub.status.idle": "2021-12-01T01:20:40.643230Z",
     "shell.execute_reply": "2021-12-01T01:20:40.642605Z"
    },
    "papermill": {
     "duration": 0.449506,
     "end_time": "2021-12-01T01:20:40.643390",
     "exception": false,
     "start_time": "2021-12-01T01:20:40.193884",
     "status": "completed"
    },
    "tags": []
   },
   "outputs": [],
   "source": [
    "import json\n",
    "import os\n",
    "import datetime\n",
    "import random\n",
    "\n",
    "from urllib.request import urlopen\n",
    "import urllib\n",
    "\n",
    "import plotly.graph_objects as go\n",
    "import plotly.express as px\n",
    "\n",
    "import pandas as pd\n",
    "import numpy as np\n",
    "\n",
    "from fpdf import FPDF"
   ]
  },
  {
   "cell_type": "markdown",
   "id": "forced-result",
   "metadata": {
    "papermill": {
     "duration": 0.080614,
     "end_time": "2021-12-01T01:20:40.810981",
     "exception": false,
     "start_time": "2021-12-01T01:20:40.730367",
     "status": "completed"
    },
    "tags": []
   },
   "source": [
    "## Functions"
   ]
  },
  {
   "cell_type": "code",
   "execution_count": 2,
   "id": "diagnostic-couple",
   "metadata": {
    "execution": {
     "iopub.execute_input": "2021-12-01T01:20:40.978081Z",
     "iopub.status.busy": "2021-12-01T01:20:40.977542Z",
     "iopub.status.idle": "2021-12-01T01:20:40.980197Z",
     "shell.execute_reply": "2021-12-01T01:20:40.979779Z"
    },
    "papermill": {
     "duration": 0.087831,
     "end_time": "2021-12-01T01:20:40.980303",
     "exception": false,
     "start_time": "2021-12-01T01:20:40.892472",
     "status": "completed"
    },
    "tags": []
   },
   "outputs": [],
   "source": [
    "def import_json_to_dict(url) :\n",
    "    response = urllib.request.urlopen(url)\n",
    "    my_dict = json.loads(response.read())\n",
    "    return my_dict"
   ]
  },
  {
   "cell_type": "code",
   "execution_count": 3,
   "id": "incoming-prague",
   "metadata": {
    "execution": {
     "iopub.execute_input": "2021-12-01T01:20:41.150816Z",
     "iopub.status.busy": "2021-12-01T01:20:41.149739Z",
     "iopub.status.idle": "2021-12-01T01:20:41.151352Z",
     "shell.execute_reply": "2021-12-01T01:20:41.151719Z"
    },
    "papermill": {
     "duration": 0.090343,
     "end_time": "2021-12-01T01:20:41.151846",
     "exception": false,
     "start_time": "2021-12-01T01:20:41.061503",
     "status": "completed"
    },
    "tags": []
   },
   "outputs": [],
   "source": [
    "def mkdir_ifnotexist(path) :\n",
    "    if not os.path.isdir(path) :\n",
    "        os.mkdir(path)"
   ]
  },
  {
   "cell_type": "code",
   "execution_count": 4,
   "id": "tight-attention",
   "metadata": {
    "execution": {
     "iopub.execute_input": "2021-12-01T01:20:41.324708Z",
     "iopub.status.busy": "2021-12-01T01:20:41.324202Z",
     "iopub.status.idle": "2021-12-01T01:20:41.328109Z",
     "shell.execute_reply": "2021-12-01T01:20:41.327686Z"
    },
    "papermill": {
     "duration": 0.095602,
     "end_time": "2021-12-01T01:20:41.328219",
     "exception": false,
     "start_time": "2021-12-01T01:20:41.232617",
     "status": "completed"
    },
    "tags": []
   },
   "outputs": [],
   "source": [
    "def format_number_to_str(x) :\n",
    "    if x == x :\n",
    "        res = str(format(int(round(float(x),0)),\",\")).replace(\",\",\" \").replace(\".\",\",\")\n",
    "    else :\n",
    "        res = 'NaN'\n",
    "    return res"
   ]
  },
  {
   "cell_type": "code",
   "execution_count": 5,
   "id": "satisfied-coordinator",
   "metadata": {
    "execution": {
     "iopub.execute_input": "2021-12-01T01:20:41.505509Z",
     "iopub.status.busy": "2021-12-01T01:20:41.504908Z",
     "iopub.status.idle": "2021-12-01T01:20:41.506108Z",
     "shell.execute_reply": "2021-12-01T01:20:41.506626Z"
    },
    "papermill": {
     "duration": 0.0972,
     "end_time": "2021-12-01T01:20:41.506787",
     "exception": false,
     "start_time": "2021-12-01T01:20:41.409587",
     "status": "completed"
    },
    "tags": []
   },
   "outputs": [],
   "source": [
    "def format_number_to_million_str(x) :\n",
    "    if x == x :\n",
    "        res = str(round(float(x)/1000000,1)).replace('.',',')\n",
    "    else :\n",
    "        res = 'NaN'\n",
    "    return res"
   ]
  },
  {
   "cell_type": "code",
   "execution_count": 6,
   "id": "extended-charles",
   "metadata": {
    "execution": {
     "iopub.execute_input": "2021-12-01T01:20:41.666734Z",
     "iopub.status.busy": "2021-12-01T01:20:41.666249Z",
     "iopub.status.idle": "2021-12-01T01:20:41.670206Z",
     "shell.execute_reply": "2021-12-01T01:20:41.669814Z"
    },
    "papermill": {
     "duration": 0.084593,
     "end_time": "2021-12-01T01:20:41.670317",
     "exception": false,
     "start_time": "2021-12-01T01:20:41.585724",
     "status": "completed"
    },
    "tags": []
   },
   "outputs": [],
   "source": [
    "def format_str_to_int(x) :\n",
    "    if x != 'None' :\n",
    "        res = int(float(x))\n",
    "    else : \n",
    "        res = None\n",
    "    return res"
   ]
  },
  {
   "cell_type": "code",
   "execution_count": 7,
   "id": "operating-insurance",
   "metadata": {
    "execution": {
     "iopub.execute_input": "2021-12-01T01:20:41.830024Z",
     "iopub.status.busy": "2021-12-01T01:20:41.829509Z",
     "iopub.status.idle": "2021-12-01T01:20:41.832172Z",
     "shell.execute_reply": "2021-12-01T01:20:41.831766Z"
    },
    "papermill": {
     "duration": 0.084347,
     "end_time": "2021-12-01T01:20:41.832275",
     "exception": false,
     "start_time": "2021-12-01T01:20:41.747928",
     "status": "completed"
    },
    "tags": []
   },
   "outputs": [],
   "source": [
    "def shorten_long_naf_libelle(libelle) :\n",
    "    if libelle == \"Production et distribution d'eau ; assainissement, gestion des déchets et dépollution\" :\n",
    "        return \"Prod./dist. eau, assainissement, déchets, dépollution\"\n",
    "    else :\n",
    "        return libelle"
   ]
  },
  {
   "cell_type": "code",
   "execution_count": 8,
   "id": "monthly-microwave",
   "metadata": {
    "execution": {
     "iopub.execute_input": "2021-12-01T01:20:41.993594Z",
     "iopub.status.busy": "2021-12-01T01:20:41.993089Z",
     "iopub.status.idle": "2021-12-01T01:20:41.996154Z",
     "shell.execute_reply": "2021-12-01T01:20:41.995748Z"
    },
    "papermill": {
     "duration": 0.086354,
     "end_time": "2021-12-01T01:20:41.996258",
     "exception": false,
     "start_time": "2021-12-01T01:20:41.909904",
     "status": "completed"
    },
    "tags": []
   },
   "outputs": [],
   "source": [
    "months_fr_dict = {\n",
    "    '01':'janvier',\n",
    "    '02':'février',\n",
    "    '03':'mars',\n",
    "    '04':'avril',\n",
    "    '05':'mai',\n",
    "    '06':'juin',\n",
    "    '07':'juillet',\n",
    "    '08':'août',\n",
    "    '09':'septembre',\n",
    "    '10':'octobre',\n",
    "    '11':'novembre',\n",
    "    '12':'décembre'\n",
    "}\n",
    "\n",
    "# yearmonth should be in '2020-01' format\n",
    "\n",
    "def yearmonth_to_fr(yearmonth) :\n",
    "    month = yearmonth[-2:]\n",
    "    year = yearmonth[:4]\n",
    "    \n",
    "    return months_fr_dict[month] + ' ' + year"
   ]
  },
  {
   "cell_type": "code",
   "execution_count": 9,
   "id": "wound-diesel",
   "metadata": {
    "execution": {
     "iopub.execute_input": "2021-12-01T01:20:42.169721Z",
     "iopub.status.busy": "2021-12-01T01:20:42.159460Z",
     "iopub.status.idle": "2021-12-01T01:20:42.174784Z",
     "shell.execute_reply": "2021-12-01T01:20:42.174393Z"
    },
    "papermill": {
     "duration": 0.100995,
     "end_time": "2021-12-01T01:20:42.174896",
     "exception": false,
     "start_time": "2021-12-01T01:20:42.073901",
     "status": "completed"
    },
    "tags": []
   },
   "outputs": [],
   "source": [
    "def make_chart(aide, kpi, maille, chart_type, x_col, y_col, x_label, y_label, others_y_val, title, legend_title=None, show=False, sort_by_y_col_inc=False, sort_by_y_col_dec=False, stack_order=None, dep=None, reg=None, text_col=None, stack_col=None, color_col='color') :\n",
    "    \n",
    "    data_path = './data/{}-{}-{}.csv'.format(aide, kpi, maille)\n",
    "    \n",
    "    if os.path.isfile(data_path) :\n",
    "    \n",
    "        #Loading data\n",
    "        if maille == 'regional' :\n",
    "            dtype={'reg':'str'}\n",
    "        elif maille == 'departemental' :\n",
    "            dtype={'dep':'str'}\n",
    "        else :\n",
    "            dtype={}\n",
    "        \n",
    "        df = pd.read_csv(data_path, dtype=dtype)\n",
    "\n",
    "        #Filtering if departemental or regional\n",
    "        if maille == 'departemental' :\n",
    "            df['dep'] = df['dep'].apply(str)\n",
    "            df = df[df['dep'] == dep]\n",
    "            if len(df) == 0 :\n",
    "                fig = None\n",
    "                print('No data to plot for {}-{}-{}-{}'.format(aide, kpi, maille, dep))\n",
    "        elif maille == 'regional' :\n",
    "            df['reg'] = df['reg'].apply(str)\n",
    "            df = df[df['reg'] == reg]\n",
    "            if len(df) == 0 :\n",
    "                fig = None\n",
    "                print('No data to plot for {}-{}-{}-{}'.format(aide, kpi, maille, reg))\n",
    "\n",
    "        if len(df) > 0 :\n",
    "\n",
    "            #Sorting by x_col and putting \"Others\" (others_y_val) in the end\n",
    "            if sort_by_y_col_inc == True :\n",
    "                df_plot = pd.concat([df[df[y_col] != others_y_val].sort_values(by=y_col, ascending=True), df[df[y_col] == others_y_val]]).reset_index(drop=True)\n",
    "            elif sort_by_y_col_dec == True :\n",
    "                df_plot = pd.concat([df[df[y_col] != others_y_val].sort_values(by=y_col, ascending=False), df[df[y_col] == others_y_val]]).reset_index(drop=True)\n",
    "            else : #sort by decreasing x_col value by default\n",
    "                df_plot = pd.concat([df[df[y_col] != others_y_val].sort_values(by=x_col, ascending=False), df[df[y_col] == others_y_val]]).reset_index(drop=True)    \n",
    "            \n",
    "            if stack_order is not None :\n",
    "                df_stack_list = []\n",
    "                for stack_val in stack_order :\n",
    "                    df_stack = df_plot[df_plot[stack_col] == stack_val]\n",
    "                    df_stack_list += [df_stack]\n",
    "                \n",
    "                df_plot = pd.concat(df_stack_list).reset_index(drop=True)\n",
    "            \n",
    "            #Parameters for plotting\n",
    "            if text_col is not None :\n",
    "                text = text_col\n",
    "            else :\n",
    "                text = x_col + '_fr'\n",
    "\n",
    "            if chart_type == 'hbar' :\n",
    "\n",
    "                df_plot[y_col] = df_plot[y_col].apply(lambda x : x+'   ')\n",
    "                color_discrete_map = {key:value for (key,value) in zip(df_plot[y_col], df_plot[color_col])}\n",
    "\n",
    "                fig = px.bar(df_plot, x=x_col, y=y_col,\n",
    "                         labels={y_col:y_label,x_col:x_label}, \n",
    "                         height=550,\n",
    "                         width=800,\n",
    "                         color=y_col,\n",
    "                         color_discrete_map = color_discrete_map,\n",
    "                         orientation='h',\n",
    "                         text=text,\n",
    "                         title=title)\n",
    "                fig.update_layout(showlegend=False)\n",
    "                fig.layout['xaxis'].tickfont = dict(color = 'rgba(0,0,0,0)')\n",
    "                fig.layout['xaxis'].showgrid = False\n",
    "                fig.for_each_trace(lambda t: t.update(textfont_color='white', insidetextanchor='middle', textposition='inside'))\n",
    "\n",
    "            elif chart_type == 'sthbar' :\n",
    "\n",
    "                color_discrete_map = {key:value for (key,value) in zip(df_plot[stack_col], df_plot[color_col])}\n",
    "\n",
    "                fig = px.bar(df_plot, x=x_col, y=y_col,\n",
    "                         labels={y_col:y_label,x_col:x_label, stack_col:legend_title}, \n",
    "                         height=550,\n",
    "                         width=800,\n",
    "                         color=stack_col,\n",
    "                         color_discrete_map = color_discrete_map,\n",
    "                         orientation='h',\n",
    "                         title=title)\n",
    "                \n",
    "                fig.update_yaxes(type='category', categoryorder='category descending')\n",
    "                fig.layout['yaxis'].tickmode = 'array'\n",
    "                fig.layout['yaxis'].tickvals = sorted(list(set(df_plot['mois'])), reverse=True)\n",
    "                fig.layout['yaxis'].ticktext = [yearmonth_to_fr(yearmonth) + '   ' for yearmonth in sorted(list(set(df_plot['mois'])), reverse=True)]\n",
    "\n",
    "            elif chart_type == 'dpie' :\n",
    "\n",
    "                color_discrete_map = {key:value for (key,value) in zip(df_plot[y_col], df_plot[color_col])}\n",
    "\n",
    "                fig = px.pie(df_plot, values=x_col, names=y_col,\n",
    "                     labels={y_col:y_label,x_col:x_label}, \n",
    "                     height=400,\n",
    "                     width=600,\n",
    "                     hole=0.5,\n",
    "                     color=y_col,\n",
    "                     color_discrete_map = color_discrete_map,\n",
    "                     title=title)\n",
    "\n",
    "                fig.for_each_trace(lambda t: t.update(textfont_color='white', textposition='inside'))\n",
    "\n",
    "            #Center the main title\n",
    "            fig.update_layout(title={'x':0.5, 'xanchor': 'center'})\n",
    "\n",
    "            if show == True :\n",
    "                fig.show()\n",
    "    \n",
    "    else :\n",
    "        fig = None\n",
    "        print('File not found: {}'.format(data_path))\n",
    "    \n",
    "    return fig"
   ]
  },
  {
   "cell_type": "markdown",
   "id": "brown-locator",
   "metadata": {
    "papermill": {
     "duration": 0.080341,
     "end_time": "2021-12-01T01:20:42.332689",
     "exception": false,
     "start_time": "2021-12-01T01:20:42.252348",
     "status": "completed"
    },
    "tags": []
   },
   "source": [
    "## Parameters"
   ]
  },
  {
   "cell_type": "code",
   "execution_count": 10,
   "id": "violent-debate",
   "metadata": {
    "execution": {
     "iopub.execute_input": "2021-12-01T01:20:42.492937Z",
     "iopub.status.busy": "2021-12-01T01:20:42.492447Z",
     "iopub.status.idle": "2021-12-01T01:20:42.495795Z",
     "shell.execute_reply": "2021-12-01T01:20:42.495353Z"
    },
    "papermill": {
     "duration": 0.085434,
     "end_time": "2021-12-01T01:20:42.495908",
     "exception": false,
     "start_time": "2021-12-01T01:20:42.410474",
     "status": "completed"
    },
    "tags": []
   },
   "outputs": [],
   "source": [
    "data_dir_path = './data/'\n",
    "img_dir_path = './img/'\n",
    "reports_dir_path = './reports/'"
   ]
  },
  {
   "cell_type": "code",
   "execution_count": 11,
   "id": "cosmetic-roads",
   "metadata": {
    "execution": {
     "iopub.execute_input": "2021-12-01T01:20:42.666739Z",
     "iopub.status.busy": "2021-12-01T01:20:42.665838Z",
     "iopub.status.idle": "2021-12-01T01:20:42.667176Z",
     "shell.execute_reply": "2021-12-01T01:20:42.666287Z"
    },
    "papermill": {
     "duration": 0.093229,
     "end_time": "2021-12-01T01:20:42.667284",
     "exception": false,
     "start_time": "2021-12-01T01:20:42.574055",
     "status": "completed"
    },
    "tags": []
   },
   "outputs": [],
   "source": [
    "#Taxonomies\n",
    "\n",
    "taxo_nafsec_url = 'https://raw.githubusercontent.com/etalab/dashboard-aides-entreprises/master/backend/json/taxonomies/sections-naf-minify.json'\n",
    "taxo_jurcat_url = 'https://raw.githubusercontent.com/etalab/dashboard-aides-entreprises/master/backend/json/taxonomies/categories-juridiques-minify.json'\n",
    "taxo_effcla_url = 'https://raw.githubusercontent.com/etalab/dashboard-aides-entreprises/master/backend/json/taxonomies/classes-effectifs-minify.json'\n",
    "taxo_nace17_url = 'https://raw.githubusercontent.com/etalab/dashboard-aides-entreprises/master/backend/json/taxonomies/sections-nace17-minify.json'\n",
    "\n",
    "taxo_dep_url = 'https://raw.githubusercontent.com/etalab/dashboard-aides-entreprises/master/backend/json/taxonomies/departements-minify.json'\n",
    "taxo_reg_url = 'https://raw.githubusercontent.com/etalab/dashboard-aides-entreprises/master/backend/json/taxonomies/regions-minify.json'"
   ]
  },
  {
   "cell_type": "code",
   "execution_count": 12,
   "id": "accepted-thumb",
   "metadata": {
    "execution": {
     "iopub.execute_input": "2021-12-01T01:20:42.828404Z",
     "iopub.status.busy": "2021-12-01T01:20:42.827298Z",
     "iopub.status.idle": "2021-12-01T01:20:42.828933Z",
     "shell.execute_reply": "2021-12-01T01:20:42.829298Z"
    },
    "papermill": {
     "duration": 0.084415,
     "end_time": "2021-12-01T01:20:42.829458",
     "exception": false,
     "start_time": "2021-12-01T01:20:42.745043",
     "status": "completed"
    },
    "tags": []
   },
   "outputs": [],
   "source": [
    "mailles_list = ['national', 'regional', 'departemental']"
   ]
  },
  {
   "cell_type": "code",
   "execution_count": 13,
   "id": "spread-charge",
   "metadata": {
    "execution": {
     "iopub.execute_input": "2021-12-01T01:20:42.990602Z",
     "iopub.status.busy": "2021-12-01T01:20:42.990132Z",
     "iopub.status.idle": "2021-12-01T01:20:42.991992Z",
     "shell.execute_reply": "2021-12-01T01:20:42.992365Z"
    },
    "papermill": {
     "duration": 0.085113,
     "end_time": "2021-12-01T01:20:42.992492",
     "exception": false,
     "start_time": "2021-12-01T01:20:42.907379",
     "status": "completed"
    },
    "tags": []
   },
   "outputs": [],
   "source": [
    "#DATA PROCESSING: KPIs to process\n",
    "aides_charts_kpi_dict = {\n",
    "    'aides': ['kpi_top_10_naf', 'kpi_categorie_juridique', 'kpi_classe_effectif'],\n",
    "    'pge':['kpi_top_10_naf'],\n",
    "    'report':['kpi_top_10_naf'],\n",
    "    'cpsti':['kpi_top_10_naf'],\n",
    "    'activite-partielle':['nace17']\n",
    "}\n",
    "\n",
    "#TODO: macro KPIs\n",
    "aides_macro_kpi_dict = {\n",
    "    'aides': ['montant', 'nombre', 'nombre_siren'],\n",
    "    'pge':['montant', 'nombre'],\n",
    "    'report':['montant', 'nombre'],\n",
    "    'cpsti':['montant', 'nombre'],\n",
    "    'activite-partielle':['nombre_salaries_concernes', 'nombre_etablissements_concernes', 'nombre_heures_demandees']\n",
    "}"
   ]
  },
  {
   "cell_type": "code",
   "execution_count": 14,
   "id": "neither-overall",
   "metadata": {
    "execution": {
     "iopub.execute_input": "2021-12-01T01:20:43.158050Z",
     "iopub.status.busy": "2021-12-01T01:20:43.157501Z",
     "iopub.status.idle": "2021-12-01T01:20:43.159748Z",
     "shell.execute_reply": "2021-12-01T01:20:43.159364Z"
    },
    "papermill": {
     "duration": 0.08991,
     "end_time": "2021-12-01T01:20:43.159855",
     "exception": false,
     "start_time": "2021-12-01T01:20:43.069945",
     "status": "completed"
    },
    "tags": []
   },
   "outputs": [],
   "source": [
    "#PLOTTING: parameters for graphs\n",
    "#As of now, we consider these graphs are the same for national, regional and departemental\n",
    "\n",
    "graph_params_list = [\n",
    "    \n",
    "    #Fonds de solidarité\n",
    "    dict(aide='aides',\n",
    "         kpi='kpi_top_10_naf',\n",
    "         x_col='montant',\n",
    "         y_col='libelle_section_naf',\n",
    "         x_label='',\n",
    "         y_label='Section NAF',\n",
    "         others_y_val='Autres sections NAF',\n",
    "         title='Top 10 des aides du fonds de solidarité<br />ventilées par code section NAF (en M€)',\n",
    "         chart_type='hbar'\n",
    "        ),\n",
    "    dict(aide='aides',\n",
    "         kpi='kpi_categorie_juridique',\n",
    "         maille='national',\n",
    "         x_col='montant',\n",
    "         y_col='libelle_cat_juridique',\n",
    "         x_label='',\n",
    "         y_label=\"Catégorie juridique\",\n",
    "         others_y_val=\"Autres Catégories Juridiques\",\n",
    "         title='Top 3 des aides du fonds de solidarité<br />ventilées par catégories juridiques (en M€)',\n",
    "         chart_type='dpie'\n",
    "        ),\n",
    "    dict(aide='aides',\n",
    "         kpi='kpi_classe_effectif',\n",
    "         x_col='montant',\n",
    "         y_col='libelle_classe_effectif',\n",
    "         x_label='',\n",
    "         y_label=\"Classe d'effectif\",\n",
    "         sort_by_y_col_dec=True,\n",
    "         others_y_val=\"Autres Classes d'Effectifs\",\n",
    "         title=\"Aides du fonds de solidarité<br />ventilées par classes d'effectifs (en M€)\",\n",
    "         chart_type='hbar'\n",
    "        ),\n",
    "    \n",
    "    #Prêts garantis par l'Etat\n",
    "    dict(aide='pge',\n",
    "         kpi='kpi_top_10_naf',\n",
    "         maille='national',\n",
    "         x_col='montant',\n",
    "         y_col='libelle_section_naf',\n",
    "         x_label='',\n",
    "         y_label='Section NAF',\n",
    "         others_y_val='Autres sections NAF',\n",
    "         title=\"Top 10 des prêts garantis par l'Etat<br />ventilés par code section NAF (en M€)\",\n",
    "         chart_type='hbar'\n",
    "        ),\n",
    "    \n",
    "    #Reports d'échéances fiscales\n",
    "    dict(aide='report',\n",
    "         kpi='kpi_top_10_naf',\n",
    "         x_col='montant',\n",
    "         y_col='libelle_section_naf',\n",
    "         x_label='',\n",
    "         y_label='Section NAF',\n",
    "         others_y_val='Autres sections NAF',\n",
    "         title=\"Top 10 des reports d'échéances fiscales<br />ventilés par code section NAF (en M€)\",\n",
    "         chart_type='hbar'\n",
    "        ),\n",
    "    \n",
    "    #Aides artisans/commerçants\n",
    "    dict(aide='cpsti',\n",
    "         kpi='kpi_top_10_naf',\n",
    "         x_col='montant',\n",
    "         y_col='libelle_section_naf',\n",
    "         x_label='',\n",
    "         y_label='Section NAF',\n",
    "         others_y_val='Autres sections NAF',\n",
    "         title=\"Top 10 des aides CPSTI<br />ventilés par code section NAF (en M€)\",\n",
    "         chart_type='hbar'\n",
    "        ),\n",
    "    \n",
    "    #Activité partielle\n",
    "    dict(aide='activite-partielle',\n",
    "         kpi='nace17',\n",
    "         x_col='nombre_salaries_concernes',\n",
    "         y_col='mois',\n",
    "         stack_col='libelle',\n",
    "         x_label='',\n",
    "         y_label='Mois',\n",
    "         sort_by_y_col_inc=True,\n",
    "         others_y_val='Autres sections NACE 17',\n",
    "         stack_order=['Commerce', \"Act. scientif. et tech. ; services admin. et de soutien\", 'Hébergement et restauration', 'Construction', \"Fabrication d'autres produits indus.\", 'Autres sections NACE 17'],\n",
    "         title=\"Nombre de salariés concernés par l'activité partielle<br />ventilés par code section NACE 17\",\n",
    "         legend_title=' ',\n",
    "         chart_type='sthbar'\n",
    "        ),\n",
    "]"
   ]
  },
  {
   "cell_type": "markdown",
   "id": "approximate-property",
   "metadata": {
    "papermill": {
     "duration": 0.077831,
     "end_time": "2021-12-01T01:20:43.315135",
     "exception": false,
     "start_time": "2021-12-01T01:20:43.237304",
     "status": "completed"
    },
    "tags": []
   },
   "source": [
    "## Loading taxonomies data"
   ]
  },
  {
   "cell_type": "code",
   "execution_count": 15,
   "id": "retained-buffalo",
   "metadata": {
    "execution": {
     "iopub.execute_input": "2021-12-01T01:20:43.477615Z",
     "iopub.status.busy": "2021-12-01T01:20:43.477099Z",
     "iopub.status.idle": "2021-12-01T01:20:43.961072Z",
     "shell.execute_reply": "2021-12-01T01:20:43.961549Z"
    },
    "papermill": {
     "duration": 0.568263,
     "end_time": "2021-12-01T01:20:43.961758",
     "exception": false,
     "start_time": "2021-12-01T01:20:43.393495",
     "status": "completed"
    },
    "tags": []
   },
   "outputs": [],
   "source": [
    "taxo_nafsec_df = pd.DataFrame(import_json_to_dict(taxo_nafsec_url))\n",
    "taxo_jurcat_df = pd.DataFrame(import_json_to_dict(taxo_jurcat_url))\n",
    "taxo_effcla_df = pd.DataFrame(import_json_to_dict(taxo_effcla_url))\n",
    "taxo_nace17_df = pd.DataFrame(import_json_to_dict(taxo_nace17_url))\n",
    "\n",
    "taxo_dep_df = pd.DataFrame(import_json_to_dict(taxo_dep_url))\n",
    "taxo_reg_df = pd.DataFrame(import_json_to_dict(taxo_reg_url))"
   ]
  },
  {
   "cell_type": "markdown",
   "id": "developmental-palmer",
   "metadata": {
    "papermill": {
     "duration": 0.078826,
     "end_time": "2021-12-01T01:20:44.121080",
     "exception": false,
     "start_time": "2021-12-01T01:20:44.042254",
     "status": "completed"
    },
    "tags": []
   },
   "source": [
    "## Data pre-processing"
   ]
  },
  {
   "cell_type": "code",
   "execution_count": 16,
   "id": "joint-aquatic",
   "metadata": {
    "execution": {
     "iopub.execute_input": "2021-12-01T01:20:44.299487Z",
     "iopub.status.busy": "2021-12-01T01:20:44.298241Z",
     "iopub.status.idle": "2021-12-01T01:20:47.131761Z",
     "shell.execute_reply": "2021-12-01T01:20:47.132123Z"
    },
    "papermill": {
     "duration": 2.93082,
     "end_time": "2021-12-01T01:20:47.132280",
     "exception": false,
     "start_time": "2021-12-01T01:20:44.201460",
     "status": "completed"
    },
    "tags": []
   },
   "outputs": [
    {
     "name": "stderr",
     "output_type": "stream",
     "text": [
      "<timed exec>:45: FutureWarning: In a future version of pandas all arguments of DataFrame.drop except for the argument 'labels' will be keyword-only\n",
      "<timed exec>:50: FutureWarning: In a future version of pandas all arguments of DataFrame.drop except for the argument 'labels' will be keyword-only\n",
      "<timed exec>:54: FutureWarning: In a future version of pandas all arguments of DataFrame.drop except for the argument 'labels' will be keyword-only\n"
     ]
    },
    {
     "name": "stderr",
     "output_type": "stream",
     "text": [
      "<timed exec>:58: FutureWarning: In a future version of pandas all arguments of DataFrame.drop except for the argument 'labels' will be keyword-only\n"
     ]
    },
    {
     "name": "stdout",
     "output_type": "stream",
     "text": [
      "Empty data for activite-partielle-departemental\n",
      "CPU times: user 1.04 s, sys: 19.8 ms, total: 1.06 s\n",
      "Wall time: 2.83 s\n"
     ]
    }
   ],
   "source": [
    "%%time\n",
    "#Charts data processing (one CSV file per aide type, KPI and maille)\n",
    "\n",
    "mkdir_ifnotexist(data_dir_path)\n",
    "\n",
    "for aide in aides_charts_kpi_dict.keys() :\n",
    "    for maille in mailles_list :\n",
    "        \n",
    "        #Condition to drop when activite-partielle data is back to \"normal\" folder\n",
    "        if aide != 'activite-partielle' : \n",
    "            #url = \"https://raw.githubusercontent.com/etalab/dashboard-aides-entreprises/master/backend/json/{}/{}-maille-{}-minify.json\".format(aide, aide, maille)\n",
    "            url = \"https://raw.githubusercontent.com/etalab/dashboard-aides-entreprises/master/backend/json/{}/{}-maille-{}.json\".format(aide, aide, maille)\n",
    "        else :\n",
    "            #url = \"https://raw.githubusercontent.com/etalab/dashboard-aides-entreprises/master/backend/json/{}3/{}-3-maille-{}-minify.json\".format(aide, aide, maille)\n",
    "            url = \"https://raw.githubusercontent.com/etalab/dashboard-aides-entreprises/master/backend/json/{}3/{}-3-maille-{}.json\".format(aide, aide, maille)\n",
    "            \n",
    "        data = import_json_to_dict(url)\n",
    "        \n",
    "        if len(data) > 0 :\n",
    "    \n",
    "            for kpi in aides_charts_kpi_dict[aide] :\n",
    "\n",
    "                df_list = []\n",
    "\n",
    "                if maille == 'departemental' :\n",
    "                    for item in data :\n",
    "                        df_dep = pd.DataFrame(item[kpi])\n",
    "                        df_dep['dep'] = item['dep']\n",
    "                        df_list += [df_dep]\n",
    "\n",
    "                elif maille == 'regional' :\n",
    "                    for item in data :\n",
    "                        df_reg = pd.DataFrame(item[kpi])\n",
    "                        df_reg['reg'] = item['reg']\n",
    "                        df_list += [df_reg]\n",
    "\n",
    "                else :\n",
    "                    df_list = [pd.DataFrame(data[0][kpi])]\n",
    "\n",
    "                #Concatenating data in a single dataframe\n",
    "                df = pd.concat(df_list).reset_index(drop=True)\n",
    "\n",
    "                #Adding color information for plotting\n",
    "                if kpi == 'kpi_top_10_naf' :\n",
    "                    df = df.merge(taxo_nafsec_df[['code_section', 'color_section']].rename(columns={'code_section':'section_naf'}), on='section_naf', how='left')\n",
    "                    df.drop('section_naf', 1, inplace=True)\n",
    "                    df.rename(columns={'color_section':'color'}, inplace=True)\n",
    "\n",
    "                elif kpi == 'kpi_categorie_juridique' :\n",
    "                    df = df.merge(taxo_jurcat_df[['code', 'color']].rename(columns={'code':'code_cat_juridique'}), on='code_cat_juridique', how='left')\n",
    "                    df.drop('code_cat_juridique', 1, inplace=True)\n",
    "\n",
    "                elif kpi == 'kpi_classe_effectif' :\n",
    "                    df = df.merge(taxo_effcla_df[['denomination', 'color']].rename(columns={'denomination':'classe_effectif'}), on='classe_effectif', how='left')\n",
    "                    df.drop('classe_effectif', 1, inplace=True)\n",
    "\n",
    "                elif kpi == 'nace17' : #Only activite-partielle as of now\n",
    "                    df = df.merge(taxo_nace17_df[['code_section_nace17', 'color_section']], on='code_section_nace17', how='left')\n",
    "                    df.drop('code_section_nace17', 1, inplace=True)\n",
    "                    df.rename(columns={'color_section':'color'}, inplace=True)\n",
    "                    \n",
    "                    row_df_list = []\n",
    "\n",
    "                    for row in df.iterrows() :\n",
    "\n",
    "                        row_df = pd.DataFrame(eval(str(row[1]['data'])))\n",
    "\n",
    "                        row_df['libelle'] = row[1]['libelle']\n",
    "                        if 'reg' in df.columns:\n",
    "                            row_df['reg'] = row[1]['reg']\n",
    "                            row_df['reg'] = row_df['reg'].apply(lambda x : str(x).zfill(2))\n",
    "                        if 'dep' in df.columns:\n",
    "                            row_df['dep'] = row[1]['dep']\n",
    "                            row_df['dep'] = row_df['dep'].apply(lambda x : str(x).zfill(2))\n",
    "                        row_df['color'] = row[1]['color']\n",
    "\n",
    "                        row_df_list += [row_df]\n",
    "\n",
    "                    df = pd.concat(row_df_list).reset_index(drop=True)\n",
    "                    \n",
    "                    for col in ['nombre_demandes_deposees', 'nombre_heures_demandees', 'nombre_salaries_concernes'] :\n",
    "                        df[col] = df[col].apply(format_str_to_int)\n",
    "\n",
    "                else :\n",
    "                    print('Unknown KPI, could not assign colors.')\n",
    "\n",
    "                df['color'].fillna('#AAAAAA', inplace=True)\n",
    "\n",
    "                #Creating labels for plotting (depending on existing columns)\n",
    "\n",
    "                if 'montant' in df.columns :\n",
    "                    df['montant_fr'] = df['montant'].apply(lambda x: format_number_to_million_str(x) + \" M€\")\n",
    "\n",
    "                if 'nombre' in df.columns :\n",
    "                    df['nombre_fr'] = df['nombre'].apply(lambda x: format_number_to_str(x) + \" aides\")\n",
    "\n",
    "                if 'nombre_siren' in df.columns :\n",
    "                    df['nombre_siren_fr'] = df['nombre_siren'].apply(lambda x: format_number_to_str(x) + \" entreprises\")\n",
    "\n",
    "                if 'nombre_demandes_deposees' in df.columns :\n",
    "                    df['nombre_demandes_deposees_fr'] = df['nombre_demandes_deposees'].apply(lambda x: format_number_to_str(x) + \" demandes\")\n",
    "\n",
    "                if 'nombre_etablissements_concernes' in df.columns :\n",
    "                    df['nombre_etablissements_concernes_fr'] = df['nombre_etablissements_concernes'].apply(lambda x: format_number_to_str(x) + \" entreprises\")\n",
    "\n",
    "                if 'nombre_heures_demandees' in df.columns :\n",
    "                    df['nombre_heures_demandees_fr'] = df['nombre_heures_demandees'].apply(lambda x: format_number_to_str(x) + \" heures\")\n",
    "\n",
    "                if 'nombre_salaries_concernes' in df.columns :\n",
    "                    df['nombre_salaries_concernes_fr'] = df['nombre_salaries_concernes'].apply(lambda x: format_number_to_str(x) + \" salariés\")\n",
    "                    \n",
    "                #NAF: shorten NAF section that is too long and dropping '0' values (does not make sense with \"top 10\")\n",
    "                if kpi == 'kpi_top_10_naf' :\n",
    "                    df['libelle_section_naf'] = df['libelle_section_naf'].apply(shorten_long_naf_libelle)\n",
    "                    df = df[df['montant'].apply(float) > 0]\n",
    "\n",
    "                df.to_csv(os.path.join(data_dir_path, '{}-{}-{}.csv'.format(aide, kpi, maille)), index=False)\n",
    "                \n",
    "        else :\n",
    "            print('Empty data for {}-{}'.format(aide,maille))"
   ]
  },
  {
   "cell_type": "code",
   "execution_count": 17,
   "id": "c2a5f132-bcae-427d-a46c-38c8b2714bd0",
   "metadata": {
    "execution": {
     "iopub.execute_input": "2021-12-01T01:20:47.307467Z",
     "iopub.status.busy": "2021-12-01T01:20:47.306988Z",
     "iopub.status.idle": "2021-12-01T01:20:47.311000Z",
     "shell.execute_reply": "2021-12-01T01:20:47.310517Z"
    },
    "papermill": {
     "duration": 0.096186,
     "end_time": "2021-12-01T01:20:47.311107",
     "exception": false,
     "start_time": "2021-12-01T01:20:47.214921",
     "status": "completed"
    },
    "tags": []
   },
   "outputs": [
    {
     "name": "stdout",
     "output_type": "stream",
     "text": [
      "https://raw.githubusercontent.com/etalab/dashboard-aides-entreprises/master/backend/json/activite-partielle3/activite-partielle-3-maille-departemental.json\n"
     ]
    }
   ],
   "source": [
    "print(url)"
   ]
  },
  {
   "cell_type": "markdown",
   "id": "treated-order",
   "metadata": {
    "papermill": {
     "duration": 0.082443,
     "end_time": "2021-12-01T01:20:47.477530",
     "exception": false,
     "start_time": "2021-12-01T01:20:47.395087",
     "status": "completed"
    },
    "tags": []
   },
   "source": [
    "## Making the graphs"
   ]
  },
  {
   "cell_type": "code",
   "execution_count": 18,
   "id": "located-allocation",
   "metadata": {
    "execution": {
     "iopub.execute_input": "2021-12-01T01:20:47.660768Z",
     "iopub.status.busy": "2021-12-01T01:20:47.658868Z",
     "iopub.status.idle": "2021-12-01T01:20:47.680235Z",
     "shell.execute_reply": "2021-12-01T01:20:47.679810Z"
    },
    "papermill": {
     "duration": 0.119343,
     "end_time": "2021-12-01T01:20:47.680353",
     "exception": false,
     "start_time": "2021-12-01T01:20:47.561010",
     "status": "completed"
    },
    "tags": []
   },
   "outputs": [
    {
     "name": "stdout",
     "output_type": "stream",
     "text": [
      "101 departements.\n",
      "18 regions.\n"
     ]
    }
   ],
   "source": [
    "#Get departements and regions lists\n",
    "\n",
    "taxo_dep_df = pd.DataFrame(import_json_to_dict(taxo_dep_url))\n",
    "dep_list = list(taxo_dep_df['dep'])\n",
    "print('{} departements.'.format(len(dep_list)))\n",
    "\n",
    "taxo_reg_df = pd.DataFrame(import_json_to_dict(taxo_reg_url))\n",
    "reg_list = list(taxo_reg_df['reg'])\n",
    "print('{} regions.'.format(len(reg_list)))"
   ]
  },
  {
   "cell_type": "code",
   "execution_count": 19,
   "id": "unlikely-lewis",
   "metadata": {
    "execution": {
     "iopub.execute_input": "2021-12-01T01:20:47.856307Z",
     "iopub.status.busy": "2021-12-01T01:20:47.855310Z",
     "iopub.status.idle": "2021-12-01T01:20:47.858965Z",
     "shell.execute_reply": "2021-12-01T01:20:47.858562Z"
    },
    "papermill": {
     "duration": 0.094509,
     "end_time": "2021-12-01T01:20:47.859071",
     "exception": false,
     "start_time": "2021-12-01T01:20:47.764562",
     "status": "completed"
    },
    "tags": []
   },
   "outputs": [],
   "source": [
    "#Building the folders structures\n",
    "mkdir_ifnotexist(img_dir_path)\n",
    "mkdir_ifnotexist(os.path.join(img_dir_path, 'national'))\n",
    "\n",
    "#Regions subfolders\n",
    "mkdir_ifnotexist(os.path.join(img_dir_path, 'regional'))\n",
    "for reg in reg_list :\n",
    "    mkdir_ifnotexist(os.path.join(img_dir_path, 'regional', reg))\n",
    "    \n",
    "#Departements subfolders\n",
    "mkdir_ifnotexist(os.path.join(img_dir_path, 'departemental'))\n",
    "for dep in dep_list :\n",
    "    mkdir_ifnotexist(os.path.join(img_dir_path, 'departemental', dep))"
   ]
  },
  {
   "cell_type": "code",
   "execution_count": 20,
   "id": "lovely-simulation",
   "metadata": {
    "execution": {
     "iopub.execute_input": "2021-12-01T01:20:48.036487Z",
     "iopub.status.busy": "2021-12-01T01:20:48.034248Z",
     "iopub.status.idle": "2021-12-01T01:22:46.739606Z",
     "shell.execute_reply": "2021-12-01T01:22:46.738829Z"
    },
    "papermill": {
     "duration": 118.795477,
     "end_time": "2021-12-01T01:22:46.739741",
     "exception": false,
     "start_time": "2021-12-01T01:20:47.944264",
     "status": "completed"
    },
    "tags": []
   },
   "outputs": [
    {
     "name": "stdout",
     "output_type": "stream",
     "text": [
      "national-aides-kpi_top_10_naf done.\n",
      "national-aides-kpi_categorie_juridique done.\n"
     ]
    },
    {
     "name": "stdout",
     "output_type": "stream",
     "text": [
      "national-aides-kpi_classe_effectif done.\n",
      "national-pge-kpi_top_10_naf done.\n"
     ]
    },
    {
     "name": "stdout",
     "output_type": "stream",
     "text": [
      "national-report-kpi_top_10_naf done.\n",
      "national-cpsti-kpi_top_10_naf done.\n"
     ]
    },
    {
     "name": "stdout",
     "output_type": "stream",
     "text": [
      "national-activite-partielle-nace17 done.\n"
     ]
    },
    {
     "name": "stdout",
     "output_type": "stream",
     "text": [
      "regional-aides-kpi_top_10_naf done.\n"
     ]
    },
    {
     "name": "stdout",
     "output_type": "stream",
     "text": [
      "regional-aides-kpi_categorie_juridique done.\n"
     ]
    },
    {
     "name": "stdout",
     "output_type": "stream",
     "text": [
      "regional-aides-kpi_classe_effectif done.\n"
     ]
    },
    {
     "name": "stdout",
     "output_type": "stream",
     "text": [
      "regional-pge-kpi_top_10_naf done.\n"
     ]
    },
    {
     "name": "stdout",
     "output_type": "stream",
     "text": [
      "regional-report-kpi_top_10_naf done.\n"
     ]
    },
    {
     "name": "stdout",
     "output_type": "stream",
     "text": [
      "No data to plot for cpsti-kpi_top_10_naf-regional-06\n"
     ]
    },
    {
     "name": "stdout",
     "output_type": "stream",
     "text": [
      "regional-cpsti-kpi_top_10_naf done.\n"
     ]
    },
    {
     "name": "stdout",
     "output_type": "stream",
     "text": [
      "regional-activite-partielle-nace17 done.\n"
     ]
    },
    {
     "name": "stdout",
     "output_type": "stream",
     "text": [
      "departemental-aides-kpi_top_10_naf done.\n"
     ]
    },
    {
     "name": "stdout",
     "output_type": "stream",
     "text": [
      "departemental-aides-kpi_categorie_juridique done.\n"
     ]
    },
    {
     "name": "stdout",
     "output_type": "stream",
     "text": [
      "departemental-aides-kpi_classe_effectif done.\n"
     ]
    },
    {
     "name": "stdout",
     "output_type": "stream",
     "text": [
      "departemental-pge-kpi_top_10_naf done.\n"
     ]
    },
    {
     "name": "stdout",
     "output_type": "stream",
     "text": [
      "departemental-report-kpi_top_10_naf done.\n"
     ]
    },
    {
     "name": "stdout",
     "output_type": "stream",
     "text": [
      "No data to plot for cpsti-kpi_top_10_naf-departemental-976\n",
      "departemental-cpsti-kpi_top_10_naf done.\n",
      "File not found: ./data/activite-partielle-nace17-departemental.csv\n",
      "File not found: ./data/activite-partielle-nace17-departemental.csv\n",
      "File not found: ./data/activite-partielle-nace17-departemental.csv\n",
      "File not found: ./data/activite-partielle-nace17-departemental.csv\n",
      "File not found: ./data/activite-partielle-nace17-departemental.csv\n",
      "File not found: ./data/activite-partielle-nace17-departemental.csv\n",
      "File not found: ./data/activite-partielle-nace17-departemental.csv\n",
      "File not found: ./data/activite-partielle-nace17-departemental.csv\n",
      "File not found: ./data/activite-partielle-nace17-departemental.csv\n",
      "File not found: ./data/activite-partielle-nace17-departemental.csv\n",
      "File not found: ./data/activite-partielle-nace17-departemental.csv\n",
      "File not found: ./data/activite-partielle-nace17-departemental.csv\n",
      "File not found: ./data/activite-partielle-nace17-departemental.csv\n",
      "File not found: ./data/activite-partielle-nace17-departemental.csv\n",
      "File not found: ./data/activite-partielle-nace17-departemental.csv\n",
      "File not found: ./data/activite-partielle-nace17-departemental.csv\n",
      "File not found: ./data/activite-partielle-nace17-departemental.csv\n",
      "File not found: ./data/activite-partielle-nace17-departemental.csv\n",
      "File not found: ./data/activite-partielle-nace17-departemental.csv\n",
      "File not found: ./data/activite-partielle-nace17-departemental.csv\n",
      "File not found: ./data/activite-partielle-nace17-departemental.csv\n",
      "File not found: ./data/activite-partielle-nace17-departemental.csv\n",
      "File not found: ./data/activite-partielle-nace17-departemental.csv\n",
      "File not found: ./data/activite-partielle-nace17-departemental.csv\n",
      "File not found: ./data/activite-partielle-nace17-departemental.csv\n",
      "File not found: ./data/activite-partielle-nace17-departemental.csv\n",
      "File not found: ./data/activite-partielle-nace17-departemental.csv\n",
      "File not found: ./data/activite-partielle-nace17-departemental.csv\n",
      "File not found: ./data/activite-partielle-nace17-departemental.csv\n",
      "File not found: ./data/activite-partielle-nace17-departemental.csv\n",
      "File not found: ./data/activite-partielle-nace17-departemental.csv\n",
      "File not found: ./data/activite-partielle-nace17-departemental.csv\n",
      "File not found: ./data/activite-partielle-nace17-departemental.csv\n",
      "File not found: ./data/activite-partielle-nace17-departemental.csv\n",
      "File not found: ./data/activite-partielle-nace17-departemental.csv\n",
      "File not found: ./data/activite-partielle-nace17-departemental.csv\n",
      "File not found: ./data/activite-partielle-nace17-departemental.csv\n",
      "File not found: ./data/activite-partielle-nace17-departemental.csv\n",
      "File not found: ./data/activite-partielle-nace17-departemental.csv\n",
      "File not found: ./data/activite-partielle-nace17-departemental.csv\n",
      "File not found: ./data/activite-partielle-nace17-departemental.csv\n",
      "File not found: ./data/activite-partielle-nace17-departemental.csv\n",
      "File not found: ./data/activite-partielle-nace17-departemental.csv\n",
      "File not found: ./data/activite-partielle-nace17-departemental.csv\n",
      "File not found: ./data/activite-partielle-nace17-departemental.csv\n",
      "File not found: ./data/activite-partielle-nace17-departemental.csv\n",
      "File not found: ./data/activite-partielle-nace17-departemental.csv\n",
      "File not found: ./data/activite-partielle-nace17-departemental.csv\n",
      "File not found: ./data/activite-partielle-nace17-departemental.csv\n",
      "File not found: ./data/activite-partielle-nace17-departemental.csv\n",
      "File not found: ./data/activite-partielle-nace17-departemental.csv\n",
      "File not found: ./data/activite-partielle-nace17-departemental.csv\n",
      "File not found: ./data/activite-partielle-nace17-departemental.csv\n",
      "File not found: ./data/activite-partielle-nace17-departemental.csv\n",
      "File not found: ./data/activite-partielle-nace17-departemental.csv\n",
      "File not found: ./data/activite-partielle-nace17-departemental.csv\n",
      "File not found: ./data/activite-partielle-nace17-departemental.csv\n",
      "File not found: ./data/activite-partielle-nace17-departemental.csv\n",
      "File not found: ./data/activite-partielle-nace17-departemental.csv\n",
      "File not found: ./data/activite-partielle-nace17-departemental.csv\n",
      "File not found: ./data/activite-partielle-nace17-departemental.csv\n",
      "File not found: ./data/activite-partielle-nace17-departemental.csv\n",
      "File not found: ./data/activite-partielle-nace17-departemental.csv\n",
      "File not found: ./data/activite-partielle-nace17-departemental.csv\n",
      "File not found: ./data/activite-partielle-nace17-departemental.csv\n",
      "File not found: ./data/activite-partielle-nace17-departemental.csv\n",
      "File not found: ./data/activite-partielle-nace17-departemental.csv\n",
      "File not found: ./data/activite-partielle-nace17-departemental.csv\n",
      "File not found: ./data/activite-partielle-nace17-departemental.csv\n",
      "File not found: ./data/activite-partielle-nace17-departemental.csv\n",
      "File not found: ./data/activite-partielle-nace17-departemental.csv\n",
      "File not found: ./data/activite-partielle-nace17-departemental.csv\n",
      "File not found: ./data/activite-partielle-nace17-departemental.csv\n",
      "File not found: ./data/activite-partielle-nace17-departemental.csv\n",
      "File not found: ./data/activite-partielle-nace17-departemental.csv\n",
      "File not found: ./data/activite-partielle-nace17-departemental.csv\n",
      "File not found: ./data/activite-partielle-nace17-departemental.csv\n",
      "File not found: ./data/activite-partielle-nace17-departemental.csv\n",
      "File not found: ./data/activite-partielle-nace17-departemental.csv\n",
      "File not found: ./data/activite-partielle-nace17-departemental.csv\n",
      "File not found: ./data/activite-partielle-nace17-departemental.csv\n",
      "File not found: ./data/activite-partielle-nace17-departemental.csv\n",
      "File not found: ./data/activite-partielle-nace17-departemental.csv\n",
      "File not found: ./data/activite-partielle-nace17-departemental.csv\n",
      "File not found: ./data/activite-partielle-nace17-departemental.csv\n",
      "File not found: ./data/activite-partielle-nace17-departemental.csv\n",
      "File not found: ./data/activite-partielle-nace17-departemental.csv\n",
      "File not found: ./data/activite-partielle-nace17-departemental.csv\n",
      "File not found: ./data/activite-partielle-nace17-departemental.csv\n",
      "File not found: ./data/activite-partielle-nace17-departemental.csv\n",
      "File not found: ./data/activite-partielle-nace17-departemental.csv\n",
      "File not found: ./data/activite-partielle-nace17-departemental.csv\n",
      "File not found: ./data/activite-partielle-nace17-departemental.csv\n",
      "File not found: ./data/activite-partielle-nace17-departemental.csv\n",
      "File not found: ./data/activite-partielle-nace17-departemental.csv\n",
      "File not found: ./data/activite-partielle-nace17-departemental.csv\n",
      "File not found: ./data/activite-partielle-nace17-departemental.csv\n",
      "File not found: ./data/activite-partielle-nace17-departemental.csv\n",
      "File not found: ./data/activite-partielle-nace17-departemental.csv\n",
      "File not found: ./data/activite-partielle-nace17-departemental.csv\n",
      "File not found: ./data/activite-partielle-nace17-departemental.csv\n",
      "departemental-activite-partielle-nace17 done.\n",
      "CPU times: user 1min 3s, sys: 667 ms, total: 1min 4s\n",
      "Wall time: 1min 58s\n"
     ]
    }
   ],
   "source": [
    "%%time\n",
    "#Generating all graphs and saving them in appropriate folders\n",
    "for maille in mailles_list :\n",
    "    for param in graph_params_list :\n",
    "        graph_param = param.copy()\n",
    "        graph_param['maille'] = maille\n",
    "        \n",
    "        if maille == 'national' :\n",
    "            img_path = os.path.join(img_dir_path, maille, '{}-{}-{}-{}-{}.png'.format(param['aide'],\n",
    "                                                                                      param['kpi'],\n",
    "                                                                                      param['x_col'],\n",
    "                                                                                      maille,\n",
    "                                                                                      param['chart_type']))\n",
    "\n",
    "            fig = make_chart(**graph_param)\n",
    "            \n",
    "            if fig is not None :\n",
    "                fig.write_image(img_path)\n",
    "            \n",
    "        elif maille == 'regional' :\n",
    "            for reg in reg_list :\n",
    "                graph_param['reg'] = reg\n",
    "                img_path = os.path.join(img_dir_path, maille, reg, '{}-{}-{}-{}-{}.png'.format(param['aide'],\n",
    "                                                                                               param['kpi'],\n",
    "                                                                                               param['x_col'],\n",
    "                                                                                               maille,\n",
    "                                                                                               reg,\n",
    "                                                                                               param['chart_type']))\n",
    "                fig = make_chart(**graph_param) \n",
    "                \n",
    "                if fig is not None :\n",
    "                    fig.write_image(img_path)\n",
    "                \n",
    "        elif maille == 'departemental' :\n",
    "            for dep in dep_list :\n",
    "                graph_param['dep'] = dep\n",
    "                img_path = os.path.join(img_dir_path, maille, dep, '{}-{}-{}-{}-{}.png'.format(param['aide'],\n",
    "                                                                                               param['kpi'],\n",
    "                                                                                               param['x_col'],\n",
    "                                                                                               maille,\n",
    "                                                                                               dep,\n",
    "                                                                                               param['chart_type']))\n",
    "                fig = make_chart(**graph_param) \n",
    "                \n",
    "                if fig is not None :\n",
    "                    fig.write_image(img_path)\n",
    "                    \n",
    "        print('{}-{}-{} done.'.format(maille, param['aide'], param['kpi']))"
   ]
  },
  {
   "cell_type": "markdown",
   "id": "acoustic-percentage",
   "metadata": {
    "papermill": {
     "duration": 0.096356,
     "end_time": "2021-12-01T01:22:46.933350",
     "exception": false,
     "start_time": "2021-12-01T01:22:46.836994",
     "status": "completed"
    },
    "tags": []
   },
   "source": [
    "## Building the reports"
   ]
  },
  {
   "cell_type": "code",
   "execution_count": 21,
   "id": "formed-klein",
   "metadata": {
    "execution": {
     "iopub.execute_input": "2021-12-01T01:22:47.140488Z",
     "iopub.status.busy": "2021-12-01T01:22:47.139993Z",
     "iopub.status.idle": "2021-12-01T01:22:47.143497Z",
     "shell.execute_reply": "2021-12-01T01:22:47.143084Z"
    },
    "papermill": {
     "duration": 0.106516,
     "end_time": "2021-12-01T01:22:47.143603",
     "exception": false,
     "start_time": "2021-12-01T01:22:47.037087",
     "status": "completed"
    },
    "tags": []
   },
   "outputs": [],
   "source": [
    "mkdir_ifnotexist(reports_dir_path)"
   ]
  },
  {
   "cell_type": "code",
   "execution_count": 22,
   "id": "flush-assets",
   "metadata": {
    "execution": {
     "iopub.execute_input": "2021-12-01T01:22:47.355945Z",
     "iopub.status.busy": "2021-12-01T01:22:47.354874Z",
     "iopub.status.idle": "2021-12-01T01:22:47.356478Z",
     "shell.execute_reply": "2021-12-01T01:22:47.356844Z"
    },
    "papermill": {
     "duration": 0.112724,
     "end_time": "2021-12-01T01:22:47.356973",
     "exception": false,
     "start_time": "2021-12-01T01:22:47.244249",
     "status": "completed"
    },
    "tags": []
   },
   "outputs": [],
   "source": [
    "global title_header\n",
    "title_header = ''\n",
    "global subtitle_header\n",
    "subtitle_header = ''"
   ]
  },
  {
   "cell_type": "code",
   "execution_count": 23,
   "id": "lined-booking",
   "metadata": {
    "execution": {
     "iopub.execute_input": "2021-12-01T01:22:47.554086Z",
     "iopub.status.busy": "2021-12-01T01:22:47.553601Z",
     "iopub.status.idle": "2021-12-01T01:22:47.556297Z",
     "shell.execute_reply": "2021-12-01T01:22:47.555897Z"
    },
    "papermill": {
     "duration": 0.104569,
     "end_time": "2021-12-01T01:22:47.556397",
     "exception": false,
     "start_time": "2021-12-01T01:22:47.451828",
     "status": "completed"
    },
    "tags": []
   },
   "outputs": [],
   "source": [
    "class PDF(FPDF):\n",
    "    def header(self):\n",
    "        if (self.page_no() != 1 ):\n",
    "            # Logo\n",
    "            self.image(os.path.join(img_dir_path, 'LogoRF.png'), 10, 8, 33)\n",
    "            self.image(os.path.join(img_dir_path, 'logo_Francerelance_1321294.54.png'), pdf.w-45, 7, 45)\n",
    "            # Arial bold 15\n",
    "            self.cell(50)\n",
    "            self.set_font('Arial', 'B', 16)\n",
    "            self.cell(80, 15, title_header, 0, 1, 'A')\n",
    "\n",
    "            # Move to the right\n",
    "            # Title\n",
    "            self.set_font('Arial', 'I', 9)\n",
    "            self.cell(50)\n",
    "            self.cell(50, 10, subtitle_header+' - aides-entreprises.data.gouv.fr', 0, 1, 'A', link='https://aides-entreprises.data.gouv.fr/')\n",
    "            # Line break  \n",
    "            pdf.line(40, 38, 170, 38)\n",
    "            self.ln(7)\n",
    "        \n",
    "    # Page footer\n",
    "    def footer(self):\n",
    "        if (self.page_no() != 1 ):\n",
    "            # Position at 1.5 cm from bottom\n",
    "            self.set_y(-15)\n",
    "            # Arial italic 8\n",
    "            self.set_font('Arial', 'I', 8)\n",
    "            # Page number\n",
    "            \n",
    "            self.cell(0, 10, 'Direction Interministérielle du Numérique (DINUM) - Page ' + str(self.page_no()) + '/{nb}', 0, 0, 'C')         "
   ]
  },
  {
   "cell_type": "code",
   "execution_count": 24,
   "id": "tamil-ethernet",
   "metadata": {
    "execution": {
     "iopub.execute_input": "2021-12-01T01:22:47.749200Z",
     "iopub.status.busy": "2021-12-01T01:22:47.748723Z",
     "iopub.status.idle": "2021-12-01T01:22:47.751972Z",
     "shell.execute_reply": "2021-12-01T01:22:47.751503Z"
    },
    "papermill": {
     "duration": 0.101287,
     "end_time": "2021-12-01T01:22:47.752072",
     "exception": false,
     "start_time": "2021-12-01T01:22:47.650785",
     "status": "completed"
    },
    "tags": []
   },
   "outputs": [],
   "source": [
    "def format_val(val,add):\n",
    "    return '{:,}'.format(int(float(val))).replace(',', ' ')+add"
   ]
  },
  {
   "cell_type": "code",
   "execution_count": 25,
   "id": "interested-consumer",
   "metadata": {
    "execution": {
     "iopub.execute_input": "2021-12-01T01:22:47.954971Z",
     "iopub.status.busy": "2021-12-01T01:22:47.954478Z",
     "iopub.status.idle": "2021-12-01T01:22:47.957765Z",
     "shell.execute_reply": "2021-12-01T01:22:47.957321Z"
    },
    "papermill": {
     "duration": 0.109246,
     "end_time": "2021-12-01T01:22:47.957874",
     "exception": false,
     "start_time": "2021-12-01T01:22:47.848628",
     "status": "completed"
    },
    "tags": []
   },
   "outputs": [],
   "source": [
    "def get_kpis(aide,maille,geo):\n",
    "    #url = \"https://raw.githubusercontent.com/etalab/dashboard-aides-entreprises/master/backend/json/{}/{}-maille-{}-minify.json\".format(aide, aide, maille)\n",
    "    url = \"https://raw.githubusercontent.com/etalab/dashboard-aides-entreprises/master/backend/json/{}/{}-maille-{}.json\".format(aide, aide, maille)\n",
    "    \n",
    "    data = import_json_to_dict(url)\n",
    "    if(maille == 'national'):\n",
    "        if(aide == 'aides'):\n",
    "            return format_val(data[0]['montant'],' euros'),format_val(data[0]['nombre'],''),format_val(data[0]['nombre_siren'],'')\n",
    "        else:\n",
    "            return format_val(data[0]['montant'],' euros'),format_val(data[0]['nombre'],'')\n",
    "\n",
    "    elif(maille == 'regional'):\n",
    "        for reg in data:\n",
    "            if(reg['reg'] == geo):\n",
    "                if(aide == 'aides'):\n",
    "                    return format_val(reg['montant'],' euros'),format_val(reg['nombre'],''),format_val(reg['nombre_siren'],'')\n",
    "                else:\n",
    "                    return format_val(reg['montant'],' euros'),format_val(reg['nombre'],'')\n",
    "\n",
    "    elif(maille == 'departemental'):\n",
    "        for dep in data:\n",
    "            if(dep['dep'] == geo):\n",
    "                if(aide == 'aides'):\n",
    "                    return format_val(dep['montant'],' euros'),format_val(dep['nombre'],''),format_val(dep['nombre_siren'],'')\n",
    "                else:\n",
    "                    return format_val(dep['montant'],' euros'),format_val(dep['nombre'],'')\n"
   ]
  },
  {
   "cell_type": "code",
   "execution_count": 26,
   "id": "accessory-quantum",
   "metadata": {
    "execution": {
     "iopub.execute_input": "2021-12-01T01:22:48.166579Z",
     "iopub.status.busy": "2021-12-01T01:22:48.165346Z",
     "iopub.status.idle": "2021-12-01T01:22:48.167123Z",
     "shell.execute_reply": "2021-12-01T01:22:48.167489Z"
    },
    "papermill": {
     "duration": 0.109143,
     "end_time": "2021-12-01T01:22:48.167628",
     "exception": false,
     "start_time": "2021-12-01T01:22:48.058485",
     "status": "completed"
    },
    "tags": []
   },
   "outputs": [],
   "source": [
    "def get_actpart_kpis(aide,maille,geo):\n",
    "    #url = \"https://raw.githubusercontent.com/etalab/dashboard-aides-entreprises/master/backend/json/{}3/{}-3-maille-{}-minify.json\".format(aide, aide, maille)\n",
    "    url = \"https://raw.githubusercontent.com/etalab/dashboard-aides-entreprises/master/backend/json/{}3/{}-3-maille-{}.json\".format(aide, aide, maille)\n",
    "    \n",
    "    data = import_json_to_dict(url)\n",
    "    if(maille == 'national'):\n",
    "        return format_val(data[0]['nombre_demandes_deposees'],''), format_val(data[0]['nombre_salaries_concernes'],''),format_val(data[0]['nombre_heures_demandees'],'')\n",
    "\n",
    "    elif(maille == 'regional'):\n",
    "        for reg in data:\n",
    "            if(reg['reg'] == geo):\n",
    "                return format_val(reg['nombre_demandes_deposees'],''), format_val(reg['nombre_salaries_concernes'],''),format_val(reg['nombre_heures_demandees'],'')\n",
    "\n",
    "    elif(maille == 'departemental'):\n",
    "        for dep in data:\n",
    "            if(dep['dep'] == geo):\n",
    "                return format_val(dep['nombre_demandes_deposees'],''), format_val(dep['nombre_salaries_concernes'],''),format_val(dep['nombre_heures_demandees'],'')"
   ]
  },
  {
   "cell_type": "code",
   "execution_count": 27,
   "id": "concerned-macintosh",
   "metadata": {
    "execution": {
     "iopub.execute_input": "2021-12-01T01:22:48.366634Z",
     "iopub.status.busy": "2021-12-01T01:22:48.366161Z",
     "iopub.status.idle": "2021-12-01T01:22:48.368125Z",
     "shell.execute_reply": "2021-12-01T01:22:48.367727Z"
    },
    "papermill": {
     "duration": 0.103111,
     "end_time": "2021-12-01T01:22:48.368228",
     "exception": false,
     "start_time": "2021-12-01T01:22:48.265117",
     "status": "completed"
    },
    "tags": []
   },
   "outputs": [],
   "source": [
    "def find_last_update(aide):\n",
    "    if aide != 'activite-partielle' :\n",
    "        url = \"https://raw.githubusercontent.com/etalab/dashboard-aides-entreprises/master/backend/json/\"+aide+\"/last_update_data.txt\"\n",
    "    else :\n",
    "        url = \"https://raw.githubusercontent.com/etalab/dashboard-aides-entreprises/master/backend/json/\"+aide+\"3/last_update_data.txt\"\n",
    "    u2 = urllib.request.urlopen(url)\n",
    "    return u2.readlines()[0].decode(\"utf-8\")"
   ]
  },
  {
   "cell_type": "code",
   "execution_count": 28,
   "id": "chubby-taxation",
   "metadata": {
    "execution": {
     "iopub.execute_input": "2021-12-01T01:22:48.598678Z",
     "iopub.status.busy": "2021-12-01T01:22:48.588909Z",
     "iopub.status.idle": "2021-12-01T01:22:48.601705Z",
     "shell.execute_reply": "2021-12-01T01:22:48.600946Z"
    },
    "papermill": {
     "duration": 0.128475,
     "end_time": "2021-12-01T01:22:48.601822",
     "exception": false,
     "start_time": "2021-12-01T01:22:48.473347",
     "status": "completed"
    },
    "tags": []
   },
   "outputs": [],
   "source": [
    "def add_page_report(pdf, aide, dep, aideurl, phrase1, phrase2, phrase3, phrase_nombre, source_dict):\n",
    "\n",
    "    pdf.set_fill_color(83,101,125);\n",
    "    pdf.rect(20,41,180,14,'F')\n",
    "    \n",
    "    pdf.image(os.path.join(img_dir_path, 'information.png'), x=10, y=44.5, w=7)\n",
    "    \n",
    "    \n",
    "    pdf.set_font('Arial', 'I', 7)\n",
    "    pdf.set_text_color(255,255,255)\n",
    "    pdf.cell(10)\n",
    "    pdf.cell(10, 3, phrase1, ln=1)\n",
    "    pdf.ln(0)\n",
    "    pdf.cell(10)    \n",
    "    pdf.cell(10, 3, phrase2, ln=1)\n",
    "    pdf.ln(0)\n",
    "    pdf.cell(10)\n",
    "    pdf.cell(10, 3, phrase3, ln=1)\n",
    "    pdf.ln(0)\n",
    "    pdf.cell(10)\n",
    "    pdf.set_font('Arial', 'IU', 7)\n",
    "    pdf.cell(10, 3, source_dict['name'], ln=1, link=source_dict['url'])\n",
    "    pdf.ln(2)\n",
    "       \n",
    "    pdf.set_text_color(0,0,0)\n",
    "\n",
    "\n",
    "    pdf.set_font('Arial', 'BI', 14)\n",
    "    pdf.cell(65, 10, \"Niveau National\", ln=1)\n",
    "    \n",
    "    \n",
    "    pdf.set_font('Arial', '', 14)\n",
    "\n",
    "    hbar_w = 100\n",
    "    dpie_w = 90\n",
    "\n",
    "    pdf.image(os.path.join(img_dir_path, 'national', aide+'-kpi_top_10_naf-montant-national-hbar.png'), x=pdf.w/3-hbar_w/2, y=64, w=hbar_w)\n",
    "\n",
    "    kpis_nat = get_kpis(aide,'national','national')\n",
    "    pdf.ln(10)\n",
    "    pdf.cell((pdf.w/3)*1.55)\n",
    "    pdf.cell(0, 10, \"Montant total : \"+kpis_nat[0], 0, 0)\n",
    "    pdf.ln(15)\n",
    "    pdf.cell((pdf.w/3)*1.55)\n",
    "    pdf.cell(0, 10, \"Nombre \"+phrase_nombre+kpis_nat[1], 0, 0)\n",
    "    pdf.ln(15)\n",
    "    pdf.cell((pdf.w/3)*1.55)\n",
    "    if(aide == 'aides'):\n",
    "        pdf.cell(0, 10, \"Nombre d'entreprises : \"+kpis_nat[2], 0, 0)\n",
    "\n",
    "\n",
    "    pdf.ln(27)\n",
    "\n",
    "    reg = taxo_dep_df[taxo_dep_df['dep'] == dep].iloc[0]['reg']\n",
    "    libelle_reg = taxo_reg_df[taxo_reg_df['reg'] == reg].iloc[0]['libelle']\n",
    "    libelle_dep = taxo_dep_df[taxo_dep_df['dep'] == dep].iloc[0]['libelle']\n",
    "    \n",
    "    pdf.set_font('Arial', 'BI', 14)\n",
    "    pdf.cell(65, 10, \"Niveau Régional : \"+libelle_reg, ln=1)\n",
    "    \n",
    "    if aide == 'cpsti' and reg == '06' :\n",
    "        pdf.set_font('Arial', 'I', 12)\n",
    "        pdf.ln(10)\n",
    "        pdf.cell(0,0,\"Absence de données à l'échelle de la région.\", ln=1)\n",
    "        pdf.ln(15)\n",
    "    else :\n",
    "        pdf.set_font('Arial', '', 14)\n",
    "\n",
    "        hbar_w = 100\n",
    "        dpie_w = 90\n",
    "\n",
    "        kpis_reg = get_kpis(aide,'regional', reg)\n",
    "\n",
    "        pdf.image(os.path.join(img_dir_path, 'regional/'+reg+'/'+aide+'-kpi_top_10_naf-montant-regional-'+reg+'.png'), x=pdf.w/3-hbar_w/2, y=142, w=hbar_w)\n",
    "        pdf.ln(10)\n",
    "        pdf.cell((pdf.w/3)*1.55)\n",
    "        pdf.cell(0, 10, \"Montant total : \"+kpis_reg[0], 0, 0)\n",
    "        pdf.ln(15)\n",
    "        pdf.cell((pdf.w/3)*1.55)\n",
    "        pdf.cell(0, 10, \"Nombre \"+phrase_nombre+kpis_reg[1], 0, 0)\n",
    "        pdf.ln(15)\n",
    "        pdf.cell((pdf.w/3)*1.55)\n",
    "        if(aide == 'aides'):\n",
    "            pdf.cell(0, 10, \"Nombre d'entreprises : \"+kpis_reg[2], 0, 0)\n",
    "\n",
    "        pdf.ln(25)\n",
    "\n",
    "    pdf.set_font('Arial', 'BI', 14)\n",
    "    pdf.cell(65, 15, \"Niveau Départemental : \"+libelle_dep, ln=1)\n",
    "        \n",
    "    if aide == 'cpsti' and dep == '976' :\n",
    "        pdf.ln(10)\n",
    "        pdf.set_font('Arial', 'I', 12)\n",
    "        pdf.cell(0,0,\"Absence de données à l'échelle du département.\", ln=1)\n",
    "        pdf.ln(15)\n",
    "    else :\n",
    "        pdf.set_font('Arial', '', 14)\n",
    "\n",
    "        hbar_w = 100\n",
    "        dpie_w = 90\n",
    "\n",
    "        pdf.image(os.path.join(img_dir_path, 'departemental/'+dep+'/'+aide+'-kpi_top_10_naf-montant-departemental-'+dep+'.png'), x=pdf.w/3-hbar_w/2, y=219, w=hbar_w)\n",
    "\n",
    "        kpis_dep = get_kpis(aide,'departemental', dep)\n",
    "        pdf.ln(8)\n",
    "        pdf.cell((pdf.w/3)*1.55)\n",
    "        pdf.cell(0, 10, \"Montant total : \"+kpis_dep[0], 0, 0)\n",
    "        pdf.ln(15)\n",
    "        pdf.cell((pdf.w/3)*1.55)\n",
    "        pdf.cell(0, 10, \"Nombre \"+phrase_nombre+kpis_dep[1], 0, 0)\n",
    "        pdf.ln(15)\n",
    "        pdf.cell((pdf.w/3)*1.55)\n",
    "        if(aide == 'aides'):\n",
    "            pdf.cell(0, 10, \"Nombre d'entreprises : \"+kpis_dep[2], 0, 0)\n",
    "    \n",
    "    pdf.link(10,57,120,8, 'http://aides-entreprises.data.gouv.fr')\n",
    "    pdf.link(10,134,120,8, 'https://aides-entreprises.data.gouv.fr/'+aideurl+'?datasetid=regions&field=code&value='+reg)\n",
    "    pdf.link(10,212,120,8, 'https://aides-entreprises.data.gouv.fr/'+aideurl+'?datasetid=departements&field=code&value='+dep)\n",
    "    \n",
    "    \n",
    "    return pdf"
   ]
  },
  {
   "cell_type": "code",
   "execution_count": 29,
   "id": "genuine-eagle",
   "metadata": {
    "execution": {
     "iopub.execute_input": "2021-12-01T01:22:48.819622Z",
     "iopub.status.busy": "2021-12-01T01:22:48.810533Z",
     "iopub.status.idle": "2021-12-01T01:22:48.821436Z",
     "shell.execute_reply": "2021-12-01T01:22:48.821057Z"
    },
    "papermill": {
     "duration": 0.120306,
     "end_time": "2021-12-01T01:22:48.821544",
     "exception": false,
     "start_time": "2021-12-01T01:22:48.701238",
     "status": "completed"
    },
    "tags": []
   },
   "outputs": [],
   "source": [
    "def add_actpart_page_report(pdf, dep, aideurl, phrase1, phrase2, phrase3, source_dict):\n",
    "    \n",
    "    aide = 'activite-partielle'\n",
    "    \n",
    "    pdf.set_fill_color(83,101,125);\n",
    "    pdf.rect(20,41,180,14,'F')\n",
    "    \n",
    "    pdf.image(os.path.join(img_dir_path, 'information.png'), x=10, y=44.5, w=7)\n",
    "    \n",
    "    \n",
    "    pdf.set_font('Arial', 'I', 7)\n",
    "    pdf.set_text_color(255,255,255)\n",
    "    pdf.cell(10)\n",
    "    pdf.cell(10, 3, phrase1, ln=1)\n",
    "    pdf.ln(0)\n",
    "    pdf.cell(10)    \n",
    "    pdf.cell(10, 3, phrase2, ln=1)\n",
    "    pdf.ln(0)\n",
    "    pdf.cell(10)\n",
    "    pdf.cell(10, 3, phrase3, ln=1)\n",
    "    pdf.ln(0)\n",
    "    pdf.cell(10)\n",
    "    pdf.set_font('Arial', 'IU', 7)\n",
    "    pdf.cell(10, 3, source_dict['name'], ln=1, link=source_dict['url'])\n",
    "    pdf.ln(2)\n",
    "       \n",
    "    pdf.set_text_color(0,0,0)\n",
    "\n",
    "\n",
    "    pdf.set_font('Arial', 'BI', 14)\n",
    "    pdf.cell(65, 10, \"Niveau National\", ln=1)\n",
    "    \n",
    "    \n",
    "    pdf.set_font('Arial', '', 14)\n",
    "\n",
    "    hbar_w = 100\n",
    "    dpie_w = 90\n",
    "\n",
    "    pdf.image(os.path.join(img_dir_path, 'national', aide+'-nace17-nombre_salaries_concernes-national-sthbar.png'), x=pdf.w/3-hbar_w/2, y=64, w=hbar_w)\n",
    "\n",
    "    kpis_nat = get_actpart_kpis(aide,'national','national')\n",
    "    pdf.ln(10)\n",
    "    pdf.cell((pdf.w/3)*1.55)\n",
    "    pdf.cell(0, 10, \"Nombre de demandes : \"+kpis_nat[0], 0, 0)\n",
    "    pdf.ln(15)\n",
    "    pdf.cell((pdf.w/3)*1.55)\n",
    "    pdf.cell(0, 10, \"Nombre de salariés : \"+kpis_nat[1], 0, 0)\n",
    "    pdf.ln(15)\n",
    "    pdf.cell((pdf.w/3)*1.55)\n",
    "    pdf.cell(0, 10, \"Heures demandées : \"+kpis_nat[2], 0, 0)\n",
    "\n",
    "\n",
    "    pdf.ln(27)\n",
    "\n",
    "    reg = taxo_dep_df[taxo_dep_df['dep'] == dep].iloc[0]['reg']\n",
    "    libelle_reg = taxo_reg_df[taxo_reg_df['reg'] == reg].iloc[0]['libelle']\n",
    "    libelle_dep = taxo_dep_df[taxo_dep_df['dep'] == dep].iloc[0]['libelle']\n",
    "    \n",
    "    pdf.set_font('Arial', 'BI', 14)\n",
    "    pdf.cell(65, 10, \"Niveau Régional : \"+libelle_reg, ln=1)\n",
    "\n",
    "    pdf.set_font('Arial', '', 14)\n",
    "\n",
    "    hbar_w = 100\n",
    "    dpie_w = 90\n",
    "\n",
    "    kpis_reg = get_actpart_kpis(aide,'regional', reg)\n",
    "\n",
    "    pdf.image(os.path.join(img_dir_path, 'regional/'+reg+'/'+aide+'-nace17-nombre_salaries_concernes-regional-'+reg+'.png'), x=pdf.w/3-hbar_w/2, y=142, w=hbar_w)\n",
    "    pdf.ln(10)\n",
    "    pdf.cell((pdf.w/3)*1.55)\n",
    "    pdf.cell(0, 10, \"Nombre de demandes : \"+kpis_reg[0], 0, 0)\n",
    "    pdf.ln(15)\n",
    "    pdf.cell((pdf.w/3)*1.55)\n",
    "    pdf.cell(0, 10, \"Nombre de salariés : \"+kpis_reg[1], 0, 0)\n",
    "    pdf.ln(15)\n",
    "    pdf.cell((pdf.w/3)*1.55)\n",
    "    pdf.cell(0, 10, \"Heures demandées : \"+kpis_reg[2], 0, 0)\n",
    "\n",
    "    pdf.ln(25)\n",
    "    \n",
    "    #Pas de données départementales pour l'instant pour l'activité partielle\n",
    "    \n",
    "    pdf.link(10,57,120,8, 'http://aides-entreprises.data.gouv.fr')\n",
    "    pdf.link(10,134,120,8, 'https://aides-entreprises.data.gouv.fr/'+aideurl+'?datasetid=regions&field=code&value='+reg)\n",
    "    \n",
    "    return pdf"
   ]
  },
  {
   "cell_type": "code",
   "execution_count": 30,
   "id": "developed-classic",
   "metadata": {
    "execution": {
     "iopub.execute_input": "2021-12-01T01:22:49.029051Z",
     "iopub.status.busy": "2021-12-01T01:22:49.023797Z",
     "iopub.status.idle": "2021-12-01T01:32:42.801413Z",
     "shell.execute_reply": "2021-12-01T01:32:42.801905Z"
    },
    "papermill": {
     "duration": 593.884031,
     "end_time": "2021-12-01T01:32:42.802057",
     "exception": false,
     "start_time": "2021-12-01T01:22:48.918026",
     "status": "completed"
    },
    "tags": []
   },
   "outputs": [
    {
     "name": "stdout",
     "output_type": "stream",
     "text": [
      "2021-12-01 01:22:55.359558 - 01 done.\n"
     ]
    },
    {
     "name": "stdout",
     "output_type": "stream",
     "text": [
      "2021-12-01 01:23:01.174512 - 02 done.\n"
     ]
    },
    {
     "name": "stdout",
     "output_type": "stream",
     "text": [
      "2021-12-01 01:23:06.955407 - 03 done.\n"
     ]
    },
    {
     "name": "stdout",
     "output_type": "stream",
     "text": [
      "2021-12-01 01:23:12.996131 - 04 done.\n"
     ]
    },
    {
     "name": "stdout",
     "output_type": "stream",
     "text": [
      "2021-12-01 01:23:19.094912 - 05 done.\n"
     ]
    },
    {
     "name": "stdout",
     "output_type": "stream",
     "text": [
      "2021-12-01 01:23:25.018066 - 06 done.\n"
     ]
    },
    {
     "name": "stdout",
     "output_type": "stream",
     "text": [
      "2021-12-01 01:23:31.279431 - 07 done.\n"
     ]
    },
    {
     "name": "stdout",
     "output_type": "stream",
     "text": [
      "2021-12-01 01:23:37.480331 - 08 done.\n"
     ]
    },
    {
     "name": "stdout",
     "output_type": "stream",
     "text": [
      "2021-12-01 01:23:43.559999 - 09 done.\n"
     ]
    },
    {
     "name": "stdout",
     "output_type": "stream",
     "text": [
      "2021-12-01 01:23:49.424341 - 10 done.\n"
     ]
    },
    {
     "name": "stdout",
     "output_type": "stream",
     "text": [
      "2021-12-01 01:23:55.296348 - 11 done.\n"
     ]
    },
    {
     "name": "stdout",
     "output_type": "stream",
     "text": [
      "2021-12-01 01:24:01.170387 - 12 done.\n"
     ]
    },
    {
     "name": "stdout",
     "output_type": "stream",
     "text": [
      "2021-12-01 01:24:07.160949 - 13 done.\n"
     ]
    },
    {
     "name": "stdout",
     "output_type": "stream",
     "text": [
      "2021-12-01 01:24:13.432444 - 14 done.\n"
     ]
    },
    {
     "name": "stdout",
     "output_type": "stream",
     "text": [
      "2021-12-01 01:24:19.626593 - 15 done.\n"
     ]
    },
    {
     "name": "stdout",
     "output_type": "stream",
     "text": [
      "2021-12-01 01:24:25.491173 - 16 done.\n"
     ]
    },
    {
     "name": "stdout",
     "output_type": "stream",
     "text": [
      "2021-12-01 01:24:31.394356 - 17 done.\n"
     ]
    },
    {
     "name": "stdout",
     "output_type": "stream",
     "text": [
      "2021-12-01 01:24:37.662497 - 18 done.\n"
     ]
    },
    {
     "name": "stdout",
     "output_type": "stream",
     "text": [
      "2021-12-01 01:24:43.847138 - 19 done.\n"
     ]
    },
    {
     "name": "stdout",
     "output_type": "stream",
     "text": [
      "2021-12-01 01:24:49.725234 - 21 done.\n"
     ]
    },
    {
     "name": "stdout",
     "output_type": "stream",
     "text": [
      "2021-12-01 01:24:55.714172 - 22 done.\n"
     ]
    },
    {
     "name": "stdout",
     "output_type": "stream",
     "text": [
      "2021-12-01 01:25:01.577009 - 23 done.\n"
     ]
    },
    {
     "name": "stdout",
     "output_type": "stream",
     "text": [
      "2021-12-01 01:25:07.477766 - 24 done.\n"
     ]
    },
    {
     "name": "stdout",
     "output_type": "stream",
     "text": [
      "2021-12-01 01:25:13.721151 - 25 done.\n"
     ]
    },
    {
     "name": "stdout",
     "output_type": "stream",
     "text": [
      "2021-12-01 01:25:19.904904 - 26 done.\n"
     ]
    },
    {
     "name": "stdout",
     "output_type": "stream",
     "text": [
      "2021-12-01 01:25:26.169047 - 27 done.\n"
     ]
    },
    {
     "name": "stdout",
     "output_type": "stream",
     "text": [
      "2021-12-01 01:25:32.495327 - 28 done.\n"
     ]
    },
    {
     "name": "stdout",
     "output_type": "stream",
     "text": [
      "2021-12-01 01:25:38.802603 - 29 done.\n"
     ]
    },
    {
     "name": "stdout",
     "output_type": "stream",
     "text": [
      "2021-12-01 01:25:45.030801 - 2A done.\n"
     ]
    },
    {
     "name": "stdout",
     "output_type": "stream",
     "text": [
      "2021-12-01 01:25:52.164886 - 2B done.\n"
     ]
    },
    {
     "name": "stdout",
     "output_type": "stream",
     "text": [
      "2021-12-01 01:25:58.453987 - 30 done.\n"
     ]
    },
    {
     "name": "stdout",
     "output_type": "stream",
     "text": [
      "2021-12-01 01:26:04.475152 - 31 done.\n"
     ]
    },
    {
     "name": "stdout",
     "output_type": "stream",
     "text": [
      "2021-12-01 01:26:10.515765 - 32 done.\n"
     ]
    },
    {
     "name": "stdout",
     "output_type": "stream",
     "text": [
      "2021-12-01 01:26:16.434072 - 33 done.\n"
     ]
    },
    {
     "name": "stdout",
     "output_type": "stream",
     "text": [
      "2021-12-01 01:26:22.289647 - 34 done.\n"
     ]
    },
    {
     "name": "stdout",
     "output_type": "stream",
     "text": [
      "2021-12-01 01:26:28.086787 - 35 done.\n"
     ]
    },
    {
     "name": "stdout",
     "output_type": "stream",
     "text": [
      "2021-12-01 01:26:33.872980 - 36 done.\n"
     ]
    },
    {
     "name": "stdout",
     "output_type": "stream",
     "text": [
      "2021-12-01 01:26:39.683280 - 37 done.\n"
     ]
    },
    {
     "name": "stdout",
     "output_type": "stream",
     "text": [
      "2021-12-01 01:26:45.482664 - 38 done.\n"
     ]
    },
    {
     "name": "stdout",
     "output_type": "stream",
     "text": [
      "2021-12-01 01:26:51.301376 - 39 done.\n"
     ]
    },
    {
     "name": "stdout",
     "output_type": "stream",
     "text": [
      "2021-12-01 01:26:56.997132 - 40 done.\n"
     ]
    },
    {
     "name": "stdout",
     "output_type": "stream",
     "text": [
      "2021-12-01 01:27:02.455768 - 41 done.\n"
     ]
    },
    {
     "name": "stdout",
     "output_type": "stream",
     "text": [
      "2021-12-01 01:27:08.248989 - 42 done.\n"
     ]
    },
    {
     "name": "stdout",
     "output_type": "stream",
     "text": [
      "2021-12-01 01:27:14.028359 - 43 done.\n"
     ]
    },
    {
     "name": "stdout",
     "output_type": "stream",
     "text": [
      "2021-12-01 01:27:19.274873 - 44 done.\n"
     ]
    },
    {
     "name": "stdout",
     "output_type": "stream",
     "text": [
      "2021-12-01 01:27:25.049106 - 45 done.\n"
     ]
    },
    {
     "name": "stdout",
     "output_type": "stream",
     "text": [
      "2021-12-01 01:27:30.655873 - 46 done.\n"
     ]
    },
    {
     "name": "stdout",
     "output_type": "stream",
     "text": [
      "2021-12-01 01:27:35.741320 - 47 done.\n"
     ]
    },
    {
     "name": "stdout",
     "output_type": "stream",
     "text": [
      "2021-12-01 01:27:41.465243 - 48 done.\n"
     ]
    },
    {
     "name": "stdout",
     "output_type": "stream",
     "text": [
      "2021-12-01 01:27:46.574296 - 49 done.\n"
     ]
    },
    {
     "name": "stdout",
     "output_type": "stream",
     "text": [
      "2021-12-01 01:27:51.625879 - 50 done.\n"
     ]
    },
    {
     "name": "stdout",
     "output_type": "stream",
     "text": [
      "2021-12-01 01:27:57.519048 - 51 done.\n"
     ]
    },
    {
     "name": "stdout",
     "output_type": "stream",
     "text": [
      "2021-12-01 01:28:03.296215 - 52 done.\n"
     ]
    },
    {
     "name": "stdout",
     "output_type": "stream",
     "text": [
      "2021-12-01 01:28:09.124309 - 53 done.\n"
     ]
    },
    {
     "name": "stdout",
     "output_type": "stream",
     "text": [
      "2021-12-01 01:28:14.184651 - 54 done.\n"
     ]
    },
    {
     "name": "stdout",
     "output_type": "stream",
     "text": [
      "2021-12-01 01:28:19.227455 - 55 done.\n"
     ]
    },
    {
     "name": "stdout",
     "output_type": "stream",
     "text": [
      "2021-12-01 01:28:24.291914 - 56 done.\n"
     ]
    },
    {
     "name": "stdout",
     "output_type": "stream",
     "text": [
      "2021-12-01 01:28:29.429519 - 57 done.\n"
     ]
    },
    {
     "name": "stdout",
     "output_type": "stream",
     "text": [
      "2021-12-01 01:28:34.616889 - 58 done.\n"
     ]
    },
    {
     "name": "stdout",
     "output_type": "stream",
     "text": [
      "2021-12-01 01:28:39.765140 - 59 done.\n"
     ]
    },
    {
     "name": "stdout",
     "output_type": "stream",
     "text": [
      "2021-12-01 01:28:44.917159 - 60 done.\n"
     ]
    },
    {
     "name": "stdout",
     "output_type": "stream",
     "text": [
      "2021-12-01 01:28:50.680234 - 61 done.\n"
     ]
    },
    {
     "name": "stdout",
     "output_type": "stream",
     "text": [
      "2021-12-01 01:28:56.430669 - 62 done.\n"
     ]
    },
    {
     "name": "stdout",
     "output_type": "stream",
     "text": [
      "2021-12-01 01:29:02.326531 - 63 done.\n"
     ]
    },
    {
     "name": "stdout",
     "output_type": "stream",
     "text": [
      "2021-12-01 01:29:08.721677 - 64 done.\n"
     ]
    },
    {
     "name": "stdout",
     "output_type": "stream",
     "text": [
      "2021-12-01 01:29:14.522515 - 65 done.\n"
     ]
    },
    {
     "name": "stdout",
     "output_type": "stream",
     "text": [
      "2021-12-01 01:29:20.318455 - 66 done.\n"
     ]
    },
    {
     "name": "stdout",
     "output_type": "stream",
     "text": [
      "2021-12-01 01:29:26.151913 - 67 done.\n"
     ]
    },
    {
     "name": "stdout",
     "output_type": "stream",
     "text": [
      "2021-12-01 01:29:31.963558 - 68 done.\n"
     ]
    },
    {
     "name": "stdout",
     "output_type": "stream",
     "text": [
      "2021-12-01 01:29:37.728503 - 69 done.\n"
     ]
    },
    {
     "name": "stdout",
     "output_type": "stream",
     "text": [
      "2021-12-01 01:29:43.546896 - 70 done.\n"
     ]
    },
    {
     "name": "stdout",
     "output_type": "stream",
     "text": [
      "2021-12-01 01:29:49.350548 - 71 done.\n"
     ]
    },
    {
     "name": "stdout",
     "output_type": "stream",
     "text": [
      "2021-12-01 01:29:55.168854 - 72 done.\n"
     ]
    },
    {
     "name": "stdout",
     "output_type": "stream",
     "text": [
      "2021-12-01 01:30:00.977479 - 73 done.\n"
     ]
    },
    {
     "name": "stdout",
     "output_type": "stream",
     "text": [
      "2021-12-01 01:30:06.783037 - 74 done.\n"
     ]
    },
    {
     "name": "stdout",
     "output_type": "stream",
     "text": [
      "2021-12-01 01:30:12.578235 - 75 done.\n"
     ]
    },
    {
     "name": "stdout",
     "output_type": "stream",
     "text": [
      "2021-12-01 01:30:18.345205 - 76 done.\n"
     ]
    },
    {
     "name": "stdout",
     "output_type": "stream",
     "text": [
      "2021-12-01 01:30:24.111166 - 77 done.\n"
     ]
    },
    {
     "name": "stdout",
     "output_type": "stream",
     "text": [
      "2021-12-01 01:30:29.907717 - 78 done.\n"
     ]
    },
    {
     "name": "stdout",
     "output_type": "stream",
     "text": [
      "2021-12-01 01:30:35.710000 - 79 done.\n"
     ]
    },
    {
     "name": "stdout",
     "output_type": "stream",
     "text": [
      "2021-12-01 01:30:41.521762 - 80 done.\n"
     ]
    },
    {
     "name": "stdout",
     "output_type": "stream",
     "text": [
      "2021-12-01 01:30:53.227555 - 81 done.\n"
     ]
    },
    {
     "name": "stdout",
     "output_type": "stream",
     "text": [
      "2021-12-01 01:30:59.444593 - 82 done.\n"
     ]
    },
    {
     "name": "stdout",
     "output_type": "stream",
     "text": [
      "2021-12-01 01:31:05.209739 - 83 done.\n"
     ]
    },
    {
     "name": "stdout",
     "output_type": "stream",
     "text": [
      "2021-12-01 01:31:10.994056 - 84 done.\n"
     ]
    },
    {
     "name": "stdout",
     "output_type": "stream",
     "text": [
      "2021-12-01 01:31:16.789688 - 85 done.\n"
     ]
    },
    {
     "name": "stdout",
     "output_type": "stream",
     "text": [
      "2021-12-01 01:31:22.613034 - 86 done.\n"
     ]
    },
    {
     "name": "stdout",
     "output_type": "stream",
     "text": [
      "2021-12-01 01:31:28.370671 - 87 done.\n"
     ]
    },
    {
     "name": "stdout",
     "output_type": "stream",
     "text": [
      "2021-12-01 01:31:34.129778 - 88 done.\n"
     ]
    },
    {
     "name": "stdout",
     "output_type": "stream",
     "text": [
      "2021-12-01 01:31:39.900578 - 89 done.\n"
     ]
    },
    {
     "name": "stdout",
     "output_type": "stream",
     "text": [
      "2021-12-01 01:31:45.675151 - 90 done.\n"
     ]
    },
    {
     "name": "stdout",
     "output_type": "stream",
     "text": [
      "2021-12-01 01:31:51.429047 - 91 done.\n"
     ]
    },
    {
     "name": "stdout",
     "output_type": "stream",
     "text": [
      "2021-12-01 01:31:57.286695 - 92 done.\n"
     ]
    },
    {
     "name": "stdout",
     "output_type": "stream",
     "text": [
      "2021-12-01 01:32:03.049844 - 93 done.\n"
     ]
    },
    {
     "name": "stdout",
     "output_type": "stream",
     "text": [
      "2021-12-01 01:32:08.836192 - 94 done.\n"
     ]
    },
    {
     "name": "stdout",
     "output_type": "stream",
     "text": [
      "2021-12-01 01:32:14.614213 - 95 done.\n"
     ]
    },
    {
     "name": "stdout",
     "output_type": "stream",
     "text": [
      "2021-12-01 01:32:20.415459 - 971 done.\n"
     ]
    },
    {
     "name": "stdout",
     "output_type": "stream",
     "text": [
      "2021-12-01 01:32:26.197841 - 972 done.\n"
     ]
    },
    {
     "name": "stdout",
     "output_type": "stream",
     "text": [
      "2021-12-01 01:32:32.001282 - 973 done.\n"
     ]
    },
    {
     "name": "stdout",
     "output_type": "stream",
     "text": [
      "2021-12-01 01:32:37.798140 - 974 done.\n"
     ]
    },
    {
     "name": "stdout",
     "output_type": "stream",
     "text": [
      "2021-12-01 01:32:42.797629 - 976 done.\n",
      "CPU times: user 9min 24s, sys: 5.54 s, total: 9min 29s\n",
      "Wall time: 9min 53s\n"
     ]
    }
   ],
   "source": [
    "%%time\n",
    "\n",
    "mkdir_ifnotexist(os.path.join(reports_dir_path, 'pdf'))\n",
    "\n",
    "for dep in taxo_dep_df.dep.unique():\n",
    "    \n",
    "    pdf = PDF()\n",
    "    pdf.alias_nb_pages()\n",
    "    pdf.add_page()\n",
    "\n",
    "    #Logos\n",
    "    pdf.image(os.path.join(img_dir_path, 'LogoRF.png'), 10, 8, 33)\n",
    "    pdf.image(os.path.join(img_dir_path, 'logo_Francerelance_1321294.54.png'), pdf.w-45, 7, 45)\n",
    "    \n",
    "    # Arial bold 15\n",
    "    pdf.set_font('Arial', 'B', 28)\n",
    "    # Move to the right\n",
    "    pdf.cell(50)\n",
    "    pdf.ln(70)\n",
    "    \n",
    "    # Title\n",
    "    pdf.cell(10)\n",
    "    pdf.cell(50, 10, 'SUIVI DES AIDES VERSÉES', 0, 1, 'A')\n",
    "    pdf.ln(10)\n",
    "    pdf.cell(10)\n",
    "    pdf.cell(50, 10, 'AUX ENTREPRISES DANS LE CADRE', 0, 1, 'A')\n",
    "    pdf.ln(10)\n",
    "    pdf.cell(10)\n",
    "    pdf.cell(50, 10, 'DE LA CRISE SANITAIRE COVID-19', 0, 1, 'A')\n",
    "\n",
    "    pdf.set_font('Arial', 'I', 20)\n",
    "    pdf.ln(10)\n",
    "    pdf.cell(10)\n",
    "    pdf.cell(50, 10, 'Données pour le département : \"'+taxo_dep_df[taxo_dep_df['dep'] == dep].iloc[0]['libelle']+'\"', 0, 1, 'A')\n",
    "    pdf.ln(110)\n",
    "\n",
    "    pdf.set_font('Arial', 'I', 8)\n",
    "\n",
    "    pdf.cell(10)\n",
    "    pdf.cell(50, 10, 'Données issues du tableau de bord des aides aux entreprises consultable sur https://aides-entreprises.data.gouv.fr', 0, 1, 'A')\n",
    "    \n",
    "    #FONDS DE SOLIDARITÉ\n",
    "    \n",
    "    phrase1 = \"Depuis le début de la crise sanitaire de la COVID-19, l'État et les Régions ont mis en place un fonds de solidarité pour prévenir la cessation d'activité des petites\" # \n",
    "    phrase2 = \"entreprises, micro-entrepreneurs, indépendants et professions libérales, particulièrement touchés par les conséquences économiques de la COVID-19.\"\n",
    "    phrase3 = \"\"\n",
    "    source_dict = {'name':'Les données utilisées proviennent de la DGFIP et sont disponibles en open data sur data.gouv.fr', 'url':'https://www.data.gouv.fr/fr/datasets/aides-aux-entreprises-dans-le-cadre-de-lepidemie-de-covid-19-en-france/'}\n",
    "    \n",
    "    title_header = 'FONDS DE SOLIDARITÉ'\n",
    "    subtitle_header = find_last_update('aides')\n",
    "    pdf.add_page()\n",
    "    pdf = add_page_report(pdf, 'aides', dep, 'fds', phrase1, phrase2, phrase3, 'd\\'aides : ', source_dict)\n",
    "\n",
    "    #PGE\n",
    "    \n",
    "    phrase1 = \"Le Gouvernement met en oeuvre un dispositif exceptionnel de garanties permettant de soutenir le financement bancaire des entreprises, à hauteur de 300 milliards\"\n",
    "    phrase2 = \"d'euros.\"\n",
    "    phrase3 = \"Les entreprises peuvent désormais contracter un prêt jusqu'au 30 juin 2021 au lieu du 31 décembre 2020.\"\n",
    "    source_dict = {'name':'Les données utilisées proviennent de la DG Trésor et sont disponibles en open data sur data.gouv.fr', 'url':'https://www.data.gouv.fr/fr/datasets/donnees-relatives-aux-prets-garantis-par-letat-dans-le-cadre-de-lepidemie-de-covid-19/'}\n",
    "    \n",
    "    title_header = 'PRÊTS GARANTIS PAR L\\'ÉTAT'\n",
    "    subtitle_header = find_last_update('pge')\n",
    "    pdf.add_page()\n",
    "    pdf = add_page_report(pdf, 'pge', dep, 'pge', phrase1, phrase2, phrase3, 'de prêts : ', source_dict)\n",
    "\n",
    "    #REPORTS D'ECHEANCES FISCALES\n",
    "    \n",
    "    phrase1 = \"Le Gouvernement a annoncé le report des principales échéances fiscales des professionnels afin de tenir compte de leurs difficultés liées à la crise sanitaire \"\n",
    "    phrase2 = \"de la COVID-19.\"\n",
    "    phrase3 = \"\"\n",
    "    source_dict = {'name':'Les données utilisées proviennent de la DGFIP et sont disponibles en open data sur data.gouv.fr', 'url':'https://www.data.gouv.fr/fr/datasets/donnees-relatives-aux-reports-decheances-fiscales-accordes-dans-le-cadre-de-lepidemie-de-covid-19/'}\n",
    "    \n",
    "    title_header = 'REPORTS D\\'ÉCHÉANCES FISCALES'\n",
    "    subtitle_header = find_last_update('report')\n",
    "    pdf.add_page()\n",
    "    pdf = add_page_report(pdf, 'report', dep, 'reports', phrase1, phrase2, phrase3, 'de reports : ', source_dict)\n",
    "\n",
    "    #CPSTI\n",
    "    \n",
    "    phrase1 = \"Le Conseil de la protection sociale des travailleurs indépendants (CPSTI) met en place une aide financière exceptionnelle à destination de tous les commerçants\"\n",
    "    phrase2 = \"et les artisans qui sont en activité au 15 mars 2020 et ont été immatriculés avant le 1er janvier 2019.\"\n",
    "    phrase3 = \"\"\n",
    "    source_dict = {'name':\"Les données utilisées proviennent de l'URSSAF et sont disponibles en open data sur data.gouv.fr\", 'url':'https://www.data.gouv.fr/fr/datasets/donnees-relatives-aux-aides-exceptionnelles-aux-artisans-et-commercants-dans-le-cadre-de-lepidemie-de-covid-19/'}\n",
    "    \n",
    "    title_header = 'AIDES AUX ARTISANS, COMMERÇANTS'\n",
    "    subtitle_header = find_last_update('cpsti')\n",
    "    pdf.add_page()\n",
    "    pdf = add_page_report(pdf, 'cpsti' , dep,'cpsti', phrase1, phrase2, phrase3, 'd\\'aides : ', source_dict)\n",
    "    \n",
    "    #ACTIVITE PARTIELLE\n",
    "    \n",
    "    phrase1 = \"L'activité partielle permet à l'employeur en difficulté de faire prendre en charge tout ou partie du coût de la rémunération de ses salariés. L'activité partielle\"\n",
    "    phrase2 = \"s'adresse à tous les salariés qui subissent une baisse de rémunération imputable soit à une réduction de l'horaire de travail pratiqué dans l'établissement ou\"\n",
    "    phrase3 = \"partie de l'établissement en deçà de la durée légale de travail, soit à une fermeture temporaire de tout ou partie de l'établissement.\"\n",
    "    source_dict = {'name':'Les données utilisées proviennent de la DARES', 'url':'https://dares.travail-emploi.gouv.fr/dares-etudes-et-statistiques/tableaux-de-bord/le-marche-du-travail-pendant-le-covid-19/tableaux-de-bord-hebdomadaires'}\n",
    "    \n",
    "    title_header = 'ACTIVITÉ PARTIELLE'\n",
    "    subtitle_header = find_last_update('activite-partielle')\n",
    "    pdf.add_page()\n",
    "    pdf = add_actpart_page_report(pdf, dep, 'activitepartielle', phrase1, phrase2, phrase3, source_dict)\n",
    "    \n",
    "\n",
    "    pdf.output(os.path.join(reports_dir_path, 'pdf', 'Suivi_aides_entreprises_'+taxo_dep_df[taxo_dep_df['dep'] == dep].iloc[0]['libelle']+'.pdf'), 'F')\n",
    "    \n",
    "    print(str(datetime.datetime.today()) + ' - ' + dep + ' done.')"
   ]
  },
  {
   "cell_type": "markdown",
   "id": "registered-south",
   "metadata": {
    "papermill": {
     "duration": 0.169573,
     "end_time": "2021-12-01T01:32:43.140307",
     "exception": false,
     "start_time": "2021-12-01T01:32:42.970734",
     "status": "completed"
    },
    "tags": []
   },
   "source": [
    "## Compress to ZIP"
   ]
  },
  {
   "cell_type": "code",
   "execution_count": 31,
   "id": "continent-catch",
   "metadata": {
    "execution": {
     "iopub.execute_input": "2021-12-01T01:32:43.483840Z",
     "iopub.status.busy": "2021-12-01T01:32:43.483347Z",
     "iopub.status.idle": "2021-12-01T01:32:43.484939Z",
     "shell.execute_reply": "2021-12-01T01:32:43.484558Z"
    },
    "papermill": {
     "duration": 0.175229,
     "end_time": "2021-12-01T01:32:43.485048",
     "exception": false,
     "start_time": "2021-12-01T01:32:43.309819",
     "status": "completed"
    },
    "tags": []
   },
   "outputs": [],
   "source": [
    "from zipfile import ZipFile"
   ]
  },
  {
   "cell_type": "code",
   "execution_count": 32,
   "id": "prescribed-february",
   "metadata": {
    "execution": {
     "iopub.execute_input": "2021-12-01T01:32:43.833507Z",
     "iopub.status.busy": "2021-12-01T01:32:43.833028Z",
     "iopub.status.idle": "2021-12-01T01:32:43.836064Z",
     "shell.execute_reply": "2021-12-01T01:32:43.836436Z"
    },
    "papermill": {
     "duration": 0.1825,
     "end_time": "2021-12-01T01:32:43.836569",
     "exception": false,
     "start_time": "2021-12-01T01:32:43.654069",
     "status": "completed"
    },
    "tags": []
   },
   "outputs": [
    {
     "data": {
      "text/plain": [
       "'2021-12-01'"
      ]
     },
     "execution_count": 32,
     "metadata": {},
     "output_type": "execute_result"
    }
   ],
   "source": [
    "today_date = str(datetime.datetime.today())[:10]\n",
    "today_date"
   ]
  },
  {
   "cell_type": "code",
   "execution_count": 33,
   "id": "modular-blackberry",
   "metadata": {
    "execution": {
     "iopub.execute_input": "2021-12-01T01:32:44.182428Z",
     "iopub.status.busy": "2021-12-01T01:32:44.181937Z",
     "iopub.status.idle": "2021-12-01T01:32:44.636577Z",
     "shell.execute_reply": "2021-12-01T01:32:44.636125Z"
    },
    "papermill": {
     "duration": 0.630097,
     "end_time": "2021-12-01T01:32:44.636704",
     "exception": false,
     "start_time": "2021-12-01T01:32:44.006607",
     "status": "completed"
    },
    "tags": []
   },
   "outputs": [],
   "source": [
    "my_zip_date = ZipFile(os.path.join(reports_dir_path, 'Suivi_aides_entreprises_{}.zip'.format(today_date)), 'w')\n",
    "my_zip_latest = ZipFile(os.path.join(reports_dir_path, 'Suivi_aides_entreprises_latest.zip'), 'w')\n",
    "\n",
    "for filename in os.listdir(os.path.join(reports_dir_path, 'pdf')) :\n",
    "    if filename.endswith('.pdf') :\n",
    "        my_zip_date.write(os.path.join(reports_dir_path, 'pdf', filename))\n",
    "        my_zip_latest.write(os.path.join(reports_dir_path, 'pdf', filename))\n",
    "        \n",
    "my_zip_date.close()\n",
    "my_zip_latest.close()"
   ]
  }
 ],
 "metadata": {
  "kernelspec": {
   "display_name": "Python 3",
   "language": "python",
   "name": "python3"
  },
  "language_info": {
   "codemirror_mode": {
    "name": "ipython",
    "version": 3
   },
   "file_extension": ".py",
   "mimetype": "text/x-python",
   "name": "python",
   "nbconvert_exporter": "python",
   "pygments_lexer": "ipython3",
   "version": "3.9.9"
  },
  "papermill": {
   "default_parameters": {},
   "duration": 726.907352,
   "end_time": "2021-12-01T01:32:45.116520",
   "environment_variables": {},
   "exception": null,
   "input_path": "report-pdf.ipynb",
   "output_path": "report-pdf.ipynb",
   "parameters": {},
   "start_time": "2021-12-01T01:20:38.209168",
   "version": "2.2.2"
  }
 },
 "nbformat": 4,
 "nbformat_minor": 5
}