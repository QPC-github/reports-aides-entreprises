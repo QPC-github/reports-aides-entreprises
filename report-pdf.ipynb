{
 "cells": [
  {
   "cell_type": "markdown",
   "id": "actual-estonia",
   "metadata": {
    "papermill": {
     "duration": 0.041253,
     "end_time": "2022-02-23T01:32:28.352018",
     "exception": false,
     "start_time": "2022-02-23T01:32:28.310765",
     "status": "completed"
    },
    "tags": []
   },
   "source": [
    "# Aides aux Entreprises - PDF Reports"
   ]
  },
  {
   "cell_type": "markdown",
   "id": "velvet-pollution",
   "metadata": {
    "papermill": {
     "duration": 0.040172,
     "end_time": "2022-02-23T01:32:28.431775",
     "exception": false,
     "start_time": "2022-02-23T01:32:28.391603",
     "status": "completed"
    },
    "tags": []
   },
   "source": [
    "## Imports"
   ]
  },
  {
   "cell_type": "code",
   "execution_count": 1,
   "id": "seeing-wallpaper",
   "metadata": {
    "execution": {
     "iopub.execute_input": "2022-02-23T01:32:28.523431Z",
     "iopub.status.busy": "2022-02-23T01:32:28.523076Z",
     "iopub.status.idle": "2022-02-23T01:32:29.006062Z",
     "shell.execute_reply": "2022-02-23T01:32:29.005231Z"
    },
    "papermill": {
     "duration": 0.536676,
     "end_time": "2022-02-23T01:32:29.008502",
     "exception": false,
     "start_time": "2022-02-23T01:32:28.471826",
     "status": "completed"
    },
    "tags": []
   },
   "outputs": [],
   "source": [
    "import json\n",
    "import os\n",
    "import datetime\n",
    "import random\n",
    "\n",
    "from urllib.request import urlopen\n",
    "import urllib\n",
    "\n",
    "import plotly.graph_objects as go\n",
    "import plotly.express as px\n",
    "\n",
    "import pandas as pd\n",
    "import numpy as np\n",
    "\n",
    "from fpdf import FPDF"
   ]
  },
  {
   "cell_type": "markdown",
   "id": "forced-result",
   "metadata": {
    "papermill": {
     "duration": 0.04406,
     "end_time": "2022-02-23T01:32:29.094005",
     "exception": false,
     "start_time": "2022-02-23T01:32:29.049945",
     "status": "completed"
    },
    "tags": []
   },
   "source": [
    "## Functions"
   ]
  },
  {
   "cell_type": "code",
   "execution_count": 2,
   "id": "diagnostic-couple",
   "metadata": {
    "execution": {
     "iopub.execute_input": "2022-02-23T01:32:29.182300Z",
     "iopub.status.busy": "2022-02-23T01:32:29.181673Z",
     "iopub.status.idle": "2022-02-23T01:32:29.187157Z",
     "shell.execute_reply": "2022-02-23T01:32:29.185626Z"
    },
    "papermill": {
     "duration": 0.052129,
     "end_time": "2022-02-23T01:32:29.189098",
     "exception": false,
     "start_time": "2022-02-23T01:32:29.136969",
     "status": "completed"
    },
    "tags": []
   },
   "outputs": [],
   "source": [
    "def import_json_to_dict(url) :\n",
    "    response = urllib.request.urlopen(url)\n",
    "    my_dict = json.loads(response.read())\n",
    "    return my_dict"
   ]
  },
  {
   "cell_type": "code",
   "execution_count": 3,
   "id": "incoming-prague",
   "metadata": {
    "execution": {
     "iopub.execute_input": "2022-02-23T01:32:29.281228Z",
     "iopub.status.busy": "2022-02-23T01:32:29.280692Z",
     "iopub.status.idle": "2022-02-23T01:32:29.285049Z",
     "shell.execute_reply": "2022-02-23T01:32:29.284334Z"
    },
    "papermill": {
     "duration": 0.051406,
     "end_time": "2022-02-23T01:32:29.287187",
     "exception": false,
     "start_time": "2022-02-23T01:32:29.235781",
     "status": "completed"
    },
    "tags": []
   },
   "outputs": [],
   "source": [
    "def mkdir_ifnotexist(path) :\n",
    "    if not os.path.isdir(path) :\n",
    "        os.mkdir(path)"
   ]
  },
  {
   "cell_type": "code",
   "execution_count": 4,
   "id": "tight-attention",
   "metadata": {
    "execution": {
     "iopub.execute_input": "2022-02-23T01:32:29.377517Z",
     "iopub.status.busy": "2022-02-23T01:32:29.377019Z",
     "iopub.status.idle": "2022-02-23T01:32:29.381998Z",
     "shell.execute_reply": "2022-02-23T01:32:29.381385Z"
    },
    "papermill": {
     "duration": 0.050771,
     "end_time": "2022-02-23T01:32:29.384708",
     "exception": false,
     "start_time": "2022-02-23T01:32:29.333937",
     "status": "completed"
    },
    "tags": []
   },
   "outputs": [],
   "source": [
    "def format_number_to_str(x) :\n",
    "    if x == x :\n",
    "        res = str(format(int(round(float(x),0)),\",\")).replace(\",\",\" \").replace(\".\",\",\")\n",
    "    else :\n",
    "        res = 'NaN'\n",
    "    return res"
   ]
  },
  {
   "cell_type": "code",
   "execution_count": 5,
   "id": "satisfied-coordinator",
   "metadata": {
    "execution": {
     "iopub.execute_input": "2022-02-23T01:32:29.469012Z",
     "iopub.status.busy": "2022-02-23T01:32:29.468545Z",
     "iopub.status.idle": "2022-02-23T01:32:29.473472Z",
     "shell.execute_reply": "2022-02-23T01:32:29.472673Z"
    },
    "papermill": {
     "duration": 0.047947,
     "end_time": "2022-02-23T01:32:29.475277",
     "exception": false,
     "start_time": "2022-02-23T01:32:29.427330",
     "status": "completed"
    },
    "tags": []
   },
   "outputs": [],
   "source": [
    "def format_number_to_million_str(x) :\n",
    "    if x == x :\n",
    "        res = str(round(float(x)/1000000,1)).replace('.',',')\n",
    "    else :\n",
    "        res = 'NaN'\n",
    "    return res"
   ]
  },
  {
   "cell_type": "code",
   "execution_count": 6,
   "id": "extended-charles",
   "metadata": {
    "execution": {
     "iopub.execute_input": "2022-02-23T01:32:29.555708Z",
     "iopub.status.busy": "2022-02-23T01:32:29.555080Z",
     "iopub.status.idle": "2022-02-23T01:32:29.559426Z",
     "shell.execute_reply": "2022-02-23T01:32:29.558765Z"
    },
    "papermill": {
     "duration": 0.046999,
     "end_time": "2022-02-23T01:32:29.561495",
     "exception": false,
     "start_time": "2022-02-23T01:32:29.514496",
     "status": "completed"
    },
    "tags": []
   },
   "outputs": [],
   "source": [
    "def format_str_to_int(x) :\n",
    "    if x != 'None' :\n",
    "        res = int(float(x))\n",
    "    else : \n",
    "        res = None\n",
    "    return res"
   ]
  },
  {
   "cell_type": "code",
   "execution_count": 7,
   "id": "operating-insurance",
   "metadata": {
    "execution": {
     "iopub.execute_input": "2022-02-23T01:32:29.645269Z",
     "iopub.status.busy": "2022-02-23T01:32:29.644836Z",
     "iopub.status.idle": "2022-02-23T01:32:29.649053Z",
     "shell.execute_reply": "2022-02-23T01:32:29.648430Z"
    },
    "papermill": {
     "duration": 0.048651,
     "end_time": "2022-02-23T01:32:29.650667",
     "exception": false,
     "start_time": "2022-02-23T01:32:29.602016",
     "status": "completed"
    },
    "tags": []
   },
   "outputs": [],
   "source": [
    "def shorten_long_naf_libelle(libelle) :\n",
    "    if libelle == \"Production et distribution d'eau ; assainissement, gestion des déchets et dépollution\" :\n",
    "        return \"Prod./dist. eau, assainissement, déchets, dépollution\"\n",
    "    else :\n",
    "        return libelle"
   ]
  },
  {
   "cell_type": "code",
   "execution_count": 8,
   "id": "monthly-microwave",
   "metadata": {
    "execution": {
     "iopub.execute_input": "2022-02-23T01:32:29.747627Z",
     "iopub.status.busy": "2022-02-23T01:32:29.746093Z",
     "iopub.status.idle": "2022-02-23T01:32:29.754654Z",
     "shell.execute_reply": "2022-02-23T01:32:29.753789Z"
    },
    "papermill": {
     "duration": 0.065046,
     "end_time": "2022-02-23T01:32:29.756703",
     "exception": false,
     "start_time": "2022-02-23T01:32:29.691657",
     "status": "completed"
    },
    "tags": []
   },
   "outputs": [],
   "source": [
    "months_fr_dict = {\n",
    "    '01':'janvier',\n",
    "    '02':'février',\n",
    "    '03':'mars',\n",
    "    '04':'avril',\n",
    "    '05':'mai',\n",
    "    '06':'juin',\n",
    "    '07':'juillet',\n",
    "    '08':'août',\n",
    "    '09':'septembre',\n",
    "    '10':'octobre',\n",
    "    '11':'novembre',\n",
    "    '12':'décembre'\n",
    "}\n",
    "\n",
    "# yearmonth should be in '2020-01' format\n",
    "\n",
    "def yearmonth_to_fr(yearmonth) :\n",
    "    month = yearmonth[-2:]\n",
    "    year = yearmonth[:4]\n",
    "    \n",
    "    return months_fr_dict[month] + ' ' + year"
   ]
  },
  {
   "cell_type": "code",
   "execution_count": 9,
   "id": "wound-diesel",
   "metadata": {
    "execution": {
     "iopub.execute_input": "2022-02-23T01:32:29.846621Z",
     "iopub.status.busy": "2022-02-23T01:32:29.838496Z",
     "iopub.status.idle": "2022-02-23T01:32:29.871078Z",
     "shell.execute_reply": "2022-02-23T01:32:29.870041Z"
    },
    "papermill": {
     "duration": 0.077118,
     "end_time": "2022-02-23T01:32:29.873718",
     "exception": false,
     "start_time": "2022-02-23T01:32:29.796600",
     "status": "completed"
    },
    "tags": []
   },
   "outputs": [],
   "source": [
    "def make_chart(aide, kpi, maille, chart_type, x_col, y_col, x_label, y_label, others_y_val, title, legend_title=None, show=False, sort_by_y_col_inc=False, sort_by_y_col_dec=False, stack_order=None, dep=None, reg=None, text_col=None, stack_col=None, color_col='color') :\n",
    "    \n",
    "    data_path = './data/{}-{}-{}.csv'.format(aide, kpi, maille)\n",
    "    \n",
    "    if os.path.isfile(data_path) :\n",
    "    \n",
    "        #Loading data\n",
    "        if maille == 'regional' :\n",
    "            dtype={'reg':'str'}\n",
    "        elif maille == 'departemental' :\n",
    "            dtype={'dep':'str'}\n",
    "        else :\n",
    "            dtype={}\n",
    "        \n",
    "        df = pd.read_csv(data_path, dtype=dtype)\n",
    "\n",
    "        #Filtering if departemental or regional\n",
    "        if maille == 'departemental' :\n",
    "            df['dep'] = df['dep'].apply(str)\n",
    "            df = df[df['dep'] == dep]\n",
    "            if len(df) == 0 :\n",
    "                fig = None\n",
    "                print('No data to plot for {}-{}-{}-{}'.format(aide, kpi, maille, dep))\n",
    "        elif maille == 'regional' :\n",
    "            df['reg'] = df['reg'].apply(str)\n",
    "            df = df[df['reg'] == reg]\n",
    "            if len(df) == 0 :\n",
    "                fig = None\n",
    "                print('No data to plot for {}-{}-{}-{}'.format(aide, kpi, maille, reg))\n",
    "\n",
    "        if len(df) > 0 :\n",
    "\n",
    "            #Sorting by x_col and putting \"Others\" (others_y_val) in the end\n",
    "            if sort_by_y_col_inc == True :\n",
    "                df_plot = pd.concat([df[df[y_col] != others_y_val].sort_values(by=y_col, ascending=True), df[df[y_col] == others_y_val]]).reset_index(drop=True)\n",
    "            elif sort_by_y_col_dec == True :\n",
    "                df_plot = pd.concat([df[df[y_col] != others_y_val].sort_values(by=y_col, ascending=False), df[df[y_col] == others_y_val]]).reset_index(drop=True)\n",
    "            else : #sort by decreasing x_col value by default\n",
    "                df_plot = pd.concat([df[df[y_col] != others_y_val].sort_values(by=x_col, ascending=False), df[df[y_col] == others_y_val]]).reset_index(drop=True)    \n",
    "            \n",
    "            if stack_order is not None :\n",
    "                df_stack_list = []\n",
    "                for stack_val in stack_order :\n",
    "                    df_stack = df_plot[df_plot[stack_col] == stack_val]\n",
    "                    df_stack_list += [df_stack]\n",
    "                \n",
    "                df_plot = pd.concat(df_stack_list).reset_index(drop=True)\n",
    "            \n",
    "            #Parameters for plotting\n",
    "            if text_col is not None :\n",
    "                text = text_col\n",
    "            else :\n",
    "                text = x_col + '_fr'\n",
    "\n",
    "            if chart_type == 'hbar' :\n",
    "\n",
    "                df_plot[y_col] = df_plot[y_col].apply(lambda x : x+'   ')\n",
    "                color_discrete_map = {key:value for (key,value) in zip(df_plot[y_col], df_plot[color_col])}\n",
    "\n",
    "                fig = px.bar(df_plot, x=x_col, y=y_col,\n",
    "                         labels={y_col:y_label,x_col:x_label}, \n",
    "                         height=550,\n",
    "                         width=800,\n",
    "                         color=y_col,\n",
    "                         color_discrete_map = color_discrete_map,\n",
    "                         orientation='h',\n",
    "                         text=text,\n",
    "                         title=title)\n",
    "                fig.update_layout(showlegend=False)\n",
    "                fig.layout['xaxis'].tickfont = dict(color = 'rgba(0,0,0,0)')\n",
    "                fig.layout['xaxis'].showgrid = False\n",
    "                fig.for_each_trace(lambda t: t.update(textfont_color='white', insidetextanchor='middle', textposition='inside'))\n",
    "\n",
    "            elif chart_type == 'sthbar' :\n",
    "\n",
    "                color_discrete_map = {key:value for (key,value) in zip(df_plot[stack_col], df_plot[color_col])}\n",
    "\n",
    "                fig = px.bar(df_plot, x=x_col, y=y_col,\n",
    "                         labels={y_col:y_label,x_col:x_label, stack_col:legend_title}, \n",
    "                         height=550,\n",
    "                         width=800,\n",
    "                         color=stack_col,\n",
    "                         color_discrete_map = color_discrete_map,\n",
    "                         orientation='h',\n",
    "                         title=title)\n",
    "                \n",
    "                fig.update_yaxes(type='category', categoryorder='category descending')\n",
    "                fig.layout['yaxis'].tickmode = 'array'\n",
    "                fig.layout['yaxis'].tickvals = sorted(list(set(df_plot['mois'])), reverse=True)\n",
    "                fig.layout['yaxis'].ticktext = [yearmonth_to_fr(yearmonth) + '   ' for yearmonth in sorted(list(set(df_plot['mois'])), reverse=True)]\n",
    "\n",
    "            elif chart_type == 'dpie' :\n",
    "\n",
    "                color_discrete_map = {key:value for (key,value) in zip(df_plot[y_col], df_plot[color_col])}\n",
    "\n",
    "                fig = px.pie(df_plot, values=x_col, names=y_col,\n",
    "                     labels={y_col:y_label,x_col:x_label}, \n",
    "                     height=400,\n",
    "                     width=600,\n",
    "                     hole=0.5,\n",
    "                     color=y_col,\n",
    "                     color_discrete_map = color_discrete_map,\n",
    "                     title=title)\n",
    "\n",
    "                fig.for_each_trace(lambda t: t.update(textfont_color='white', textposition='inside'))\n",
    "\n",
    "            #Center the main title\n",
    "            fig.update_layout(title={'x':0.5, 'xanchor': 'center'})\n",
    "\n",
    "            if show == True :\n",
    "                fig.show()\n",
    "    \n",
    "    else :\n",
    "        fig = None\n",
    "        print('File not found: {}'.format(data_path))\n",
    "    \n",
    "    return fig"
   ]
  },
  {
   "cell_type": "markdown",
   "id": "brown-locator",
   "metadata": {
    "papermill": {
     "duration": 0.045776,
     "end_time": "2022-02-23T01:32:29.958317",
     "exception": false,
     "start_time": "2022-02-23T01:32:29.912541",
     "status": "completed"
    },
    "tags": []
   },
   "source": [
    "## Parameters"
   ]
  },
  {
   "cell_type": "code",
   "execution_count": 10,
   "id": "violent-debate",
   "metadata": {
    "execution": {
     "iopub.execute_input": "2022-02-23T01:32:30.039761Z",
     "iopub.status.busy": "2022-02-23T01:32:30.039005Z",
     "iopub.status.idle": "2022-02-23T01:32:30.043202Z",
     "shell.execute_reply": "2022-02-23T01:32:30.042261Z"
    },
    "papermill": {
     "duration": 0.04816,
     "end_time": "2022-02-23T01:32:30.044931",
     "exception": false,
     "start_time": "2022-02-23T01:32:29.996771",
     "status": "completed"
    },
    "tags": []
   },
   "outputs": [],
   "source": [
    "data_dir_path = './data/'\n",
    "img_dir_path = './img/'\n",
    "reports_dir_path = './reports/'"
   ]
  },
  {
   "cell_type": "code",
   "execution_count": 11,
   "id": "cosmetic-roads",
   "metadata": {
    "execution": {
     "iopub.execute_input": "2022-02-23T01:32:30.128071Z",
     "iopub.status.busy": "2022-02-23T01:32:30.127661Z",
     "iopub.status.idle": "2022-02-23T01:32:30.132299Z",
     "shell.execute_reply": "2022-02-23T01:32:30.131505Z"
    },
    "papermill": {
     "duration": 0.047516,
     "end_time": "2022-02-23T01:32:30.134640",
     "exception": false,
     "start_time": "2022-02-23T01:32:30.087124",
     "status": "completed"
    },
    "tags": []
   },
   "outputs": [],
   "source": [
    "#Taxonomies\n",
    "\n",
    "taxo_nafsec_url = 'https://raw.githubusercontent.com/etalab/dashboard-aides-entreprises/master/backend/json/taxonomies/sections-naf-minify.json'\n",
    "taxo_jurcat_url = 'https://raw.githubusercontent.com/etalab/dashboard-aides-entreprises/master/backend/json/taxonomies/categories-juridiques-minify.json'\n",
    "taxo_effcla_url = 'https://raw.githubusercontent.com/etalab/dashboard-aides-entreprises/master/backend/json/taxonomies/classes-effectifs-minify.json'\n",
    "taxo_nace17_url = 'https://raw.githubusercontent.com/etalab/dashboard-aides-entreprises/master/backend/json/taxonomies/sections-nace17-minify.json'\n",
    "\n",
    "taxo_dep_url = 'https://raw.githubusercontent.com/etalab/dashboard-aides-entreprises/master/backend/json/taxonomies/departements-minify.json'\n",
    "taxo_reg_url = 'https://raw.githubusercontent.com/etalab/dashboard-aides-entreprises/master/backend/json/taxonomies/regions-minify.json'"
   ]
  },
  {
   "cell_type": "code",
   "execution_count": 12,
   "id": "accepted-thumb",
   "metadata": {
    "execution": {
     "iopub.execute_input": "2022-02-23T01:32:30.220811Z",
     "iopub.status.busy": "2022-02-23T01:32:30.219885Z",
     "iopub.status.idle": "2022-02-23T01:32:30.226850Z",
     "shell.execute_reply": "2022-02-23T01:32:30.223551Z"
    },
    "papermill": {
     "duration": 0.057005,
     "end_time": "2022-02-23T01:32:30.229657",
     "exception": false,
     "start_time": "2022-02-23T01:32:30.172652",
     "status": "completed"
    },
    "tags": []
   },
   "outputs": [],
   "source": [
    "mailles_list = ['national', 'regional', 'departemental']"
   ]
  },
  {
   "cell_type": "code",
   "execution_count": 13,
   "id": "spread-charge",
   "metadata": {
    "execution": {
     "iopub.execute_input": "2022-02-23T01:32:30.313342Z",
     "iopub.status.busy": "2022-02-23T01:32:30.312883Z",
     "iopub.status.idle": "2022-02-23T01:32:30.318575Z",
     "shell.execute_reply": "2022-02-23T01:32:30.317888Z"
    },
    "papermill": {
     "duration": 0.051725,
     "end_time": "2022-02-23T01:32:30.320288",
     "exception": false,
     "start_time": "2022-02-23T01:32:30.268563",
     "status": "completed"
    },
    "tags": []
   },
   "outputs": [],
   "source": [
    "#DATA PROCESSING: KPIs to process\n",
    "aides_charts_kpi_dict = {\n",
    "    'aides': ['kpi_top_10_naf', 'kpi_categorie_juridique', 'kpi_classe_effectif'],\n",
    "    'pge':['kpi_top_10_naf'],\n",
    "    'report':['kpi_top_10_naf'],\n",
    "    'cpsti':['kpi_top_10_naf'],\n",
    "    'activite-partielle':['nace17']\n",
    "}\n",
    "\n",
    "#TODO: macro KPIs\n",
    "aides_macro_kpi_dict = {\n",
    "    'aides': ['montant', 'nombre', 'nombre_siren'],\n",
    "    'pge':['montant', 'nombre'],\n",
    "    'report':['montant', 'nombre'],\n",
    "    'cpsti':['montant', 'nombre'],\n",
    "    'activite-partielle':['nombre_salaries_concernes', 'nombre_etablissements_concernes', 'nombre_heures_demandees']\n",
    "}"
   ]
  },
  {
   "cell_type": "code",
   "execution_count": 14,
   "id": "neither-overall",
   "metadata": {
    "execution": {
     "iopub.execute_input": "2022-02-23T01:32:30.399627Z",
     "iopub.status.busy": "2022-02-23T01:32:30.399400Z",
     "iopub.status.idle": "2022-02-23T01:32:30.410413Z",
     "shell.execute_reply": "2022-02-23T01:32:30.409794Z"
    },
    "papermill": {
     "duration": 0.054487,
     "end_time": "2022-02-23T01:32:30.412641",
     "exception": false,
     "start_time": "2022-02-23T01:32:30.358154",
     "status": "completed"
    },
    "tags": []
   },
   "outputs": [],
   "source": [
    "#PLOTTING: parameters for graphs\n",
    "#As of now, we consider these graphs are the same for national, regional and departemental\n",
    "\n",
    "graph_params_list = [\n",
    "    \n",
    "    #Fonds de solidarité\n",
    "    dict(aide='aides',\n",
    "         kpi='kpi_top_10_naf',\n",
    "         x_col='montant',\n",
    "         y_col='libelle_section_naf',\n",
    "         x_label='',\n",
    "         y_label='Section NAF',\n",
    "         others_y_val='Autres sections NAF',\n",
    "         title='Top 10 des aides du fonds de solidarité<br />ventilées par code section NAF (en M€)',\n",
    "         chart_type='hbar'\n",
    "        ),\n",
    "    dict(aide='aides',\n",
    "         kpi='kpi_categorie_juridique',\n",
    "         maille='national',\n",
    "         x_col='montant',\n",
    "         y_col='libelle_cat_juridique',\n",
    "         x_label='',\n",
    "         y_label=\"Catégorie juridique\",\n",
    "         others_y_val=\"Autres Catégories Juridiques\",\n",
    "         title='Top 3 des aides du fonds de solidarité<br />ventilées par catégories juridiques (en M€)',\n",
    "         chart_type='dpie'\n",
    "        ),\n",
    "    dict(aide='aides',\n",
    "         kpi='kpi_classe_effectif',\n",
    "         x_col='montant',\n",
    "         y_col='libelle_classe_effectif',\n",
    "         x_label='',\n",
    "         y_label=\"Classe d'effectif\",\n",
    "         sort_by_y_col_dec=True,\n",
    "         others_y_val=\"Autres Classes d'Effectifs\",\n",
    "         title=\"Aides du fonds de solidarité<br />ventilées par classes d'effectifs (en M€)\",\n",
    "         chart_type='hbar'\n",
    "        ),\n",
    "    \n",
    "    #Prêts garantis par l'Etat\n",
    "    dict(aide='pge',\n",
    "         kpi='kpi_top_10_naf',\n",
    "         maille='national',\n",
    "         x_col='montant',\n",
    "         y_col='libelle_section_naf',\n",
    "         x_label='',\n",
    "         y_label='Section NAF',\n",
    "         others_y_val='Autres sections NAF',\n",
    "         title=\"Top 10 des prêts garantis par l'Etat<br />ventilés par code section NAF (en M€)\",\n",
    "         chart_type='hbar'\n",
    "        ),\n",
    "    \n",
    "    #Reports d'échéances fiscales\n",
    "    dict(aide='report',\n",
    "         kpi='kpi_top_10_naf',\n",
    "         x_col='montant',\n",
    "         y_col='libelle_section_naf',\n",
    "         x_label='',\n",
    "         y_label='Section NAF',\n",
    "         others_y_val='Autres sections NAF',\n",
    "         title=\"Top 10 des reports d'échéances fiscales<br />ventilés par code section NAF (en M€)\",\n",
    "         chart_type='hbar'\n",
    "        ),\n",
    "    \n",
    "    #Aides artisans/commerçants\n",
    "    dict(aide='cpsti',\n",
    "         kpi='kpi_top_10_naf',\n",
    "         x_col='montant',\n",
    "         y_col='libelle_section_naf',\n",
    "         x_label='',\n",
    "         y_label='Section NAF',\n",
    "         others_y_val='Autres sections NAF',\n",
    "         title=\"Top 10 des aides CPSTI<br />ventilés par code section NAF (en M€)\",\n",
    "         chart_type='hbar'\n",
    "        ),\n",
    "    \n",
    "    #Activité partielle\n",
    "    dict(aide='activite-partielle',\n",
    "         kpi='nace17',\n",
    "         x_col='nombre_salaries_concernes',\n",
    "         y_col='mois',\n",
    "         stack_col='libelle',\n",
    "         x_label='',\n",
    "         y_label='Mois',\n",
    "         sort_by_y_col_inc=True,\n",
    "         others_y_val='Autres sections NACE 17',\n",
    "         stack_order=['Commerce', \"Act. scientif. et tech. ; services admin. et de soutien\", 'Hébergement et restauration', 'Construction', \"Fabrication d'autres produits indus.\", 'Autres sections NACE 17'],\n",
    "         title=\"Nombre de salariés concernés par l'activité partielle<br />ventilés par code section NACE 17\",\n",
    "         legend_title=' ',\n",
    "         chart_type='sthbar'\n",
    "        ),\n",
    "]"
   ]
  },
  {
   "cell_type": "markdown",
   "id": "approximate-property",
   "metadata": {
    "papermill": {
     "duration": 0.042588,
     "end_time": "2022-02-23T01:32:30.494668",
     "exception": false,
     "start_time": "2022-02-23T01:32:30.452080",
     "status": "completed"
    },
    "tags": []
   },
   "source": [
    "## Loading taxonomies data"
   ]
  },
  {
   "cell_type": "code",
   "execution_count": 15,
   "id": "retained-buffalo",
   "metadata": {
    "execution": {
     "iopub.execute_input": "2022-02-23T01:32:30.578283Z",
     "iopub.status.busy": "2022-02-23T01:32:30.577762Z",
     "iopub.status.idle": "2022-02-23T01:32:31.448517Z",
     "shell.execute_reply": "2022-02-23T01:32:31.447604Z"
    },
    "papermill": {
     "duration": 0.915613,
     "end_time": "2022-02-23T01:32:31.451514",
     "exception": false,
     "start_time": "2022-02-23T01:32:30.535901",
     "status": "completed"
    },
    "tags": []
   },
   "outputs": [],
   "source": [
    "taxo_nafsec_df = pd.DataFrame(import_json_to_dict(taxo_nafsec_url))\n",
    "taxo_jurcat_df = pd.DataFrame(import_json_to_dict(taxo_jurcat_url))\n",
    "taxo_effcla_df = pd.DataFrame(import_json_to_dict(taxo_effcla_url))\n",
    "taxo_nace17_df = pd.DataFrame(import_json_to_dict(taxo_nace17_url))\n",
    "\n",
    "taxo_dep_df = pd.DataFrame(import_json_to_dict(taxo_dep_url))\n",
    "taxo_reg_df = pd.DataFrame(import_json_to_dict(taxo_reg_url))"
   ]
  },
  {
   "cell_type": "markdown",
   "id": "developmental-palmer",
   "metadata": {
    "papermill": {
     "duration": 0.039534,
     "end_time": "2022-02-23T01:32:31.532066",
     "exception": false,
     "start_time": "2022-02-23T01:32:31.492532",
     "status": "completed"
    },
    "tags": []
   },
   "source": [
    "## Data pre-processing"
   ]
  },
  {
   "cell_type": "code",
   "execution_count": 16,
   "id": "joint-aquatic",
   "metadata": {
    "execution": {
     "iopub.execute_input": "2022-02-23T01:32:31.614276Z",
     "iopub.status.busy": "2022-02-23T01:32:31.613610Z",
     "iopub.status.idle": "2022-02-23T01:32:35.673477Z",
     "shell.execute_reply": "2022-02-23T01:32:35.672744Z"
    },
    "papermill": {
     "duration": 4.104054,
     "end_time": "2022-02-23T01:32:35.675682",
     "exception": false,
     "start_time": "2022-02-23T01:32:31.571628",
     "status": "completed"
    },
    "tags": []
   },
   "outputs": [
    {
     "name": "stderr",
     "output_type": "stream",
     "text": [
      "<timed exec>:45: FutureWarning: In a future version of pandas all arguments of DataFrame.drop except for the argument 'labels' will be keyword-only.\n",
      "<timed exec>:50: FutureWarning: In a future version of pandas all arguments of DataFrame.drop except for the argument 'labels' will be keyword-only.\n",
      "<timed exec>:54: FutureWarning: In a future version of pandas all arguments of DataFrame.drop except for the argument 'labels' will be keyword-only.\n",
      "<timed exec>:45: FutureWarning: In a future version of pandas all arguments of DataFrame.drop except for the argument 'labels' will be keyword-only.\n",
      "<timed exec>:50: FutureWarning: In a future version of pandas all arguments of DataFrame.drop except for the argument 'labels' will be keyword-only.\n"
     ]
    },
    {
     "name": "stderr",
     "output_type": "stream",
     "text": [
      "<timed exec>:54: FutureWarning: In a future version of pandas all arguments of DataFrame.drop except for the argument 'labels' will be keyword-only.\n"
     ]
    },
    {
     "name": "stderr",
     "output_type": "stream",
     "text": [
      "<timed exec>:45: FutureWarning: In a future version of pandas all arguments of DataFrame.drop except for the argument 'labels' will be keyword-only.\n",
      "<timed exec>:50: FutureWarning: In a future version of pandas all arguments of DataFrame.drop except for the argument 'labels' will be keyword-only.\n"
     ]
    },
    {
     "name": "stderr",
     "output_type": "stream",
     "text": [
      "<timed exec>:54: FutureWarning: In a future version of pandas all arguments of DataFrame.drop except for the argument 'labels' will be keyword-only.\n"
     ]
    },
    {
     "name": "stderr",
     "output_type": "stream",
     "text": [
      "<timed exec>:45: FutureWarning: In a future version of pandas all arguments of DataFrame.drop except for the argument 'labels' will be keyword-only.\n",
      "<timed exec>:45: FutureWarning: In a future version of pandas all arguments of DataFrame.drop except for the argument 'labels' will be keyword-only.\n"
     ]
    },
    {
     "name": "stderr",
     "output_type": "stream",
     "text": [
      "<timed exec>:45: FutureWarning: In a future version of pandas all arguments of DataFrame.drop except for the argument 'labels' will be keyword-only.\n",
      "<timed exec>:45: FutureWarning: In a future version of pandas all arguments of DataFrame.drop except for the argument 'labels' will be keyword-only.\n"
     ]
    },
    {
     "name": "stderr",
     "output_type": "stream",
     "text": [
      "<timed exec>:45: FutureWarning: In a future version of pandas all arguments of DataFrame.drop except for the argument 'labels' will be keyword-only.\n"
     ]
    },
    {
     "name": "stderr",
     "output_type": "stream",
     "text": [
      "<timed exec>:45: FutureWarning: In a future version of pandas all arguments of DataFrame.drop except for the argument 'labels' will be keyword-only.\n"
     ]
    },
    {
     "name": "stderr",
     "output_type": "stream",
     "text": [
      "<timed exec>:45: FutureWarning: In a future version of pandas all arguments of DataFrame.drop except for the argument 'labels' will be keyword-only.\n",
      "<timed exec>:45: FutureWarning: In a future version of pandas all arguments of DataFrame.drop except for the argument 'labels' will be keyword-only.\n"
     ]
    },
    {
     "name": "stderr",
     "output_type": "stream",
     "text": [
      "<timed exec>:45: FutureWarning: In a future version of pandas all arguments of DataFrame.drop except for the argument 'labels' will be keyword-only.\n"
     ]
    },
    {
     "name": "stderr",
     "output_type": "stream",
     "text": [
      "<timed exec>:58: FutureWarning: In a future version of pandas all arguments of DataFrame.drop except for the argument 'labels' will be keyword-only.\n"
     ]
    },
    {
     "name": "stderr",
     "output_type": "stream",
     "text": [
      "<timed exec>:58: FutureWarning: In a future version of pandas all arguments of DataFrame.drop except for the argument 'labels' will be keyword-only.\n"
     ]
    },
    {
     "name": "stdout",
     "output_type": "stream",
     "text": [
      "Empty data for activite-partielle-departemental\n",
      "CPU times: user 1.44 s, sys: 40.2 ms, total: 1.48 s\n",
      "Wall time: 4.04 s\n"
     ]
    }
   ],
   "source": [
    "%%time\n",
    "#Charts data processing (one CSV file per aide type, KPI and maille)\n",
    "\n",
    "mkdir_ifnotexist(data_dir_path)\n",
    "\n",
    "for aide in aides_charts_kpi_dict.keys() :\n",
    "    for maille in mailles_list :\n",
    "        \n",
    "        #Condition to drop when activite-partielle data is back to \"normal\" folder\n",
    "        if aide != 'activite-partielle' : \n",
    "            #url = \"https://raw.githubusercontent.com/etalab/dashboard-aides-entreprises/master/backend/json/{}/{}-maille-{}-minify.json\".format(aide, aide, maille)\n",
    "            url = \"https://raw.githubusercontent.com/etalab/dashboard-aides-entreprises/master/backend/json/{}/{}-maille-{}.json\".format(aide, aide, maille)\n",
    "        else :\n",
    "            #url = \"https://raw.githubusercontent.com/etalab/dashboard-aides-entreprises/master/backend/json/{}3/{}-3-maille-{}-minify.json\".format(aide, aide, maille)\n",
    "            url = \"https://raw.githubusercontent.com/etalab/dashboard-aides-entreprises/master/backend/json/{}3/{}-3-maille-{}.json\".format(aide, aide, maille)\n",
    "            \n",
    "        data = import_json_to_dict(url)\n",
    "        \n",
    "        if len(data) > 0 :\n",
    "    \n",
    "            for kpi in aides_charts_kpi_dict[aide] :\n",
    "\n",
    "                df_list = []\n",
    "\n",
    "                if maille == 'departemental' :\n",
    "                    for item in data :\n",
    "                        df_dep = pd.DataFrame(item[kpi])\n",
    "                        df_dep['dep'] = item['dep']\n",
    "                        df_list += [df_dep]\n",
    "\n",
    "                elif maille == 'regional' :\n",
    "                    for item in data :\n",
    "                        df_reg = pd.DataFrame(item[kpi])\n",
    "                        df_reg['reg'] = item['reg']\n",
    "                        df_list += [df_reg]\n",
    "\n",
    "                else :\n",
    "                    df_list = [pd.DataFrame(data[0][kpi])]\n",
    "\n",
    "                #Concatenating data in a single dataframe\n",
    "                df = pd.concat(df_list).reset_index(drop=True)\n",
    "\n",
    "                #Adding color information for plotting\n",
    "                if kpi == 'kpi_top_10_naf' :\n",
    "                    df = df.merge(taxo_nafsec_df[['code_section', 'color_section']].rename(columns={'code_section':'section_naf'}), on='section_naf', how='left')\n",
    "                    df.drop('section_naf', 1, inplace=True)\n",
    "                    df.rename(columns={'color_section':'color'}, inplace=True)\n",
    "\n",
    "                elif kpi == 'kpi_categorie_juridique' :\n",
    "                    df = df.merge(taxo_jurcat_df[['code', 'color']].rename(columns={'code':'code_cat_juridique'}), on='code_cat_juridique', how='left')\n",
    "                    df.drop('code_cat_juridique', 1, inplace=True)\n",
    "\n",
    "                elif kpi == 'kpi_classe_effectif' :\n",
    "                    df = df.merge(taxo_effcla_df[['denomination', 'color']].rename(columns={'denomination':'classe_effectif'}), on='classe_effectif', how='left')\n",
    "                    df.drop('classe_effectif', 1, inplace=True)\n",
    "\n",
    "                elif kpi == 'nace17' : #Only activite-partielle as of now\n",
    "                    df = df.merge(taxo_nace17_df[['code_section_nace17', 'color_section']], on='code_section_nace17', how='left')\n",
    "                    df.drop('code_section_nace17', 1, inplace=True)\n",
    "                    df.rename(columns={'color_section':'color'}, inplace=True)\n",
    "                    \n",
    "                    row_df_list = []\n",
    "\n",
    "                    for row in df.iterrows() :\n",
    "\n",
    "                        row_df = pd.DataFrame(eval(str(row[1]['data'])))\n",
    "\n",
    "                        row_df['libelle'] = row[1]['libelle']\n",
    "                        if 'reg' in df.columns:\n",
    "                            row_df['reg'] = row[1]['reg']\n",
    "                            row_df['reg'] = row_df['reg'].apply(lambda x : str(x).zfill(2))\n",
    "                        if 'dep' in df.columns:\n",
    "                            row_df['dep'] = row[1]['dep']\n",
    "                            row_df['dep'] = row_df['dep'].apply(lambda x : str(x).zfill(2))\n",
    "                        row_df['color'] = row[1]['color']\n",
    "\n",
    "                        row_df_list += [row_df]\n",
    "\n",
    "                    df = pd.concat(row_df_list).reset_index(drop=True)\n",
    "                    \n",
    "                    for col in ['nombre_demandes_deposees', 'nombre_heures_demandees', 'nombre_salaries_concernes'] :\n",
    "                        df[col] = df[col].apply(format_str_to_int)\n",
    "\n",
    "                else :\n",
    "                    print('Unknown KPI, could not assign colors.')\n",
    "\n",
    "                df['color'].fillna('#AAAAAA', inplace=True)\n",
    "\n",
    "                #Creating labels for plotting (depending on existing columns)\n",
    "\n",
    "                if 'montant' in df.columns :\n",
    "                    df['montant_fr'] = df['montant'].apply(lambda x: format_number_to_million_str(x) + \" M€\")\n",
    "\n",
    "                if 'nombre' in df.columns :\n",
    "                    df['nombre_fr'] = df['nombre'].apply(lambda x: format_number_to_str(x) + \" aides\")\n",
    "\n",
    "                if 'nombre_siren' in df.columns :\n",
    "                    df['nombre_siren_fr'] = df['nombre_siren'].apply(lambda x: format_number_to_str(x) + \" entreprises\")\n",
    "\n",
    "                if 'nombre_demandes_deposees' in df.columns :\n",
    "                    df['nombre_demandes_deposees_fr'] = df['nombre_demandes_deposees'].apply(lambda x: format_number_to_str(x) + \" demandes\")\n",
    "\n",
    "                if 'nombre_etablissements_concernes' in df.columns :\n",
    "                    df['nombre_etablissements_concernes_fr'] = df['nombre_etablissements_concernes'].apply(lambda x: format_number_to_str(x) + \" entreprises\")\n",
    "\n",
    "                if 'nombre_heures_demandees' in df.columns :\n",
    "                    df['nombre_heures_demandees_fr'] = df['nombre_heures_demandees'].apply(lambda x: format_number_to_str(x) + \" heures\")\n",
    "\n",
    "                if 'nombre_salaries_concernes' in df.columns :\n",
    "                    df['nombre_salaries_concernes_fr'] = df['nombre_salaries_concernes'].apply(lambda x: format_number_to_str(x) + \" salariés\")\n",
    "                    \n",
    "                #NAF: shorten NAF section that is too long and dropping '0' values (does not make sense with \"top 10\")\n",
    "                if kpi == 'kpi_top_10_naf' :\n",
    "                    df['libelle_section_naf'] = df['libelle_section_naf'].apply(shorten_long_naf_libelle)\n",
    "                    df = df[df['montant'].apply(float) > 0]\n",
    "\n",
    "                df.to_csv(os.path.join(data_dir_path, '{}-{}-{}.csv'.format(aide, kpi, maille)), index=False)\n",
    "                \n",
    "        else :\n",
    "            print('Empty data for {}-{}'.format(aide,maille))"
   ]
  },
  {
   "cell_type": "code",
   "execution_count": 17,
   "id": "c2a5f132-bcae-427d-a46c-38c8b2714bd0",
   "metadata": {
    "execution": {
     "iopub.execute_input": "2022-02-23T01:32:35.771622Z",
     "iopub.status.busy": "2022-02-23T01:32:35.770914Z",
     "iopub.status.idle": "2022-02-23T01:32:35.777058Z",
     "shell.execute_reply": "2022-02-23T01:32:35.776314Z"
    },
    "papermill": {
     "duration": 0.055837,
     "end_time": "2022-02-23T01:32:35.778843",
     "exception": false,
     "start_time": "2022-02-23T01:32:35.723006",
     "status": "completed"
    },
    "tags": []
   },
   "outputs": [
    {
     "name": "stdout",
     "output_type": "stream",
     "text": [
      "https://raw.githubusercontent.com/etalab/dashboard-aides-entreprises/master/backend/json/activite-partielle3/activite-partielle-3-maille-departemental.json\n"
     ]
    }
   ],
   "source": [
    "print(url)"
   ]
  },
  {
   "cell_type": "markdown",
   "id": "treated-order",
   "metadata": {
    "papermill": {
     "duration": 0.045833,
     "end_time": "2022-02-23T01:32:35.868736",
     "exception": false,
     "start_time": "2022-02-23T01:32:35.822903",
     "status": "completed"
    },
    "tags": []
   },
   "source": [
    "## Making the graphs"
   ]
  },
  {
   "cell_type": "code",
   "execution_count": 18,
   "id": "located-allocation",
   "metadata": {
    "execution": {
     "iopub.execute_input": "2022-02-23T01:32:35.957941Z",
     "iopub.status.busy": "2022-02-23T01:32:35.957313Z",
     "iopub.status.idle": "2022-02-23T01:32:35.996756Z",
     "shell.execute_reply": "2022-02-23T01:32:35.995955Z"
    },
    "papermill": {
     "duration": 0.086789,
     "end_time": "2022-02-23T01:32:35.998854",
     "exception": false,
     "start_time": "2022-02-23T01:32:35.912065",
     "status": "completed"
    },
    "tags": []
   },
   "outputs": [
    {
     "name": "stdout",
     "output_type": "stream",
     "text": [
      "101 departements.\n",
      "18 regions.\n"
     ]
    }
   ],
   "source": [
    "#Get departements and regions lists\n",
    "\n",
    "taxo_dep_df = pd.DataFrame(import_json_to_dict(taxo_dep_url))\n",
    "dep_list = list(taxo_dep_df['dep'])\n",
    "print('{} departements.'.format(len(dep_list)))\n",
    "\n",
    "taxo_reg_df = pd.DataFrame(import_json_to_dict(taxo_reg_url))\n",
    "reg_list = list(taxo_reg_df['reg'])\n",
    "print('{} regions.'.format(len(reg_list)))"
   ]
  },
  {
   "cell_type": "code",
   "execution_count": 19,
   "id": "unlikely-lewis",
   "metadata": {
    "execution": {
     "iopub.execute_input": "2022-02-23T01:32:36.098914Z",
     "iopub.status.busy": "2022-02-23T01:32:36.098223Z",
     "iopub.status.idle": "2022-02-23T01:32:36.104586Z",
     "shell.execute_reply": "2022-02-23T01:32:36.103712Z"
    },
    "papermill": {
     "duration": 0.058109,
     "end_time": "2022-02-23T01:32:36.106648",
     "exception": false,
     "start_time": "2022-02-23T01:32:36.048539",
     "status": "completed"
    },
    "tags": []
   },
   "outputs": [],
   "source": [
    "#Building the folders structures\n",
    "mkdir_ifnotexist(img_dir_path)\n",
    "mkdir_ifnotexist(os.path.join(img_dir_path, 'national'))\n",
    "\n",
    "#Regions subfolders\n",
    "mkdir_ifnotexist(os.path.join(img_dir_path, 'regional'))\n",
    "for reg in reg_list :\n",
    "    mkdir_ifnotexist(os.path.join(img_dir_path, 'regional', reg))\n",
    "    \n",
    "#Departements subfolders\n",
    "mkdir_ifnotexist(os.path.join(img_dir_path, 'departemental'))\n",
    "for dep in dep_list :\n",
    "    mkdir_ifnotexist(os.path.join(img_dir_path, 'departemental', dep))"
   ]
  },
  {
   "cell_type": "code",
   "execution_count": 20,
   "id": "lovely-simulation",
   "metadata": {
    "execution": {
     "iopub.execute_input": "2022-02-23T01:32:36.199294Z",
     "iopub.status.busy": "2022-02-23T01:32:36.198545Z",
     "iopub.status.idle": "2022-02-23T01:35:17.949087Z",
     "shell.execute_reply": "2022-02-23T01:35:17.948058Z"
    },
    "papermill": {
     "duration": 161.849735,
     "end_time": "2022-02-23T01:35:18.000723",
     "exception": false,
     "start_time": "2022-02-23T01:32:36.150988",
     "status": "completed"
    },
    "tags": []
   },
   "outputs": [
    {
     "name": "stdout",
     "output_type": "stream",
     "text": [
      "national-aides-kpi_top_10_naf done.\n",
      "national-aides-kpi_categorie_juridique done.\n"
     ]
    },
    {
     "name": "stdout",
     "output_type": "stream",
     "text": [
      "national-aides-kpi_classe_effectif done.\n"
     ]
    },
    {
     "name": "stdout",
     "output_type": "stream",
     "text": [
      "national-pge-kpi_top_10_naf done.\n"
     ]
    },
    {
     "name": "stdout",
     "output_type": "stream",
     "text": [
      "national-report-kpi_top_10_naf done.\n"
     ]
    },
    {
     "name": "stdout",
     "output_type": "stream",
     "text": [
      "national-cpsti-kpi_top_10_naf done.\n"
     ]
    },
    {
     "name": "stdout",
     "output_type": "stream",
     "text": [
      "national-activite-partielle-nace17 done.\n"
     ]
    },
    {
     "name": "stdout",
     "output_type": "stream",
     "text": [
      "regional-aides-kpi_top_10_naf done.\n"
     ]
    },
    {
     "name": "stdout",
     "output_type": "stream",
     "text": [
      "regional-aides-kpi_categorie_juridique done.\n"
     ]
    },
    {
     "name": "stdout",
     "output_type": "stream",
     "text": [
      "regional-aides-kpi_classe_effectif done.\n"
     ]
    },
    {
     "name": "stdout",
     "output_type": "stream",
     "text": [
      "regional-pge-kpi_top_10_naf done.\n"
     ]
    },
    {
     "name": "stdout",
     "output_type": "stream",
     "text": [
      "regional-report-kpi_top_10_naf done.\n"
     ]
    },
    {
     "name": "stdout",
     "output_type": "stream",
     "text": [
      "No data to plot for cpsti-kpi_top_10_naf-regional-06\n"
     ]
    },
    {
     "name": "stdout",
     "output_type": "stream",
     "text": [
      "regional-cpsti-kpi_top_10_naf done.\n"
     ]
    },
    {
     "name": "stdout",
     "output_type": "stream",
     "text": [
      "regional-activite-partielle-nace17 done.\n"
     ]
    },
    {
     "name": "stdout",
     "output_type": "stream",
     "text": [
      "departemental-aides-kpi_top_10_naf done.\n"
     ]
    },
    {
     "name": "stdout",
     "output_type": "stream",
     "text": [
      "departemental-aides-kpi_categorie_juridique done.\n"
     ]
    },
    {
     "name": "stdout",
     "output_type": "stream",
     "text": [
      "departemental-aides-kpi_classe_effectif done.\n"
     ]
    },
    {
     "name": "stdout",
     "output_type": "stream",
     "text": [
      "departemental-pge-kpi_top_10_naf done.\n"
     ]
    },
    {
     "name": "stdout",
     "output_type": "stream",
     "text": [
      "departemental-report-kpi_top_10_naf done.\n"
     ]
    },
    {
     "name": "stdout",
     "output_type": "stream",
     "text": [
      "No data to plot for cpsti-kpi_top_10_naf-departemental-976\n",
      "departemental-cpsti-kpi_top_10_naf done.\n",
      "File not found: ./data/activite-partielle-nace17-departemental.csv\n",
      "File not found: ./data/activite-partielle-nace17-departemental.csv\n",
      "File not found: ./data/activite-partielle-nace17-departemental.csv\n",
      "File not found: ./data/activite-partielle-nace17-departemental.csv\n",
      "File not found: ./data/activite-partielle-nace17-departemental.csv\n",
      "File not found: ./data/activite-partielle-nace17-departemental.csv\n",
      "File not found: ./data/activite-partielle-nace17-departemental.csv\n",
      "File not found: ./data/activite-partielle-nace17-departemental.csv\n",
      "File not found: ./data/activite-partielle-nace17-departemental.csv\n",
      "File not found: ./data/activite-partielle-nace17-departemental.csv\n",
      "File not found: ./data/activite-partielle-nace17-departemental.csv\n",
      "File not found: ./data/activite-partielle-nace17-departemental.csv\n",
      "File not found: ./data/activite-partielle-nace17-departemental.csv\n",
      "File not found: ./data/activite-partielle-nace17-departemental.csv\n",
      "File not found: ./data/activite-partielle-nace17-departemental.csv\n",
      "File not found: ./data/activite-partielle-nace17-departemental.csv\n",
      "File not found: ./data/activite-partielle-nace17-departemental.csv\n",
      "File not found: ./data/activite-partielle-nace17-departemental.csv\n",
      "File not found: ./data/activite-partielle-nace17-departemental.csv\n",
      "File not found: ./data/activite-partielle-nace17-departemental.csv\n",
      "File not found: ./data/activite-partielle-nace17-departemental.csv\n",
      "File not found: ./data/activite-partielle-nace17-departemental.csv\n",
      "File not found: ./data/activite-partielle-nace17-departemental.csv\n",
      "File not found: ./data/activite-partielle-nace17-departemental.csv\n",
      "File not found: ./data/activite-partielle-nace17-departemental.csv\n",
      "File not found: ./data/activite-partielle-nace17-departemental.csv\n",
      "File not found: ./data/activite-partielle-nace17-departemental.csv\n",
      "File not found: ./data/activite-partielle-nace17-departemental.csv\n",
      "File not found: ./data/activite-partielle-nace17-departemental.csv\n",
      "File not found: ./data/activite-partielle-nace17-departemental.csv\n",
      "File not found: ./data/activite-partielle-nace17-departemental.csv\n",
      "File not found: ./data/activite-partielle-nace17-departemental.csv\n",
      "File not found: ./data/activite-partielle-nace17-departemental.csv\n",
      "File not found: ./data/activite-partielle-nace17-departemental.csv\n",
      "File not found: ./data/activite-partielle-nace17-departemental.csv\n",
      "File not found: ./data/activite-partielle-nace17-departemental.csv\n",
      "File not found: ./data/activite-partielle-nace17-departemental.csv\n",
      "File not found: ./data/activite-partielle-nace17-departemental.csv\n",
      "File not found: ./data/activite-partielle-nace17-departemental.csv\n",
      "File not found: ./data/activite-partielle-nace17-departemental.csv\n",
      "File not found: ./data/activite-partielle-nace17-departemental.csv\n",
      "File not found: ./data/activite-partielle-nace17-departemental.csv\n",
      "File not found: ./data/activite-partielle-nace17-departemental.csv\n",
      "File not found: ./data/activite-partielle-nace17-departemental.csv\n",
      "File not found: ./data/activite-partielle-nace17-departemental.csv\n",
      "File not found: ./data/activite-partielle-nace17-departemental.csv\n",
      "File not found: ./data/activite-partielle-nace17-departemental.csv\n",
      "File not found: ./data/activite-partielle-nace17-departemental.csv\n",
      "File not found: ./data/activite-partielle-nace17-departemental.csv\n",
      "File not found: ./data/activite-partielle-nace17-departemental.csv\n",
      "File not found: ./data/activite-partielle-nace17-departemental.csv\n",
      "File not found: ./data/activite-partielle-nace17-departemental.csv\n",
      "File not found: ./data/activite-partielle-nace17-departemental.csv\n",
      "File not found: ./data/activite-partielle-nace17-departemental.csv\n",
      "File not found: ./data/activite-partielle-nace17-departemental.csv\n",
      "File not found: ./data/activite-partielle-nace17-departemental.csv\n",
      "File not found: ./data/activite-partielle-nace17-departemental.csv\n",
      "File not found: ./data/activite-partielle-nace17-departemental.csv\n",
      "File not found: ./data/activite-partielle-nace17-departemental.csv\n",
      "File not found: ./data/activite-partielle-nace17-departemental.csv\n",
      "File not found: ./data/activite-partielle-nace17-departemental.csv\n",
      "File not found: ./data/activite-partielle-nace17-departemental.csv\n",
      "File not found: ./data/activite-partielle-nace17-departemental.csv\n",
      "File not found: ./data/activite-partielle-nace17-departemental.csv\n",
      "File not found: ./data/activite-partielle-nace17-departemental.csv\n",
      "File not found: ./data/activite-partielle-nace17-departemental.csv\n",
      "File not found: ./data/activite-partielle-nace17-departemental.csv\n",
      "File not found: ./data/activite-partielle-nace17-departemental.csv\n",
      "File not found: ./data/activite-partielle-nace17-departemental.csv\n",
      "File not found: ./data/activite-partielle-nace17-departemental.csv\n",
      "File not found: ./data/activite-partielle-nace17-departemental.csv\n",
      "File not found: ./data/activite-partielle-nace17-departemental.csv\n",
      "File not found: ./data/activite-partielle-nace17-departemental.csv\n",
      "File not found: ./data/activite-partielle-nace17-departemental.csv\n",
      "File not found: ./data/activite-partielle-nace17-departemental.csv\n",
      "File not found: ./data/activite-partielle-nace17-departemental.csv\n",
      "File not found: ./data/activite-partielle-nace17-departemental.csv\n",
      "File not found: ./data/activite-partielle-nace17-departemental.csv\n",
      "File not found: ./data/activite-partielle-nace17-departemental.csv\n",
      "File not found: ./data/activite-partielle-nace17-departemental.csv\n",
      "File not found: ./data/activite-partielle-nace17-departemental.csv\n",
      "File not found: ./data/activite-partielle-nace17-departemental.csv\n",
      "File not found: ./data/activite-partielle-nace17-departemental.csv\n",
      "File not found: ./data/activite-partielle-nace17-departemental.csv\n",
      "File not found: ./data/activite-partielle-nace17-departemental.csv\n",
      "File not found: ./data/activite-partielle-nace17-departemental.csv\n",
      "File not found: ./data/activite-partielle-nace17-departemental.csv\n",
      "File not found: ./data/activite-partielle-nace17-departemental.csv\n",
      "File not found: ./data/activite-partielle-nace17-departemental.csv\n",
      "File not found: ./data/activite-partielle-nace17-departemental.csv\n",
      "File not found: ./data/activite-partielle-nace17-departemental.csv\n",
      "File not found: ./data/activite-partielle-nace17-departemental.csv\n",
      "File not found: ./data/activite-partielle-nace17-departemental.csv\n",
      "File not found: ./data/activite-partielle-nace17-departemental.csv\n",
      "File not found: ./data/activite-partielle-nace17-departemental.csv\n",
      "File not found: ./data/activite-partielle-nace17-departemental.csv\n",
      "File not found: ./data/activite-partielle-nace17-departemental.csv\n",
      "File not found: ./data/activite-partielle-nace17-departemental.csv\n",
      "File not found: ./data/activite-partielle-nace17-departemental.csv\n",
      "File not found: ./data/activite-partielle-nace17-departemental.csv\n",
      "File not found: ./data/activite-partielle-nace17-departemental.csv\n",
      "departemental-activite-partielle-nace17 done.\n",
      "CPU times: user 1min 27s, sys: 977 ms, total: 1min 28s\n",
      "Wall time: 2min 41s\n"
     ]
    }
   ],
   "source": [
    "%%time\n",
    "#Generating all graphs and saving them in appropriate folders\n",
    "for maille in mailles_list :\n",
    "    for param in graph_params_list :\n",
    "        graph_param = param.copy()\n",
    "        graph_param['maille'] = maille\n",
    "        \n",
    "        if maille == 'national' :\n",
    "            img_path = os.path.join(img_dir_path, maille, '{}-{}-{}-{}-{}.png'.format(param['aide'],\n",
    "                                                                                      param['kpi'],\n",
    "                                                                                      param['x_col'],\n",
    "                                                                                      maille,\n",
    "                                                                                      param['chart_type']))\n",
    "\n",
    "            fig = make_chart(**graph_param)\n",
    "            \n",
    "            if fig is not None :\n",
    "                fig.write_image(img_path)\n",
    "            \n",
    "        elif maille == 'regional' :\n",
    "            for reg in reg_list :\n",
    "                graph_param['reg'] = reg\n",
    "                img_path = os.path.join(img_dir_path, maille, reg, '{}-{}-{}-{}-{}.png'.format(param['aide'],\n",
    "                                                                                               param['kpi'],\n",
    "                                                                                               param['x_col'],\n",
    "                                                                                               maille,\n",
    "                                                                                               reg,\n",
    "                                                                                               param['chart_type']))\n",
    "                fig = make_chart(**graph_param) \n",
    "                \n",
    "                if fig is not None :\n",
    "                    fig.write_image(img_path)\n",
    "                \n",
    "        elif maille == 'departemental' :\n",
    "            for dep in dep_list :\n",
    "                graph_param['dep'] = dep\n",
    "                img_path = os.path.join(img_dir_path, maille, dep, '{}-{}-{}-{}-{}.png'.format(param['aide'],\n",
    "                                                                                               param['kpi'],\n",
    "                                                                                               param['x_col'],\n",
    "                                                                                               maille,\n",
    "                                                                                               dep,\n",
    "                                                                                               param['chart_type']))\n",
    "                fig = make_chart(**graph_param) \n",
    "                \n",
    "                if fig is not None :\n",
    "                    fig.write_image(img_path)\n",
    "                    \n",
    "        print('{}-{}-{} done.'.format(maille, param['aide'], param['kpi']))"
   ]
  },
  {
   "cell_type": "markdown",
   "id": "acoustic-percentage",
   "metadata": {
    "papermill": {
     "duration": 0.053633,
     "end_time": "2022-02-23T01:35:18.107755",
     "exception": false,
     "start_time": "2022-02-23T01:35:18.054122",
     "status": "completed"
    },
    "tags": []
   },
   "source": [
    "## Building the reports"
   ]
  },
  {
   "cell_type": "code",
   "execution_count": 21,
   "id": "formed-klein",
   "metadata": {
    "execution": {
     "iopub.execute_input": "2022-02-23T01:35:18.218704Z",
     "iopub.status.busy": "2022-02-23T01:35:18.218342Z",
     "iopub.status.idle": "2022-02-23T01:35:18.223995Z",
     "shell.execute_reply": "2022-02-23T01:35:18.223139Z"
    },
    "papermill": {
     "duration": 0.06345,
     "end_time": "2022-02-23T01:35:18.226545",
     "exception": false,
     "start_time": "2022-02-23T01:35:18.163095",
     "status": "completed"
    },
    "tags": []
   },
   "outputs": [],
   "source": [
    "mkdir_ifnotexist(reports_dir_path)"
   ]
  },
  {
   "cell_type": "code",
   "execution_count": 22,
   "id": "flush-assets",
   "metadata": {
    "execution": {
     "iopub.execute_input": "2022-02-23T01:35:18.333942Z",
     "iopub.status.busy": "2022-02-23T01:35:18.333233Z",
     "iopub.status.idle": "2022-02-23T01:35:18.337769Z",
     "shell.execute_reply": "2022-02-23T01:35:18.336861Z"
    },
    "papermill": {
     "duration": 0.061192,
     "end_time": "2022-02-23T01:35:18.340117",
     "exception": false,
     "start_time": "2022-02-23T01:35:18.278925",
     "status": "completed"
    },
    "tags": []
   },
   "outputs": [],
   "source": [
    "global title_header\n",
    "title_header = ''\n",
    "global subtitle_header\n",
    "subtitle_header = ''"
   ]
  },
  {
   "cell_type": "code",
   "execution_count": 23,
   "id": "lined-booking",
   "metadata": {
    "execution": {
     "iopub.execute_input": "2022-02-23T01:35:18.449389Z",
     "iopub.status.busy": "2022-02-23T01:35:18.448900Z",
     "iopub.status.idle": "2022-02-23T01:35:18.458866Z",
     "shell.execute_reply": "2022-02-23T01:35:18.458062Z"
    },
    "papermill": {
     "duration": 0.067805,
     "end_time": "2022-02-23T01:35:18.461049",
     "exception": false,
     "start_time": "2022-02-23T01:35:18.393244",
     "status": "completed"
    },
    "tags": []
   },
   "outputs": [],
   "source": [
    "class PDF(FPDF):\n",
    "    def header(self):\n",
    "        if (self.page_no() != 1 ):\n",
    "            # Logo\n",
    "            self.image(os.path.join(img_dir_path, 'LogoRF.png'), 10, 8, 33)\n",
    "            self.image(os.path.join(img_dir_path, 'logo_Francerelance_1321294.54.png'), pdf.w-45, 7, 45)\n",
    "            # Arial bold 15\n",
    "            self.cell(50)\n",
    "            self.set_font('Arial', 'B', 16)\n",
    "            self.cell(80, 15, title_header, 0, 1, 'A')\n",
    "\n",
    "            # Move to the right\n",
    "            # Title\n",
    "            self.set_font('Arial', 'I', 9)\n",
    "            self.cell(50)\n",
    "            self.cell(50, 10, subtitle_header+' - aides-entreprises.data.gouv.fr', 0, 1, 'A', link='https://aides-entreprises.data.gouv.fr/')\n",
    "            # Line break  \n",
    "            pdf.line(40, 38, 170, 38)\n",
    "            self.ln(7)\n",
    "        \n",
    "    # Page footer\n",
    "    def footer(self):\n",
    "        if (self.page_no() != 1 ):\n",
    "            # Position at 1.5 cm from bottom\n",
    "            self.set_y(-15)\n",
    "            # Arial italic 8\n",
    "            self.set_font('Arial', 'I', 8)\n",
    "            # Page number\n",
    "            \n",
    "            self.cell(0, 10, 'Direction Interministérielle du Numérique (DINUM) - Page ' + str(self.page_no()) + '/{nb}', 0, 0, 'C')         "
   ]
  },
  {
   "cell_type": "code",
   "execution_count": 24,
   "id": "tamil-ethernet",
   "metadata": {
    "execution": {
     "iopub.execute_input": "2022-02-23T01:35:18.573121Z",
     "iopub.status.busy": "2022-02-23T01:35:18.572680Z",
     "iopub.status.idle": "2022-02-23T01:35:18.577454Z",
     "shell.execute_reply": "2022-02-23T01:35:18.576824Z"
    },
    "papermill": {
     "duration": 0.067336,
     "end_time": "2022-02-23T01:35:18.579736",
     "exception": false,
     "start_time": "2022-02-23T01:35:18.512400",
     "status": "completed"
    },
    "tags": []
   },
   "outputs": [],
   "source": [
    "def format_val(val,add):\n",
    "    return '{:,}'.format(int(float(val))).replace(',', ' ')+add"
   ]
  },
  {
   "cell_type": "code",
   "execution_count": 25,
   "id": "interested-consumer",
   "metadata": {
    "execution": {
     "iopub.execute_input": "2022-02-23T01:35:18.694572Z",
     "iopub.status.busy": "2022-02-23T01:35:18.693905Z",
     "iopub.status.idle": "2022-02-23T01:35:18.706745Z",
     "shell.execute_reply": "2022-02-23T01:35:18.705749Z"
    },
    "papermill": {
     "duration": 0.07437,
     "end_time": "2022-02-23T01:35:18.710033",
     "exception": false,
     "start_time": "2022-02-23T01:35:18.635663",
     "status": "completed"
    },
    "tags": []
   },
   "outputs": [],
   "source": [
    "def get_kpis(aide,maille,geo):\n",
    "    #url = \"https://raw.githubusercontent.com/etalab/dashboard-aides-entreprises/master/backend/json/{}/{}-maille-{}-minify.json\".format(aide, aide, maille)\n",
    "    url = \"https://raw.githubusercontent.com/etalab/dashboard-aides-entreprises/master/backend/json/{}/{}-maille-{}.json\".format(aide, aide, maille)\n",
    "    \n",
    "    data = import_json_to_dict(url)\n",
    "    if(maille == 'national'):\n",
    "        if(aide == 'aides'):\n",
    "            return format_val(data[0]['montant'],' euros'),format_val(data[0]['nombre'],''),format_val(data[0]['nombre_siren'],'')\n",
    "        else:\n",
    "            return format_val(data[0]['montant'],' euros'),format_val(data[0]['nombre'],'')\n",
    "\n",
    "    elif(maille == 'regional'):\n",
    "        for reg in data:\n",
    "            if(reg['reg'] == geo):\n",
    "                if(aide == 'aides'):\n",
    "                    return format_val(reg['montant'],' euros'),format_val(reg['nombre'],''),format_val(reg['nombre_siren'],'')\n",
    "                else:\n",
    "                    return format_val(reg['montant'],' euros'),format_val(reg['nombre'],'')\n",
    "\n",
    "    elif(maille == 'departemental'):\n",
    "        for dep in data:\n",
    "            if(dep['dep'] == geo):\n",
    "                if(aide == 'aides'):\n",
    "                    return format_val(dep['montant'],' euros'),format_val(dep['nombre'],''),format_val(dep['nombre_siren'],'')\n",
    "                else:\n",
    "                    return format_val(dep['montant'],' euros'),format_val(dep['nombre'],'')\n"
   ]
  },
  {
   "cell_type": "code",
   "execution_count": 26,
   "id": "accessory-quantum",
   "metadata": {
    "execution": {
     "iopub.execute_input": "2022-02-23T01:35:18.822723Z",
     "iopub.status.busy": "2022-02-23T01:35:18.822152Z",
     "iopub.status.idle": "2022-02-23T01:35:18.829634Z",
     "shell.execute_reply": "2022-02-23T01:35:18.828974Z"
    },
    "papermill": {
     "duration": 0.066546,
     "end_time": "2022-02-23T01:35:18.831469",
     "exception": false,
     "start_time": "2022-02-23T01:35:18.764923",
     "status": "completed"
    },
    "tags": []
   },
   "outputs": [],
   "source": [
    "def get_actpart_kpis(aide,maille,geo):\n",
    "    #url = \"https://raw.githubusercontent.com/etalab/dashboard-aides-entreprises/master/backend/json/{}3/{}-3-maille-{}-minify.json\".format(aide, aide, maille)\n",
    "    url = \"https://raw.githubusercontent.com/etalab/dashboard-aides-entreprises/master/backend/json/{}3/{}-3-maille-{}.json\".format(aide, aide, maille)\n",
    "    \n",
    "    data = import_json_to_dict(url)\n",
    "    if(maille == 'national'):\n",
    "        return format_val(data[0]['nombre_demandes_deposees'],''), format_val(data[0]['nombre_salaries_concernes'],''),format_val(data[0]['nombre_heures_demandees'],'')\n",
    "\n",
    "    elif(maille == 'regional'):\n",
    "        for reg in data:\n",
    "            if(reg['reg'] == geo):\n",
    "                return format_val(reg['nombre_demandes_deposees'],''), format_val(reg['nombre_salaries_concernes'],''),format_val(reg['nombre_heures_demandees'],'')\n",
    "\n",
    "    elif(maille == 'departemental'):\n",
    "        for dep in data:\n",
    "            if(dep['dep'] == geo):\n",
    "                return format_val(dep['nombre_demandes_deposees'],''), format_val(dep['nombre_salaries_concernes'],''),format_val(dep['nombre_heures_demandees'],'')"
   ]
  },
  {
   "cell_type": "code",
   "execution_count": 27,
   "id": "concerned-macintosh",
   "metadata": {
    "execution": {
     "iopub.execute_input": "2022-02-23T01:35:18.943678Z",
     "iopub.status.busy": "2022-02-23T01:35:18.942896Z",
     "iopub.status.idle": "2022-02-23T01:35:18.950593Z",
     "shell.execute_reply": "2022-02-23T01:35:18.949186Z"
    },
    "papermill": {
     "duration": 0.066399,
     "end_time": "2022-02-23T01:35:18.952749",
     "exception": false,
     "start_time": "2022-02-23T01:35:18.886350",
     "status": "completed"
    },
    "tags": []
   },
   "outputs": [],
   "source": [
    "def find_last_update(aide):\n",
    "    if aide != 'activite-partielle' :\n",
    "        url = \"https://raw.githubusercontent.com/etalab/dashboard-aides-entreprises/master/backend/json/\"+aide+\"/last_update_data.txt\"\n",
    "    else :\n",
    "        url = \"https://raw.githubusercontent.com/etalab/dashboard-aides-entreprises/master/backend/json/\"+aide+\"3/last_update_data.txt\"\n",
    "    u2 = urllib.request.urlopen(url)\n",
    "    return u2.readlines()[0].decode(\"utf-8\")"
   ]
  },
  {
   "cell_type": "code",
   "execution_count": 28,
   "id": "chubby-taxation",
   "metadata": {
    "execution": {
     "iopub.execute_input": "2022-02-23T01:35:19.062622Z",
     "iopub.status.busy": "2022-02-23T01:35:19.062233Z",
     "iopub.status.idle": "2022-02-23T01:35:19.093989Z",
     "shell.execute_reply": "2022-02-23T01:35:19.093246Z"
    },
    "papermill": {
     "duration": 0.088243,
     "end_time": "2022-02-23T01:35:19.096253",
     "exception": false,
     "start_time": "2022-02-23T01:35:19.008010",
     "status": "completed"
    },
    "tags": []
   },
   "outputs": [],
   "source": [
    "def add_page_report(pdf, aide, dep, aideurl, phrase1, phrase2, phrase3, phrase_nombre, source_dict):\n",
    "\n",
    "    pdf.set_fill_color(83,101,125);\n",
    "    pdf.rect(20,41,180,14,'F')\n",
    "    \n",
    "    pdf.image(os.path.join(img_dir_path, 'information.png'), x=10, y=44.5, w=7)\n",
    "    \n",
    "    \n",
    "    pdf.set_font('Arial', 'I', 7)\n",
    "    pdf.set_text_color(255,255,255)\n",
    "    pdf.cell(10)\n",
    "    pdf.cell(10, 3, phrase1, ln=1)\n",
    "    pdf.ln(0)\n",
    "    pdf.cell(10)    \n",
    "    pdf.cell(10, 3, phrase2, ln=1)\n",
    "    pdf.ln(0)\n",
    "    pdf.cell(10)\n",
    "    pdf.cell(10, 3, phrase3, ln=1)\n",
    "    pdf.ln(0)\n",
    "    pdf.cell(10)\n",
    "    pdf.set_font('Arial', 'IU', 7)\n",
    "    pdf.cell(10, 3, source_dict['name'], ln=1, link=source_dict['url'])\n",
    "    pdf.ln(2)\n",
    "       \n",
    "    pdf.set_text_color(0,0,0)\n",
    "\n",
    "\n",
    "    pdf.set_font('Arial', 'BI', 14)\n",
    "    pdf.cell(65, 10, \"Niveau National\", ln=1)\n",
    "    \n",
    "    \n",
    "    pdf.set_font('Arial', '', 14)\n",
    "\n",
    "    hbar_w = 100\n",
    "    dpie_w = 90\n",
    "\n",
    "    pdf.image(os.path.join(img_dir_path, 'national', aide+'-kpi_top_10_naf-montant-national-hbar.png'), x=pdf.w/3-hbar_w/2, y=64, w=hbar_w)\n",
    "\n",
    "    kpis_nat = get_kpis(aide,'national','national')\n",
    "    pdf.ln(10)\n",
    "    pdf.cell((pdf.w/3)*1.55)\n",
    "    pdf.cell(0, 10, \"Montant total : \"+kpis_nat[0], 0, 0)\n",
    "    pdf.ln(15)\n",
    "    pdf.cell((pdf.w/3)*1.55)\n",
    "    pdf.cell(0, 10, \"Nombre \"+phrase_nombre+kpis_nat[1], 0, 0)\n",
    "    pdf.ln(15)\n",
    "    pdf.cell((pdf.w/3)*1.55)\n",
    "    if(aide == 'aides'):\n",
    "        pdf.cell(0, 10, \"Nombre d'entreprises : \"+kpis_nat[2], 0, 0)\n",
    "\n",
    "\n",
    "    pdf.ln(27)\n",
    "\n",
    "    reg = taxo_dep_df[taxo_dep_df['dep'] == dep].iloc[0]['reg']\n",
    "    libelle_reg = taxo_reg_df[taxo_reg_df['reg'] == reg].iloc[0]['libelle']\n",
    "    libelle_dep = taxo_dep_df[taxo_dep_df['dep'] == dep].iloc[0]['libelle']\n",
    "    \n",
    "    pdf.set_font('Arial', 'BI', 14)\n",
    "    pdf.cell(65, 10, \"Niveau Régional : \"+libelle_reg, ln=1)\n",
    "    \n",
    "    if aide == 'cpsti' and reg == '06' :\n",
    "        pdf.set_font('Arial', 'I', 12)\n",
    "        pdf.ln(10)\n",
    "        pdf.cell(0,0,\"Absence de données à l'échelle de la région.\", ln=1)\n",
    "        pdf.ln(15)\n",
    "    else :\n",
    "        pdf.set_font('Arial', '', 14)\n",
    "\n",
    "        hbar_w = 100\n",
    "        dpie_w = 90\n",
    "\n",
    "        kpis_reg = get_kpis(aide,'regional', reg)\n",
    "\n",
    "        pdf.image(os.path.join(img_dir_path, 'regional/'+reg+'/'+aide+'-kpi_top_10_naf-montant-regional-'+reg+'.png'), x=pdf.w/3-hbar_w/2, y=142, w=hbar_w)\n",
    "        pdf.ln(10)\n",
    "        pdf.cell((pdf.w/3)*1.55)\n",
    "        pdf.cell(0, 10, \"Montant total : \"+kpis_reg[0], 0, 0)\n",
    "        pdf.ln(15)\n",
    "        pdf.cell((pdf.w/3)*1.55)\n",
    "        pdf.cell(0, 10, \"Nombre \"+phrase_nombre+kpis_reg[1], 0, 0)\n",
    "        pdf.ln(15)\n",
    "        pdf.cell((pdf.w/3)*1.55)\n",
    "        if(aide == 'aides'):\n",
    "            pdf.cell(0, 10, \"Nombre d'entreprises : \"+kpis_reg[2], 0, 0)\n",
    "\n",
    "        pdf.ln(25)\n",
    "\n",
    "    pdf.set_font('Arial', 'BI', 14)\n",
    "    pdf.cell(65, 15, \"Niveau Départemental : \"+libelle_dep, ln=1)\n",
    "        \n",
    "    if aide == 'cpsti' and dep == '976' :\n",
    "        pdf.ln(10)\n",
    "        pdf.set_font('Arial', 'I', 12)\n",
    "        pdf.cell(0,0,\"Absence de données à l'échelle du département.\", ln=1)\n",
    "        pdf.ln(15)\n",
    "    else :\n",
    "        pdf.set_font('Arial', '', 14)\n",
    "\n",
    "        hbar_w = 100\n",
    "        dpie_w = 90\n",
    "\n",
    "        pdf.image(os.path.join(img_dir_path, 'departemental/'+dep+'/'+aide+'-kpi_top_10_naf-montant-departemental-'+dep+'.png'), x=pdf.w/3-hbar_w/2, y=219, w=hbar_w)\n",
    "\n",
    "        kpis_dep = get_kpis(aide,'departemental', dep)\n",
    "        pdf.ln(8)\n",
    "        pdf.cell((pdf.w/3)*1.55)\n",
    "        pdf.cell(0, 10, \"Montant total : \"+kpis_dep[0], 0, 0)\n",
    "        pdf.ln(15)\n",
    "        pdf.cell((pdf.w/3)*1.55)\n",
    "        pdf.cell(0, 10, \"Nombre \"+phrase_nombre+kpis_dep[1], 0, 0)\n",
    "        pdf.ln(15)\n",
    "        pdf.cell((pdf.w/3)*1.55)\n",
    "        if(aide == 'aides'):\n",
    "            pdf.cell(0, 10, \"Nombre d'entreprises : \"+kpis_dep[2], 0, 0)\n",
    "    \n",
    "    pdf.link(10,57,120,8, 'http://aides-entreprises.data.gouv.fr')\n",
    "    pdf.link(10,134,120,8, 'https://aides-entreprises.data.gouv.fr/'+aideurl+'?datasetid=regions&field=code&value='+reg)\n",
    "    pdf.link(10,212,120,8, 'https://aides-entreprises.data.gouv.fr/'+aideurl+'?datasetid=departements&field=code&value='+dep)\n",
    "    \n",
    "    \n",
    "    return pdf"
   ]
  },
  {
   "cell_type": "code",
   "execution_count": 29,
   "id": "genuine-eagle",
   "metadata": {
    "execution": {
     "iopub.execute_input": "2022-02-23T01:35:19.205079Z",
     "iopub.status.busy": "2022-02-23T01:35:19.204810Z",
     "iopub.status.idle": "2022-02-23T01:35:19.224335Z",
     "shell.execute_reply": "2022-02-23T01:35:19.223587Z"
    },
    "papermill": {
     "duration": 0.078991,
     "end_time": "2022-02-23T01:35:19.229524",
     "exception": false,
     "start_time": "2022-02-23T01:35:19.150533",
     "status": "completed"
    },
    "tags": []
   },
   "outputs": [],
   "source": [
    "def add_actpart_page_report(pdf, dep, aideurl, phrase1, phrase2, phrase3, source_dict):\n",
    "    \n",
    "    aide = 'activite-partielle'\n",
    "    \n",
    "    pdf.set_fill_color(83,101,125);\n",
    "    pdf.rect(20,41,180,14,'F')\n",
    "    \n",
    "    pdf.image(os.path.join(img_dir_path, 'information.png'), x=10, y=44.5, w=7)\n",
    "    \n",
    "    \n",
    "    pdf.set_font('Arial', 'I', 7)\n",
    "    pdf.set_text_color(255,255,255)\n",
    "    pdf.cell(10)\n",
    "    pdf.cell(10, 3, phrase1, ln=1)\n",
    "    pdf.ln(0)\n",
    "    pdf.cell(10)    \n",
    "    pdf.cell(10, 3, phrase2, ln=1)\n",
    "    pdf.ln(0)\n",
    "    pdf.cell(10)\n",
    "    pdf.cell(10, 3, phrase3, ln=1)\n",
    "    pdf.ln(0)\n",
    "    pdf.cell(10)\n",
    "    pdf.set_font('Arial', 'IU', 7)\n",
    "    pdf.cell(10, 3, source_dict['name'], ln=1, link=source_dict['url'])\n",
    "    pdf.ln(2)\n",
    "       \n",
    "    pdf.set_text_color(0,0,0)\n",
    "\n",
    "\n",
    "    pdf.set_font('Arial', 'BI', 14)\n",
    "    pdf.cell(65, 10, \"Niveau National\", ln=1)\n",
    "    \n",
    "    \n",
    "    pdf.set_font('Arial', '', 14)\n",
    "\n",
    "    hbar_w = 100\n",
    "    dpie_w = 90\n",
    "\n",
    "    pdf.image(os.path.join(img_dir_path, 'national', aide+'-nace17-nombre_salaries_concernes-national-sthbar.png'), x=pdf.w/3-hbar_w/2, y=64, w=hbar_w)\n",
    "\n",
    "    kpis_nat = get_actpart_kpis(aide,'national','national')\n",
    "    pdf.ln(10)\n",
    "    pdf.cell((pdf.w/3)*1.55)\n",
    "    pdf.cell(0, 10, \"Nombre de demandes : \"+kpis_nat[0], 0, 0)\n",
    "    pdf.ln(15)\n",
    "    pdf.cell((pdf.w/3)*1.55)\n",
    "    pdf.cell(0, 10, \"Nombre de salariés : \"+kpis_nat[1], 0, 0)\n",
    "    pdf.ln(15)\n",
    "    pdf.cell((pdf.w/3)*1.55)\n",
    "    pdf.cell(0, 10, \"Heures demandées : \"+kpis_nat[2], 0, 0)\n",
    "\n",
    "\n",
    "    pdf.ln(27)\n",
    "\n",
    "    reg = taxo_dep_df[taxo_dep_df['dep'] == dep].iloc[0]['reg']\n",
    "    libelle_reg = taxo_reg_df[taxo_reg_df['reg'] == reg].iloc[0]['libelle']\n",
    "    libelle_dep = taxo_dep_df[taxo_dep_df['dep'] == dep].iloc[0]['libelle']\n",
    "    \n",
    "    pdf.set_font('Arial', 'BI', 14)\n",
    "    pdf.cell(65, 10, \"Niveau Régional : \"+libelle_reg, ln=1)\n",
    "\n",
    "    pdf.set_font('Arial', '', 14)\n",
    "\n",
    "    hbar_w = 100\n",
    "    dpie_w = 90\n",
    "\n",
    "    kpis_reg = get_actpart_kpis(aide,'regional', reg)\n",
    "\n",
    "    pdf.image(os.path.join(img_dir_path, 'regional/'+reg+'/'+aide+'-nace17-nombre_salaries_concernes-regional-'+reg+'.png'), x=pdf.w/3-hbar_w/2, y=142, w=hbar_w)\n",
    "    pdf.ln(10)\n",
    "    pdf.cell((pdf.w/3)*1.55)\n",
    "    pdf.cell(0, 10, \"Nombre de demandes : \"+kpis_reg[0], 0, 0)\n",
    "    pdf.ln(15)\n",
    "    pdf.cell((pdf.w/3)*1.55)\n",
    "    pdf.cell(0, 10, \"Nombre de salariés : \"+kpis_reg[1], 0, 0)\n",
    "    pdf.ln(15)\n",
    "    pdf.cell((pdf.w/3)*1.55)\n",
    "    pdf.cell(0, 10, \"Heures demandées : \"+kpis_reg[2], 0, 0)\n",
    "\n",
    "    pdf.ln(25)\n",
    "    \n",
    "    #Pas de données départementales pour l'instant pour l'activité partielle\n",
    "    \n",
    "    pdf.link(10,57,120,8, 'http://aides-entreprises.data.gouv.fr')\n",
    "    pdf.link(10,134,120,8, 'https://aides-entreprises.data.gouv.fr/'+aideurl+'?datasetid=regions&field=code&value='+reg)\n",
    "    \n",
    "    return pdf"
   ]
  },
  {
   "cell_type": "code",
   "execution_count": 30,
   "id": "developed-classic",
   "metadata": {
    "execution": {
     "iopub.execute_input": "2022-02-23T01:35:19.338927Z",
     "iopub.status.busy": "2022-02-23T01:35:19.338490Z",
     "iopub.status.idle": "2022-02-23T01:49:19.054597Z",
     "shell.execute_reply": "2022-02-23T01:49:19.053038Z"
    },
    "papermill": {
     "duration": 839.773429,
     "end_time": "2022-02-23T01:49:19.056752",
     "exception": false,
     "start_time": "2022-02-23T01:35:19.283323",
     "status": "completed"
    },
    "tags": []
   },
   "outputs": [
    {
     "name": "stdout",
     "output_type": "stream",
     "text": [
      "2022-02-23 01:35:27.925763 - 01 done.\n"
     ]
    },
    {
     "name": "stdout",
     "output_type": "stream",
     "text": [
      "2022-02-23 01:35:36.047517 - 02 done.\n"
     ]
    },
    {
     "name": "stdout",
     "output_type": "stream",
     "text": [
      "2022-02-23 01:35:44.145612 - 03 done.\n"
     ]
    },
    {
     "name": "stdout",
     "output_type": "stream",
     "text": [
      "2022-02-23 01:35:52.152620 - 04 done.\n"
     ]
    },
    {
     "name": "stdout",
     "output_type": "stream",
     "text": [
      "2022-02-23 01:36:00.416078 - 05 done.\n"
     ]
    },
    {
     "name": "stdout",
     "output_type": "stream",
     "text": [
      "2022-02-23 01:36:08.653698 - 06 done.\n"
     ]
    },
    {
     "name": "stdout",
     "output_type": "stream",
     "text": [
      "2022-02-23 01:36:16.829038 - 07 done.\n"
     ]
    },
    {
     "name": "stdout",
     "output_type": "stream",
     "text": [
      "2022-02-23 01:36:25.021905 - 08 done.\n"
     ]
    },
    {
     "name": "stdout",
     "output_type": "stream",
     "text": [
      "2022-02-23 01:36:33.183625 - 09 done.\n"
     ]
    },
    {
     "name": "stdout",
     "output_type": "stream",
     "text": [
      "2022-02-23 01:36:41.516751 - 10 done.\n"
     ]
    },
    {
     "name": "stdout",
     "output_type": "stream",
     "text": [
      "2022-02-23 01:36:49.794781 - 11 done.\n"
     ]
    },
    {
     "name": "stdout",
     "output_type": "stream",
     "text": [
      "2022-02-23 01:36:57.831113 - 12 done.\n"
     ]
    },
    {
     "name": "stdout",
     "output_type": "stream",
     "text": [
      "2022-02-23 01:37:06.013580 - 13 done.\n"
     ]
    },
    {
     "name": "stdout",
     "output_type": "stream",
     "text": [
      "2022-02-23 01:37:14.225255 - 14 done.\n"
     ]
    },
    {
     "name": "stdout",
     "output_type": "stream",
     "text": [
      "2022-02-23 01:37:22.409917 - 15 done.\n"
     ]
    },
    {
     "name": "stdout",
     "output_type": "stream",
     "text": [
      "2022-02-23 01:37:30.510409 - 16 done.\n"
     ]
    },
    {
     "name": "stdout",
     "output_type": "stream",
     "text": [
      "2022-02-23 01:37:39.516706 - 17 done.\n"
     ]
    },
    {
     "name": "stdout",
     "output_type": "stream",
     "text": [
      "2022-02-23 01:37:47.935912 - 18 done.\n"
     ]
    },
    {
     "name": "stdout",
     "output_type": "stream",
     "text": [
      "2022-02-23 01:37:56.172038 - 19 done.\n"
     ]
    },
    {
     "name": "stdout",
     "output_type": "stream",
     "text": [
      "2022-02-23 01:38:04.090804 - 21 done.\n"
     ]
    },
    {
     "name": "stdout",
     "output_type": "stream",
     "text": [
      "2022-02-23 01:38:12.068439 - 22 done.\n"
     ]
    },
    {
     "name": "stdout",
     "output_type": "stream",
     "text": [
      "2022-02-23 01:38:20.004966 - 23 done.\n"
     ]
    },
    {
     "name": "stdout",
     "output_type": "stream",
     "text": [
      "2022-02-23 01:38:28.158292 - 24 done.\n"
     ]
    },
    {
     "name": "stdout",
     "output_type": "stream",
     "text": [
      "2022-02-23 01:38:36.215252 - 25 done.\n"
     ]
    },
    {
     "name": "stdout",
     "output_type": "stream",
     "text": [
      "2022-02-23 01:38:44.396954 - 26 done.\n"
     ]
    },
    {
     "name": "stdout",
     "output_type": "stream",
     "text": [
      "2022-02-23 01:38:52.422789 - 27 done.\n"
     ]
    },
    {
     "name": "stdout",
     "output_type": "stream",
     "text": [
      "2022-02-23 01:39:00.588223 - 28 done.\n"
     ]
    },
    {
     "name": "stdout",
     "output_type": "stream",
     "text": [
      "2022-02-23 01:39:08.769116 - 29 done.\n"
     ]
    },
    {
     "name": "stdout",
     "output_type": "stream",
     "text": [
      "2022-02-23 01:39:16.752554 - 2A done.\n"
     ]
    },
    {
     "name": "stdout",
     "output_type": "stream",
     "text": [
      "2022-02-23 01:39:24.750394 - 2B done.\n"
     ]
    },
    {
     "name": "stdout",
     "output_type": "stream",
     "text": [
      "2022-02-23 01:39:32.791852 - 30 done.\n"
     ]
    },
    {
     "name": "stdout",
     "output_type": "stream",
     "text": [
      "2022-02-23 01:39:40.862190 - 31 done.\n"
     ]
    },
    {
     "name": "stdout",
     "output_type": "stream",
     "text": [
      "2022-02-23 01:39:48.809876 - 32 done.\n"
     ]
    },
    {
     "name": "stdout",
     "output_type": "stream",
     "text": [
      "2022-02-23 01:39:56.848446 - 33 done.\n"
     ]
    },
    {
     "name": "stdout",
     "output_type": "stream",
     "text": [
      "2022-02-23 01:40:04.928064 - 34 done.\n"
     ]
    },
    {
     "name": "stdout",
     "output_type": "stream",
     "text": [
      "2022-02-23 01:40:13.075710 - 35 done.\n"
     ]
    },
    {
     "name": "stdout",
     "output_type": "stream",
     "text": [
      "2022-02-23 01:40:21.156286 - 36 done.\n"
     ]
    },
    {
     "name": "stdout",
     "output_type": "stream",
     "text": [
      "2022-02-23 01:40:29.632865 - 37 done.\n"
     ]
    },
    {
     "name": "stdout",
     "output_type": "stream",
     "text": [
      "2022-02-23 01:40:37.615738 - 38 done.\n"
     ]
    },
    {
     "name": "stdout",
     "output_type": "stream",
     "text": [
      "2022-02-23 01:40:45.585820 - 39 done.\n"
     ]
    },
    {
     "name": "stdout",
     "output_type": "stream",
     "text": [
      "2022-02-23 01:40:53.575877 - 40 done.\n"
     ]
    },
    {
     "name": "stdout",
     "output_type": "stream",
     "text": [
      "2022-02-23 01:41:01.494174 - 41 done.\n"
     ]
    },
    {
     "name": "stdout",
     "output_type": "stream",
     "text": [
      "2022-02-23 01:41:10.265992 - 42 done.\n"
     ]
    },
    {
     "name": "stdout",
     "output_type": "stream",
     "text": [
      "2022-02-23 01:41:18.234780 - 43 done.\n"
     ]
    },
    {
     "name": "stdout",
     "output_type": "stream",
     "text": [
      "2022-02-23 01:41:26.170780 - 44 done.\n"
     ]
    },
    {
     "name": "stdout",
     "output_type": "stream",
     "text": [
      "2022-02-23 01:41:34.084682 - 45 done.\n"
     ]
    },
    {
     "name": "stdout",
     "output_type": "stream",
     "text": [
      "2022-02-23 01:41:41.946139 - 46 done.\n"
     ]
    },
    {
     "name": "stdout",
     "output_type": "stream",
     "text": [
      "2022-02-23 01:41:49.902762 - 47 done.\n"
     ]
    },
    {
     "name": "stdout",
     "output_type": "stream",
     "text": [
      "2022-02-23 01:41:57.957922 - 48 done.\n"
     ]
    },
    {
     "name": "stdout",
     "output_type": "stream",
     "text": [
      "2022-02-23 01:42:05.953689 - 49 done.\n"
     ]
    },
    {
     "name": "stdout",
     "output_type": "stream",
     "text": [
      "2022-02-23 01:42:13.999437 - 50 done.\n"
     ]
    },
    {
     "name": "stdout",
     "output_type": "stream",
     "text": [
      "2022-02-23 01:42:21.952091 - 51 done.\n"
     ]
    },
    {
     "name": "stdout",
     "output_type": "stream",
     "text": [
      "2022-02-23 01:42:29.907192 - 52 done.\n"
     ]
    },
    {
     "name": "stdout",
     "output_type": "stream",
     "text": [
      "2022-02-23 01:42:37.654368 - 53 done.\n"
     ]
    },
    {
     "name": "stdout",
     "output_type": "stream",
     "text": [
      "2022-02-23 01:42:46.279830 - 54 done.\n"
     ]
    },
    {
     "name": "stdout",
     "output_type": "stream",
     "text": [
      "2022-02-23 01:42:54.555126 - 55 done.\n"
     ]
    },
    {
     "name": "stdout",
     "output_type": "stream",
     "text": [
      "2022-02-23 01:43:02.516588 - 56 done.\n"
     ]
    },
    {
     "name": "stdout",
     "output_type": "stream",
     "text": [
      "2022-02-23 01:43:10.426623 - 57 done.\n"
     ]
    },
    {
     "name": "stdout",
     "output_type": "stream",
     "text": [
      "2022-02-23 01:43:18.287346 - 58 done.\n"
     ]
    },
    {
     "name": "stdout",
     "output_type": "stream",
     "text": [
      "2022-02-23 01:43:26.260317 - 59 done.\n"
     ]
    },
    {
     "name": "stdout",
     "output_type": "stream",
     "text": [
      "2022-02-23 01:43:34.225132 - 60 done.\n"
     ]
    },
    {
     "name": "stdout",
     "output_type": "stream",
     "text": [
      "2022-02-23 01:43:42.222411 - 61 done.\n"
     ]
    },
    {
     "name": "stdout",
     "output_type": "stream",
     "text": [
      "2022-02-23 01:43:50.069783 - 62 done.\n"
     ]
    },
    {
     "name": "stdout",
     "output_type": "stream",
     "text": [
      "2022-02-23 01:43:57.992172 - 63 done.\n"
     ]
    },
    {
     "name": "stdout",
     "output_type": "stream",
     "text": [
      "2022-02-23 01:44:05.985867 - 64 done.\n"
     ]
    },
    {
     "name": "stdout",
     "output_type": "stream",
     "text": [
      "2022-02-23 01:44:13.896445 - 65 done.\n"
     ]
    },
    {
     "name": "stdout",
     "output_type": "stream",
     "text": [
      "2022-02-23 01:44:21.813185 - 66 done.\n"
     ]
    },
    {
     "name": "stdout",
     "output_type": "stream",
     "text": [
      "2022-02-23 01:44:29.626736 - 67 done.\n"
     ]
    },
    {
     "name": "stdout",
     "output_type": "stream",
     "text": [
      "2022-02-23 01:44:37.319535 - 68 done.\n"
     ]
    },
    {
     "name": "stdout",
     "output_type": "stream",
     "text": [
      "2022-02-23 01:44:45.269026 - 69 done.\n"
     ]
    },
    {
     "name": "stdout",
     "output_type": "stream",
     "text": [
      "2022-02-23 01:44:53.123484 - 70 done.\n"
     ]
    },
    {
     "name": "stdout",
     "output_type": "stream",
     "text": [
      "2022-02-23 01:45:00.906317 - 71 done.\n"
     ]
    },
    {
     "name": "stdout",
     "output_type": "stream",
     "text": [
      "2022-02-23 01:45:08.813013 - 72 done.\n"
     ]
    },
    {
     "name": "stdout",
     "output_type": "stream",
     "text": [
      "2022-02-23 01:45:16.587138 - 73 done.\n"
     ]
    },
    {
     "name": "stdout",
     "output_type": "stream",
     "text": [
      "2022-02-23 01:45:24.928038 - 74 done.\n"
     ]
    },
    {
     "name": "stdout",
     "output_type": "stream",
     "text": [
      "2022-02-23 01:45:33.084394 - 75 done.\n"
     ]
    },
    {
     "name": "stdout",
     "output_type": "stream",
     "text": [
      "2022-02-23 01:45:40.888672 - 76 done.\n"
     ]
    },
    {
     "name": "stdout",
     "output_type": "stream",
     "text": [
      "2022-02-23 01:45:49.536977 - 77 done.\n"
     ]
    },
    {
     "name": "stdout",
     "output_type": "stream",
     "text": [
      "2022-02-23 01:45:57.262587 - 78 done.\n"
     ]
    },
    {
     "name": "stdout",
     "output_type": "stream",
     "text": [
      "2022-02-23 01:46:05.029586 - 79 done.\n"
     ]
    },
    {
     "name": "stdout",
     "output_type": "stream",
     "text": [
      "2022-02-23 01:46:12.863314 - 80 done.\n"
     ]
    },
    {
     "name": "stdout",
     "output_type": "stream",
     "text": [
      "2022-02-23 01:46:22.180243 - 81 done.\n"
     ]
    },
    {
     "name": "stdout",
     "output_type": "stream",
     "text": [
      "2022-02-23 01:46:30.775076 - 82 done.\n"
     ]
    },
    {
     "name": "stdout",
     "output_type": "stream",
     "text": [
      "2022-02-23 01:46:39.280058 - 83 done.\n"
     ]
    },
    {
     "name": "stdout",
     "output_type": "stream",
     "text": [
      "2022-02-23 01:46:47.516852 - 84 done.\n"
     ]
    },
    {
     "name": "stdout",
     "output_type": "stream",
     "text": [
      "2022-02-23 01:46:55.531834 - 85 done.\n"
     ]
    },
    {
     "name": "stdout",
     "output_type": "stream",
     "text": [
      "2022-02-23 01:47:04.090095 - 86 done.\n"
     ]
    },
    {
     "name": "stdout",
     "output_type": "stream",
     "text": [
      "2022-02-23 01:47:12.142043 - 87 done.\n"
     ]
    },
    {
     "name": "stdout",
     "output_type": "stream",
     "text": [
      "2022-02-23 01:47:20.429904 - 88 done.\n"
     ]
    },
    {
     "name": "stdout",
     "output_type": "stream",
     "text": [
      "2022-02-23 01:47:29.199823 - 89 done.\n"
     ]
    },
    {
     "name": "stdout",
     "output_type": "stream",
     "text": [
      "2022-02-23 01:47:37.060454 - 90 done.\n"
     ]
    },
    {
     "name": "stdout",
     "output_type": "stream",
     "text": [
      "2022-02-23 01:47:45.215211 - 91 done.\n"
     ]
    },
    {
     "name": "stdout",
     "output_type": "stream",
     "text": [
      "2022-02-23 01:47:54.612669 - 92 done.\n"
     ]
    },
    {
     "name": "stdout",
     "output_type": "stream",
     "text": [
      "2022-02-23 01:48:03.654175 - 93 done.\n"
     ]
    },
    {
     "name": "stdout",
     "output_type": "stream",
     "text": [
      "2022-02-23 01:48:13.428228 - 94 done.\n"
     ]
    },
    {
     "name": "stdout",
     "output_type": "stream",
     "text": [
      "2022-02-23 01:48:22.876473 - 95 done.\n"
     ]
    },
    {
     "name": "stdout",
     "output_type": "stream",
     "text": [
      "2022-02-23 01:48:31.779690 - 971 done.\n"
     ]
    },
    {
     "name": "stdout",
     "output_type": "stream",
     "text": [
      "2022-02-23 01:48:41.769536 - 972 done.\n"
     ]
    },
    {
     "name": "stdout",
     "output_type": "stream",
     "text": [
      "2022-02-23 01:48:52.143659 - 973 done.\n"
     ]
    },
    {
     "name": "stdout",
     "output_type": "stream",
     "text": [
      "2022-02-23 01:49:05.026423 - 974 done.\n"
     ]
    },
    {
     "name": "stdout",
     "output_type": "stream",
     "text": [
      "2022-02-23 01:49:19.050200 - 976 done.\n",
      "CPU times: user 12min 56s, sys: 6.44 s, total: 13min 3s\n",
      "Wall time: 13min 59s\n"
     ]
    }
   ],
   "source": [
    "%%time\n",
    "\n",
    "mkdir_ifnotexist(os.path.join(reports_dir_path, 'pdf'))\n",
    "\n",
    "for dep in taxo_dep_df.dep.unique():\n",
    "    \n",
    "    pdf = PDF()\n",
    "    pdf.alias_nb_pages()\n",
    "    pdf.add_page()\n",
    "\n",
    "    #Logos\n",
    "    pdf.image(os.path.join(img_dir_path, 'LogoRF.png'), 10, 8, 33)\n",
    "    pdf.image(os.path.join(img_dir_path, 'logo_Francerelance_1321294.54.png'), pdf.w-45, 7, 45)\n",
    "    \n",
    "    # Arial bold 15\n",
    "    pdf.set_font('Arial', 'B', 28)\n",
    "    # Move to the right\n",
    "    pdf.cell(50)\n",
    "    pdf.ln(70)\n",
    "    \n",
    "    # Title\n",
    "    pdf.cell(10)\n",
    "    pdf.cell(50, 10, 'SUIVI DES AIDES VERSÉES', 0, 1, 'A')\n",
    "    pdf.ln(10)\n",
    "    pdf.cell(10)\n",
    "    pdf.cell(50, 10, 'AUX ENTREPRISES DANS LE CADRE', 0, 1, 'A')\n",
    "    pdf.ln(10)\n",
    "    pdf.cell(10)\n",
    "    pdf.cell(50, 10, 'DE LA CRISE SANITAIRE COVID-19', 0, 1, 'A')\n",
    "\n",
    "    pdf.set_font('Arial', 'I', 20)\n",
    "    pdf.ln(10)\n",
    "    pdf.cell(10)\n",
    "    pdf.cell(50, 10, 'Données pour le département : \"'+taxo_dep_df[taxo_dep_df['dep'] == dep].iloc[0]['libelle']+'\"', 0, 1, 'A')\n",
    "    pdf.ln(110)\n",
    "\n",
    "    pdf.set_font('Arial', 'I', 8)\n",
    "\n",
    "    pdf.cell(10)\n",
    "    pdf.cell(50, 10, 'Données issues du tableau de bord des aides aux entreprises consultable sur https://aides-entreprises.data.gouv.fr', 0, 1, 'A')\n",
    "    \n",
    "    #FONDS DE SOLIDARITÉ\n",
    "    \n",
    "    phrase1 = \"Depuis le début de la crise sanitaire de la COVID-19, l'État et les Régions ont mis en place un fonds de solidarité pour prévenir la cessation d'activité des petites\" # \n",
    "    phrase2 = \"entreprises, micro-entrepreneurs, indépendants et professions libérales, particulièrement touchés par les conséquences économiques de la COVID-19.\"\n",
    "    phrase3 = \"\"\n",
    "    source_dict = {'name':'Les données utilisées proviennent de la DGFIP et sont disponibles en open data sur data.gouv.fr', 'url':'https://www.data.gouv.fr/fr/datasets/aides-aux-entreprises-dans-le-cadre-de-lepidemie-de-covid-19-en-france/'}\n",
    "    \n",
    "    title_header = 'FONDS DE SOLIDARITÉ'\n",
    "    subtitle_header = find_last_update('aides')\n",
    "    pdf.add_page()\n",
    "    pdf = add_page_report(pdf, 'aides', dep, 'fds', phrase1, phrase2, phrase3, 'd\\'aides : ', source_dict)\n",
    "\n",
    "    #PGE\n",
    "    \n",
    "    phrase1 = \"Le Gouvernement met en oeuvre un dispositif exceptionnel de garanties permettant de soutenir le financement bancaire des entreprises, à hauteur de 300 milliards\"\n",
    "    phrase2 = \"d'euros.\"\n",
    "    phrase3 = \"Les entreprises peuvent désormais contracter un prêt jusqu'au 30 juin 2021 au lieu du 31 décembre 2020.\"\n",
    "    source_dict = {'name':'Les données utilisées proviennent de la DG Trésor et sont disponibles en open data sur data.gouv.fr', 'url':'https://www.data.gouv.fr/fr/datasets/donnees-relatives-aux-prets-garantis-par-letat-dans-le-cadre-de-lepidemie-de-covid-19/'}\n",
    "    \n",
    "    title_header = 'PRÊTS GARANTIS PAR L\\'ÉTAT'\n",
    "    subtitle_header = find_last_update('pge')\n",
    "    pdf.add_page()\n",
    "    pdf = add_page_report(pdf, 'pge', dep, 'pge', phrase1, phrase2, phrase3, 'de prêts : ', source_dict)\n",
    "\n",
    "    #REPORTS D'ECHEANCES FISCALES\n",
    "    \n",
    "    phrase1 = \"Le Gouvernement a annoncé le report des principales échéances fiscales des professionnels afin de tenir compte de leurs difficultés liées à la crise sanitaire \"\n",
    "    phrase2 = \"de la COVID-19.\"\n",
    "    phrase3 = \"\"\n",
    "    source_dict = {'name':'Les données utilisées proviennent de la DGFIP et sont disponibles en open data sur data.gouv.fr', 'url':'https://www.data.gouv.fr/fr/datasets/donnees-relatives-aux-reports-decheances-fiscales-accordes-dans-le-cadre-de-lepidemie-de-covid-19/'}\n",
    "    \n",
    "    title_header = 'REPORTS D\\'ÉCHÉANCES FISCALES'\n",
    "    subtitle_header = find_last_update('report')\n",
    "    pdf.add_page()\n",
    "    pdf = add_page_report(pdf, 'report', dep, 'reports', phrase1, phrase2, phrase3, 'de reports : ', source_dict)\n",
    "\n",
    "    #CPSTI\n",
    "    \n",
    "    phrase1 = \"Le Conseil de la protection sociale des travailleurs indépendants (CPSTI) met en place une aide financière exceptionnelle à destination de tous les commerçants\"\n",
    "    phrase2 = \"et les artisans qui sont en activité au 15 mars 2020 et ont été immatriculés avant le 1er janvier 2019.\"\n",
    "    phrase3 = \"\"\n",
    "    source_dict = {'name':\"Les données utilisées proviennent de l'URSSAF et sont disponibles en open data sur data.gouv.fr\", 'url':'https://www.data.gouv.fr/fr/datasets/donnees-relatives-aux-aides-exceptionnelles-aux-artisans-et-commercants-dans-le-cadre-de-lepidemie-de-covid-19/'}\n",
    "    \n",
    "    title_header = 'AIDES AUX ARTISANS, COMMERÇANTS'\n",
    "    subtitle_header = find_last_update('cpsti')\n",
    "    pdf.add_page()\n",
    "    pdf = add_page_report(pdf, 'cpsti' , dep,'cpsti', phrase1, phrase2, phrase3, 'd\\'aides : ', source_dict)\n",
    "    \n",
    "    #ACTIVITE PARTIELLE\n",
    "    \n",
    "    phrase1 = \"L'activité partielle permet à l'employeur en difficulté de faire prendre en charge tout ou partie du coût de la rémunération de ses salariés. L'activité partielle\"\n",
    "    phrase2 = \"s'adresse à tous les salariés qui subissent une baisse de rémunération imputable soit à une réduction de l'horaire de travail pratiqué dans l'établissement ou\"\n",
    "    phrase3 = \"partie de l'établissement en deçà de la durée légale de travail, soit à une fermeture temporaire de tout ou partie de l'établissement.\"\n",
    "    source_dict = {'name':'Les données utilisées proviennent de la DARES', 'url':'https://dares.travail-emploi.gouv.fr/dares-etudes-et-statistiques/tableaux-de-bord/le-marche-du-travail-pendant-le-covid-19/tableaux-de-bord-hebdomadaires'}\n",
    "    \n",
    "    title_header = 'ACTIVITÉ PARTIELLE'\n",
    "    subtitle_header = find_last_update('activite-partielle')\n",
    "    pdf.add_page()\n",
    "    pdf = add_actpart_page_report(pdf, dep, 'activitepartielle', phrase1, phrase2, phrase3, source_dict)\n",
    "    \n",
    "\n",
    "    pdf.output(os.path.join(reports_dir_path, 'pdf', 'Suivi_aides_entreprises_'+taxo_dep_df[taxo_dep_df['dep'] == dep].iloc[0]['libelle']+'.pdf'), 'F')\n",
    "    \n",
    "    print(str(datetime.datetime.today()) + ' - ' + dep + ' done.')"
   ]
  },
  {
   "cell_type": "markdown",
   "id": "registered-south",
   "metadata": {
    "papermill": {
     "duration": 0.091684,
     "end_time": "2022-02-23T01:49:19.240489",
     "exception": false,
     "start_time": "2022-02-23T01:49:19.148805",
     "status": "completed"
    },
    "tags": []
   },
   "source": [
    "## Compress to ZIP"
   ]
  },
  {
   "cell_type": "code",
   "execution_count": 31,
   "id": "continent-catch",
   "metadata": {
    "execution": {
     "iopub.execute_input": "2022-02-23T01:49:19.427421Z",
     "iopub.status.busy": "2022-02-23T01:49:19.426773Z",
     "iopub.status.idle": "2022-02-23T01:49:19.435322Z",
     "shell.execute_reply": "2022-02-23T01:49:19.434296Z"
    },
    "papermill": {
     "duration": 0.104667,
     "end_time": "2022-02-23T01:49:19.437578",
     "exception": false,
     "start_time": "2022-02-23T01:49:19.332911",
     "status": "completed"
    },
    "tags": []
   },
   "outputs": [],
   "source": [
    "from zipfile import ZipFile"
   ]
  },
  {
   "cell_type": "code",
   "execution_count": 32,
   "id": "prescribed-february",
   "metadata": {
    "execution": {
     "iopub.execute_input": "2022-02-23T01:49:19.615289Z",
     "iopub.status.busy": "2022-02-23T01:49:19.614805Z",
     "iopub.status.idle": "2022-02-23T01:49:19.627718Z",
     "shell.execute_reply": "2022-02-23T01:49:19.627068Z"
    },
    "papermill": {
     "duration": 0.106153,
     "end_time": "2022-02-23T01:49:19.629610",
     "exception": false,
     "start_time": "2022-02-23T01:49:19.523457",
     "status": "completed"
    },
    "tags": []
   },
   "outputs": [
    {
     "data": {
      "text/plain": [
       "'2022-02-23'"
      ]
     },
     "execution_count": 32,
     "metadata": {},
     "output_type": "execute_result"
    }
   ],
   "source": [
    "today_date = str(datetime.datetime.today())[:10]\n",
    "today_date"
   ]
  },
  {
   "cell_type": "code",
   "execution_count": 33,
   "id": "modular-blackberry",
   "metadata": {
    "execution": {
     "iopub.execute_input": "2022-02-23T01:49:19.816460Z",
     "iopub.status.busy": "2022-02-23T01:49:19.816021Z",
     "iopub.status.idle": "2022-02-23T01:49:20.426799Z",
     "shell.execute_reply": "2022-02-23T01:49:20.425769Z"
    },
    "papermill": {
     "duration": 0.70702,
     "end_time": "2022-02-23T01:49:20.429439",
     "exception": false,
     "start_time": "2022-02-23T01:49:19.722419",
     "status": "completed"
    },
    "tags": []
   },
   "outputs": [],
   "source": [
    "my_zip_date = ZipFile(os.path.join(reports_dir_path, 'Suivi_aides_entreprises_{}.zip'.format(today_date)), 'w')\n",
    "my_zip_latest = ZipFile(os.path.join(reports_dir_path, 'Suivi_aides_entreprises_latest.zip'), 'w')\n",
    "\n",
    "for filename in os.listdir(os.path.join(reports_dir_path, 'pdf')) :\n",
    "    if filename.endswith('.pdf') :\n",
    "        my_zip_date.write(os.path.join(reports_dir_path, 'pdf', filename))\n",
    "        my_zip_latest.write(os.path.join(reports_dir_path, 'pdf', filename))\n",
    "        \n",
    "my_zip_date.close()\n",
    "my_zip_latest.close()"
   ]
  }
 ],
 "metadata": {
  "kernelspec": {
   "display_name": "Python 3",
   "language": "python",
   "name": "python3"
  },
  "language_info": {
   "codemirror_mode": {
    "name": "ipython",
    "version": 3
   },
   "file_extension": ".py",
   "mimetype": "text/x-python",
   "name": "python",
   "nbconvert_exporter": "python",
   "pygments_lexer": "ipython3",
   "version": "3.9.10"
  },
  "papermill": {
   "default_parameters": {},
   "duration": 1014.386439,
   "end_time": "2022-02-23T01:49:20.859604",
   "environment_variables": {},
   "exception": null,
   "input_path": "report-pdf.ipynb",
   "output_path": "report-pdf.ipynb",
   "parameters": {},
   "start_time": "2022-02-23T01:32:26.473165",
   "version": "2.2.2"
  }
 },
 "nbformat": 4,
 "nbformat_minor": 5
}