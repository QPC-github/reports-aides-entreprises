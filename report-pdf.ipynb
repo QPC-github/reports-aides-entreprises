{
 "cells": [
  {
   "cell_type": "markdown",
   "metadata": {
    "papermill": {
     "duration": 0.020504,
     "end_time": "2020-12-09T00:06:03.338086",
     "exception": false,
     "start_time": "2020-12-09T00:06:03.317582",
     "status": "completed"
    },
    "tags": []
   },
   "source": [
    "# Aides aux Entreprises - PDF Reports"
   ]
  },
  {
   "cell_type": "markdown",
   "metadata": {
    "papermill": {
     "duration": 0.019089,
     "end_time": "2020-12-09T00:06:03.375877",
     "exception": false,
     "start_time": "2020-12-09T00:06:03.356788",
     "status": "completed"
    },
    "tags": []
   },
   "source": [
    "## Imports"
   ]
  },
  {
   "cell_type": "code",
   "execution_count": 1,
   "metadata": {
    "execution": {
     "iopub.execute_input": "2020-12-09T00:06:03.419949Z",
     "iopub.status.busy": "2020-12-09T00:06:03.418943Z",
     "iopub.status.idle": "2020-12-09T00:06:03.844410Z",
     "shell.execute_reply": "2020-12-09T00:06:03.843421Z"
    },
    "papermill": {
     "duration": 0.450145,
     "end_time": "2020-12-09T00:06:03.844715",
     "exception": false,
     "start_time": "2020-12-09T00:06:03.394570",
     "status": "completed"
    },
    "tags": []
   },
   "outputs": [],
   "source": [
    "import json\n",
    "import os\n",
    "import datetime\n",
    "import random\n",
    "\n",
    "from urllib.request import urlopen\n",
    "import urllib\n",
    "\n",
    "import plotly.graph_objects as go\n",
    "import plotly.express as px\n",
    "\n",
    "import pandas as pd\n",
    "import numpy as np\n",
    "\n",
    "from fpdf import FPDF"
   ]
  },
  {
   "cell_type": "markdown",
   "metadata": {
    "papermill": {
     "duration": 0.01792,
     "end_time": "2020-12-09T00:06:03.881927",
     "exception": false,
     "start_time": "2020-12-09T00:06:03.864007",
     "status": "completed"
    },
    "tags": []
   },
   "source": [
    "## Functions"
   ]
  },
  {
   "cell_type": "code",
   "execution_count": 2,
   "metadata": {
    "execution": {
     "iopub.execute_input": "2020-12-09T00:06:03.921102Z",
     "iopub.status.busy": "2020-12-09T00:06:03.920562Z",
     "iopub.status.idle": "2020-12-09T00:06:03.923109Z",
     "shell.execute_reply": "2020-12-09T00:06:03.922665Z"
    },
    "papermill": {
     "duration": 0.024758,
     "end_time": "2020-12-09T00:06:03.923240",
     "exception": false,
     "start_time": "2020-12-09T00:06:03.898482",
     "status": "completed"
    },
    "tags": []
   },
   "outputs": [],
   "source": [
    "def import_json_to_dict(url) :\n",
    "    response = urllib.request.urlopen(url)\n",
    "    my_dict = json.loads(response.read())\n",
    "    return my_dict"
   ]
  },
  {
   "cell_type": "code",
   "execution_count": 3,
   "metadata": {
    "execution": {
     "iopub.execute_input": "2020-12-09T00:06:03.964571Z",
     "iopub.status.busy": "2020-12-09T00:06:03.964084Z",
     "iopub.status.idle": "2020-12-09T00:06:03.966781Z",
     "shell.execute_reply": "2020-12-09T00:06:03.967197Z"
    },
    "papermill": {
     "duration": 0.025965,
     "end_time": "2020-12-09T00:06:03.967333",
     "exception": false,
     "start_time": "2020-12-09T00:06:03.941368",
     "status": "completed"
    },
    "tags": []
   },
   "outputs": [],
   "source": [
    "def mkdir_ifnotexist(path) :\n",
    "    if not os.path.isdir(path) :\n",
    "        os.mkdir(path)"
   ]
  },
  {
   "cell_type": "code",
   "execution_count": 4,
   "metadata": {
    "execution": {
     "iopub.execute_input": "2020-12-09T00:06:04.010059Z",
     "iopub.status.busy": "2020-12-09T00:06:04.009528Z",
     "iopub.status.idle": "2020-12-09T00:06:04.012247Z",
     "shell.execute_reply": "2020-12-09T00:06:04.011810Z"
    },
    "papermill": {
     "duration": 0.026481,
     "end_time": "2020-12-09T00:06:04.012370",
     "exception": false,
     "start_time": "2020-12-09T00:06:03.985889",
     "status": "completed"
    },
    "tags": []
   },
   "outputs": [],
   "source": [
    "def format_number_to_str(x) :\n",
    "    if x == x :\n",
    "        res = str(format(int(round(float(x),0)),\",\")).replace(\",\",\" \").replace(\".\",\",\")\n",
    "    else :\n",
    "        res = 'NaN'\n",
    "    return res"
   ]
  },
  {
   "cell_type": "code",
   "execution_count": 5,
   "metadata": {
    "execution": {
     "iopub.execute_input": "2020-12-09T00:06:04.053326Z",
     "iopub.status.busy": "2020-12-09T00:06:04.052799Z",
     "iopub.status.idle": "2020-12-09T00:06:04.054884Z",
     "shell.execute_reply": "2020-12-09T00:06:04.055421Z"
    },
    "papermill": {
     "duration": 0.024816,
     "end_time": "2020-12-09T00:06:04.055564",
     "exception": false,
     "start_time": "2020-12-09T00:06:04.030748",
     "status": "completed"
    },
    "tags": []
   },
   "outputs": [],
   "source": [
    "def format_number_to_million_str(x) :\n",
    "    if x == x :\n",
    "        res = str(round(float(x)/1000000,1)).replace('.',',')\n",
    "    else :\n",
    "        res = 'NaN'\n",
    "    return res"
   ]
  },
  {
   "cell_type": "code",
   "execution_count": 6,
   "metadata": {
    "execution": {
     "iopub.execute_input": "2020-12-09T00:06:04.097606Z",
     "iopub.status.busy": "2020-12-09T00:06:04.096938Z",
     "iopub.status.idle": "2020-12-09T00:06:04.098231Z",
     "shell.execute_reply": "2020-12-09T00:06:04.098856Z"
    },
    "papermill": {
     "duration": 0.023972,
     "end_time": "2020-12-09T00:06:04.099024",
     "exception": false,
     "start_time": "2020-12-09T00:06:04.075052",
     "status": "completed"
    },
    "tags": []
   },
   "outputs": [],
   "source": [
    "def format_str_to_int(x) :\n",
    "    if x != 'None' :\n",
    "        res = int(float(x))\n",
    "    else : \n",
    "        res = None\n",
    "    return res"
   ]
  },
  {
   "cell_type": "code",
   "execution_count": 7,
   "metadata": {
    "execution": {
     "iopub.execute_input": "2020-12-09T00:06:04.140737Z",
     "iopub.status.busy": "2020-12-09T00:06:04.139799Z",
     "iopub.status.idle": "2020-12-09T00:06:04.141735Z",
     "shell.execute_reply": "2020-12-09T00:06:04.142471Z"
    },
    "papermill": {
     "duration": 0.02523,
     "end_time": "2020-12-09T00:06:04.142692",
     "exception": false,
     "start_time": "2020-12-09T00:06:04.117462",
     "status": "completed"
    },
    "tags": []
   },
   "outputs": [],
   "source": [
    "def shorten_long_naf_libelle(libelle) :\n",
    "    if libelle == \"Production et distribution d'eau ; assainissement, gestion des déchets et dépollution\" :\n",
    "        return \"Prod./dist. eau, assainissement, déchets, dépollution\"\n",
    "    else :\n",
    "        return libelle"
   ]
  },
  {
   "cell_type": "code",
   "execution_count": 8,
   "metadata": {
    "execution": {
     "iopub.execute_input": "2020-12-09T00:06:04.182920Z",
     "iopub.status.busy": "2020-12-09T00:06:04.182483Z",
     "iopub.status.idle": "2020-12-09T00:06:04.184465Z",
     "shell.execute_reply": "2020-12-09T00:06:04.184943Z"
    },
    "papermill": {
     "duration": 0.024113,
     "end_time": "2020-12-09T00:06:04.185065",
     "exception": false,
     "start_time": "2020-12-09T00:06:04.160952",
     "status": "completed"
    },
    "tags": []
   },
   "outputs": [],
   "source": [
    "months_fr_dict = {\n",
    "    '01':'janvier',\n",
    "    '02':'février',\n",
    "    '03':'mars',\n",
    "    '04':'avril',\n",
    "    '05':'mai',\n",
    "    '06':'juin',\n",
    "    '07':'juillet',\n",
    "    '08':'août',\n",
    "    '09':'septembre',\n",
    "    '10':'octobre',\n",
    "    '11':'novembre',\n",
    "    '12':'décembre'\n",
    "}\n",
    "\n",
    "# yearmonth should be in '2020-01' format\n",
    "\n",
    "def yearmonth_to_fr(yearmonth) :\n",
    "    month = yearmonth[-2:]\n",
    "    year = yearmonth[:4]\n",
    "    \n",
    "    return months_fr_dict[month] + ' ' + year"
   ]
  },
  {
   "cell_type": "code",
   "execution_count": 9,
   "metadata": {
    "execution": {
     "iopub.execute_input": "2020-12-09T00:06:04.234045Z",
     "iopub.status.busy": "2020-12-09T00:06:04.223176Z",
     "iopub.status.idle": "2020-12-09T00:06:04.238665Z",
     "shell.execute_reply": "2020-12-09T00:06:04.238300Z"
    },
    "papermill": {
     "duration": 0.038691,
     "end_time": "2020-12-09T00:06:04.238761",
     "exception": false,
     "start_time": "2020-12-09T00:06:04.200070",
     "status": "completed"
    },
    "tags": []
   },
   "outputs": [],
   "source": [
    "def make_chart(aide, kpi, maille, chart_type, x_col, y_col, x_label, y_label, others_y_val, title, legend_title=None, show=False, sort_by_y_col_inc=False, sort_by_y_col_dec=False, stack_order=None, dep=None, reg=None, text_col=None, stack_col=None, color_col='color') :\n",
    "    \n",
    "    data_path = './data/{}-{}-{}.csv'.format(aide, kpi, maille)\n",
    "    \n",
    "    if os.path.isfile(data_path) :\n",
    "    \n",
    "        #Loading data\n",
    "        if maille == 'regional' :\n",
    "            dtype={'reg':'str'}\n",
    "        elif maille == 'departemental' :\n",
    "            dtype={'dep':'str'}\n",
    "        else :\n",
    "            dtype={}\n",
    "        \n",
    "        df = pd.read_csv(data_path, dtype=dtype)\n",
    "\n",
    "        #Filtering if departemental or regional\n",
    "        if maille == 'departemental' :\n",
    "            df['dep'] = df['dep'].apply(str)\n",
    "            df = df[df['dep'] == dep]\n",
    "            if len(df) == 0 :\n",
    "                fig = None\n",
    "                print('No data to plot for {}-{}-{}-{}'.format(aide, kpi, maille, dep))\n",
    "        elif maille == 'regional' :\n",
    "            df['reg'] = df['reg'].apply(str)\n",
    "            df = df[df['reg'] == reg]\n",
    "            if len(df) == 0 :\n",
    "                fig = None\n",
    "                print('No data to plot for {}-{}-{}-{}'.format(aide, kpi, maille, reg))\n",
    "\n",
    "        if len(df) > 0 :\n",
    "\n",
    "            #Sorting by x_col and putting \"Others\" (others_y_val) in the end\n",
    "            if sort_by_y_col_inc == True :\n",
    "                df_plot = pd.concat([df[df[y_col] != others_y_val].sort_values(by=y_col, ascending=True), df[df[y_col] == others_y_val]]).reset_index(drop=True)\n",
    "            elif sort_by_y_col_dec == True :\n",
    "                df_plot = pd.concat([df[df[y_col] != others_y_val].sort_values(by=y_col, ascending=False), df[df[y_col] == others_y_val]]).reset_index(drop=True)\n",
    "            else : #sort by decreasing x_col value by default\n",
    "                df_plot = pd.concat([df[df[y_col] != others_y_val].sort_values(by=x_col, ascending=False), df[df[y_col] == others_y_val]]).reset_index(drop=True)    \n",
    "            \n",
    "            if stack_order is not None :\n",
    "                df_stack_list = []\n",
    "                for stack_val in stack_order :\n",
    "                    df_stack = df_plot[df_plot[stack_col] == stack_val]\n",
    "                    df_stack_list += [df_stack]\n",
    "                \n",
    "                df_plot = pd.concat(df_stack_list).reset_index(drop=True)\n",
    "            \n",
    "            #Parameters for plotting\n",
    "            if text_col is not None :\n",
    "                text = text_col\n",
    "            else :\n",
    "                text = x_col + '_fr'\n",
    "\n",
    "            if chart_type == 'hbar' :\n",
    "\n",
    "                df_plot[y_col] = df_plot[y_col].apply(lambda x : x+'   ')\n",
    "                color_discrete_map = {key:value for (key,value) in zip(df_plot[y_col], df_plot[color_col])}\n",
    "\n",
    "                fig = px.bar(df_plot, x=x_col, y=y_col,\n",
    "                         labels={y_col:y_label,x_col:x_label}, \n",
    "                         height=550,\n",
    "                         width=800,\n",
    "                         color=y_col,\n",
    "                         color_discrete_map = color_discrete_map,\n",
    "                         orientation='h',\n",
    "                         text=text,\n",
    "                         title=title)\n",
    "                fig.update_layout(showlegend=False)\n",
    "                fig.layout['xaxis'].tickfont = dict(color = 'rgba(0,0,0,0)')\n",
    "                fig.layout['xaxis'].showgrid = False\n",
    "                fig.for_each_trace(lambda t: t.update(textfont_color='white', insidetextanchor='middle', textposition='inside'))\n",
    "\n",
    "            elif chart_type == 'sthbar' :\n",
    "\n",
    "                color_discrete_map = {key:value for (key,value) in zip(df_plot[stack_col], df_plot[color_col])}\n",
    "\n",
    "                fig = px.bar(df_plot, x=x_col, y=y_col,\n",
    "                         labels={y_col:y_label,x_col:x_label, stack_col:legend_title}, \n",
    "                         height=550,\n",
    "                         width=800,\n",
    "                         color=stack_col,\n",
    "                         color_discrete_map = color_discrete_map,\n",
    "                         orientation='h',\n",
    "                         title=title)\n",
    "                \n",
    "                fig.update_yaxes(type='category', categoryorder='category descending')\n",
    "                fig.layout['yaxis'].tickmode = 'array'\n",
    "                fig.layout['yaxis'].tickvals = sorted(list(set(df_plot['mois'])), reverse=True)\n",
    "                fig.layout['yaxis'].ticktext = [yearmonth_to_fr(yearmonth) + '   ' for yearmonth in sorted(list(set(df_plot['mois'])), reverse=True)]\n",
    "\n",
    "            elif chart_type == 'dpie' :\n",
    "\n",
    "                color_discrete_map = {key:value for (key,value) in zip(df_plot[y_col], df_plot[color_col])}\n",
    "\n",
    "                fig = px.pie(df_plot, values=x_col, names=y_col,\n",
    "                     labels={y_col:y_label,x_col:x_label}, \n",
    "                     height=400,\n",
    "                     width=600,\n",
    "                     hole=0.5,\n",
    "                     color=y_col,\n",
    "                     color_discrete_map = color_discrete_map,\n",
    "                     title=title)\n",
    "\n",
    "                fig.for_each_trace(lambda t: t.update(textfont_color='white', textposition='inside'))\n",
    "\n",
    "            #Center the main title\n",
    "            fig.update_layout(title={'x':0.5, 'xanchor': 'center'})\n",
    "\n",
    "            if show == True :\n",
    "                fig.show()\n",
    "    \n",
    "    else :\n",
    "        fig = None\n",
    "        print('File not found: {}'.format(data_path))\n",
    "    \n",
    "    return fig"
   ]
  },
  {
   "cell_type": "markdown",
   "metadata": {
    "papermill": {
     "duration": 0.016595,
     "end_time": "2020-12-09T00:06:04.270527",
     "exception": false,
     "start_time": "2020-12-09T00:06:04.253932",
     "status": "completed"
    },
    "tags": []
   },
   "source": [
    "## Parameters"
   ]
  },
  {
   "cell_type": "code",
   "execution_count": 10,
   "metadata": {
    "execution": {
     "iopub.execute_input": "2020-12-09T00:06:04.306432Z",
     "iopub.status.busy": "2020-12-09T00:06:04.306011Z",
     "iopub.status.idle": "2020-12-09T00:06:04.308211Z",
     "shell.execute_reply": "2020-12-09T00:06:04.308594Z"
    },
    "papermill": {
     "duration": 0.020719,
     "end_time": "2020-12-09T00:06:04.308690",
     "exception": false,
     "start_time": "2020-12-09T00:06:04.287971",
     "status": "completed"
    },
    "tags": []
   },
   "outputs": [],
   "source": [
    "data_dir_path = './data/'\n",
    "img_dir_path = './img/'\n",
    "reports_dir_path = './reports/'"
   ]
  },
  {
   "cell_type": "code",
   "execution_count": 11,
   "metadata": {
    "execution": {
     "iopub.execute_input": "2020-12-09T00:06:04.350055Z",
     "iopub.status.busy": "2020-12-09T00:06:04.349521Z",
     "iopub.status.idle": "2020-12-09T00:06:04.351825Z",
     "shell.execute_reply": "2020-12-09T00:06:04.352340Z"
    },
    "papermill": {
     "duration": 0.027159,
     "end_time": "2020-12-09T00:06:04.352469",
     "exception": false,
     "start_time": "2020-12-09T00:06:04.325310",
     "status": "completed"
    },
    "tags": []
   },
   "outputs": [],
   "source": [
    "#Taxonomies\n",
    "\n",
    "taxo_nafsec_url = 'https://raw.githubusercontent.com/etalab/dashboard-aides-entreprises/master/backend/json/taxonomies/sections-naf-minify.json'\n",
    "taxo_jurcat_url = 'https://raw.githubusercontent.com/etalab/dashboard-aides-entreprises/master/backend/json/taxonomies/categories-juridiques-minify.json'\n",
    "taxo_effcla_url = 'https://raw.githubusercontent.com/etalab/dashboard-aides-entreprises/master/backend/json/taxonomies/classes-effectifs-minify.json'\n",
    "taxo_nace17_url = 'https://raw.githubusercontent.com/etalab/dashboard-aides-entreprises/master/backend/json/taxonomies/sections-nace17-minify.json'\n",
    "\n",
    "taxo_dep_url = 'https://raw.githubusercontent.com/etalab/dashboard-aides-entreprises/master/backend/json/taxonomies/departements-minify.json'\n",
    "taxo_reg_url = 'https://raw.githubusercontent.com/etalab/dashboard-aides-entreprises/master/backend/json/taxonomies/regions-minify.json'"
   ]
  },
  {
   "cell_type": "code",
   "execution_count": 12,
   "metadata": {
    "execution": {
     "iopub.execute_input": "2020-12-09T00:06:04.394288Z",
     "iopub.status.busy": "2020-12-09T00:06:04.393860Z",
     "iopub.status.idle": "2020-12-09T00:06:04.396042Z",
     "shell.execute_reply": "2020-12-09T00:06:04.396415Z"
    },
    "papermill": {
     "duration": 0.024365,
     "end_time": "2020-12-09T00:06:04.396523",
     "exception": false,
     "start_time": "2020-12-09T00:06:04.372158",
     "status": "completed"
    },
    "tags": []
   },
   "outputs": [],
   "source": [
    "mailles_list = ['national', 'regional', 'departemental']"
   ]
  },
  {
   "cell_type": "code",
   "execution_count": 13,
   "metadata": {
    "execution": {
     "iopub.execute_input": "2020-12-09T00:06:04.436352Z",
     "iopub.status.busy": "2020-12-09T00:06:04.435868Z",
     "iopub.status.idle": "2020-12-09T00:06:04.438239Z",
     "shell.execute_reply": "2020-12-09T00:06:04.437916Z"
    },
    "papermill": {
     "duration": 0.026579,
     "end_time": "2020-12-09T00:06:04.438318",
     "exception": false,
     "start_time": "2020-12-09T00:06:04.411739",
     "status": "completed"
    },
    "tags": []
   },
   "outputs": [],
   "source": [
    "#DATA PROCESSING: KPIs to process\n",
    "aides_charts_kpi_dict = {\n",
    "    'aides': ['kpi_top_10_naf', 'kpi_categorie_juridique', 'kpi_classe_effectif'],\n",
    "    'pge':['kpi_top_10_naf'],\n",
    "    'report':['kpi_top_10_naf'],\n",
    "    'cpsti':['kpi_top_10_naf'],\n",
    "    'activite-partielle':['nace17']\n",
    "}\n",
    "\n",
    "#TODO: macro KPIs\n",
    "aides_macro_kpi_dict = {\n",
    "    'aides': ['montant', 'nombre', 'nombre_siren'],\n",
    "    'pge':['montant', 'nombre'],\n",
    "    'report':['montant', 'nombre'],\n",
    "    'cpsti':['montant', 'nombre'],\n",
    "    'activite-partielle':['nombre_salaries_concernes', 'nombre_etablissements_concernes', 'nombre_heures_demandees']\n",
    "}"
   ]
  },
  {
   "cell_type": "code",
   "execution_count": 14,
   "metadata": {
    "execution": {
     "iopub.execute_input": "2020-12-09T00:06:04.473193Z",
     "iopub.status.busy": "2020-12-09T00:06:04.472790Z",
     "iopub.status.idle": "2020-12-09T00:06:04.482226Z",
     "shell.execute_reply": "2020-12-09T00:06:04.481819Z"
    },
    "papermill": {
     "duration": 0.028862,
     "end_time": "2020-12-09T00:06:04.482331",
     "exception": false,
     "start_time": "2020-12-09T00:06:04.453469",
     "status": "completed"
    },
    "tags": []
   },
   "outputs": [],
   "source": [
    "#PLOTTING: parameters for graphs\n",
    "#As of now, we consider these graphs are the same for national, regional and departemental\n",
    "\n",
    "graph_params_list = [\n",
    "    \n",
    "    #Fonds de solidarité\n",
    "    dict(aide='aides',\n",
    "         kpi='kpi_top_10_naf',\n",
    "         x_col='montant',\n",
    "         y_col='libelle_section_naf',\n",
    "         x_label='',\n",
    "         y_label='Section NAF',\n",
    "         others_y_val='Autres sections NAF',\n",
    "         title='Top 10 des aides du fonds de solidarité<br />ventilées par code section NAF (en M€)',\n",
    "         chart_type='hbar'\n",
    "        ),\n",
    "    dict(aide='aides',\n",
    "         kpi='kpi_categorie_juridique',\n",
    "         maille='national',\n",
    "         x_col='montant',\n",
    "         y_col='libelle_cat_juridique',\n",
    "         x_label='',\n",
    "         y_label=\"Catégorie juridique\",\n",
    "         others_y_val=\"Autres Catégories Juridiques\",\n",
    "         title='Top 3 des aides du fonds de solidarité<br />ventilées par catégories juridiques (en M€)',\n",
    "         chart_type='dpie'\n",
    "        ),\n",
    "    dict(aide='aides',\n",
    "         kpi='kpi_classe_effectif',\n",
    "         x_col='montant',\n",
    "         y_col='libelle_classe_effectif',\n",
    "         x_label='',\n",
    "         y_label=\"Classe d'effectif\",\n",
    "         sort_by_y_col_dec=True,\n",
    "         others_y_val=\"Autres Classes d'Effectifs\",\n",
    "         title=\"Aides du fonds de solidarité<br />ventilées par classes d'effectifs (en M€)\",\n",
    "         chart_type='hbar'\n",
    "        ),\n",
    "    \n",
    "    #Prêts garantis par l'Etat\n",
    "    dict(aide='pge',\n",
    "         kpi='kpi_top_10_naf',\n",
    "         maille='national',\n",
    "         x_col='montant',\n",
    "         y_col='libelle_section_naf',\n",
    "         x_label='',\n",
    "         y_label='Section NAF',\n",
    "         others_y_val='Autres sections NAF',\n",
    "         title=\"Top 10 des prêts garantis par l'Etat<br />ventilés par code section NAF (en M€)\",\n",
    "         chart_type='hbar'\n",
    "        ),\n",
    "    \n",
    "    #Reports d'échéances fiscales\n",
    "    dict(aide='report',\n",
    "         kpi='kpi_top_10_naf',\n",
    "         x_col='montant',\n",
    "         y_col='libelle_section_naf',\n",
    "         x_label='',\n",
    "         y_label='Section NAF',\n",
    "         others_y_val='Autres sections NAF',\n",
    "         title=\"Top 10 des reports d'échéances fiscales<br />ventilés par code section NAF (en M€)\",\n",
    "         chart_type='hbar'\n",
    "        ),\n",
    "    \n",
    "    #Aides artisans/commerçants\n",
    "    dict(aide='cpsti',\n",
    "         kpi='kpi_top_10_naf',\n",
    "         x_col='montant',\n",
    "         y_col='libelle_section_naf',\n",
    "         x_label='',\n",
    "         y_label='Section NAF',\n",
    "         others_y_val='Autres sections NAF',\n",
    "         title=\"Top 10 des aides CPSTI<br />ventilés par code section NAF (en M€)\",\n",
    "         chart_type='hbar'\n",
    "        ),\n",
    "    \n",
    "    #Activité partielle\n",
    "    dict(aide='activite-partielle',\n",
    "         kpi='nace17',\n",
    "         x_col='nombre_salaries_concernes',\n",
    "         y_col='mois',\n",
    "         stack_col='libelle',\n",
    "         x_label='',\n",
    "         y_label='Mois',\n",
    "         sort_by_y_col_inc=True,\n",
    "         others_y_val='Autres sections NACE 17',\n",
    "         stack_order=['Commerce', \"Act. scientif. et tech. ; services admin. et de soutien\", 'Hébergement et restauration', 'Construction', \"Fabrication d'autres produits indus.\", 'Autres sections NACE 17'],\n",
    "         title=\"Nombre de salariés concernés par l'activité partielle<br />ventilés par code section NACE 17\",\n",
    "         legend_title=' ',\n",
    "         chart_type='sthbar'\n",
    "        ),\n",
    "]"
   ]
  },
  {
   "cell_type": "markdown",
   "metadata": {
    "papermill": {
     "duration": 0.019863,
     "end_time": "2020-12-09T00:06:04.520456",
     "exception": false,
     "start_time": "2020-12-09T00:06:04.500593",
     "status": "completed"
    },
    "tags": []
   },
   "source": [
    "## Loading taxonomies data"
   ]
  },
  {
   "cell_type": "code",
   "execution_count": 15,
   "metadata": {
    "execution": {
     "iopub.execute_input": "2020-12-09T00:06:04.558268Z",
     "iopub.status.busy": "2020-12-09T00:06:04.557834Z",
     "iopub.status.idle": "2020-12-09T00:06:05.497848Z",
     "shell.execute_reply": "2020-12-09T00:06:05.497225Z"
    },
    "papermill": {
     "duration": 0.961207,
     "end_time": "2020-12-09T00:06:05.498009",
     "exception": false,
     "start_time": "2020-12-09T00:06:04.536802",
     "status": "completed"
    },
    "tags": []
   },
   "outputs": [],
   "source": [
    "taxo_nafsec_df = pd.DataFrame(import_json_to_dict(taxo_nafsec_url))\n",
    "taxo_jurcat_df = pd.DataFrame(import_json_to_dict(taxo_jurcat_url))\n",
    "taxo_effcla_df = pd.DataFrame(import_json_to_dict(taxo_effcla_url))\n",
    "taxo_nace17_df = pd.DataFrame(import_json_to_dict(taxo_nace17_url))\n",
    "\n",
    "taxo_dep_df = pd.DataFrame(import_json_to_dict(taxo_dep_url))\n",
    "taxo_reg_df = pd.DataFrame(import_json_to_dict(taxo_reg_url))"
   ]
  },
  {
   "cell_type": "markdown",
   "metadata": {
    "papermill": {
     "duration": 0.016787,
     "end_time": "2020-12-09T00:06:05.535442",
     "exception": false,
     "start_time": "2020-12-09T00:06:05.518655",
     "status": "completed"
    },
    "tags": []
   },
   "source": [
    "## Data pre-processing"
   ]
  },
  {
   "cell_type": "code",
   "execution_count": 16,
   "metadata": {
    "execution": {
     "iopub.execute_input": "2020-12-09T00:06:05.580919Z",
     "iopub.status.busy": "2020-12-09T00:06:05.579505Z",
     "iopub.status.idle": "2020-12-09T00:06:09.339169Z",
     "shell.execute_reply": "2020-12-09T00:06:09.339993Z"
    },
    "papermill": {
     "duration": 3.78713,
     "end_time": "2020-12-09T00:06:09.340150",
     "exception": false,
     "start_time": "2020-12-09T00:06:05.553020",
     "status": "completed"
    },
    "tags": []
   },
   "outputs": [
    {
     "name": "stdout",
     "output_type": "stream",
     "text": [
      "Empty data for activite-partielle-departemental\n",
      "CPU times: user 1.38 s, sys: 45.5 ms, total: 1.42 s\n",
      "Wall time: 3.75 s\n"
     ]
    }
   ],
   "source": [
    "%%time\n",
    "#Charts data processing (one CSV file per aide type, KPI and maille)\n",
    "\n",
    "mkdir_ifnotexist(data_dir_path)\n",
    "\n",
    "for aide in aides_charts_kpi_dict.keys() :\n",
    "    for maille in mailles_list :\n",
    "        \n",
    "        #Condition to drop when activite-partielle data is back to \"normal\" folder\n",
    "        if aide != 'activite-partielle' : \n",
    "            url = \"https://raw.githubusercontent.com/etalab/dashboard-aides-entreprises/master/backend/json/{}/{}-maille-{}-minify.json\".format(aide, aide, maille)\n",
    "        else :\n",
    "            url = \"https://raw.githubusercontent.com/etalab/dashboard-aides-entreprises/master/backend/json/{}3/{}-3-maille-{}-minify.json\".format(aide, aide, maille)\n",
    "            \n",
    "        data = import_json_to_dict(url)\n",
    "        \n",
    "        if len(data) > 0 :\n",
    "    \n",
    "            for kpi in aides_charts_kpi_dict[aide] :\n",
    "\n",
    "                df_list = []\n",
    "\n",
    "                if maille == 'departemental' :\n",
    "                    for item in data :\n",
    "                        df_dep = pd.DataFrame(item[kpi])\n",
    "                        df_dep['dep'] = item['dep']\n",
    "                        df_list += [df_dep]\n",
    "\n",
    "                elif maille == 'regional' :\n",
    "                    for item in data :\n",
    "                        df_reg = pd.DataFrame(item[kpi])\n",
    "                        df_reg['reg'] = item['reg']\n",
    "                        df_list += [df_reg]\n",
    "\n",
    "                else :\n",
    "                    df_list = [pd.DataFrame(data[0][kpi])]\n",
    "\n",
    "                #Concatenating data in a single dataframe\n",
    "                df = pd.concat(df_list).reset_index(drop=True)\n",
    "\n",
    "                #Adding color information for plotting\n",
    "                if kpi == 'kpi_top_10_naf' :\n",
    "                    df = df.merge(taxo_nafsec_df[['code_section', 'color_section']].rename(columns={'code_section':'section_naf'}), on='section_naf', how='left')\n",
    "                    df.drop('section_naf', 1, inplace=True)\n",
    "                    df.rename(columns={'color_section':'color'}, inplace=True)\n",
    "\n",
    "                elif kpi == 'kpi_categorie_juridique' :\n",
    "                    df = df.merge(taxo_jurcat_df[['code', 'color']].rename(columns={'code':'code_cat_juridique'}), on='code_cat_juridique', how='left')\n",
    "                    df.drop('code_cat_juridique', 1, inplace=True)\n",
    "\n",
    "                elif kpi == 'kpi_classe_effectif' :\n",
    "                    df = df.merge(taxo_effcla_df[['denomination', 'color']].rename(columns={'denomination':'classe_effectif'}), on='classe_effectif', how='left')\n",
    "                    df.drop('classe_effectif', 1, inplace=True)\n",
    "\n",
    "                elif kpi == 'nace17' : #Only activite-partielle as of now\n",
    "                    df = df.merge(taxo_nace17_df[['code_section_nace17', 'color_section']], on='code_section_nace17', how='left')\n",
    "                    df.drop('code_section_nace17', 1, inplace=True)\n",
    "                    df.rename(columns={'color_section':'color'}, inplace=True)\n",
    "                    \n",
    "                    row_df_list = []\n",
    "\n",
    "                    for row in df.iterrows() :\n",
    "\n",
    "                        row_df = pd.DataFrame(eval(str(row[1]['data'])))\n",
    "\n",
    "                        row_df['libelle'] = row[1]['libelle']\n",
    "                        if 'reg' in df.columns:\n",
    "                            row_df['reg'] = row[1]['reg']\n",
    "                            row_df['reg'] = row_df['reg'].apply(lambda x : str(x).zfill(2))\n",
    "                        if 'dep' in df.columns:\n",
    "                            row_df['dep'] = row[1]['dep']\n",
    "                            row_df['dep'] = row_df['dep'].apply(lambda x : str(x).zfill(2))\n",
    "                        row_df['color'] = row[1]['color']\n",
    "\n",
    "                        row_df_list += [row_df]\n",
    "\n",
    "                    df = pd.concat(row_df_list).reset_index(drop=True)\n",
    "                    \n",
    "                    for col in ['nombre_demandes_deposees', 'nombre_heures_demandees', 'nombre_salaries_concernes'] :\n",
    "                        df[col] = df[col].apply(format_str_to_int)\n",
    "\n",
    "                else :\n",
    "                    print('Unknown KPI, could not assign colors.')\n",
    "\n",
    "                df['color'].fillna('#AAAAAA', inplace=True)\n",
    "\n",
    "                #Creating labels for plotting (depending on existing columns)\n",
    "\n",
    "                if 'montant' in df.columns :\n",
    "                    df['montant_fr'] = df['montant'].apply(lambda x: format_number_to_million_str(x) + \" M€\")\n",
    "\n",
    "                if 'nombre' in df.columns :\n",
    "                    df['nombre_fr'] = df['nombre'].apply(lambda x: format_number_to_str(x) + \" aides\")\n",
    "\n",
    "                if 'nombre_siren' in df.columns :\n",
    "                    df['nombre_siren_fr'] = df['nombre_siren'].apply(lambda x: format_number_to_str(x) + \" entreprises\")\n",
    "\n",
    "                if 'nombre_demandes_deposees' in df.columns :\n",
    "                    df['nombre_demandes_deposees_fr'] = df['nombre_demandes_deposees'].apply(lambda x: format_number_to_str(x) + \" demandes\")\n",
    "\n",
    "                if 'nombre_etablissements_concernes' in df.columns :\n",
    "                    df['nombre_etablissements_concernes_fr'] = df['nombre_etablissements_concernes'].apply(lambda x: format_number_to_str(x) + \" entreprises\")\n",
    "\n",
    "                if 'nombre_heures_demandees' in df.columns :\n",
    "                    df['nombre_heures_demandees_fr'] = df['nombre_heures_demandees'].apply(lambda x: format_number_to_str(x) + \" heures\")\n",
    "\n",
    "                if 'nombre_salaries_concernes' in df.columns :\n",
    "                    df['nombre_salaries_concernes_fr'] = df['nombre_salaries_concernes'].apply(lambda x: format_number_to_str(x) + \" salariés\")\n",
    "                    \n",
    "                #NAF: shorten NAF section that is too long and dropping '0' values (does not make sense with \"top 10\")\n",
    "                if kpi == 'kpi_top_10_naf' :\n",
    "                    df['libelle_section_naf'] = df['libelle_section_naf'].apply(shorten_long_naf_libelle)\n",
    "                    df = df[df['montant'].apply(float) > 0]\n",
    "\n",
    "                df.to_csv(os.path.join(data_dir_path, '{}-{}-{}.csv'.format(aide, kpi, maille)), index=False)\n",
    "                \n",
    "        else :\n",
    "            print('Empty data for {}-{}'.format(aide,maille))"
   ]
  },
  {
   "cell_type": "markdown",
   "metadata": {
    "papermill": {
     "duration": 0.017488,
     "end_time": "2020-12-09T00:06:09.374967",
     "exception": false,
     "start_time": "2020-12-09T00:06:09.357479",
     "status": "completed"
    },
    "tags": []
   },
   "source": [
    "## Making the graphs"
   ]
  },
  {
   "cell_type": "code",
   "execution_count": 17,
   "metadata": {
    "execution": {
     "iopub.execute_input": "2020-12-09T00:06:09.419673Z",
     "iopub.status.busy": "2020-12-09T00:06:09.419171Z",
     "iopub.status.idle": "2020-12-09T00:06:09.527552Z",
     "shell.execute_reply": "2020-12-09T00:06:09.528086Z"
    },
    "papermill": {
     "duration": 0.134995,
     "end_time": "2020-12-09T00:06:09.528274",
     "exception": false,
     "start_time": "2020-12-09T00:06:09.393279",
     "status": "completed"
    },
    "tags": []
   },
   "outputs": [
    {
     "name": "stdout",
     "output_type": "stream",
     "text": [
      "101 departements.\n",
      "18 regions.\n"
     ]
    }
   ],
   "source": [
    "#Get departements and regions lists\n",
    "\n",
    "taxo_dep_df = pd.DataFrame(import_json_to_dict(taxo_dep_url))\n",
    "dep_list = list(taxo_dep_df['dep'])\n",
    "print('{} departements.'.format(len(dep_list)))\n",
    "\n",
    "taxo_reg_df = pd.DataFrame(import_json_to_dict(taxo_reg_url))\n",
    "reg_list = list(taxo_reg_df['reg'])\n",
    "print('{} regions.'.format(len(reg_list)))"
   ]
  },
  {
   "cell_type": "code",
   "execution_count": 18,
   "metadata": {
    "execution": {
     "iopub.execute_input": "2020-12-09T00:06:09.571069Z",
     "iopub.status.busy": "2020-12-09T00:06:09.570534Z",
     "iopub.status.idle": "2020-12-09T00:06:09.574734Z",
     "shell.execute_reply": "2020-12-09T00:06:09.574271Z"
    },
    "papermill": {
     "duration": 0.028141,
     "end_time": "2020-12-09T00:06:09.574850",
     "exception": false,
     "start_time": "2020-12-09T00:06:09.546709",
     "status": "completed"
    },
    "tags": []
   },
   "outputs": [],
   "source": [
    "#Building the folders structures\n",
    "mkdir_ifnotexist(img_dir_path)\n",
    "mkdir_ifnotexist(os.path.join(img_dir_path, 'national'))\n",
    "\n",
    "#Regions subfolders\n",
    "mkdir_ifnotexist(os.path.join(img_dir_path, 'regional'))\n",
    "for reg in reg_list :\n",
    "    mkdir_ifnotexist(os.path.join(img_dir_path, 'regional', reg))\n",
    "    \n",
    "#Departements subfolders\n",
    "mkdir_ifnotexist(os.path.join(img_dir_path, 'departemental'))\n",
    "for dep in dep_list :\n",
    "    mkdir_ifnotexist(os.path.join(img_dir_path, 'departemental', dep))"
   ]
  },
  {
   "cell_type": "code",
   "execution_count": 19,
   "metadata": {
    "execution": {
     "iopub.execute_input": "2020-12-09T00:06:09.623626Z",
     "iopub.status.busy": "2020-12-09T00:06:09.623037Z",
     "iopub.status.idle": "2020-12-09T00:08:01.978880Z",
     "shell.execute_reply": "2020-12-09T00:08:01.979354Z"
    },
    "papermill": {
     "duration": 112.383764,
     "end_time": "2020-12-09T00:08:01.979517",
     "exception": false,
     "start_time": "2020-12-09T00:06:09.595753",
     "status": "completed"
    },
    "tags": []
   },
   "outputs": [
    {
     "name": "stdout",
     "output_type": "stream",
     "text": [
      "national-aides-kpi_top_10_naf done.\n",
      "national-aides-kpi_categorie_juridique done.\n"
     ]
    },
    {
     "name": "stdout",
     "output_type": "stream",
     "text": [
      "national-aides-kpi_classe_effectif done.\n"
     ]
    },
    {
     "name": "stdout",
     "output_type": "stream",
     "text": [
      "national-pge-kpi_top_10_naf done.\n",
      "national-report-kpi_top_10_naf done.\n"
     ]
    },
    {
     "name": "stdout",
     "output_type": "stream",
     "text": [
      "national-cpsti-kpi_top_10_naf done.\n",
      "national-activite-partielle-nace17 done.\n"
     ]
    },
    {
     "name": "stdout",
     "output_type": "stream",
     "text": [
      "regional-aides-kpi_top_10_naf done.\n"
     ]
    },
    {
     "name": "stdout",
     "output_type": "stream",
     "text": [
      "regional-aides-kpi_categorie_juridique done.\n"
     ]
    },
    {
     "name": "stdout",
     "output_type": "stream",
     "text": [
      "regional-aides-kpi_classe_effectif done.\n"
     ]
    },
    {
     "name": "stdout",
     "output_type": "stream",
     "text": [
      "regional-pge-kpi_top_10_naf done.\n"
     ]
    },
    {
     "name": "stdout",
     "output_type": "stream",
     "text": [
      "regional-report-kpi_top_10_naf done.\n"
     ]
    },
    {
     "name": "stdout",
     "output_type": "stream",
     "text": [
      "No data to plot for cpsti-kpi_top_10_naf-regional-06\n"
     ]
    },
    {
     "name": "stdout",
     "output_type": "stream",
     "text": [
      "regional-cpsti-kpi_top_10_naf done.\n"
     ]
    },
    {
     "name": "stdout",
     "output_type": "stream",
     "text": [
      "regional-activite-partielle-nace17 done.\n"
     ]
    },
    {
     "name": "stdout",
     "output_type": "stream",
     "text": [
      "departemental-aides-kpi_top_10_naf done.\n"
     ]
    },
    {
     "name": "stdout",
     "output_type": "stream",
     "text": [
      "departemental-aides-kpi_categorie_juridique done.\n"
     ]
    },
    {
     "name": "stdout",
     "output_type": "stream",
     "text": [
      "departemental-aides-kpi_classe_effectif done.\n"
     ]
    },
    {
     "name": "stdout",
     "output_type": "stream",
     "text": [
      "departemental-pge-kpi_top_10_naf done.\n"
     ]
    },
    {
     "name": "stdout",
     "output_type": "stream",
     "text": [
      "departemental-report-kpi_top_10_naf done.\n"
     ]
    },
    {
     "name": "stdout",
     "output_type": "stream",
     "text": [
      "No data to plot for cpsti-kpi_top_10_naf-departemental-976\n",
      "departemental-cpsti-kpi_top_10_naf done.\n",
      "File not found: ./data/activite-partielle-nace17-departemental.csv\n",
      "File not found: ./data/activite-partielle-nace17-departemental.csv\n",
      "File not found: ./data/activite-partielle-nace17-departemental.csv\n",
      "File not found: ./data/activite-partielle-nace17-departemental.csv\n",
      "File not found: ./data/activite-partielle-nace17-departemental.csv\n",
      "File not found: ./data/activite-partielle-nace17-departemental.csv\n",
      "File not found: ./data/activite-partielle-nace17-departemental.csv\n",
      "File not found: ./data/activite-partielle-nace17-departemental.csv\n",
      "File not found: ./data/activite-partielle-nace17-departemental.csv\n",
      "File not found: ./data/activite-partielle-nace17-departemental.csv\n",
      "File not found: ./data/activite-partielle-nace17-departemental.csv\n",
      "File not found: ./data/activite-partielle-nace17-departemental.csv\n",
      "File not found: ./data/activite-partielle-nace17-departemental.csv\n",
      "File not found: ./data/activite-partielle-nace17-departemental.csv\n",
      "File not found: ./data/activite-partielle-nace17-departemental.csv\n",
      "File not found: ./data/activite-partielle-nace17-departemental.csv\n",
      "File not found: ./data/activite-partielle-nace17-departemental.csv\n",
      "File not found: ./data/activite-partielle-nace17-departemental.csv\n",
      "File not found: ./data/activite-partielle-nace17-departemental.csv\n",
      "File not found: ./data/activite-partielle-nace17-departemental.csv\n",
      "File not found: ./data/activite-partielle-nace17-departemental.csv\n",
      "File not found: ./data/activite-partielle-nace17-departemental.csv\n",
      "File not found: ./data/activite-partielle-nace17-departemental.csv\n",
      "File not found: ./data/activite-partielle-nace17-departemental.csv\n",
      "File not found: ./data/activite-partielle-nace17-departemental.csv\n",
      "File not found: ./data/activite-partielle-nace17-departemental.csv\n",
      "File not found: ./data/activite-partielle-nace17-departemental.csv\n",
      "File not found: ./data/activite-partielle-nace17-departemental.csv\n",
      "File not found: ./data/activite-partielle-nace17-departemental.csv\n",
      "File not found: ./data/activite-partielle-nace17-departemental.csv\n",
      "File not found: ./data/activite-partielle-nace17-departemental.csv\n",
      "File not found: ./data/activite-partielle-nace17-departemental.csv\n",
      "File not found: ./data/activite-partielle-nace17-departemental.csv\n",
      "File not found: ./data/activite-partielle-nace17-departemental.csv\n",
      "File not found: ./data/activite-partielle-nace17-departemental.csv\n",
      "File not found: ./data/activite-partielle-nace17-departemental.csv\n",
      "File not found: ./data/activite-partielle-nace17-departemental.csv\n",
      "File not found: ./data/activite-partielle-nace17-departemental.csv\n",
      "File not found: ./data/activite-partielle-nace17-departemental.csv\n",
      "File not found: ./data/activite-partielle-nace17-departemental.csv\n",
      "File not found: ./data/activite-partielle-nace17-departemental.csv\n",
      "File not found: ./data/activite-partielle-nace17-departemental.csv\n",
      "File not found: ./data/activite-partielle-nace17-departemental.csv\n",
      "File not found: ./data/activite-partielle-nace17-departemental.csv\n",
      "File not found: ./data/activite-partielle-nace17-departemental.csv\n",
      "File not found: ./data/activite-partielle-nace17-departemental.csv\n",
      "File not found: ./data/activite-partielle-nace17-departemental.csv\n",
      "File not found: ./data/activite-partielle-nace17-departemental.csv\n",
      "File not found: ./data/activite-partielle-nace17-departemental.csv\n",
      "File not found: ./data/activite-partielle-nace17-departemental.csv\n",
      "File not found: ./data/activite-partielle-nace17-departemental.csv\n",
      "File not found: ./data/activite-partielle-nace17-departemental.csv\n",
      "File not found: ./data/activite-partielle-nace17-departemental.csv\n",
      "File not found: ./data/activite-partielle-nace17-departemental.csv\n",
      "File not found: ./data/activite-partielle-nace17-departemental.csv\n",
      "File not found: ./data/activite-partielle-nace17-departemental.csv\n",
      "File not found: ./data/activite-partielle-nace17-departemental.csv\n",
      "File not found: ./data/activite-partielle-nace17-departemental.csv\n",
      "File not found: ./data/activite-partielle-nace17-departemental.csv\n",
      "File not found: ./data/activite-partielle-nace17-departemental.csv\n",
      "File not found: ./data/activite-partielle-nace17-departemental.csv\n",
      "File not found: ./data/activite-partielle-nace17-departemental.csv\n",
      "File not found: ./data/activite-partielle-nace17-departemental.csv\n",
      "File not found: ./data/activite-partielle-nace17-departemental.csv\n",
      "File not found: ./data/activite-partielle-nace17-departemental.csv\n",
      "File not found: ./data/activite-partielle-nace17-departemental.csv\n",
      "File not found: ./data/activite-partielle-nace17-departemental.csv\n",
      "File not found: ./data/activite-partielle-nace17-departemental.csv\n",
      "File not found: ./data/activite-partielle-nace17-departemental.csv\n",
      "File not found: ./data/activite-partielle-nace17-departemental.csv\n",
      "File not found: ./data/activite-partielle-nace17-departemental.csv\n",
      "File not found: ./data/activite-partielle-nace17-departemental.csv\n",
      "File not found: ./data/activite-partielle-nace17-departemental.csv\n",
      "File not found: ./data/activite-partielle-nace17-departemental.csv\n",
      "File not found: ./data/activite-partielle-nace17-departemental.csv\n",
      "File not found: ./data/activite-partielle-nace17-departemental.csv\n",
      "File not found: ./data/activite-partielle-nace17-departemental.csv\n",
      "File not found: ./data/activite-partielle-nace17-departemental.csv\n",
      "File not found: ./data/activite-partielle-nace17-departemental.csv\n",
      "File not found: ./data/activite-partielle-nace17-departemental.csv\n",
      "File not found: ./data/activite-partielle-nace17-departemental.csv\n",
      "File not found: ./data/activite-partielle-nace17-departemental.csv\n",
      "File not found: ./data/activite-partielle-nace17-departemental.csv\n",
      "File not found: ./data/activite-partielle-nace17-departemental.csv\n",
      "File not found: ./data/activite-partielle-nace17-departemental.csv\n",
      "File not found: ./data/activite-partielle-nace17-departemental.csv\n",
      "File not found: ./data/activite-partielle-nace17-departemental.csv\n",
      "File not found: ./data/activite-partielle-nace17-departemental.csv\n",
      "File not found: ./data/activite-partielle-nace17-departemental.csv\n",
      "File not found: ./data/activite-partielle-nace17-departemental.csv\n",
      "File not found: ./data/activite-partielle-nace17-departemental.csv\n",
      "File not found: ./data/activite-partielle-nace17-departemental.csv\n",
      "File not found: ./data/activite-partielle-nace17-departemental.csv\n",
      "File not found: ./data/activite-partielle-nace17-departemental.csv\n",
      "File not found: ./data/activite-partielle-nace17-departemental.csv\n",
      "File not found: ./data/activite-partielle-nace17-departemental.csv\n",
      "File not found: ./data/activite-partielle-nace17-departemental.csv\n",
      "File not found: ./data/activite-partielle-nace17-departemental.csv\n",
      "File not found: ./data/activite-partielle-nace17-departemental.csv\n",
      "File not found: ./data/activite-partielle-nace17-departemental.csv\n",
      "File not found: ./data/activite-partielle-nace17-departemental.csv\n",
      "departemental-activite-partielle-nace17 done.\n",
      "CPU times: user 1min 1s, sys: 647 ms, total: 1min 2s\n",
      "Wall time: 1min 52s\n"
     ]
    }
   ],
   "source": [
    "%%time\n",
    "#Generating all graphs and saving them in appropriate folders\n",
    "for maille in mailles_list :\n",
    "    for param in graph_params_list :\n",
    "        graph_param = param.copy()\n",
    "        graph_param['maille'] = maille\n",
    "        \n",
    "        if maille == 'national' :\n",
    "            img_path = os.path.join(img_dir_path, maille, '{}-{}-{}-{}-{}.png'.format(param['aide'],\n",
    "                                                                                      param['kpi'],\n",
    "                                                                                      param['x_col'],\n",
    "                                                                                      maille,\n",
    "                                                                                      param['chart_type']))\n",
    "\n",
    "            fig = make_chart(**graph_param)\n",
    "            \n",
    "            if fig is not None :\n",
    "                fig.write_image(img_path)\n",
    "            \n",
    "        elif maille == 'regional' :\n",
    "            for reg in reg_list :\n",
    "                graph_param['reg'] = reg\n",
    "                img_path = os.path.join(img_dir_path, maille, reg, '{}-{}-{}-{}-{}.png'.format(param['aide'],\n",
    "                                                                                               param['kpi'],\n",
    "                                                                                               param['x_col'],\n",
    "                                                                                               maille,\n",
    "                                                                                               reg,\n",
    "                                                                                               param['chart_type']))\n",
    "                fig = make_chart(**graph_param) \n",
    "                \n",
    "                if fig is not None :\n",
    "                    fig.write_image(img_path)\n",
    "                \n",
    "        elif maille == 'departemental' :\n",
    "            for dep in dep_list :\n",
    "                graph_param['dep'] = dep\n",
    "                img_path = os.path.join(img_dir_path, maille, dep, '{}-{}-{}-{}-{}.png'.format(param['aide'],\n",
    "                                                                                               param['kpi'],\n",
    "                                                                                               param['x_col'],\n",
    "                                                                                               maille,\n",
    "                                                                                               dep,\n",
    "                                                                                               param['chart_type']))\n",
    "                fig = make_chart(**graph_param) \n",
    "                \n",
    "                if fig is not None :\n",
    "                    fig.write_image(img_path)\n",
    "                    \n",
    "        print('{}-{}-{} done.'.format(maille, param['aide'], param['kpi']))"
   ]
  },
  {
   "cell_type": "markdown",
   "metadata": {
    "papermill": {
     "duration": 0.024886,
     "end_time": "2020-12-09T00:08:02.029494",
     "exception": false,
     "start_time": "2020-12-09T00:08:02.004608",
     "status": "completed"
    },
    "tags": []
   },
   "source": [
    "## Building the reports"
   ]
  },
  {
   "cell_type": "code",
   "execution_count": 20,
   "metadata": {
    "execution": {
     "iopub.execute_input": "2020-12-09T00:08:02.081683Z",
     "iopub.status.busy": "2020-12-09T00:08:02.081144Z",
     "iopub.status.idle": "2020-12-09T00:08:02.084779Z",
     "shell.execute_reply": "2020-12-09T00:08:02.084353Z"
    },
    "papermill": {
     "duration": 0.031853,
     "end_time": "2020-12-09T00:08:02.084901",
     "exception": false,
     "start_time": "2020-12-09T00:08:02.053048",
     "status": "completed"
    },
    "tags": []
   },
   "outputs": [],
   "source": [
    "mkdir_ifnotexist(reports_dir_path)"
   ]
  },
  {
   "cell_type": "code",
   "execution_count": 21,
   "metadata": {
    "execution": {
     "iopub.execute_input": "2020-12-09T00:08:02.136946Z",
     "iopub.status.busy": "2020-12-09T00:08:02.136133Z",
     "iopub.status.idle": "2020-12-09T00:08:02.140126Z",
     "shell.execute_reply": "2020-12-09T00:08:02.139706Z"
    },
    "papermill": {
     "duration": 0.03084,
     "end_time": "2020-12-09T00:08:02.140231",
     "exception": false,
     "start_time": "2020-12-09T00:08:02.109391",
     "status": "completed"
    },
    "tags": []
   },
   "outputs": [],
   "source": [
    "global title_header\n",
    "title_header = ''\n",
    "global subtitle_header\n",
    "subtitle_header = ''"
   ]
  },
  {
   "cell_type": "code",
   "execution_count": 22,
   "metadata": {
    "execution": {
     "iopub.execute_input": "2020-12-09T00:08:02.194284Z",
     "iopub.status.busy": "2020-12-09T00:08:02.193772Z",
     "iopub.status.idle": "2020-12-09T00:08:02.197258Z",
     "shell.execute_reply": "2020-12-09T00:08:02.196899Z"
    },
    "papermill": {
     "duration": 0.035021,
     "end_time": "2020-12-09T00:08:02.197361",
     "exception": false,
     "start_time": "2020-12-09T00:08:02.162340",
     "status": "completed"
    },
    "tags": []
   },
   "outputs": [],
   "source": [
    "class PDF(FPDF):\n",
    "    def header(self):\n",
    "        if (self.page_no() != 1 ):\n",
    "            # Logo\n",
    "            self.image(os.path.join(img_dir_path, 'LogoRF.png'), 10, 8, 33)\n",
    "            self.image(os.path.join(img_dir_path, 'logo_Francerelance_1321294.54.png'), pdf.w-45, 7, 45)\n",
    "            # Arial bold 15\n",
    "            self.cell(50)\n",
    "            self.set_font('Arial', 'B', 16)\n",
    "            self.cell(80, 15, title_header, 0, 1, 'A')\n",
    "\n",
    "            # Move to the right\n",
    "            # Title\n",
    "            self.set_font('Arial', 'I', 9)\n",
    "            self.cell(50)\n",
    "            self.cell(50, 10, subtitle_header+' - aides-entreprises.data.gouv.fr', 0, 1, 'A', link='https://aides-entreprises.data.gouv.fr/')\n",
    "            # Line break  \n",
    "            pdf.line(40, 38, 170, 38)\n",
    "            self.ln(7)\n",
    "        \n",
    "    # Page footer\n",
    "    def footer(self):\n",
    "        if (self.page_no() != 1 ):\n",
    "            # Position at 1.5 cm from bottom\n",
    "            self.set_y(-15)\n",
    "            # Arial italic 8\n",
    "            self.set_font('Arial', 'I', 8)\n",
    "            # Page number\n",
    "            \n",
    "            self.cell(0, 10, 'Direction Interministérielle du Numérique (DINUM) - Page ' + str(self.page_no()) + '/{nb}', 0, 0, 'C')         "
   ]
  },
  {
   "cell_type": "code",
   "execution_count": 23,
   "metadata": {
    "execution": {
     "iopub.execute_input": "2020-12-09T00:08:02.250622Z",
     "iopub.status.busy": "2020-12-09T00:08:02.250091Z",
     "iopub.status.idle": "2020-12-09T00:08:02.252534Z",
     "shell.execute_reply": "2020-12-09T00:08:02.252934Z"
    },
    "papermill": {
     "duration": 0.030504,
     "end_time": "2020-12-09T00:08:02.253071",
     "exception": false,
     "start_time": "2020-12-09T00:08:02.222567",
     "status": "completed"
    },
    "tags": []
   },
   "outputs": [],
   "source": [
    "def format_val(val,add):\n",
    "    return '{:,}'.format(int(float(val))).replace(',', ' ')+add"
   ]
  },
  {
   "cell_type": "code",
   "execution_count": 24,
   "metadata": {
    "execution": {
     "iopub.execute_input": "2020-12-09T00:08:02.307169Z",
     "iopub.status.busy": "2020-12-09T00:08:02.306621Z",
     "iopub.status.idle": "2020-12-09T00:08:02.310185Z",
     "shell.execute_reply": "2020-12-09T00:08:02.310625Z"
    },
    "papermill": {
     "duration": 0.03463,
     "end_time": "2020-12-09T00:08:02.310760",
     "exception": false,
     "start_time": "2020-12-09T00:08:02.276130",
     "status": "completed"
    },
    "tags": []
   },
   "outputs": [],
   "source": [
    "def get_kpis(aide,maille,geo):\n",
    "    url = \"https://raw.githubusercontent.com/etalab/dashboard-aides-entreprises/master/backend/json/{}/{}-maille-{}-minify.json\".format(aide, aide, maille)\n",
    "    \n",
    "    data = import_json_to_dict(url)\n",
    "    if(maille == 'national'):\n",
    "        if(aide == 'aides'):\n",
    "            return format_val(data[0]['montant'],' euros'),format_val(data[0]['nombre'],''),format_val(data[0]['nombre_siren'],'')\n",
    "        else:\n",
    "            return format_val(data[0]['montant'],' euros'),format_val(data[0]['nombre'],'')\n",
    "\n",
    "    elif(maille == 'regional'):\n",
    "        for reg in data:\n",
    "            if(reg['reg'] == geo):\n",
    "                if(aide == 'aides'):\n",
    "                    return format_val(reg['montant'],' euros'),format_val(reg['nombre'],''),format_val(reg['nombre_siren'],'')\n",
    "                else:\n",
    "                    return format_val(reg['montant'],' euros'),format_val(reg['nombre'],'')\n",
    "\n",
    "    elif(maille == 'departemental'):\n",
    "        for dep in data:\n",
    "            if(dep['dep'] == geo):\n",
    "                if(aide == 'aides'):\n",
    "                    return format_val(dep['montant'],' euros'),format_val(dep['nombre'],''),format_val(dep['nombre_siren'],'')\n",
    "                else:\n",
    "                    return format_val(dep['montant'],' euros'),format_val(dep['nombre'],'')\n"
   ]
  },
  {
   "cell_type": "code",
   "execution_count": 25,
   "metadata": {
    "execution": {
     "iopub.execute_input": "2020-12-09T00:08:02.364047Z",
     "iopub.status.busy": "2020-12-09T00:08:02.363597Z",
     "iopub.status.idle": "2020-12-09T00:08:02.366378Z",
     "shell.execute_reply": "2020-12-09T00:08:02.366832Z"
    },
    "papermill": {
     "duration": 0.033393,
     "end_time": "2020-12-09T00:08:02.366974",
     "exception": false,
     "start_time": "2020-12-09T00:08:02.333581",
     "status": "completed"
    },
    "tags": []
   },
   "outputs": [],
   "source": [
    "def get_actpart_kpis(aide,maille,geo):\n",
    "    url = \"https://raw.githubusercontent.com/etalab/dashboard-aides-entreprises/master/backend/json/{}3/{}-3-maille-{}-minify.json\".format(aide, aide, maille)\n",
    "    \n",
    "    data = import_json_to_dict(url)\n",
    "    if(maille == 'national'):\n",
    "        return format_val(data[0]['nombre_demandes_deposees'],''), format_val(data[0]['nombre_salaries_concernes'],''),format_val(data[0]['nombre_heures_demandees'],'')\n",
    "\n",
    "    elif(maille == 'regional'):\n",
    "        for reg in data:\n",
    "            if(reg['reg'] == geo):\n",
    "                return format_val(reg['nombre_demandes_deposees'],''), format_val(reg['nombre_salaries_concernes'],''),format_val(reg['nombre_heures_demandees'],'')\n",
    "\n",
    "    elif(maille == 'departemental'):\n",
    "        for dep in data:\n",
    "            if(dep['dep'] == geo):\n",
    "                return format_val(dep['nombre_demandes_deposees'],''), format_val(dep['nombre_salaries_concernes'],''),format_val(dep['nombre_heures_demandees'],'')"
   ]
  },
  {
   "cell_type": "code",
   "execution_count": 26,
   "metadata": {
    "execution": {
     "iopub.execute_input": "2020-12-09T00:08:02.422233Z",
     "iopub.status.busy": "2020-12-09T00:08:02.421293Z",
     "iopub.status.idle": "2020-12-09T00:08:02.426076Z",
     "shell.execute_reply": "2020-12-09T00:08:02.425668Z"
    },
    "papermill": {
     "duration": 0.036465,
     "end_time": "2020-12-09T00:08:02.426215",
     "exception": false,
     "start_time": "2020-12-09T00:08:02.389750",
     "status": "completed"
    },
    "tags": []
   },
   "outputs": [],
   "source": [
    "def find_last_update(aide):\n",
    "    if aide != 'activite-partielle' :\n",
    "        url = \"https://raw.githubusercontent.com/etalab/dashboard-aides-entreprises/master/backend/json/\"+aide+\"/last_update_data.txt\"\n",
    "    else :\n",
    "        url = \"https://raw.githubusercontent.com/etalab/dashboard-aides-entreprises/master/backend/json/\"+aide+\"3/last_update_data.txt\"\n",
    "    u2 = urllib.request.urlopen(url)\n",
    "    return u2.readlines()[0].decode(\"utf-8\")"
   ]
  },
  {
   "cell_type": "code",
   "execution_count": 27,
   "metadata": {
    "execution": {
     "iopub.execute_input": "2020-12-09T00:08:02.504598Z",
     "iopub.status.busy": "2020-12-09T00:08:02.503619Z",
     "iopub.status.idle": "2020-12-09T00:08:02.505569Z",
     "shell.execute_reply": "2020-12-09T00:08:02.505109Z"
    },
    "papermill": {
     "duration": 0.052929,
     "end_time": "2020-12-09T00:08:02.505695",
     "exception": false,
     "start_time": "2020-12-09T00:08:02.452766",
     "status": "completed"
    },
    "tags": []
   },
   "outputs": [],
   "source": [
    "def add_page_report(pdf, aide, dep, aideurl, phrase1, phrase2, phrase3, phrase_nombre, source_dict):\n",
    "\n",
    "    pdf.set_fill_color(83,101,125);\n",
    "    pdf.rect(20,41,180,14,'F')\n",
    "    \n",
    "    pdf.image(os.path.join(img_dir_path, 'information.png'), x=10, y=44.5, w=7)\n",
    "    \n",
    "    \n",
    "    pdf.set_font('Arial', 'I', 7)\n",
    "    pdf.set_text_color(255,255,255)\n",
    "    pdf.cell(10)\n",
    "    pdf.cell(10, 3, phrase1, ln=1)\n",
    "    pdf.ln(0)\n",
    "    pdf.cell(10)    \n",
    "    pdf.cell(10, 3, phrase2, ln=1)\n",
    "    pdf.ln(0)\n",
    "    pdf.cell(10)\n",
    "    pdf.cell(10, 3, phrase3, ln=1)\n",
    "    pdf.ln(0)\n",
    "    pdf.cell(10)\n",
    "    pdf.set_font('Arial', 'IU', 7)\n",
    "    pdf.cell(10, 3, source_dict['name'], ln=1, link=source_dict['url'])\n",
    "    pdf.ln(2)\n",
    "       \n",
    "    pdf.set_text_color(0,0,0)\n",
    "\n",
    "\n",
    "    pdf.set_font('Arial', 'BI', 14)\n",
    "    pdf.cell(65, 10, \"Niveau National\", ln=1)\n",
    "    \n",
    "    \n",
    "    pdf.set_font('Arial', '', 14)\n",
    "\n",
    "    hbar_w = 100\n",
    "    dpie_w = 90\n",
    "\n",
    "    pdf.image(os.path.join(img_dir_path, 'national', aide+'-kpi_top_10_naf-montant-national-hbar.png'), x=pdf.w/3-hbar_w/2, y=64, w=hbar_w)\n",
    "\n",
    "    kpis_nat = get_kpis(aide,'national','national')\n",
    "    pdf.ln(10)\n",
    "    pdf.cell((pdf.w/3)*1.55)\n",
    "    pdf.cell(0, 10, \"Montant total : \"+kpis_nat[0], 0, 0)\n",
    "    pdf.ln(15)\n",
    "    pdf.cell((pdf.w/3)*1.55)\n",
    "    pdf.cell(0, 10, \"Nombre \"+phrase_nombre+kpis_nat[1], 0, 0)\n",
    "    pdf.ln(15)\n",
    "    pdf.cell((pdf.w/3)*1.55)\n",
    "    if(aide == 'aides'):\n",
    "        pdf.cell(0, 10, \"Nombre d'entreprises : \"+kpis_nat[2], 0, 0)\n",
    "\n",
    "\n",
    "    pdf.ln(27)\n",
    "\n",
    "    reg = taxo_dep_df[taxo_dep_df['dep'] == dep].iloc[0]['reg']\n",
    "    libelle_reg = taxo_reg_df[taxo_reg_df['reg'] == reg].iloc[0]['libelle']\n",
    "    libelle_dep = taxo_dep_df[taxo_dep_df['dep'] == dep].iloc[0]['libelle']\n",
    "    \n",
    "    pdf.set_font('Arial', 'BI', 14)\n",
    "    pdf.cell(65, 10, \"Niveau Régional : \"+libelle_reg, ln=1)\n",
    "    \n",
    "    if aide == 'cpsti' and reg == '06' :\n",
    "        pdf.set_font('Arial', 'I', 12)\n",
    "        pdf.ln(10)\n",
    "        pdf.cell(0,0,\"Absence de données à l'échelle de la région.\", ln=1)\n",
    "        pdf.ln(15)\n",
    "    else :\n",
    "        pdf.set_font('Arial', '', 14)\n",
    "\n",
    "        hbar_w = 100\n",
    "        dpie_w = 90\n",
    "\n",
    "        kpis_reg = get_kpis(aide,'regional', reg)\n",
    "\n",
    "        pdf.image(os.path.join(img_dir_path, 'regional/'+reg+'/'+aide+'-kpi_top_10_naf-montant-regional-'+reg+'.png'), x=pdf.w/3-hbar_w/2, y=142, w=hbar_w)\n",
    "        pdf.ln(10)\n",
    "        pdf.cell((pdf.w/3)*1.55)\n",
    "        pdf.cell(0, 10, \"Montant total : \"+kpis_reg[0], 0, 0)\n",
    "        pdf.ln(15)\n",
    "        pdf.cell((pdf.w/3)*1.55)\n",
    "        pdf.cell(0, 10, \"Nombre \"+phrase_nombre+kpis_reg[1], 0, 0)\n",
    "        pdf.ln(15)\n",
    "        pdf.cell((pdf.w/3)*1.55)\n",
    "        if(aide == 'aides'):\n",
    "            pdf.cell(0, 10, \"Nombre d'entreprises : \"+kpis_reg[2], 0, 0)\n",
    "\n",
    "        pdf.ln(25)\n",
    "\n",
    "    pdf.set_font('Arial', 'BI', 14)\n",
    "    pdf.cell(65, 15, \"Niveau Départemental : \"+libelle_dep, ln=1)\n",
    "        \n",
    "    if aide == 'cpsti' and dep == '976' :\n",
    "        pdf.ln(10)\n",
    "        pdf.set_font('Arial', 'I', 12)\n",
    "        pdf.cell(0,0,\"Absence de données à l'échelle du département.\", ln=1)\n",
    "        pdf.ln(15)\n",
    "    else :\n",
    "        pdf.set_font('Arial', '', 14)\n",
    "\n",
    "        hbar_w = 100\n",
    "        dpie_w = 90\n",
    "\n",
    "        pdf.image(os.path.join(img_dir_path, 'departemental/'+dep+'/'+aide+'-kpi_top_10_naf-montant-departemental-'+dep+'.png'), x=pdf.w/3-hbar_w/2, y=219, w=hbar_w)\n",
    "\n",
    "        kpis_dep = get_kpis(aide,'departemental', dep)\n",
    "        pdf.ln(8)\n",
    "        pdf.cell((pdf.w/3)*1.55)\n",
    "        pdf.cell(0, 10, \"Montant total : \"+kpis_dep[0], 0, 0)\n",
    "        pdf.ln(15)\n",
    "        pdf.cell((pdf.w/3)*1.55)\n",
    "        pdf.cell(0, 10, \"Nombre \"+phrase_nombre+kpis_dep[1], 0, 0)\n",
    "        pdf.ln(15)\n",
    "        pdf.cell((pdf.w/3)*1.55)\n",
    "        if(aide == 'aides'):\n",
    "            pdf.cell(0, 10, \"Nombre d'entreprises : \"+kpis_dep[2], 0, 0)\n",
    "    \n",
    "    pdf.link(10,57,120,8, 'http://aides-entreprises.data.gouv.fr')\n",
    "    pdf.link(10,134,120,8, 'https://aides-entreprises.data.gouv.fr/'+aideurl+'?datasetid=regions&field=code&value='+reg)\n",
    "    pdf.link(10,212,120,8, 'https://aides-entreprises.data.gouv.fr/'+aideurl+'?datasetid=departements&field=code&value='+dep)\n",
    "    \n",
    "    \n",
    "    return pdf"
   ]
  },
  {
   "cell_type": "code",
   "execution_count": 28,
   "metadata": {
    "execution": {
     "iopub.execute_input": "2020-12-09T00:08:02.576727Z",
     "iopub.status.busy": "2020-12-09T00:08:02.571826Z",
     "iopub.status.idle": "2020-12-09T00:08:02.578733Z",
     "shell.execute_reply": "2020-12-09T00:08:02.578304Z"
    },
    "papermill": {
     "duration": 0.046122,
     "end_time": "2020-12-09T00:08:02.578850",
     "exception": false,
     "start_time": "2020-12-09T00:08:02.532728",
     "status": "completed"
    },
    "tags": []
   },
   "outputs": [],
   "source": [
    "def add_actpart_page_report(pdf, dep, aideurl, phrase1, phrase2, phrase3, source_dict):\n",
    "    \n",
    "    aide = 'activite-partielle'\n",
    "    \n",
    "    pdf.set_fill_color(83,101,125);\n",
    "    pdf.rect(20,41,180,14,'F')\n",
    "    \n",
    "    pdf.image(os.path.join(img_dir_path, 'information.png'), x=10, y=44.5, w=7)\n",
    "    \n",
    "    \n",
    "    pdf.set_font('Arial', 'I', 7)\n",
    "    pdf.set_text_color(255,255,255)\n",
    "    pdf.cell(10)\n",
    "    pdf.cell(10, 3, phrase1, ln=1)\n",
    "    pdf.ln(0)\n",
    "    pdf.cell(10)    \n",
    "    pdf.cell(10, 3, phrase2, ln=1)\n",
    "    pdf.ln(0)\n",
    "    pdf.cell(10)\n",
    "    pdf.cell(10, 3, phrase3, ln=1)\n",
    "    pdf.ln(0)\n",
    "    pdf.cell(10)\n",
    "    pdf.set_font('Arial', 'IU', 7)\n",
    "    pdf.cell(10, 3, source_dict['name'], ln=1, link=source_dict['url'])\n",
    "    pdf.ln(2)\n",
    "       \n",
    "    pdf.set_text_color(0,0,0)\n",
    "\n",
    "\n",
    "    pdf.set_font('Arial', 'BI', 14)\n",
    "    pdf.cell(65, 10, \"Niveau National\", ln=1)\n",
    "    \n",
    "    \n",
    "    pdf.set_font('Arial', '', 14)\n",
    "\n",
    "    hbar_w = 100\n",
    "    dpie_w = 90\n",
    "\n",
    "    pdf.image(os.path.join(img_dir_path, 'national', aide+'-nace17-nombre_salaries_concernes-national-sthbar.png'), x=pdf.w/3-hbar_w/2, y=64, w=hbar_w)\n",
    "\n",
    "    kpis_nat = get_actpart_kpis(aide,'national','national')\n",
    "    pdf.ln(10)\n",
    "    pdf.cell((pdf.w/3)*1.55)\n",
    "    pdf.cell(0, 10, \"Nombre de demandes : \"+kpis_nat[0], 0, 0)\n",
    "    pdf.ln(15)\n",
    "    pdf.cell((pdf.w/3)*1.55)\n",
    "    pdf.cell(0, 10, \"Nombre de salariés : \"+kpis_nat[1], 0, 0)\n",
    "    pdf.ln(15)\n",
    "    pdf.cell((pdf.w/3)*1.55)\n",
    "    pdf.cell(0, 10, \"Heures demandées : \"+kpis_nat[2], 0, 0)\n",
    "\n",
    "\n",
    "    pdf.ln(27)\n",
    "\n",
    "    reg = taxo_dep_df[taxo_dep_df['dep'] == dep].iloc[0]['reg']\n",
    "    libelle_reg = taxo_reg_df[taxo_reg_df['reg'] == reg].iloc[0]['libelle']\n",
    "    libelle_dep = taxo_dep_df[taxo_dep_df['dep'] == dep].iloc[0]['libelle']\n",
    "    \n",
    "    pdf.set_font('Arial', 'BI', 14)\n",
    "    pdf.cell(65, 10, \"Niveau Régional : \"+libelle_reg, ln=1)\n",
    "\n",
    "    pdf.set_font('Arial', '', 14)\n",
    "\n",
    "    hbar_w = 100\n",
    "    dpie_w = 90\n",
    "\n",
    "    kpis_reg = get_actpart_kpis(aide,'regional', reg)\n",
    "\n",
    "    pdf.image(os.path.join(img_dir_path, 'regional/'+reg+'/'+aide+'-nace17-nombre_salaries_concernes-regional-'+reg+'.png'), x=pdf.w/3-hbar_w/2, y=142, w=hbar_w)\n",
    "    pdf.ln(10)\n",
    "    pdf.cell((pdf.w/3)*1.55)\n",
    "    pdf.cell(0, 10, \"Nombre de demandes : \"+kpis_reg[0], 0, 0)\n",
    "    pdf.ln(15)\n",
    "    pdf.cell((pdf.w/3)*1.55)\n",
    "    pdf.cell(0, 10, \"Nombre de salariés : \"+kpis_reg[1], 0, 0)\n",
    "    pdf.ln(15)\n",
    "    pdf.cell((pdf.w/3)*1.55)\n",
    "    pdf.cell(0, 10, \"Heures demandées : \"+kpis_reg[2], 0, 0)\n",
    "\n",
    "    pdf.ln(25)\n",
    "    \n",
    "    #Pas de données départementales pour l'instant pour l'activité partielle\n",
    "    \n",
    "    pdf.link(10,57,120,8, 'http://aides-entreprises.data.gouv.fr')\n",
    "    pdf.link(10,134,120,8, 'https://aides-entreprises.data.gouv.fr/'+aideurl+'?datasetid=regions&field=code&value='+reg)\n",
    "    \n",
    "    return pdf"
   ]
  },
  {
   "cell_type": "code",
   "execution_count": 29,
   "metadata": {
    "execution": {
     "iopub.execute_input": "2020-12-09T00:08:02.644151Z",
     "iopub.status.busy": "2020-12-09T00:08:02.643204Z",
     "iopub.status.idle": "2020-12-09T00:19:30.444758Z",
     "shell.execute_reply": "2020-12-09T00:19:30.443571Z"
    },
    "papermill": {
     "duration": 687.839332,
     "end_time": "2020-12-09T00:19:30.444969",
     "exception": false,
     "start_time": "2020-12-09T00:08:02.605637",
     "status": "completed"
    },
    "tags": []
   },
   "outputs": [
    {
     "name": "stdout",
     "output_type": "stream",
     "text": [
      "2020-12-09 00:08:10.924234 - 01 done.\n"
     ]
    },
    {
     "name": "stdout",
     "output_type": "stream",
     "text": [
      "2020-12-09 00:08:17.610188 - 02 done.\n"
     ]
    },
    {
     "name": "stdout",
     "output_type": "stream",
     "text": [
      "2020-12-09 00:08:24.243068 - 03 done.\n"
     ]
    },
    {
     "name": "stdout",
     "output_type": "stream",
     "text": [
      "2020-12-09 00:08:31.605879 - 04 done.\n"
     ]
    },
    {
     "name": "stdout",
     "output_type": "stream",
     "text": [
      "2020-12-09 00:08:38.405858 - 05 done.\n"
     ]
    },
    {
     "name": "stdout",
     "output_type": "stream",
     "text": [
      "2020-12-09 00:08:45.137657 - 06 done.\n"
     ]
    },
    {
     "name": "stdout",
     "output_type": "stream",
     "text": [
      "2020-12-09 00:08:51.901889 - 07 done.\n"
     ]
    },
    {
     "name": "stdout",
     "output_type": "stream",
     "text": [
      "2020-12-09 00:08:58.882634 - 08 done.\n"
     ]
    },
    {
     "name": "stdout",
     "output_type": "stream",
     "text": [
      "2020-12-09 00:09:05.818330 - 09 done.\n"
     ]
    },
    {
     "name": "stdout",
     "output_type": "stream",
     "text": [
      "2020-12-09 00:09:12.578295 - 10 done.\n"
     ]
    },
    {
     "name": "stdout",
     "output_type": "stream",
     "text": [
      "2020-12-09 00:09:19.487204 - 11 done.\n"
     ]
    },
    {
     "name": "stdout",
     "output_type": "stream",
     "text": [
      "2020-12-09 00:09:26.934928 - 12 done.\n"
     ]
    },
    {
     "name": "stdout",
     "output_type": "stream",
     "text": [
      "2020-12-09 00:09:33.980735 - 13 done.\n"
     ]
    },
    {
     "name": "stdout",
     "output_type": "stream",
     "text": [
      "2020-12-09 00:09:40.842294 - 14 done.\n"
     ]
    },
    {
     "name": "stdout",
     "output_type": "stream",
     "text": [
      "2020-12-09 00:09:48.071258 - 15 done.\n"
     ]
    },
    {
     "name": "stdout",
     "output_type": "stream",
     "text": [
      "2020-12-09 00:09:55.356518 - 16 done.\n"
     ]
    },
    {
     "name": "stdout",
     "output_type": "stream",
     "text": [
      "2020-12-09 00:10:02.574212 - 17 done.\n"
     ]
    },
    {
     "name": "stdout",
     "output_type": "stream",
     "text": [
      "2020-12-09 00:10:09.880760 - 18 done.\n"
     ]
    },
    {
     "name": "stdout",
     "output_type": "stream",
     "text": [
      "2020-12-09 00:10:16.781251 - 19 done.\n"
     ]
    },
    {
     "name": "stdout",
     "output_type": "stream",
     "text": [
      "2020-12-09 00:10:23.438755 - 21 done.\n"
     ]
    },
    {
     "name": "stdout",
     "output_type": "stream",
     "text": [
      "2020-12-09 00:10:30.091973 - 22 done.\n"
     ]
    },
    {
     "name": "stdout",
     "output_type": "stream",
     "text": [
      "2020-12-09 00:10:36.660644 - 23 done.\n"
     ]
    },
    {
     "name": "stdout",
     "output_type": "stream",
     "text": [
      "2020-12-09 00:10:43.258616 - 24 done.\n"
     ]
    },
    {
     "name": "stdout",
     "output_type": "stream",
     "text": [
      "2020-12-09 00:10:49.793175 - 25 done.\n"
     ]
    },
    {
     "name": "stdout",
     "output_type": "stream",
     "text": [
      "2020-12-09 00:10:56.381061 - 26 done.\n"
     ]
    },
    {
     "name": "stdout",
     "output_type": "stream",
     "text": [
      "2020-12-09 00:11:02.953814 - 27 done.\n"
     ]
    },
    {
     "name": "stdout",
     "output_type": "stream",
     "text": [
      "2020-12-09 00:11:09.561591 - 28 done.\n"
     ]
    },
    {
     "name": "stdout",
     "output_type": "stream",
     "text": [
      "2020-12-09 00:11:17.301047 - 29 done.\n"
     ]
    },
    {
     "name": "stdout",
     "output_type": "stream",
     "text": [
      "2020-12-09 00:11:24.601418 - 2A done.\n"
     ]
    },
    {
     "name": "stdout",
     "output_type": "stream",
     "text": [
      "2020-12-09 00:11:31.187511 - 2B done.\n"
     ]
    },
    {
     "name": "stdout",
     "output_type": "stream",
     "text": [
      "2020-12-09 00:11:37.783801 - 30 done.\n"
     ]
    },
    {
     "name": "stdout",
     "output_type": "stream",
     "text": [
      "2020-12-09 00:11:44.398336 - 31 done.\n"
     ]
    },
    {
     "name": "stdout",
     "output_type": "stream",
     "text": [
      "2020-12-09 00:11:50.977624 - 32 done.\n"
     ]
    },
    {
     "name": "stdout",
     "output_type": "stream",
     "text": [
      "2020-12-09 00:11:57.706694 - 33 done.\n"
     ]
    },
    {
     "name": "stdout",
     "output_type": "stream",
     "text": [
      "2020-12-09 00:12:04.288075 - 34 done.\n"
     ]
    },
    {
     "name": "stdout",
     "output_type": "stream",
     "text": [
      "2020-12-09 00:12:10.898513 - 35 done.\n"
     ]
    },
    {
     "name": "stdout",
     "output_type": "stream",
     "text": [
      "2020-12-09 00:12:17.603753 - 36 done.\n"
     ]
    },
    {
     "name": "stdout",
     "output_type": "stream",
     "text": [
      "2020-12-09 00:12:24.381353 - 37 done.\n"
     ]
    },
    {
     "name": "stdout",
     "output_type": "stream",
     "text": [
      "2020-12-09 00:12:31.012100 - 38 done.\n"
     ]
    },
    {
     "name": "stdout",
     "output_type": "stream",
     "text": [
      "2020-12-09 00:12:37.376323 - 39 done.\n"
     ]
    },
    {
     "name": "stdout",
     "output_type": "stream",
     "text": [
      "2020-12-09 00:12:43.630239 - 40 done.\n"
     ]
    },
    {
     "name": "stdout",
     "output_type": "stream",
     "text": [
      "2020-12-09 00:12:49.844518 - 41 done.\n"
     ]
    },
    {
     "name": "stdout",
     "output_type": "stream",
     "text": [
      "2020-12-09 00:12:56.129377 - 42 done.\n"
     ]
    },
    {
     "name": "stdout",
     "output_type": "stream",
     "text": [
      "2020-12-09 00:13:02.418240 - 43 done.\n"
     ]
    },
    {
     "name": "stdout",
     "output_type": "stream",
     "text": [
      "2020-12-09 00:13:08.903790 - 44 done.\n"
     ]
    },
    {
     "name": "stdout",
     "output_type": "stream",
     "text": [
      "2020-12-09 00:13:17.214632 - 45 done.\n"
     ]
    },
    {
     "name": "stdout",
     "output_type": "stream",
     "text": [
      "2020-12-09 00:13:23.869759 - 46 done.\n"
     ]
    },
    {
     "name": "stdout",
     "output_type": "stream",
     "text": [
      "2020-12-09 00:13:30.479038 - 47 done.\n"
     ]
    },
    {
     "name": "stdout",
     "output_type": "stream",
     "text": [
      "2020-12-09 00:13:37.156689 - 48 done.\n"
     ]
    },
    {
     "name": "stdout",
     "output_type": "stream",
     "text": [
      "2020-12-09 00:13:44.616537 - 49 done.\n"
     ]
    },
    {
     "name": "stdout",
     "output_type": "stream",
     "text": [
      "2020-12-09 00:13:52.157801 - 50 done.\n"
     ]
    },
    {
     "name": "stdout",
     "output_type": "stream",
     "text": [
      "2020-12-09 00:13:59.048455 - 51 done.\n"
     ]
    },
    {
     "name": "stdout",
     "output_type": "stream",
     "text": [
      "2020-12-09 00:14:06.068004 - 52 done.\n"
     ]
    },
    {
     "name": "stdout",
     "output_type": "stream",
     "text": [
      "2020-12-09 00:14:12.980241 - 53 done.\n"
     ]
    },
    {
     "name": "stdout",
     "output_type": "stream",
     "text": [
      "2020-12-09 00:14:19.770738 - 54 done.\n"
     ]
    },
    {
     "name": "stdout",
     "output_type": "stream",
     "text": [
      "2020-12-09 00:14:26.643203 - 55 done.\n"
     ]
    },
    {
     "name": "stdout",
     "output_type": "stream",
     "text": [
      "2020-12-09 00:14:33.503987 - 56 done.\n"
     ]
    },
    {
     "name": "stdout",
     "output_type": "stream",
     "text": [
      "2020-12-09 00:14:40.369577 - 57 done.\n"
     ]
    },
    {
     "name": "stdout",
     "output_type": "stream",
     "text": [
      "2020-12-09 00:14:47.439648 - 58 done.\n"
     ]
    },
    {
     "name": "stdout",
     "output_type": "stream",
     "text": [
      "2020-12-09 00:14:54.091426 - 59 done.\n"
     ]
    },
    {
     "name": "stdout",
     "output_type": "stream",
     "text": [
      "2020-12-09 00:15:00.614123 - 60 done.\n"
     ]
    },
    {
     "name": "stdout",
     "output_type": "stream",
     "text": [
      "2020-12-09 00:15:07.144472 - 61 done.\n"
     ]
    },
    {
     "name": "stdout",
     "output_type": "stream",
     "text": [
      "2020-12-09 00:15:13.704349 - 62 done.\n"
     ]
    },
    {
     "name": "stdout",
     "output_type": "stream",
     "text": [
      "2020-12-09 00:15:20.264576 - 63 done.\n"
     ]
    },
    {
     "name": "stdout",
     "output_type": "stream",
     "text": [
      "2020-12-09 00:15:26.900985 - 64 done.\n"
     ]
    },
    {
     "name": "stdout",
     "output_type": "stream",
     "text": [
      "2020-12-09 00:15:33.302328 - 65 done.\n"
     ]
    },
    {
     "name": "stdout",
     "output_type": "stream",
     "text": [
      "2020-12-09 00:15:39.614652 - 66 done.\n"
     ]
    },
    {
     "name": "stdout",
     "output_type": "stream",
     "text": [
      "2020-12-09 00:15:46.229429 - 67 done.\n"
     ]
    },
    {
     "name": "stdout",
     "output_type": "stream",
     "text": [
      "2020-12-09 00:15:53.360012 - 68 done.\n"
     ]
    },
    {
     "name": "stdout",
     "output_type": "stream",
     "text": [
      "2020-12-09 00:16:00.378308 - 69 done.\n"
     ]
    },
    {
     "name": "stdout",
     "output_type": "stream",
     "text": [
      "2020-12-09 00:16:07.503035 - 70 done.\n"
     ]
    },
    {
     "name": "stdout",
     "output_type": "stream",
     "text": [
      "2020-12-09 00:16:15.705378 - 71 done.\n"
     ]
    },
    {
     "name": "stdout",
     "output_type": "stream",
     "text": [
      "2020-12-09 00:16:23.484725 - 72 done.\n"
     ]
    },
    {
     "name": "stdout",
     "output_type": "stream",
     "text": [
      "2020-12-09 00:16:30.865824 - 73 done.\n"
     ]
    },
    {
     "name": "stdout",
     "output_type": "stream",
     "text": [
      "2020-12-09 00:16:37.984283 - 74 done.\n"
     ]
    },
    {
     "name": "stdout",
     "output_type": "stream",
     "text": [
      "2020-12-09 00:16:45.296173 - 75 done.\n"
     ]
    },
    {
     "name": "stdout",
     "output_type": "stream",
     "text": [
      "2020-12-09 00:16:52.456434 - 76 done.\n"
     ]
    },
    {
     "name": "stdout",
     "output_type": "stream",
     "text": [
      "2020-12-09 00:16:59.733838 - 77 done.\n"
     ]
    },
    {
     "name": "stdout",
     "output_type": "stream",
     "text": [
      "2020-12-09 00:17:06.727645 - 78 done.\n"
     ]
    },
    {
     "name": "stdout",
     "output_type": "stream",
     "text": [
      "2020-12-09 00:17:13.668066 - 79 done.\n"
     ]
    },
    {
     "name": "stdout",
     "output_type": "stream",
     "text": [
      "2020-12-09 00:17:19.828069 - 80 done.\n"
     ]
    },
    {
     "name": "stdout",
     "output_type": "stream",
     "text": [
      "2020-12-09 00:17:26.046349 - 81 done.\n"
     ]
    },
    {
     "name": "stdout",
     "output_type": "stream",
     "text": [
      "2020-12-09 00:17:32.208469 - 82 done.\n"
     ]
    },
    {
     "name": "stdout",
     "output_type": "stream",
     "text": [
      "2020-12-09 00:17:38.537023 - 83 done.\n"
     ]
    },
    {
     "name": "stdout",
     "output_type": "stream",
     "text": [
      "2020-12-09 00:17:44.932321 - 84 done.\n"
     ]
    },
    {
     "name": "stdout",
     "output_type": "stream",
     "text": [
      "2020-12-09 00:17:51.247562 - 85 done.\n"
     ]
    },
    {
     "name": "stdout",
     "output_type": "stream",
     "text": [
      "2020-12-09 00:17:57.894968 - 86 done.\n"
     ]
    },
    {
     "name": "stdout",
     "output_type": "stream",
     "text": [
      "2020-12-09 00:18:04.694558 - 87 done.\n"
     ]
    },
    {
     "name": "stdout",
     "output_type": "stream",
     "text": [
      "2020-12-09 00:18:10.902456 - 88 done.\n"
     ]
    },
    {
     "name": "stdout",
     "output_type": "stream",
     "text": [
      "2020-12-09 00:18:18.102178 - 89 done.\n"
     ]
    },
    {
     "name": "stdout",
     "output_type": "stream",
     "text": [
      "2020-12-09 00:18:25.542778 - 90 done.\n"
     ]
    },
    {
     "name": "stdout",
     "output_type": "stream",
     "text": [
      "2020-12-09 00:18:31.968911 - 91 done.\n"
     ]
    },
    {
     "name": "stdout",
     "output_type": "stream",
     "text": [
      "2020-12-09 00:18:38.180751 - 92 done.\n"
     ]
    },
    {
     "name": "stdout",
     "output_type": "stream",
     "text": [
      "2020-12-09 00:18:44.513250 - 93 done.\n"
     ]
    },
    {
     "name": "stdout",
     "output_type": "stream",
     "text": [
      "2020-12-09 00:18:51.975573 - 94 done.\n"
     ]
    },
    {
     "name": "stdout",
     "output_type": "stream",
     "text": [
      "2020-12-09 00:18:59.181390 - 95 done.\n"
     ]
    },
    {
     "name": "stdout",
     "output_type": "stream",
     "text": [
      "2020-12-09 00:19:05.944950 - 971 done.\n"
     ]
    },
    {
     "name": "stdout",
     "output_type": "stream",
     "text": [
      "2020-12-09 00:19:12.413013 - 972 done.\n"
     ]
    },
    {
     "name": "stdout",
     "output_type": "stream",
     "text": [
      "2020-12-09 00:19:18.722268 - 973 done.\n"
     ]
    },
    {
     "name": "stdout",
     "output_type": "stream",
     "text": [
      "2020-12-09 00:19:24.933032 - 974 done.\n"
     ]
    },
    {
     "name": "stdout",
     "output_type": "stream",
     "text": [
      "2020-12-09 00:19:30.437611 - 976 done.\n",
      "CPU times: user 9min 58s, sys: 5.11 s, total: 10min 4s\n",
      "Wall time: 11min 27s\n"
     ]
    }
   ],
   "source": [
    "%%time\n",
    "\n",
    "mkdir_ifnotexist(os.path.join(reports_dir_path, 'pdf'))\n",
    "\n",
    "for dep in taxo_dep_df.dep.unique():\n",
    "    \n",
    "    pdf = PDF()\n",
    "    pdf.alias_nb_pages()\n",
    "    pdf.add_page()\n",
    "\n",
    "    #Logos\n",
    "    pdf.image(os.path.join(img_dir_path, 'LogoRF.png'), 10, 8, 33)\n",
    "    pdf.image(os.path.join(img_dir_path, 'logo_Francerelance_1321294.54.png'), pdf.w-45, 7, 45)\n",
    "    \n",
    "    # Arial bold 15\n",
    "    pdf.set_font('Arial', 'B', 28)\n",
    "    # Move to the right\n",
    "    pdf.cell(50)\n",
    "    pdf.ln(70)\n",
    "    \n",
    "    # Title\n",
    "    pdf.cell(10)\n",
    "    pdf.cell(50, 10, 'SUIVI DES AIDES VERSÉES', 0, 1, 'A')\n",
    "    pdf.ln(10)\n",
    "    pdf.cell(10)\n",
    "    pdf.cell(50, 10, 'AUX ENTREPRISES DANS LE CADRE', 0, 1, 'A')\n",
    "    pdf.ln(10)\n",
    "    pdf.cell(10)\n",
    "    pdf.cell(50, 10, 'DE LA CRISE SANITAIRE COVID-19', 0, 1, 'A')\n",
    "\n",
    "    pdf.set_font('Arial', 'I', 20)\n",
    "    pdf.ln(10)\n",
    "    pdf.cell(10)\n",
    "    pdf.cell(50, 10, 'Données pour le département : \"'+taxo_dep_df[taxo_dep_df['dep'] == dep].iloc[0]['libelle']+'\"', 0, 1, 'A')\n",
    "    pdf.ln(110)\n",
    "\n",
    "    pdf.set_font('Arial', 'I', 8)\n",
    "\n",
    "    pdf.cell(10)\n",
    "    pdf.cell(50, 10, 'Données issues du tableau de bord des aides aux entreprises consultable sur https://aides-entreprises.data.gouv.fr', 0, 1, 'A')\n",
    "    \n",
    "    #FONDS DE SOLIDARITÉ\n",
    "    \n",
    "    phrase1 = \"Depuis le début de la crise sanitaire de la COVID-19, l'État et les Régions ont mis en place un fonds de solidarité pour prévenir la cessation d'activité des petites\" # \n",
    "    phrase2 = \"entreprises, micro-entrepreneurs, indépendants et professions libérales, particulièrement touchés par les conséquences économiques de la COVID-19.\"\n",
    "    phrase3 = \"Le décret n°2020-1328 du 2 novembre 2020 précise les modalités de l'aide dans le cadre du reconfinement.\"\n",
    "    source_dict = {'name':'Les données utilisées proviennent de la DGFIP et sont disponibles en open data sur data.gouv.fr', 'url':'https://www.data.gouv.fr/fr/datasets/aides-aux-entreprises-dans-le-cadre-de-lepidemie-de-covid-19-en-france/'}\n",
    "    \n",
    "    title_header = 'FONDS DE SOLIDARITÉ'\n",
    "    subtitle_header = find_last_update('aides')\n",
    "    pdf.add_page()\n",
    "    pdf = add_page_report(pdf, 'aides', dep, 'fds', phrase1, phrase2, phrase3, 'd\\'aides : ', source_dict)\n",
    "\n",
    "    #PGE\n",
    "    \n",
    "    phrase1 = \"Le Gouvernement met en oeuvre un dispositif exceptionnel de garanties permettant de soutenir le financement bancaire des entreprises, à hauteur de 300 milliards\"\n",
    "    phrase2 = \"d'euros.\"\n",
    "    phrase3 = \"Les entreprises peuvent désormais contracter un prêt jusqu'au 30 juin 2021 au lieu du 31 décembre 2020.\"\n",
    "    source_dict = {'name':'Les données utilisées proviennent de la DG Trésor et sont disponibles en open data sur data.gouv.fr', 'url':'https://www.data.gouv.fr/fr/datasets/donnees-relatives-aux-prets-garantis-par-letat-dans-le-cadre-de-lepidemie-de-covid-19/'}\n",
    "    \n",
    "    title_header = 'PRÊTS GARANTIS PAR L\\'ÉTAT'\n",
    "    subtitle_header = find_last_update('pge')\n",
    "    pdf.add_page()\n",
    "    pdf = add_page_report(pdf, 'pge', dep, 'pge', phrase1, phrase2, phrase3, 'de prêts : ', source_dict)\n",
    "\n",
    "    #REPORTS D'ECHEANCES FISCALES\n",
    "    \n",
    "    phrase1 = \"Le Gouvernement a annoncé le report des principales échéances fiscales des professionnels afin de tenir compte de leurs difficultés liées à la crise sanitaire \"\n",
    "    phrase2 = \"de la COVID-19.\"\n",
    "    phrase3 = \"\"\n",
    "    source_dict = {'name':'Les données utilisées proviennent de la DGFIP et sont disponibles en open data sur data.gouv.fr', 'url':'https://www.data.gouv.fr/fr/datasets/donnees-relatives-aux-reports-decheances-fiscales-accordes-dans-le-cadre-de-lepidemie-de-covid-19/'}\n",
    "    \n",
    "    title_header = 'REPORTS D\\'ÉCHÉANCES FISCALES'\n",
    "    subtitle_header = find_last_update('report')\n",
    "    pdf.add_page()\n",
    "    pdf = add_page_report(pdf, 'report', dep, 'reports', phrase1, phrase2, phrase3, 'de reports : ', source_dict)\n",
    "\n",
    "    #CPSTI\n",
    "    \n",
    "    phrase1 = \"Le Conseil de la protection sociale des travailleurs indépendants (CPSTI) met en place une aide financière exceptionnelle à destination de tous les commerçants\"\n",
    "    phrase2 = \"et les artisans qui sont en activité au 15 mars 2020 et ont été immatriculés avant le 1er janvier 2019.\"\n",
    "    phrase3 = \"\"\n",
    "    source_dict = {'name':\"Les données utilisées proviennent de l'URSSAF et sont disponibles en open data sur data.gouv.fr\", 'url':'https://www.data.gouv.fr/fr/datasets/donnees-relatives-aux-aides-exceptionnelles-aux-artisans-et-commercants-dans-le-cadre-de-lepidemie-de-covid-19/'}\n",
    "    \n",
    "    title_header = 'AIDES AUX ARTISANS, COMMERÇANTS'\n",
    "    subtitle_header = find_last_update('cpsti')\n",
    "    pdf.add_page()\n",
    "    pdf = add_page_report(pdf, 'cpsti' , dep,'cpsti', phrase1, phrase2, phrase3, 'd\\'aides : ', source_dict)\n",
    "    \n",
    "    #ACTIVITE PARTIELLE\n",
    "    \n",
    "    phrase1 = \"L'activité partielle permet à l'employeur en difficulté de faire prendre en charge tout ou partie du coût de la rémunération de ses salariés. L'activité partielle\"\n",
    "    phrase2 = \"s'adresse à tous les salariés qui subissent une baisse de rémunération imputable soit à une réduction de l'horaire de travail pratiqué dans l'établissement ou\"\n",
    "    phrase3 = \"partie de l'établissement en deçà de la durée légale de travail, soit à une fermeture temporaire de tout ou partie de l'établissement.\"\n",
    "    source_dict = {'name':'Les données utilisées proviennent de la DARES', 'url':'https://dares.travail-emploi.gouv.fr/dares-etudes-et-statistiques/tableaux-de-bord/le-marche-du-travail-pendant-le-covid-19/tableaux-de-bord-hebdomadaires'}\n",
    "    \n",
    "    title_header = 'ACTIVITÉ PARTIELLE'\n",
    "    subtitle_header = find_last_update('activite-partielle')\n",
    "    pdf.add_page()\n",
    "    pdf = add_actpart_page_report(pdf, dep, 'activitepartielle', phrase1, phrase2, phrase3, source_dict)\n",
    "    \n",
    "\n",
    "    pdf.output(os.path.join(reports_dir_path, 'pdf', 'Suivi_aides_entreprises_'+taxo_dep_df[taxo_dep_df['dep'] == dep].iloc[0]['libelle']+'.pdf'), 'F')\n",
    "    \n",
    "    print(str(datetime.datetime.today()) + ' - ' + dep + ' done.')"
   ]
  },
  {
   "cell_type": "markdown",
   "metadata": {
    "papermill": {
     "duration": 0.041329,
     "end_time": "2020-12-09T00:19:30.535023",
     "exception": false,
     "start_time": "2020-12-09T00:19:30.493694",
     "status": "completed"
    },
    "tags": []
   },
   "source": [
    "## Compress to ZIP"
   ]
  },
  {
   "cell_type": "code",
   "execution_count": 30,
   "metadata": {
    "execution": {
     "iopub.execute_input": "2020-12-09T00:19:30.620336Z",
     "iopub.status.busy": "2020-12-09T00:19:30.619819Z",
     "iopub.status.idle": "2020-12-09T00:19:30.623562Z",
     "shell.execute_reply": "2020-12-09T00:19:30.623075Z"
    },
    "papermill": {
     "duration": 0.048577,
     "end_time": "2020-12-09T00:19:30.623682",
     "exception": false,
     "start_time": "2020-12-09T00:19:30.575105",
     "status": "completed"
    },
    "tags": []
   },
   "outputs": [],
   "source": [
    "from zipfile import ZipFile"
   ]
  },
  {
   "cell_type": "code",
   "execution_count": 31,
   "metadata": {
    "execution": {
     "iopub.execute_input": "2020-12-09T00:19:30.727358Z",
     "iopub.status.busy": "2020-12-09T00:19:30.726792Z",
     "iopub.status.idle": "2020-12-09T00:19:30.731459Z",
     "shell.execute_reply": "2020-12-09T00:19:30.732102Z"
    },
    "papermill": {
     "duration": 0.061278,
     "end_time": "2020-12-09T00:19:30.732247",
     "exception": false,
     "start_time": "2020-12-09T00:19:30.670969",
     "status": "completed"
    },
    "tags": []
   },
   "outputs": [
    {
     "data": {
      "text/plain": [
       "'2020-12-09'"
      ]
     },
     "execution_count": 31,
     "metadata": {},
     "output_type": "execute_result"
    }
   ],
   "source": [
    "today_date = str(datetime.datetime.today())[:10]\n",
    "today_date"
   ]
  },
  {
   "cell_type": "code",
   "execution_count": 32,
   "metadata": {
    "execution": {
     "iopub.execute_input": "2020-12-09T00:19:30.825944Z",
     "iopub.status.busy": "2020-12-09T00:19:30.825512Z",
     "iopub.status.idle": "2020-12-09T00:19:31.273784Z",
     "shell.execute_reply": "2020-12-09T00:19:31.273275Z"
    },
    "papermill": {
     "duration": 0.496711,
     "end_time": "2020-12-09T00:19:31.273915",
     "exception": false,
     "start_time": "2020-12-09T00:19:30.777204",
     "status": "completed"
    },
    "tags": []
   },
   "outputs": [],
   "source": [
    "my_zip_date = ZipFile(os.path.join(reports_dir_path, 'Suivi_aides_entreprises_{}.zip'.format(today_date)), 'w')\n",
    "my_zip_latest = ZipFile(os.path.join(reports_dir_path, 'Suivi_aides_entreprises_latest.zip'), 'w')\n",
    "\n",
    "for filename in os.listdir(os.path.join(reports_dir_path, 'pdf')) :\n",
    "    if filename.endswith('.pdf') :\n",
    "        my_zip_date.write(os.path.join(reports_dir_path, 'pdf', filename))\n",
    "        my_zip_latest.write(os.path.join(reports_dir_path, 'pdf', filename))\n",
    "        \n",
    "my_zip_date.close()\n",
    "my_zip_latest.close()"
   ]
  }
 ],
 "metadata": {
  "kernelspec": {
   "display_name": "Python 3",
   "language": "python",
   "name": "python3"
  },
  "language_info": {
   "codemirror_mode": {
    "name": "ipython",
    "version": 3
   },
   "file_extension": ".py",
   "mimetype": "text/x-python",
   "name": "python",
   "nbconvert_exporter": "python",
   "pygments_lexer": "ipython3",
   "version": "3.9.0"
  },
  "papermill": {
   "default_parameters": {},
   "duration": 810.095791,
   "end_time": "2020-12-09T00:19:31.627901",
   "environment_variables": {},
   "exception": null,
   "input_path": "report-pdf.ipynb",
   "output_path": "report-pdf.ipynb",
   "parameters": {},
   "start_time": "2020-12-09T00:06:01.532110",
   "version": "2.2.2"
  }
 },
 "nbformat": 4,
 "nbformat_minor": 4
}